{
 "cells": [
  {
   "cell_type": "code",
   "execution_count": 1,
   "metadata": {
    "collapsed": false
   },
   "outputs": [],
   "source": [
    "import json\n",
    "import numpy as np\n",
    "from pprint import pprint\n",
    "\n",
    "fileName = '/Users/erichsu/LING406/yelp_dataset_challenge_academic_dataset/yelp_academic_dataset_review.json'\n",
    "\n",
    "data = []\n",
    "count = 0\n",
    "with open(fileName) as f:\n",
    "    for line in f:\n",
    "        if count>-1:\n",
    "            count += 1\n",
    "            data.append(json.loads(line))"
   ]
  },
  {
   "cell_type": "code",
   "execution_count": 2,
   "metadata": {
    "collapsed": true
   },
   "outputs": [],
   "source": [
    "from bs4 import BeautifulSoup\n",
    "import re\n",
    "from nltk.corpus import stopwords\n",
    "\n",
    "def review_to_wordlist( review, remove_stopwords=False ):\n",
    "    # Function to convert a document to a sequence of words,\n",
    "    # optionally removing stop words.  Returns a list of words.\n",
    "    #\n",
    "    # 1. Remove HTML\n",
    "    review_text = BeautifulSoup(review).get_text()\n",
    "    #  \n",
    "    # 2. Remove non-letters\n",
    "    review_text = re.sub(\"[^a-zA-Z]\",\" \", review_text)\n",
    "    #\n",
    "    # 3. Convert words to lower case and split them\n",
    "    words = review_text.lower().split()\n",
    "    #\n",
    "    # 4. Optionally remove stop words (false by default)\n",
    "    if remove_stopwords:\n",
    "        stops = set(stopwords.words(\"english\"))\n",
    "        words = [w for w in words if not w in stops]\n",
    "    #\n",
    "    # 5. Return a list of words\n",
    "    return(words)"
   ]
  },
  {
   "cell_type": "code",
   "execution_count": 3,
   "metadata": {
    "collapsed": false
   },
   "outputs": [],
   "source": [
    "import nltk.data\n",
    "# Load the punkt tokenizer\n",
    "tokenizer = nltk.data.load('tokenizers/punkt/english.pickle')\n",
    "\n",
    "# Define a function to split a review into parsed sentences\n",
    "def review_to_sentences( review, tokenizer, remove_stopwords=False ):\n",
    "    # Function to split a review into parsed sentences. Returns a \n",
    "    # list of sentences, where each sentence is a list of words\n",
    "    #\n",
    "    # 1. Use the NLTK tokenizer to split the paragraph into sentences\n",
    "    raw_sentences = tokenizer.tokenize(review.strip())\n",
    "    #\n",
    "    # 2. Loop over each sentence\n",
    "    sentences = []\n",
    "    for raw_sentence in raw_sentences:\n",
    "        # If a sentence is empty, skip it\n",
    "        if len(raw_sentence) > 0:\n",
    "            # Otherwise, call review_to_wordlist to get a list of words\n",
    "            sentences.append( review_to_wordlist( raw_sentence, \\\n",
    "              remove_stopwords ))\n",
    "    #\n",
    "    # Return the list of sentences (each sentence is a list of words,\n",
    "    # so this returns a list of lists\n",
    "    return sentences"
   ]
  },
  {
   "cell_type": "code",
   "execution_count": 5,
   "metadata": {
    "collapsed": false
   },
   "outputs": [
    {
     "name": "stdout",
     "output_type": "stream",
     "text": [
      "Parsing sentences from training set\n",
      "Review 0 of 1569264\n",
      "Review 1000 of 1569264"
     ]
    },
    {
     "name": "stderr",
     "output_type": "stream",
     "text": [
      "/Users/erichsu/anaconda/lib/python2.7/site-packages/bs4/__init__.py:182: UserWarning: \".\" looks like a filename, not markup. You should probably open this file and pass the filehandle into Beautiful Soup.\n",
      "  '\"%s\" looks like a filename, not markup. You should probably open this file and pass the filehandle into Beautiful Soup.' % markup)\n",
      "/Users/erichsu/anaconda/lib/python2.7/site-packages/bs4/__init__.py:189: UserWarning: \"http://eatinginpittsburgh.com/2011/02/11/coffee-pittsburgh-part-2/\" looks like a URL. Beautiful Soup is not an HTTP client. You should probably use an HTTP client to get the document behind the URL, and feed that document to Beautiful Soup.\n",
      "  '\"%s\" looks like a URL. Beautiful Soup is not an HTTP client. You should probably use an HTTP client to get the document behind the URL, and feed that document to Beautiful Soup.' % markup)\n"
     ]
    },
    {
     "name": "stdout",
     "output_type": "stream",
     "text": [
      "\n",
      "Review 2000 of 1569264\n",
      "Review 3000 of 1569264"
     ]
    },
    {
     "name": "stderr",
     "output_type": "stream",
     "text": [
      "/Users/erichsu/anaconda/lib/python2.7/site-packages/bs4/__init__.py:189: UserWarning: \"http://eatinginpittsburgh.com/2010/07/07/ive-got-an-itch-for-kitsch-quiet-storm-in-bloomfield/\" looks like a URL. Beautiful Soup is not an HTTP client. You should probably use an HTTP client to get the document behind the URL, and feed that document to Beautiful Soup.\n",
      "  '\"%s\" looks like a URL. Beautiful Soup is not an HTTP client. You should probably use an HTTP client to get the document behind the URL, and feed that document to Beautiful Soup.' % markup)\n",
      "/Users/erichsu/anaconda/lib/python2.7/site-packages/bs4/__init__.py:189: UserWarning: \"http://www.edgewooddentalassociates.com/\" looks like a URL. Beautiful Soup is not an HTTP client. You should probably use an HTTP client to get the document behind the URL, and feed that document to Beautiful Soup.\n",
      "  '\"%s\" looks like a URL. Beautiful Soup is not an HTTP client. You should probably use an HTTP client to get the document behind the URL, and feed that document to Beautiful Soup.' % markup)\n"
     ]
    },
    {
     "name": "stdout",
     "output_type": "stream",
     "text": [
      "\n",
      "Review 4000 of 1569264"
     ]
    },
    {
     "name": "stderr",
     "output_type": "stream",
     "text": [
      "/Users/erichsu/anaconda/lib/python2.7/site-packages/bs4/__init__.py:189: UserWarning: \"http://www.atrias.com/\" looks like a URL. Beautiful Soup is not an HTTP client. You should probably use an HTTP client to get the document behind the URL, and feed that document to Beautiful Soup.\n",
      "  '\"%s\" looks like a URL. Beautiful Soup is not an HTTP client. You should probably use an HTTP client to get the document behind the URL, and feed that document to Beautiful Soup.' % markup)\n",
      "/Users/erichsu/anaconda/lib/python2.7/site-packages/bs4/__init__.py:189: UserWarning: \"http://en.wikipedia.org/wiki/Bus_bunching\n",
      "3.\" looks like a URL. Beautiful Soup is not an HTTP client. You should probably use an HTTP client to get the document behind the URL, and feed that document to Beautiful Soup.\n",
      "  '\"%s\" looks like a URL. Beautiful Soup is not an HTTP client. You should probably use an HTTP client to get the document behind the URL, and feed that document to Beautiful Soup.' % markup)\n"
     ]
    },
    {
     "name": "stdout",
     "output_type": "stream",
     "text": [
      "\n",
      "Review 5000 of 1569264\n",
      "Review 6000 of 1569264"
     ]
    },
    {
     "name": "stderr",
     "output_type": "stream",
     "text": [
      "/Users/erichsu/anaconda/lib/python2.7/site-packages/bs4/__init__.py:189: UserWarning: \"http://www.wellbuzz.com/dr-oz-beauty/dr-oz-pedicure-bacterial-infections-dry-pedicure-haircut-ringworm/\" looks like a URL. Beautiful Soup is not an HTTP client. You should probably use an HTTP client to get the document behind the URL, and feed that document to Beautiful Soup.\n",
      "  '\"%s\" looks like a URL. Beautiful Soup is not an HTTP client. You should probably use an HTTP client to get the document behind the URL, and feed that document to Beautiful Soup.' % markup)\n",
      "/Users/erichsu/anaconda/lib/python2.7/site-packages/bs4/__init__.py:189: UserWarning: \"http://www.priceline.com.\" looks like a URL. Beautiful Soup is not an HTTP client. You should probably use an HTTP client to get the document behind the URL, and feed that document to Beautiful Soup.\n",
      "  '\"%s\" looks like a URL. Beautiful Soup is not an HTTP client. You should probably use an HTTP client to get the document behind the URL, and feed that document to Beautiful Soup.' % markup)\n"
     ]
    },
    {
     "name": "stdout",
     "output_type": "stream",
     "text": [
      "\n",
      "Review 7000 of 1569264\n",
      "Review 8000 of 1569264\n",
      "Review 9000 of 1569264\n",
      "Review 10000 of 1569264\n",
      "Review 11000 of 1569264\n",
      "Review 12000 of 1569264"
     ]
    },
    {
     "name": "stderr",
     "output_type": "stream",
     "text": [
      "/Users/erichsu/anaconda/lib/python2.7/site-packages/bs4/__init__.py:189: UserWarning: \"http://tlcwingsandgrill.com/\" looks like a URL. Beautiful Soup is not an HTTP client. You should probably use an HTTP client to get the document behind the URL, and feed that document to Beautiful Soup.\n",
      "  '\"%s\" looks like a URL. Beautiful Soup is not an HTTP client. You should probably use an HTTP client to get the document behind the URL, and feed that document to Beautiful Soup.' % markup)\n",
      "/Users/erichsu/anaconda/lib/python2.7/site-packages/bs4/__init__.py:189: UserWarning: \"http://www.wcnc.com/on-tv/Larry-learns-that-curling-is-year-round-90346659.html\" looks like a URL. Beautiful Soup is not an HTTP client. You should probably use an HTTP client to get the document behind the URL, and feed that document to Beautiful Soup.\n",
      "  '\"%s\" looks like a URL. Beautiful Soup is not an HTTP client. You should probably use an HTTP client to get the document behind the URL, and feed that document to Beautiful Soup.' % markup)\n",
      "/Users/erichsu/anaconda/lib/python2.7/site-packages/bs4/__init__.py:189: UserWarning: \"http://www.mcninchhouserestaurant.com/\" looks like a URL. Beautiful Soup is not an HTTP client. You should probably use an HTTP client to get the document behind the URL, and feed that document to Beautiful Soup.\n",
      "  '\"%s\" looks like a URL. Beautiful Soup is not an HTTP client. You should probably use an HTTP client to get the document behind the URL, and feed that document to Beautiful Soup.' % markup)\n",
      "/Users/erichsu/anaconda/lib/python2.7/site-packages/bs4/__init__.py:189: UserWarning: \"http://www.yelp.com/biz/matts-chicago-dog-charlotte#hrid:Kn7dQhdcPMfAv-UTRkQjxA.\" looks like a URL. Beautiful Soup is not an HTTP client. You should probably use an HTTP client to get the document behind the URL, and feed that document to Beautiful Soup.\n",
      "  '\"%s\" looks like a URL. Beautiful Soup is not an HTTP client. You should probably use an HTTP client to get the document behind the URL, and feed that document to Beautiful Soup.' % markup)\n"
     ]
    },
    {
     "name": "stdout",
     "output_type": "stream",
     "text": [
      "\n",
      "Review 13000 of 1569264\n",
      "Review 14000 of 1569264\n",
      "Review 15000 of 1569264\n",
      "Review 16000 of 1569264"
     ]
    },
    {
     "name": "stderr",
     "output_type": "stream",
     "text": [
      "/Users/erichsu/anaconda/lib/python2.7/site-packages/bs4/__init__.py:182: UserWarning: \"..\" looks like a filename, not markup. You should probably open this file and pass the filehandle into Beautiful Soup.\n",
      "  '\"%s\" looks like a filename, not markup. You should probably open this file and pass the filehandle into Beautiful Soup.' % markup)\n",
      "/Users/erichsu/anaconda/lib/python2.7/site-packages/bs4/__init__.py:189: UserWarning: \"http://evergreenstudio1.com/blog/?p=3960\" looks like a URL. Beautiful Soup is not an HTTP client. You should probably use an HTTP client to get the document behind the URL, and feed that document to Beautiful Soup.\n",
      "  '\"%s\" looks like a URL. Beautiful Soup is not an HTTP client. You should probably use an HTTP client to get the document behind the URL, and feed that document to Beautiful Soup.' % markup)\n"
     ]
    },
    {
     "name": "stdout",
     "output_type": "stream",
     "text": [
      "\n",
      "Review 17000 of 1569264"
     ]
    },
    {
     "name": "stderr",
     "output_type": "stream",
     "text": [
      "/Users/erichsu/anaconda/lib/python2.7/site-packages/bs4/__init__.py:189: UserWarning: \"http://trifoodiemd.blogspot.com/2013/01/carpe-diem-restaurant.html\" looks like a URL. Beautiful Soup is not an HTTP client. You should probably use an HTTP client to get the document behind the URL, and feed that document to Beautiful Soup.\n",
      "  '\"%s\" looks like a URL. Beautiful Soup is not an HTTP client. You should probably use an HTTP client to get the document behind the URL, and feed that document to Beautiful Soup.' % markup)\n",
      "/Users/erichsu/anaconda/lib/python2.7/site-packages/bs4/__init__.py:189: UserWarning: \"http://www.montereybayaquarium.org//cr/SeafoodWatch/web/sfw_factsheet.aspx?gid=18\" looks like a URL. Beautiful Soup is not an HTTP client. You should probably use an HTTP client to get the document behind the URL, and feed that document to Beautiful Soup.\n",
      "  '\"%s\" looks like a URL. Beautiful Soup is not an HTTP client. You should probably use an HTTP client to get the document behind the URL, and feed that document to Beautiful Soup.' % markup)\n"
     ]
    },
    {
     "name": "stdout",
     "output_type": "stream",
     "text": [
      "\n",
      "Review 18000 of 1569264"
     ]
    },
    {
     "name": "stderr",
     "output_type": "stream",
     "text": [
      "/Users/erichsu/anaconda/lib/python2.7/site-packages/bs4/__init__.py:189: UserWarning: \"http://www.charlotteobserver.com/2011/11/15/2777229/council-makes-bofa-sole-source.html\" looks like a URL. Beautiful Soup is not an HTTP client. You should probably use an HTTP client to get the document behind the URL, and feed that document to Beautiful Soup.\n",
      "  '\"%s\" looks like a URL. Beautiful Soup is not an HTTP client. You should probably use an HTTP client to get the document behind the URL, and feed that document to Beautiful Soup.' % markup)\n",
      "/Users/erichsu/anaconda/lib/python2.7/site-packages/bs4/__init__.py:189: UserWarning: \"http://www.reuters.com/article/2013/04/09/entertainment-us-usa-cuba-beyonce-idUSBRE93600V20130409\" looks like a URL. Beautiful Soup is not an HTTP client. You should probably use an HTTP client to get the document behind the URL, and feed that document to Beautiful Soup.\n",
      "  '\"%s\" looks like a URL. Beautiful Soup is not an HTTP client. You should probably use an HTTP client to get the document behind the URL, and feed that document to Beautiful Soup.' % markup)\n"
     ]
    },
    {
     "name": "stdout",
     "output_type": "stream",
     "text": [
      "\n",
      "Review 19000 of 1569264\n",
      "Review 20000 of 1569264\n",
      "Review 21000 of 1569264\n",
      "Review 22000 of 1569264\n",
      "Review 23000 of 1569264"
     ]
    },
    {
     "name": "stderr",
     "output_type": "stream",
     "text": [
      "/Users/erichsu/anaconda/lib/python2.7/site-packages/bs4/__init__.py:189: UserWarning: \"http://www.bombaygrille.com/charlottemenu.html\" looks like a URL. Beautiful Soup is not an HTTP client. You should probably use an HTTP client to get the document behind the URL, and feed that document to Beautiful Soup.\n",
      "  '\"%s\" looks like a URL. Beautiful Soup is not an HTTP client. You should probably use an HTTP client to get the document behind the URL, and feed that document to Beautiful Soup.' % markup)\n",
      "/Users/erichsu/anaconda/lib/python2.7/site-packages/bs4/__init__.py:189: UserWarning: \"http://www.thegreenlanternrestaurant.com.\" looks like a URL. Beautiful Soup is not an HTTP client. You should probably use an HTTP client to get the document behind the URL, and feed that document to Beautiful Soup.\n",
      "  '\"%s\" looks like a URL. Beautiful Soup is not an HTTP client. You should probably use an HTTP client to get the document behind the URL, and feed that document to Beautiful Soup.' % markup)\n"
     ]
    },
    {
     "name": "stdout",
     "output_type": "stream",
     "text": [
      "\n",
      "Review 24000 of 1569264\n",
      "Review 25000 of 1569264\n",
      "Review 26000 of 1569264\n",
      "Review 27000 of 1569264\n",
      "Review 28000 of 1569264\n",
      "Review 29000 of 1569264\n",
      "Review 30000 of 1569264\n",
      "Review 31000 of 1569264\n",
      "Review 32000 of 1569264\n",
      "Review 33000 of 1569264"
     ]
    },
    {
     "name": "stderr",
     "output_type": "stream",
     "text": [
      "/Users/erichsu/anaconda/lib/python2.7/site-packages/bs4/__init__.py:189: UserWarning: \"http://www.universityclubphoenix.com/\" looks like a URL. Beautiful Soup is not an HTTP client. You should probably use an HTTP client to get the document behind the URL, and feed that document to Beautiful Soup.\n",
      "  '\"%s\" looks like a URL. Beautiful Soup is not an HTTP client. You should probably use an HTTP client to get the document behind the URL, and feed that document to Beautiful Soup.' % markup)\n",
      "/Users/erichsu/anaconda/lib/python2.7/site-packages/bs4/__init__.py:189: UserWarning: \"http://www.tastykake.com/aboutus/\" looks like a URL. Beautiful Soup is not an HTTP client. You should probably use an HTTP client to get the document behind the URL, and feed that document to Beautiful Soup.\n",
      "  '\"%s\" looks like a URL. Beautiful Soup is not an HTTP client. You should probably use an HTTP client to get the document behind the URL, and feed that document to Beautiful Soup.' % markup)\n"
     ]
    },
    {
     "name": "stdout",
     "output_type": "stream",
     "text": [
      "\n",
      "Review 34000 of 1569264\n",
      "Review 35000 of 1569264"
     ]
    },
    {
     "name": "stderr",
     "output_type": "stream",
     "text": [
      "/Users/erichsu/anaconda/lib/python2.7/site-packages/bs4/__init__.py:189: UserWarning: \"http://www.yelp.com/biz_photos/hU6sN5r6vayqm_RMgvPGOQ?select=Y6gF0oMs3bwU8vjC7Kymsg\" looks like a URL. Beautiful Soup is not an HTTP client. You should probably use an HTTP client to get the document behind the URL, and feed that document to Beautiful Soup.\n",
      "  '\"%s\" looks like a URL. Beautiful Soup is not an HTTP client. You should probably use an HTTP client to get the document behind the URL, and feed that document to Beautiful Soup.' % markup)\n",
      "/Users/erichsu/anaconda/lib/python2.7/site-packages/bs4/__init__.py:189: UserWarning: \"http://www.restaurantnoca.com/Menu/Specials/NOCA_Nobuo_August_Menu.pdf\" looks like a URL. Beautiful Soup is not an HTTP client. You should probably use an HTTP client to get the document behind the URL, and feed that document to Beautiful Soup.\n",
      "  '\"%s\" looks like a URL. Beautiful Soup is not an HTTP client. You should probably use an HTTP client to get the document behind the URL, and feed that document to Beautiful Soup.' % markup)\n"
     ]
    },
    {
     "name": "stdout",
     "output_type": "stream",
     "text": [
      "\n",
      "Review 36000 of 1569264\n",
      "Review 37000 of 1569264"
     ]
    },
    {
     "name": "stderr",
     "output_type": "stream",
     "text": [
      "/Users/erichsu/anaconda/lib/python2.7/site-packages/bs4/__init__.py:189: UserWarning: \"http://www.ryanspet.com/ryanspet/default.asp?\" looks like a URL. Beautiful Soup is not an HTTP client. You should probably use an HTTP client to get the document behind the URL, and feed that document to Beautiful Soup.\n",
      "  '\"%s\" looks like a URL. Beautiful Soup is not an HTTP client. You should probably use an HTTP client to get the document behind the URL, and feed that document to Beautiful Soup.' % markup)\n",
      "/Users/erichsu/anaconda/lib/python2.7/site-packages/bs4/__init__.py:189: UserWarning: \"http://www.sonicdrivein.com/\" looks like a URL. Beautiful Soup is not an HTTP client. You should probably use an HTTP client to get the document behind the URL, and feed that document to Beautiful Soup.\n",
      "  '\"%s\" looks like a URL. Beautiful Soup is not an HTTP client. You should probably use an HTTP client to get the document behind the URL, and feed that document to Beautiful Soup.' % markup)\n"
     ]
    },
    {
     "name": "stdout",
     "output_type": "stream",
     "text": [
      "\n",
      "Review 38000 of 1569264\n",
      "Review 39000 of 1569264\n",
      "Review 40000 of 1569264\n",
      "Review 41000 of 1569264\n",
      "Review 42000 of 1569264"
     ]
    },
    {
     "name": "stderr",
     "output_type": "stream",
     "text": [
      "/Users/erichsu/anaconda/lib/python2.7/site-packages/bs4/__init__.py:189: UserWarning: \"http://www.teamcentennial.com/inventory.asp\" looks like a URL. Beautiful Soup is not an HTTP client. You should probably use an HTTP client to get the document behind the URL, and feed that document to Beautiful Soup.\n",
      "  '\"%s\" looks like a URL. Beautiful Soup is not an HTTP client. You should probably use an HTTP client to get the document behind the URL, and feed that document to Beautiful Soup.' % markup)\n",
      "/Users/erichsu/anaconda/lib/python2.7/site-packages/bs4/__init__.py:189: UserWarning: \"http://www.yelp.com/biz/pho-nhat-tempe\" looks like a URL. Beautiful Soup is not an HTTP client. You should probably use an HTTP client to get the document behind the URL, and feed that document to Beautiful Soup.\n",
      "  '\"%s\" looks like a URL. Beautiful Soup is not an HTTP client. You should probably use an HTTP client to get the document behind the URL, and feed that document to Beautiful Soup.' % markup)\n"
     ]
    },
    {
     "name": "stdout",
     "output_type": "stream",
     "text": [
      "\n",
      "Review 43000 of 1569264\n",
      "Review 44000 of 1569264"
     ]
    },
    {
     "name": "stderr",
     "output_type": "stream",
     "text": [
      "/Users/erichsu/anaconda/lib/python2.7/site-packages/bs4/__init__.py:189: UserWarning: \"http://www.invisiblechildren.com/home.php\" looks like a URL. Beautiful Soup is not an HTTP client. You should probably use an HTTP client to get the document behind the URL, and feed that document to Beautiful Soup.\n",
      "  '\"%s\" looks like a URL. Beautiful Soup is not an HTTP client. You should probably use an HTTP client to get the document behind the URL, and feed that document to Beautiful Soup.' % markup)\n",
      "/Users/erichsu/anaconda/lib/python2.7/site-packages/bs4/__init__.py:189: UserWarning: \"http://www.attorneysteve.net\" looks like a URL. Beautiful Soup is not an HTTP client. You should probably use an HTTP client to get the document behind the URL, and feed that document to Beautiful Soup.\n",
      "  '\"%s\" looks like a URL. Beautiful Soup is not an HTTP client. You should probably use an HTTP client to get the document behind the URL, and feed that document to Beautiful Soup.' % markup)\n"
     ]
    },
    {
     "name": "stdout",
     "output_type": "stream",
     "text": [
      "\n",
      "Review 45000 of 1569264\n",
      "Review 46000 of 1569264"
     ]
    },
    {
     "name": "stderr",
     "output_type": "stream",
     "text": [
      "/Users/erichsu/anaconda/lib/python2.7/site-packages/bs4/__init__.py:189: UserWarning: \"http://www.carmeloricarde.com/my-cakes-so-far/\" looks like a URL. Beautiful Soup is not an HTTP client. You should probably use an HTTP client to get the document behind the URL, and feed that document to Beautiful Soup.\n",
      "  '\"%s\" looks like a URL. Beautiful Soup is not an HTTP client. You should probably use an HTTP client to get the document behind the URL, and feed that document to Beautiful Soup.' % markup)\n",
      "/Users/erichsu/anaconda/lib/python2.7/site-packages/bs4/__init__.py:189: UserWarning: \"http://www.carmeloricarde.com/\" looks like a URL. Beautiful Soup is not an HTTP client. You should probably use an HTTP client to get the document behind the URL, and feed that document to Beautiful Soup.\n",
      "  '\"%s\" looks like a URL. Beautiful Soup is not an HTTP client. You should probably use an HTTP client to get the document behind the URL, and feed that document to Beautiful Soup.' % markup)\n",
      "/Users/erichsu/anaconda/lib/python2.7/site-packages/bs4/__init__.py:189: UserWarning: \"http://www.carmeloricarde.com/about/cake/\" looks like a URL. Beautiful Soup is not an HTTP client. You should probably use an HTTP client to get the document behind the URL, and feed that document to Beautiful Soup.\n",
      "  '\"%s\" looks like a URL. Beautiful Soup is not an HTTP client. You should probably use an HTTP client to get the document behind the URL, and feed that document to Beautiful Soup.' % markup)\n",
      "/Users/erichsu/anaconda/lib/python2.7/site-packages/bs4/__init__.py:189: UserWarning: \"http://www.azpbs.org/checkplease/segments/restaurant.php?id=5441&utm_source=January+25th&utm_campaign=Check+Please!&utm_medium=socialshare\" looks like a URL. Beautiful Soup is not an HTTP client. You should probably use an HTTP client to get the document behind the URL, and feed that document to Beautiful Soup.\n",
      "  '\"%s\" looks like a URL. Beautiful Soup is not an HTTP client. You should probably use an HTTP client to get the document behind the URL, and feed that document to Beautiful Soup.' % markup)\n"
     ]
    },
    {
     "name": "stdout",
     "output_type": "stream",
     "text": [
      "\n",
      "Review 47000 of 1569264\n",
      "Review 48000 of 1569264\n",
      "Review 49000 of 1569264\n",
      "Review 50000 of 1569264\n",
      "Review 51000 of 1569264"
     ]
    },
    {
     "name": "stderr",
     "output_type": "stream",
     "text": [
      "/Users/erichsu/anaconda/lib/python2.7/site-packages/bs4/__init__.py:189: UserWarning: \"http://www.locker13.com/.\" looks like a URL. Beautiful Soup is not an HTTP client. You should probably use an HTTP client to get the document behind the URL, and feed that document to Beautiful Soup.\n",
      "  '\"%s\" looks like a URL. Beautiful Soup is not an HTTP client. You should probably use an HTTP client to get the document behind the URL, and feed that document to Beautiful Soup.' % markup)\n",
      "/Users/erichsu/anaconda/lib/python2.7/site-packages/bs4/__init__.py:189: UserWarning: \"http://louis-vuitton.pissedconsumer.com\n",
      "\n",
      "http://www.consumeraffairs.com/retail/louis_vuitton.html\" looks like a URL. Beautiful Soup is not an HTTP client. You should probably use an HTTP client to get the document behind the URL, and feed that document to Beautiful Soup.\n",
      "  '\"%s\" looks like a URL. Beautiful Soup is not an HTTP client. You should probably use an HTTP client to get the document behind the URL, and feed that document to Beautiful Soup.' % markup)\n"
     ]
    },
    {
     "name": "stdout",
     "output_type": "stream",
     "text": [
      "\n",
      "Review 52000 of 1569264\n",
      "Review 53000 of 1569264"
     ]
    },
    {
     "name": "stderr",
     "output_type": "stream",
     "text": [
      "/Users/erichsu/anaconda/lib/python2.7/site-packages/bs4/__init__.py:189: UserWarning: \"http://www.readwriteweb.com/archives/google_ceo_suggests_you_change_your_name_to_escape.php\" looks like a URL. Beautiful Soup is not an HTTP client. You should probably use an HTTP client to get the document behind the URL, and feed that document to Beautiful Soup.\n",
      "  '\"%s\" looks like a URL. Beautiful Soup is not an HTTP client. You should probably use an HTTP client to get the document behind the URL, and feed that document to Beautiful Soup.' % markup)\n",
      "/Users/erichsu/anaconda/lib/python2.7/site-packages/bs4/__init__.py:189: UserWarning: \"http://www.therelaxationspa.com/\" looks like a URL. Beautiful Soup is not an HTTP client. You should probably use an HTTP client to get the document behind the URL, and feed that document to Beautiful Soup.\n",
      "  '\"%s\" looks like a URL. Beautiful Soup is not an HTTP client. You should probably use an HTTP client to get the document behind the URL, and feed that document to Beautiful Soup.' % markup)\n"
     ]
    },
    {
     "name": "stdout",
     "output_type": "stream",
     "text": [
      "\n",
      "Review 54000 of 1569264\n",
      "Review 55000 of 1569264\n",
      "Review 56000 of 1569264\n",
      "Review 57000 of 1569264\n",
      "Review 58000 of 1569264\n",
      "Review 59000 of 1569264"
     ]
    },
    {
     "name": "stderr",
     "output_type": "stream",
     "text": [
      "/Users/erichsu/anaconda/lib/python2.7/site-packages/bs4/__init__.py:189: UserWarning: \"http://www.phoenixflowershops.com/\" looks like a URL. Beautiful Soup is not an HTTP client. You should probably use an HTTP client to get the document behind the URL, and feed that document to Beautiful Soup.\n",
      "  '\"%s\" looks like a URL. Beautiful Soup is not an HTTP client. You should probably use an HTTP client to get the document behind the URL, and feed that document to Beautiful Soup.' % markup)\n",
      "/Users/erichsu/anaconda/lib/python2.7/site-packages/bs4/__init__.py:189: UserWarning: \"http://www.maricopa.gov/pets/vaccinations.aspx\" looks like a URL. Beautiful Soup is not an HTTP client. You should probably use an HTTP client to get the document behind the URL, and feed that document to Beautiful Soup.\n",
      "  '\"%s\" looks like a URL. Beautiful Soup is not an HTTP client. You should probably use an HTTP client to get the document behind the URL, and feed that document to Beautiful Soup.' % markup)\n"
     ]
    },
    {
     "name": "stdout",
     "output_type": "stream",
     "text": [
      "\n",
      "Review 60000 of 1569264\n",
      "Review 61000 of 1569264\n",
      "Review 62000 of 1569264"
     ]
    },
    {
     "name": "stderr",
     "output_type": "stream",
     "text": [
      "/Users/erichsu/anaconda/lib/python2.7/site-packages/bs4/__init__.py:189: UserWarning: \"http://www.azcentral.com/thingstodo/events/articles/2010/09/23/20100923phoenix-le-bellezze-ditalia-car-show.html\" looks like a URL. Beautiful Soup is not an HTTP client. You should probably use an HTTP client to get the document behind the URL, and feed that document to Beautiful Soup.\n",
      "  '\"%s\" looks like a URL. Beautiful Soup is not an HTTP client. You should probably use an HTTP client to get the document behind the URL, and feed that document to Beautiful Soup.' % markup)\n",
      "/Users/erichsu/anaconda/lib/python2.7/site-packages/bs4/__init__.py:189: UserWarning: \"http://www.linkedin.com/today/post/article/20130604134550-284615-15-statistics-that-should-change-the-business-world-but-haven-t\" looks like a URL. Beautiful Soup is not an HTTP client. You should probably use an HTTP client to get the document behind the URL, and feed that document to Beautiful Soup.\n",
      "  '\"%s\" looks like a URL. Beautiful Soup is not an HTTP client. You should probably use an HTTP client to get the document behind the URL, and feed that document to Beautiful Soup.' % markup)\n",
      "/Users/erichsu/anaconda/lib/python2.7/site-packages/bs4/__init__.py:189: UserWarning: \"http://www.spinatospizza.com/\" looks like a URL. Beautiful Soup is not an HTTP client. You should probably use an HTTP client to get the document behind the URL, and feed that document to Beautiful Soup.\n",
      "  '\"%s\" looks like a URL. Beautiful Soup is not an HTTP client. You should probably use an HTTP client to get the document behind the URL, and feed that document to Beautiful Soup.' % markup)\n"
     ]
    },
    {
     "name": "stdout",
     "output_type": "stream",
     "text": [
      "\n",
      "Review 63000 of 1569264\n",
      "Review 64000 of 1569264\n",
      "Review 65000 of 1569264\n",
      "Review 66000 of 1569264"
     ]
    },
    {
     "name": "stderr",
     "output_type": "stream",
     "text": [
      "/Users/erichsu/anaconda/lib/python2.7/site-packages/bs4/__init__.py:189: UserWarning: \"http://www.youtube.com/watch?v=K6BlOkpdkg8&feature=related\" looks like a URL. Beautiful Soup is not an HTTP client. You should probably use an HTTP client to get the document behind the URL, and feed that document to Beautiful Soup.\n",
      "  '\"%s\" looks like a URL. Beautiful Soup is not an HTTP client. You should probably use an HTTP client to get the document behind the URL, and feed that document to Beautiful Soup.' % markup)\n",
      "/Users/erichsu/anaconda/lib/python2.7/site-packages/bs4/__init__.py:189: UserWarning: \"http://www.boycottsprouts.com/#!about1/cj86\" looks like a URL. Beautiful Soup is not an HTTP client. You should probably use an HTTP client to get the document behind the URL, and feed that document to Beautiful Soup.\n",
      "  '\"%s\" looks like a URL. Beautiful Soup is not an HTTP client. You should probably use an HTTP client to get the document behind the URL, and feed that document to Beautiful Soup.' % markup)\n"
     ]
    },
    {
     "name": "stdout",
     "output_type": "stream",
     "text": [
      "\n",
      "Review 67000 of 1569264\n",
      "Review 68000 of 1569264\n",
      "Review 69000 of 1569264\n",
      "Review 70000 of 1569264\n",
      "Review 71000 of 1569264\n",
      "Review 72000 of 1569264"
     ]
    },
    {
     "name": "stderr",
     "output_type": "stream",
     "text": [
      "/Users/erichsu/anaconda/lib/python2.7/site-packages/bs4/__init__.py:189: UserWarning: \"http://www.hapsbbq.com/\" looks like a URL. Beautiful Soup is not an HTTP client. You should probably use an HTTP client to get the document behind the URL, and feed that document to Beautiful Soup.\n",
      "  '\"%s\" looks like a URL. Beautiful Soup is not an HTTP client. You should probably use an HTTP client to get the document behind the URL, and feed that document to Beautiful Soup.' % markup)\n",
      "/Users/erichsu/anaconda/lib/python2.7/site-packages/bs4/__init__.py:189: UserWarning: \"http://phoenix.about.com/od/parks/a/southmountain.htm\" looks like a URL. Beautiful Soup is not an HTTP client. You should probably use an HTTP client to get the document behind the URL, and feed that document to Beautiful Soup.\n",
      "  '\"%s\" looks like a URL. Beautiful Soup is not an HTTP client. You should probably use an HTTP client to get the document behind the URL, and feed that document to Beautiful Soup.' % markup)\n"
     ]
    },
    {
     "name": "stdout",
     "output_type": "stream",
     "text": [
      "\n",
      "Review 73000 of 1569264\n",
      "Review 74000 of 1569264\n",
      "Review 75000 of 1569264\n",
      "Review 76000 of 1569264\n",
      "Review 77000 of 1569264"
     ]
    },
    {
     "name": "stderr",
     "output_type": "stream",
     "text": [
      "/Users/erichsu/anaconda/lib/python2.7/site-packages/bs4/__init__.py:189: UserWarning: \"http://my-wine-cellar.com/lucys_place.htm\" looks like a URL. Beautiful Soup is not an HTTP client. You should probably use an HTTP client to get the document behind the URL, and feed that document to Beautiful Soup.\n",
      "  '\"%s\" looks like a URL. Beautiful Soup is not an HTTP client. You should probably use an HTTP client to get the document behind the URL, and feed that document to Beautiful Soup.' % markup)\n",
      "/Users/erichsu/anaconda/lib/python2.7/site-packages/bs4/__init__.py:189: UserWarning: \"http://www.igniterestaurants.com/\" looks like a URL. Beautiful Soup is not an HTTP client. You should probably use an HTTP client to get the document behind the URL, and feed that document to Beautiful Soup.\n",
      "  '\"%s\" looks like a URL. Beautiful Soup is not an HTTP client. You should probably use an HTTP client to get the document behind the URL, and feed that document to Beautiful Soup.' % markup)\n"
     ]
    },
    {
     "name": "stdout",
     "output_type": "stream",
     "text": [
      "\n",
      "Review 78000 of 1569264\n",
      "Review 79000 of 1569264\n",
      "Review 80000 of 1569264\n",
      "Review 81000 of 1569264\n",
      "Review 82000 of 1569264\n",
      "Review 83000 of 1569264\n",
      "Review 84000 of 1569264\n",
      "Review 85000 of 1569264\n",
      "Review 86000 of 1569264\n",
      "Review 87000 of 1569264\n",
      "Review 88000 of 1569264\n",
      "Review 89000 of 1569264"
     ]
    },
    {
     "name": "stderr",
     "output_type": "stream",
     "text": [
      "/Users/erichsu/anaconda/lib/python2.7/site-packages/bs4/__init__.py:189: UserWarning: \"http://www.savers.com/Default.aspx\" looks like a URL. Beautiful Soup is not an HTTP client. You should probably use an HTTP client to get the document behind the URL, and feed that document to Beautiful Soup.\n",
      "  '\"%s\" looks like a URL. Beautiful Soup is not an HTTP client. You should probably use an HTTP client to get the document behind the URL, and feed that document to Beautiful Soup.' % markup)\n",
      "/Users/erichsu/anaconda/lib/python2.7/site-packages/bs4/__init__.py:189: UserWarning: \"http://spoonfulpersuasion.blogspot.com/\" looks like a URL. Beautiful Soup is not an HTTP client. You should probably use an HTTP client to get the document behind the URL, and feed that document to Beautiful Soup.\n",
      "  '\"%s\" looks like a URL. Beautiful Soup is not an HTTP client. You should probably use an HTTP client to get the document behind the URL, and feed that document to Beautiful Soup.' % markup)\n"
     ]
    },
    {
     "name": "stdout",
     "output_type": "stream",
     "text": [
      "\n",
      "Review 90000 of 1569264\n",
      "Review 91000 of 1569264\n",
      "Review 92000 of 1569264\n",
      "Review 93000 of 1569264\n",
      "Review 94000 of 1569264\n",
      "Review 95000 of 1569264\n",
      "Review 96000 of 1569264"
     ]
    },
    {
     "name": "stderr",
     "output_type": "stream",
     "text": [
      "/Users/erichsu/anaconda/lib/python2.7/site-packages/bs4/__init__.py:189: UserWarning: \"http://www.ztejas.com/\" looks like a URL. Beautiful Soup is not an HTTP client. You should probably use an HTTP client to get the document behind the URL, and feed that document to Beautiful Soup.\n",
      "  '\"%s\" looks like a URL. Beautiful Soup is not an HTTP client. You should probably use an HTTP client to get the document behind the URL, and feed that document to Beautiful Soup.' % markup)\n",
      "/Users/erichsu/anaconda/lib/python2.7/site-packages/bs4/__init__.py:189: UserWarning: \"http://www.yelp.com/biz_photos/3N9U549Zse8UP-MwKZAjAQ?select=sScx9DACVnL26MafdtQZ6A\" looks like a URL. Beautiful Soup is not an HTTP client. You should probably use an HTTP client to get the document behind the URL, and feed that document to Beautiful Soup.\n",
      "  '\"%s\" looks like a URL. Beautiful Soup is not an HTTP client. You should probably use an HTTP client to get the document behind the URL, and feed that document to Beautiful Soup.' % markup)\n"
     ]
    },
    {
     "name": "stdout",
     "output_type": "stream",
     "text": [
      "\n",
      "Review 97000 of 1569264\n",
      "Review 98000 of 1569264\n",
      "Review 99000 of 1569264\n",
      "Review 100000 of 1569264\n",
      "Review 101000 of 1569264"
     ]
    },
    {
     "name": "stderr",
     "output_type": "stream",
     "text": [
      "/Users/erichsu/anaconda/lib/python2.7/site-packages/bs4/__init__.py:189: UserWarning: \"http://www.goldstar.com/events/scottsdale-az/sunset-boulevard?p=F3013384SP\" looks like a URL. Beautiful Soup is not an HTTP client. You should probably use an HTTP client to get the document behind the URL, and feed that document to Beautiful Soup.\n",
      "  '\"%s\" looks like a URL. Beautiful Soup is not an HTTP client. You should probably use an HTTP client to get the document behind the URL, and feed that document to Beautiful Soup.' % markup)\n",
      "/Users/erichsu/anaconda/lib/python2.7/site-packages/bs4/__init__.py:189: UserWarning: \"http://www.salvagesisterandmister.com/pizzzzzzzzzzzzzzzzzzza/\" looks like a URL. Beautiful Soup is not an HTTP client. You should probably use an HTTP client to get the document behind the URL, and feed that document to Beautiful Soup.\n",
      "  '\"%s\" looks like a URL. Beautiful Soup is not an HTTP client. You should probably use an HTTP client to get the document behind the URL, and feed that document to Beautiful Soup.' % markup)\n"
     ]
    },
    {
     "name": "stdout",
     "output_type": "stream",
     "text": [
      "\n",
      "Review 102000 of 1569264\n",
      "Review 103000 of 1569264\n",
      "Review 104000 of 1569264\n",
      "Review 105000 of 1569264"
     ]
    },
    {
     "name": "stderr",
     "output_type": "stream",
     "text": [
      "/Users/erichsu/anaconda/lib/python2.7/site-packages/bs4/__init__.py:189: UserWarning: \"http://www.farrellis.com\" looks like a URL. Beautiful Soup is not an HTTP client. You should probably use an HTTP client to get the document behind the URL, and feed that document to Beautiful Soup.\n",
      "  '\"%s\" looks like a URL. Beautiful Soup is not an HTTP client. You should probably use an HTTP client to get the document behind the URL, and feed that document to Beautiful Soup.' % markup)\n",
      "/Users/erichsu/anaconda/lib/python2.7/site-packages/bs4/__init__.py:189: UserWarning: \"http://investor.darden.com/m/#deepLink/%7B%22view%22%3A%22PressReleaseDetails%22%2C%22languageId%22%3A%221%22%2C%22itemId%22%3A%225f329c57-9e8f-469a-8482-758db3cc9d1f%22%2C%22year%22%3A%222014%22%7D.\" looks like a URL. Beautiful Soup is not an HTTP client. You should probably use an HTTP client to get the document behind the URL, and feed that document to Beautiful Soup.\n",
      "  '\"%s\" looks like a URL. Beautiful Soup is not an HTTP client. You should probably use an HTTP client to get the document behind the URL, and feed that document to Beautiful Soup.' % markup)\n"
     ]
    },
    {
     "name": "stdout",
     "output_type": "stream",
     "text": [
      "\n",
      "Review 106000 of 1569264"
     ]
    },
    {
     "name": "stderr",
     "output_type": "stream",
     "text": [
      "/Users/erichsu/anaconda/lib/python2.7/site-packages/bs4/__init__.py:189: UserWarning: \"http://www.disboards.com/archive/index.php/t-2641561.html.\" looks like a URL. Beautiful Soup is not an HTTP client. You should probably use an HTTP client to get the document behind the URL, and feed that document to Beautiful Soup.\n",
      "  '\"%s\" looks like a URL. Beautiful Soup is not an HTTP client. You should probably use an HTTP client to get the document behind the URL, and feed that document to Beautiful Soup.' % markup)\n",
      "/Users/erichsu/anaconda/lib/python2.7/site-packages/bs4/__init__.py:189: UserWarning: \"http://www.yelp.com/biz_photos/UpxWBEAwRhwtjrAPiuHEDQ?select=i95QZtDT1ZijIeuxQfH9JQ#XIFLHi-uG-ihMIcJUf0ZiA.\" looks like a URL. Beautiful Soup is not an HTTP client. You should probably use an HTTP client to get the document behind the URL, and feed that document to Beautiful Soup.\n",
      "  '\"%s\" looks like a URL. Beautiful Soup is not an HTTP client. You should probably use an HTTP client to get the document behind the URL, and feed that document to Beautiful Soup.' % markup)\n"
     ]
    },
    {
     "name": "stdout",
     "output_type": "stream",
     "text": [
      "\n",
      "Review 107000 of 1569264"
     ]
    },
    {
     "name": "stderr",
     "output_type": "stream",
     "text": [
      "/Users/erichsu/anaconda/lib/python2.7/site-packages/bs4/__init__.py:189: UserWarning: \"http://www.yelp.com/topic/scottsdale-automatic-20-gratuity-are-we-legally-obliged-to-pay-it-if-its-not-noted-on-the-menu\" looks like a URL. Beautiful Soup is not an HTTP client. You should probably use an HTTP client to get the document behind the URL, and feed that document to Beautiful Soup.\n",
      "  '\"%s\" looks like a URL. Beautiful Soup is not an HTTP client. You should probably use an HTTP client to get the document behind the URL, and feed that document to Beautiful Soup.' % markup)\n",
      "/Users/erichsu/anaconda/lib/python2.7/site-packages/bs4/__init__.py:189: UserWarning: \"http://www.yelp.com/biz_photos/manuels-mexican-food-scottsdale?select=LFppwbhhjs4-oTzkyYNesA#LFppwbhhjs4-oTzkyYNesA\" looks like a URL. Beautiful Soup is not an HTTP client. You should probably use an HTTP client to get the document behind the URL, and feed that document to Beautiful Soup.\n",
      "  '\"%s\" looks like a URL. Beautiful Soup is not an HTTP client. You should probably use an HTTP client to get the document behind the URL, and feed that document to Beautiful Soup.' % markup)\n",
      "/Users/erichsu/anaconda/lib/python2.7/site-packages/bs4/__init__.py:189: UserWarning: \"http://goo.gl/Zs23P\" looks like a URL. Beautiful Soup is not an HTTP client. You should probably use an HTTP client to get the document behind the URL, and feed that document to Beautiful Soup.\n",
      "  '\"%s\" looks like a URL. Beautiful Soup is not an HTTP client. You should probably use an HTTP client to get the document behind the URL, and feed that document to Beautiful Soup.' % markup)\n",
      "/Users/erichsu/anaconda/lib/python2.7/site-packages/bs4/__init__.py:189: UserWarning: \"http://www.yelp.com/biz/forte-european-tapas-bar-and-bistro-las-vegas?hrid=Gpo-2lh59Bru8sKqgRm5Hw\" looks like a URL. Beautiful Soup is not an HTTP client. You should probably use an HTTP client to get the document behind the URL, and feed that document to Beautiful Soup.\n",
      "  '\"%s\" looks like a URL. Beautiful Soup is not an HTTP client. You should probably use an HTTP client to get the document behind the URL, and feed that document to Beautiful Soup.' % markup)\n"
     ]
    },
    {
     "name": "stdout",
     "output_type": "stream",
     "text": [
      "\n",
      "Review 108000 of 1569264\n",
      "Review 109000 of 1569264\n",
      "Review 110000 of 1569264\n",
      "Review 111000 of 1569264\n",
      "Review 112000 of 1569264\n",
      "Review 113000 of 1569264\n",
      "Review 114000 of 1569264"
     ]
    },
    {
     "name": "stderr",
     "output_type": "stream",
     "text": [
      "/Users/erichsu/anaconda/lib/python2.7/site-packages/bs4/__init__.py:189: UserWarning: \"http://www.youtube.com/watch?v=7PdsS01iUZs\" looks like a URL. Beautiful Soup is not an HTTP client. You should probably use an HTTP client to get the document behind the URL, and feed that document to Beautiful Soup.\n",
      "  '\"%s\" looks like a URL. Beautiful Soup is not an HTTP client. You should probably use an HTTP client to get the document behind the URL, and feed that document to Beautiful Soup.' % markup)\n",
      "/Users/erichsu/anaconda/lib/python2.7/site-packages/bs4/__init__.py:189: UserWarning: \"http://honeymoonsweets.com/\" looks like a URL. Beautiful Soup is not an HTTP client. You should probably use an HTTP client to get the document behind the URL, and feed that document to Beautiful Soup.\n",
      "  '\"%s\" looks like a URL. Beautiful Soup is not an HTTP client. You should probably use an HTTP client to get the document behind the URL, and feed that document to Beautiful Soup.' % markup)\n"
     ]
    },
    {
     "name": "stdout",
     "output_type": "stream",
     "text": [
      "\n",
      "Review 115000 of 1569264\n",
      "Review 116000 of 1569264\n",
      "Review 117000 of 1569264\n",
      "Review 118000 of 1569264"
     ]
    },
    {
     "name": "stderr",
     "output_type": "stream",
     "text": [
      "/Users/erichsu/anaconda/lib/python2.7/site-packages/bs4/__init__.py:189: UserWarning: \"http://www.gameworks.com/?tId=1&sId=14\n",
      "\n",
      "Sweet!\" looks like a URL. Beautiful Soup is not an HTTP client. You should probably use an HTTP client to get the document behind the URL, and feed that document to Beautiful Soup.\n",
      "  '\"%s\" looks like a URL. Beautiful Soup is not an HTTP client. You should probably use an HTTP client to get the document behind the URL, and feed that document to Beautiful Soup.' % markup)\n",
      "/Users/erichsu/anaconda/lib/python2.7/site-packages/bs4/__init__.py:189: UserWarning: \"http://www.yelp.com/biz_photos/teds-hot-dogs-tempe?select=HYh6Dv4htWxebTjRMwgh6g#OCLoB-p-pzUUNcCib8xK-Q\" looks like a URL. Beautiful Soup is not an HTTP client. You should probably use an HTTP client to get the document behind the URL, and feed that document to Beautiful Soup.\n",
      "  '\"%s\" looks like a URL. Beautiful Soup is not an HTTP client. You should probably use an HTTP client to get the document behind the URL, and feed that document to Beautiful Soup.' % markup)\n"
     ]
    },
    {
     "name": "stdout",
     "output_type": "stream",
     "text": [
      "\n",
      "Review 119000 of 1569264\n",
      "Review 120000 of 1569264\n",
      "Review 121000 of 1569264\n",
      "Review 122000 of 1569264\n",
      "Review 123000 of 1569264\n",
      "Review 124000 of 1569264"
     ]
    },
    {
     "name": "stderr",
     "output_type": "stream",
     "text": [
      "/Users/erichsu/anaconda/lib/python2.7/site-packages/bs4/__init__.py:189: UserWarning: \"http://www.crossroadsfarm.com/\" looks like a URL. Beautiful Soup is not an HTTP client. You should probably use an HTTP client to get the document behind the URL, and feed that document to Beautiful Soup.\n",
      "  '\"%s\" looks like a URL. Beautiful Soup is not an HTTP client. You should probably use an HTTP client to get the document behind the URL, and feed that document to Beautiful Soup.' % markup)\n",
      "/Users/erichsu/anaconda/lib/python2.7/site-packages/bs4/__init__.py:189: UserWarning: \"http://bit.ly/eN44JU\" looks like a URL. Beautiful Soup is not an HTTP client. You should probably use an HTTP client to get the document behind the URL, and feed that document to Beautiful Soup.\n",
      "  '\"%s\" looks like a URL. Beautiful Soup is not an HTTP client. You should probably use an HTTP client to get the document behind the URL, and feed that document to Beautiful Soup.' % markup)\n"
     ]
    },
    {
     "name": "stdout",
     "output_type": "stream",
     "text": [
      "\n",
      "Review 125000 of 1569264\n",
      "Review 126000 of 1569264\n",
      "Review 127000 of 1569264\n",
      "Review 128000 of 1569264"
     ]
    },
    {
     "name": "stderr",
     "output_type": "stream",
     "text": [
      "/Users/erichsu/anaconda/lib/python2.7/site-packages/bs4/__init__.py:189: UserWarning: \"http://christinenewport.com/\" looks like a URL. Beautiful Soup is not an HTTP client. You should probably use an HTTP client to get the document behind the URL, and feed that document to Beautiful Soup.\n",
      "  '\"%s\" looks like a URL. Beautiful Soup is not an HTTP client. You should probably use an HTTP client to get the document behind the URL, and feed that document to Beautiful Soup.' % markup)\n",
      "/Users/erichsu/anaconda/lib/python2.7/site-packages/bs4/__init__.py:189: UserWarning: \"http://www.polaricepeoria.com/page/show/46707-public-skate\" looks like a URL. Beautiful Soup is not an HTTP client. You should probably use an HTTP client to get the document behind the URL, and feed that document to Beautiful Soup.\n",
      "  '\"%s\" looks like a URL. Beautiful Soup is not an HTTP client. You should probably use an HTTP client to get the document behind the URL, and feed that document to Beautiful Soup.' % markup)\n"
     ]
    },
    {
     "name": "stdout",
     "output_type": "stream",
     "text": [
      "\n",
      "Review 129000 of 1569264\n",
      "Review 130000 of 1569264\n",
      "Review 131000 of 1569264\n",
      "Review 132000 of 1569264"
     ]
    },
    {
     "name": "stderr",
     "output_type": "stream",
     "text": [
      "/Users/erichsu/anaconda/lib/python2.7/site-packages/bs4/__init__.py:189: UserWarning: \"http://j.mp/jIYTCK\" looks like a URL. Beautiful Soup is not an HTTP client. You should probably use an HTTP client to get the document behind the URL, and feed that document to Beautiful Soup.\n",
      "  '\"%s\" looks like a URL. Beautiful Soup is not an HTTP client. You should probably use an HTTP client to get the document behind the URL, and feed that document to Beautiful Soup.' % markup)\n",
      "/Users/erichsu/anaconda/lib/python2.7/site-packages/bs4/__init__.py:189: UserWarning: \"http://www.kyklosgreekcafe.com\" looks like a URL. Beautiful Soup is not an HTTP client. You should probably use an HTTP client to get the document behind the URL, and feed that document to Beautiful Soup.\n",
      "  '\"%s\" looks like a URL. Beautiful Soup is not an HTTP client. You should probably use an HTTP client to get the document behind the URL, and feed that document to Beautiful Soup.' % markup)\n"
     ]
    },
    {
     "name": "stdout",
     "output_type": "stream",
     "text": [
      "\n",
      "Review 133000 of 1569264\n",
      "Review 134000 of 1569264\n",
      "Review 135000 of 1569264\n",
      "Review 136000 of 1569264\n",
      "Review 137000 of 1569264\n",
      "Review 138000 of 1569264\n",
      "Review 139000 of 1569264"
     ]
    },
    {
     "name": "stderr",
     "output_type": "stream",
     "text": [
      "/Users/erichsu/anaconda/lib/python2.7/site-packages/bs4/__init__.py:189: UserWarning: \"http://www.ktnv.com/news/local/175661241.html\" looks like a URL. Beautiful Soup is not an HTTP client. You should probably use an HTTP client to get the document behind the URL, and feed that document to Beautiful Soup.\n",
      "  '\"%s\" looks like a URL. Beautiful Soup is not an HTTP client. You should probably use an HTTP client to get the document behind the URL, and feed that document to Beautiful Soup.' % markup)\n",
      "/Users/erichsu/anaconda/lib/python2.7/site-packages/bs4/__init__.py:189: UserWarning: \"http://www.merchantcircle.com/business/I.Love.Sushi.702-990-4055\" looks like a URL. Beautiful Soup is not an HTTP client. You should probably use an HTTP client to get the document behind the URL, and feed that document to Beautiful Soup.\n",
      "  '\"%s\" looks like a URL. Beautiful Soup is not an HTTP client. You should probably use an HTTP client to get the document behind the URL, and feed that document to Beautiful Soup.' % markup)\n"
     ]
    },
    {
     "name": "stdout",
     "output_type": "stream",
     "text": [
      "\n",
      "Review 140000 of 1569264\n",
      "Review 141000 of 1569264\n",
      "Review 142000 of 1569264\n",
      "Review 143000 of 1569264\n",
      "Review 144000 of 1569264\n",
      "Review 145000 of 1569264\n",
      "Review 146000 of 1569264"
     ]
    },
    {
     "name": "stderr",
     "output_type": "stream",
     "text": [
      "/Users/erichsu/anaconda/lib/python2.7/site-packages/bs4/__init__.py:189: UserWarning: \"http://www.lasvegaswee...\" looks like a URL. Beautiful Soup is not an HTTP client. You should probably use an HTTP client to get the document behind the URL, and feed that document to Beautiful Soup.\n",
      "  '\"%s\" looks like a URL. Beautiful Soup is not an HTTP client. You should probably use an HTTP client to get the document behind the URL, and feed that document to Beautiful Soup.' % markup)\n",
      "/Users/erichsu/anaconda/lib/python2.7/site-packages/bs4/__init__.py:189: UserWarning: \"http://www.yelp.com/biz/oyster-bar-las-vegas-2#hrid:VvO77AGRTQ-NjLJHTpGmRQ\" looks like a URL. Beautiful Soup is not an HTTP client. You should probably use an HTTP client to get the document behind the URL, and feed that document to Beautiful Soup.\n",
      "  '\"%s\" looks like a URL. Beautiful Soup is not an HTTP client. You should probably use an HTTP client to get the document behind the URL, and feed that document to Beautiful Soup.' % markup)\n"
     ]
    },
    {
     "name": "stdout",
     "output_type": "stream",
     "text": [
      "\n",
      "Review 147000 of 1569264"
     ]
    },
    {
     "name": "stderr",
     "output_type": "stream",
     "text": [
      "/Users/erichsu/anaconda/lib/python2.7/site-packages/bs4/__init__.py:189: UserWarning: \"http://what2eatz.blogspot.com/2011/12/ichiza-izakaya.html\" looks like a URL. Beautiful Soup is not an HTTP client. You should probably use an HTTP client to get the document behind the URL, and feed that document to Beautiful Soup.\n",
      "  '\"%s\" looks like a URL. Beautiful Soup is not an HTTP client. You should probably use an HTTP client to get the document behind the URL, and feed that document to Beautiful Soup.' % markup)\n",
      "/Users/erichsu/anaconda/lib/python2.7/site-packages/bs4/__init__.py:189: UserWarning: \"http://vegas.eater.com/archives/2014/09/05/japanese-fave-ichiza-shut-down-yet-again-by-snhd.php\" looks like a URL. Beautiful Soup is not an HTTP client. You should probably use an HTTP client to get the document behind the URL, and feed that document to Beautiful Soup.\n",
      "  '\"%s\" looks like a URL. Beautiful Soup is not an HTTP client. You should probably use an HTTP client to get the document behind the URL, and feed that document to Beautiful Soup.' % markup)\n"
     ]
    },
    {
     "name": "stdout",
     "output_type": "stream",
     "text": [
      "\n",
      "Review 148000 of 1569264\n",
      "Review 149000 of 1569264\n",
      "Review 150000 of 1569264"
     ]
    },
    {
     "name": "stderr",
     "output_type": "stream",
     "text": [
      "/Users/erichsu/anaconda/lib/python2.7/site-packages/bs4/__init__.py:189: UserWarning: \"http://oinkety.com/?p=2448\" looks like a URL. Beautiful Soup is not an HTTP client. You should probably use an HTTP client to get the document behind the URL, and feed that document to Beautiful Soup.\n",
      "  '\"%s\" looks like a URL. Beautiful Soup is not an HTTP client. You should probably use an HTTP client to get the document behind the URL, and feed that document to Beautiful Soup.' % markup)\n",
      "/Users/erichsu/anaconda/lib/python2.7/site-packages/bs4/__init__.py:189: UserWarning: \"http://what2eatz.blogspot.com/2011/12/island-style-las-vegas.html\" looks like a URL. Beautiful Soup is not an HTTP client. You should probably use an HTTP client to get the document behind the URL, and feed that document to Beautiful Soup.\n",
      "  '\"%s\" looks like a URL. Beautiful Soup is not an HTTP client. You should probably use an HTTP client to get the document behind the URL, and feed that document to Beautiful Soup.' % markup)\n"
     ]
    },
    {
     "name": "stdout",
     "output_type": "stream",
     "text": [
      "\n",
      "Review 151000 of 1569264\n",
      "Review 152000 of 1569264"
     ]
    },
    {
     "name": "stderr",
     "output_type": "stream",
     "text": [
      "/Users/erichsu/anaconda/lib/python2.7/site-packages/bs4/__init__.py:189: UserWarning: \"http://www.crosscountryvegan.com/2012/01/las-vegas-nv-ronalds-donuts.html\" looks like a URL. Beautiful Soup is not an HTTP client. You should probably use an HTTP client to get the document behind the URL, and feed that document to Beautiful Soup.\n",
      "  '\"%s\" looks like a URL. Beautiful Soup is not an HTTP client. You should probably use an HTTP client to get the document behind the URL, and feed that document to Beautiful Soup.' % markup)\n",
      "/Users/erichsu/anaconda/lib/python2.7/site-packages/bs4/__init__.py:189: UserWarning: \"http://www.joyfulhouselv.com/menu.html\" looks like a URL. Beautiful Soup is not an HTTP client. You should probably use an HTTP client to get the document behind the URL, and feed that document to Beautiful Soup.\n",
      "  '\"%s\" looks like a URL. Beautiful Soup is not an HTTP client. You should probably use an HTTP client to get the document behind the URL, and feed that document to Beautiful Soup.' % markup)\n"
     ]
    },
    {
     "name": "stdout",
     "output_type": "stream",
     "text": [
      "\n",
      "Review 153000 of 1569264\n",
      "Review 154000 of 1569264"
     ]
    },
    {
     "name": "stderr",
     "output_type": "stream",
     "text": [
      "/Users/erichsu/anaconda/lib/python2.7/site-packages/bs4/__init__.py:189: UserWarning: \"http://www.meonlybetterfitness.com\" looks like a URL. Beautiful Soup is not an HTTP client. You should probably use an HTTP client to get the document behind the URL, and feed that document to Beautiful Soup.\n",
      "  '\"%s\" looks like a URL. Beautiful Soup is not an HTTP client. You should probably use an HTTP client to get the document behind the URL, and feed that document to Beautiful Soup.' % markup)\n",
      "/Users/erichsu/anaconda/lib/python2.7/site-packages/bs4/__init__.py:189: UserWarning: \"http://thesponge-dani.blogspot.com/2011/10/victims-pilgrimage-killers-fans-guide.html\" looks like a URL. Beautiful Soup is not an HTTP client. You should probably use an HTTP client to get the document behind the URL, and feed that document to Beautiful Soup.\n",
      "  '\"%s\" looks like a URL. Beautiful Soup is not an HTTP client. You should probably use an HTTP client to get the document behind the URL, and feed that document to Beautiful Soup.' % markup)\n"
     ]
    },
    {
     "name": "stdout",
     "output_type": "stream",
     "text": [
      "\n",
      "Review 155000 of 1569264\n",
      "Review 156000 of 1569264"
     ]
    },
    {
     "name": "stderr",
     "output_type": "stream",
     "text": [
      "/Users/erichsu/anaconda/lib/python2.7/site-packages/bs4/__init__.py:189: UserWarning: \"http://www.yelp.com/biz/stammtisch-restaurant-seaside\" looks like a URL. Beautiful Soup is not an HTTP client. You should probably use an HTTP client to get the document behind the URL, and feed that document to Beautiful Soup.\n",
      "  '\"%s\" looks like a URL. Beautiful Soup is not an HTTP client. You should probably use an HTTP client to get the document behind the URL, and feed that document to Beautiful Soup.' % markup)\n",
      "/Users/erichsu/anaconda/lib/python2.7/site-packages/bs4/__init__.py:189: UserWarning: \"http://blog.littlechapel.com/post/2013/02/01/Michelle-Andy-Dodd.aspx\" looks like a URL. Beautiful Soup is not an HTTP client. You should probably use an HTTP client to get the document behind the URL, and feed that document to Beautiful Soup.\n",
      "  '\"%s\" looks like a URL. Beautiful Soup is not an HTTP client. You should probably use an HTTP client to get the document behind the URL, and feed that document to Beautiful Soup.' % markup)\n"
     ]
    },
    {
     "name": "stdout",
     "output_type": "stream",
     "text": [
      "\n",
      "Review 157000 of 1569264\n",
      "Review 158000 of 1569264\n",
      "Review 159000 of 1569264"
     ]
    },
    {
     "name": "stderr",
     "output_type": "stream",
     "text": [
      "/Users/erichsu/anaconda/lib/python2.7/site-packages/bs4/__init__.py:189: UserWarning: \"http://www.pinkaow.com\" looks like a URL. Beautiful Soup is not an HTTP client. You should probably use an HTTP client to get the document behind the URL, and feed that document to Beautiful Soup.\n",
      "  '\"%s\" looks like a URL. Beautiful Soup is not an HTTP client. You should probably use an HTTP client to get the document behind the URL, and feed that document to Beautiful Soup.' % markup)\n",
      "/Users/erichsu/anaconda/lib/python2.7/site-packages/bs4/__init__.py:189: UserWarning: \"http://www.gofundme.com/buzzevans\" looks like a URL. Beautiful Soup is not an HTTP client. You should probably use an HTTP client to get the document behind the URL, and feed that document to Beautiful Soup.\n",
      "  '\"%s\" looks like a URL. Beautiful Soup is not an HTTP client. You should probably use an HTTP client to get the document behind the URL, and feed that document to Beautiful Soup.' % markup)\n"
     ]
    },
    {
     "name": "stdout",
     "output_type": "stream",
     "text": [
      "\n",
      "Review 160000 of 1569264\n",
      "Review 161000 of 1569264"
     ]
    },
    {
     "name": "stderr",
     "output_type": "stream",
     "text": [
      "/Users/erichsu/anaconda/lib/python2.7/site-packages/bs4/__init__.py:189: UserWarning: \"http://www.amazon.com/Packets-Duck-Sauce-SHIP-WITHIN-24HRS/dp/B007ZSZ4EW\" looks like a URL. Beautiful Soup is not an HTTP client. You should probably use an HTTP client to get the document behind the URL, and feed that document to Beautiful Soup.\n",
      "  '\"%s\" looks like a URL. Beautiful Soup is not an HTTP client. You should probably use an HTTP client to get the document behind the URL, and feed that document to Beautiful Soup.' % markup)\n",
      "/Users/erichsu/anaconda/lib/python2.7/site-packages/bs4/__init__.py:189: UserWarning: \"http://www.selmas.com/\" looks like a URL. Beautiful Soup is not an HTTP client. You should probably use an HTTP client to get the document behind the URL, and feed that document to Beautiful Soup.\n",
      "  '\"%s\" looks like a URL. Beautiful Soup is not an HTTP client. You should probably use an HTTP client to get the document behind the URL, and feed that document to Beautiful Soup.' % markup)\n"
     ]
    },
    {
     "name": "stdout",
     "output_type": "stream",
     "text": [
      "\n",
      "Review 162000 of 1569264\n",
      "Review 163000 of 1569264\n",
      "Review 164000 of 1569264\n",
      "Review 165000 of 1569264\n",
      "Review 166000 of 1569264\n",
      "Review 167000 of 1569264\n",
      "Review 168000 of 1569264\n",
      "Review 169000 of 1569264\n",
      "Review 170000 of 1569264\n",
      "Review 171000 of 1569264\n",
      "Review 172000 of 1569264\n",
      "Review 173000 of 1569264\n",
      "Review 174000 of 1569264\n",
      "Review 175000 of 1569264\n",
      "Review 176000 of 1569264\n",
      "Review 177000 of 1569264\n",
      "Review 178000 of 1569264\n",
      "Review 179000 of 1569264"
     ]
    },
    {
     "name": "stderr",
     "output_type": "stream",
     "text": [
      "/Users/erichsu/anaconda/lib/python2.7/site-packages/bs4/__init__.py:189: UserWarning: \"http://www.jrn.com/ktnv/news/dirty-dining/Dirty-Dining-Cathay-House-in-Chinatown-261931831.html?lc=Smart\" looks like a URL. Beautiful Soup is not an HTTP client. You should probably use an HTTP client to get the document behind the URL, and feed that document to Beautiful Soup.\n",
      "  '\"%s\" looks like a URL. Beautiful Soup is not an HTTP client. You should probably use an HTTP client to get the document behind the URL, and feed that document to Beautiful Soup.' % markup)\n",
      "/Users/erichsu/anaconda/lib/python2.7/site-packages/bs4/__init__.py:189: UserWarning: \"http://eatinginpittsburgh.com/2011/02/17/rodzilla-reviews-chaya/\" looks like a URL. Beautiful Soup is not an HTTP client. You should probably use an HTTP client to get the document behind the URL, and feed that document to Beautiful Soup.\n",
      "  '\"%s\" looks like a URL. Beautiful Soup is not an HTTP client. You should probably use an HTTP client to get the document behind the URL, and feed that document to Beautiful Soup.' % markup)\n"
     ]
    },
    {
     "name": "stdout",
     "output_type": "stream",
     "text": [
      "\n",
      "Review 180000 of 1569264"
     ]
    },
    {
     "name": "stderr",
     "output_type": "stream",
     "text": [
      "/Users/erichsu/anaconda/lib/python2.7/site-packages/bs4/__init__.py:189: UserWarning: \"http://www.aiellospizza.com/menu.html\" looks like a URL. Beautiful Soup is not an HTTP client. You should probably use an HTTP client to get the document behind the URL, and feed that document to Beautiful Soup.\n",
      "  '\"%s\" looks like a URL. Beautiful Soup is not an HTTP client. You should probably use an HTTP client to get the document behind the URL, and feed that document to Beautiful Soup.' % markup)\n",
      "/Users/erichsu/anaconda/lib/python2.7/site-packages/bs4/__init__.py:189: UserWarning: \"http://www.priceline.com).\" looks like a URL. Beautiful Soup is not an HTTP client. You should probably use an HTTP client to get the document behind the URL, and feed that document to Beautiful Soup.\n",
      "  '\"%s\" looks like a URL. Beautiful Soup is not an HTTP client. You should probably use an HTTP client to get the document behind the URL, and feed that document to Beautiful Soup.' % markup)\n"
     ]
    },
    {
     "name": "stdout",
     "output_type": "stream",
     "text": [
      "\n",
      "Review 181000 of 1569264\n",
      "Review 182000 of 1569264\n",
      "Review 183000 of 1569264\n",
      "Review 184000 of 1569264\n",
      "Review 185000 of 1569264\n",
      "Review 186000 of 1569264"
     ]
    },
    {
     "name": "stderr",
     "output_type": "stream",
     "text": [
      "/Users/erichsu/anaconda/lib/python2.7/site-packages/bs4/__init__.py:189: UserWarning: \"http://www.nikkosushibar.net/\" looks like a URL. Beautiful Soup is not an HTTP client. You should probably use an HTTP client to get the document behind the URL, and feed that document to Beautiful Soup.\n",
      "  '\"%s\" looks like a URL. Beautiful Soup is not an HTTP client. You should probably use an HTTP client to get the document behind the URL, and feed that document to Beautiful Soup.' % markup)\n",
      "/Users/erichsu/anaconda/lib/python2.7/site-packages/bs4/__init__.py:189: UserWarning: \"http://showmars.com/menu/Showmars-Nutritional-Information.pdf\" looks like a URL. Beautiful Soup is not an HTTP client. You should probably use an HTTP client to get the document behind the URL, and feed that document to Beautiful Soup.\n",
      "  '\"%s\" looks like a URL. Beautiful Soup is not an HTTP client. You should probably use an HTTP client to get the document behind the URL, and feed that document to Beautiful Soup.' % markup)\n"
     ]
    },
    {
     "name": "stdout",
     "output_type": "stream",
     "text": [
      "\n",
      "Review 187000 of 1569264\n",
      "Review 188000 of 1569264\n",
      "Review 189000 of 1569264\n",
      "Review 190000 of 1569264\n",
      "Review 191000 of 1569264\n",
      "Review 192000 of 1569264"
     ]
    },
    {
     "name": "stderr",
     "output_type": "stream",
     "text": [
      "/Users/erichsu/anaconda/lib/python2.7/site-packages/bs4/__init__.py:189: UserWarning: \"http://eepurl.com/g_TTA\" looks like a URL. Beautiful Soup is not an HTTP client. You should probably use an HTTP client to get the document behind the URL, and feed that document to Beautiful Soup.\n",
      "  '\"%s\" looks like a URL. Beautiful Soup is not an HTTP client. You should probably use an HTTP client to get the document behind the URL, and feed that document to Beautiful Soup.' % markup)\n",
      "/Users/erichsu/anaconda/lib/python2.7/site-packages/bs4/__init__.py:189: UserWarning: \"http://eatmonterreys.com.\" looks like a URL. Beautiful Soup is not an HTTP client. You should probably use an HTTP client to get the document behind the URL, and feed that document to Beautiful Soup.\n",
      "  '\"%s\" looks like a URL. Beautiful Soup is not an HTTP client. You should probably use an HTTP client to get the document behind the URL, and feed that document to Beautiful Soup.' % markup)\n"
     ]
    },
    {
     "name": "stdout",
     "output_type": "stream",
     "text": [
      "\n",
      "Review 193000 of 1569264\n",
      "Review 194000 of 1569264\n",
      "Review 195000 of 1569264\n",
      "Review 196000 of 1569264"
     ]
    },
    {
     "name": "stderr",
     "output_type": "stream",
     "text": [
      "/Users/erichsu/anaconda/lib/python2.7/site-packages/bs4/__init__.py:189: UserWarning: \"http://www.autobell.com/\" looks like a URL. Beautiful Soup is not an HTTP client. You should probably use an HTTP client to get the document behind the URL, and feed that document to Beautiful Soup.\n",
      "  '\"%s\" looks like a URL. Beautiful Soup is not an HTTP client. You should probably use an HTTP client to get the document behind the URL, and feed that document to Beautiful Soup.' % markup)\n",
      "/Users/erichsu/anaconda/lib/python2.7/site-packages/bs4/__init__.py:182: UserWarning: \"/\" looks like a filename, not markup. You should probably open this file and pass the filehandle into Beautiful Soup.\n",
      "  '\"%s\" looks like a filename, not markup. You should probably open this file and pass the filehandle into Beautiful Soup.' % markup)\n"
     ]
    },
    {
     "name": "stdout",
     "output_type": "stream",
     "text": [
      "\n",
      "Review 197000 of 1569264\n",
      "Review 198000 of 1569264\n",
      "Review 199000 of 1569264\n",
      "Review 200000 of 1569264"
     ]
    },
    {
     "name": "stderr",
     "output_type": "stream",
     "text": [
      "/Users/erichsu/anaconda/lib/python2.7/site-packages/bs4/__init__.py:189: UserWarning: \"http://www.madisonbikelife.com/2012/09/featured-bike-ride-route-eplegaarden.html\" looks like a URL. Beautiful Soup is not an HTTP client. You should probably use an HTTP client to get the document behind the URL, and feed that document to Beautiful Soup.\n",
      "  '\"%s\" looks like a URL. Beautiful Soup is not an HTTP client. You should probably use an HTTP client to get the document behind the URL, and feed that document to Beautiful Soup.' % markup)\n",
      "/Users/erichsu/anaconda/lib/python2.7/site-packages/bs4/__init__.py:189: UserWarning: \"http://www.iansdelivery.com/\" looks like a URL. Beautiful Soup is not an HTTP client. You should probably use an HTTP client to get the document behind the URL, and feed that document to Beautiful Soup.\n",
      "  '\"%s\" looks like a URL. Beautiful Soup is not an HTTP client. You should probably use an HTTP client to get the document behind the URL, and feed that document to Beautiful Soup.' % markup)\n"
     ]
    },
    {
     "name": "stdout",
     "output_type": "stream",
     "text": [
      "\n",
      "Review 201000 of 1569264\n",
      "Review 202000 of 1569264\n",
      "Review 203000 of 1569264"
     ]
    },
    {
     "name": "stderr",
     "output_type": "stream",
     "text": [
      "/Users/erichsu/anaconda/lib/python2.7/site-packages/bs4/__init__.py:189: UserWarning: \"http://badgerherald.com/news/2014/04/28/takara-faces-criticism-allegedly-underpaying-workers-km/#.U2O5pfldWSo\" looks like a URL. Beautiful Soup is not an HTTP client. You should probably use an HTTP client to get the document behind the URL, and feed that document to Beautiful Soup.\n",
      "  '\"%s\" looks like a URL. Beautiful Soup is not an HTTP client. You should probably use an HTTP client to get the document behind the URL, and feed that document to Beautiful Soup.' % markup)\n",
      "/Users/erichsu/anaconda/lib/python2.7/site-packages/bs4/__init__.py:189: UserWarning: \"http://www.getnmahbelly.com/2013/10/madison-sourdough/\" looks like a URL. Beautiful Soup is not an HTTP client. You should probably use an HTTP client to get the document behind the URL, and feed that document to Beautiful Soup.\n",
      "  '\"%s\" looks like a URL. Beautiful Soup is not an HTTP client. You should probably use an HTTP client to get the document behind the URL, and feed that document to Beautiful Soup.' % markup)\n"
     ]
    },
    {
     "name": "stdout",
     "output_type": "stream",
     "text": [
      "\n",
      "Review 204000 of 1569264\n",
      "Review 205000 of 1569264"
     ]
    },
    {
     "name": "stderr",
     "output_type": "stream",
     "text": [
      "/Users/erichsu/anaconda/lib/python2.7/site-packages/bs4/__init__.py:189: UserWarning: \"http://www.bbb.org/us/\" looks like a URL. Beautiful Soup is not an HTTP client. You should probably use an HTTP client to get the document behind the URL, and feed that document to Beautiful Soup.\n",
      "  '\"%s\" looks like a URL. Beautiful Soup is not an HTTP client. You should probably use an HTTP client to get the document behind the URL, and feed that document to Beautiful Soup.' % markup)\n",
      "/Users/erichsu/anaconda/lib/python2.7/site-packages/bs4/__init__.py:189: UserWarning: \"http://www.lakesidefibers.com\" looks like a URL. Beautiful Soup is not an HTTP client. You should probably use an HTTP client to get the document behind the URL, and feed that document to Beautiful Soup.\n",
      "  '\"%s\" looks like a URL. Beautiful Soup is not an HTTP client. You should probably use an HTTP client to get the document behind the URL, and feed that document to Beautiful Soup.' % markup)\n"
     ]
    },
    {
     "name": "stdout",
     "output_type": "stream",
     "text": [
      "\n",
      "Review 206000 of 1569264\n",
      "Review 207000 of 1569264\n",
      "Review 208000 of 1569264\n",
      "Review 209000 of 1569264"
     ]
    },
    {
     "name": "stderr",
     "output_type": "stream",
     "text": [
      "/Users/erichsu/anaconda/lib/python2.7/site-packages/bs4/__init__.py:189: UserWarning: \"http://stopnestlewaters.org/communities/mecosta-county-mi.\" looks like a URL. Beautiful Soup is not an HTTP client. You should probably use an HTTP client to get the document behind the URL, and feed that document to Beautiful Soup.\n",
      "  '\"%s\" looks like a URL. Beautiful Soup is not an HTTP client. You should probably use an HTTP client to get the document behind the URL, and feed that document to Beautiful Soup.' % markup)\n",
      "/Users/erichsu/anaconda/lib/python2.7/site-packages/bs4/__init__.py:189: UserWarning: \"http://www.mikes-place.biz/\" looks like a URL. Beautiful Soup is not an HTTP client. You should probably use an HTTP client to get the document behind the URL, and feed that document to Beautiful Soup.\n",
      "  '\"%s\" looks like a URL. Beautiful Soup is not an HTTP client. You should probably use an HTTP client to get the document behind the URL, and feed that document to Beautiful Soup.' % markup)\n"
     ]
    },
    {
     "name": "stdout",
     "output_type": "stream",
     "text": [
      "\n",
      "Review 210000 of 1569264\n",
      "Review 211000 of 1569264\n",
      "Review 212000 of 1569264"
     ]
    },
    {
     "name": "stderr",
     "output_type": "stream",
     "text": [
      "/Users/erichsu/anaconda/lib/python2.7/site-packages/bs4/__init__.py:189: UserWarning: \"http://www.phxart.org/slideshow/index.html#/COL/72157606315913654/3595186209/\n",
      "\n",
      "http://www.phxart.org/slideshow/index.html#/COL/72157606315913654/2677477643/\" looks like a URL. Beautiful Soup is not an HTTP client. You should probably use an HTTP client to get the document behind the URL, and feed that document to Beautiful Soup.\n",
      "  '\"%s\" looks like a URL. Beautiful Soup is not an HTTP client. You should probably use an HTTP client to get the document behind the URL, and feed that document to Beautiful Soup.' % markup)\n",
      "/Users/erichsu/anaconda/lib/python2.7/site-packages/bs4/__init__.py:189: UserWarning: \"http://www.shopbiltmore.com/about_us\" looks like a URL. Beautiful Soup is not an HTTP client. You should probably use an HTTP client to get the document behind the URL, and feed that document to Beautiful Soup.\n",
      "  '\"%s\" looks like a URL. Beautiful Soup is not an HTTP client. You should probably use an HTTP client to get the document behind the URL, and feed that document to Beautiful Soup.' % markup)\n"
     ]
    },
    {
     "name": "stdout",
     "output_type": "stream",
     "text": [
      "\n",
      "Review 213000 of 1569264\n",
      "Review 214000 of 1569264"
     ]
    },
    {
     "name": "stderr",
     "output_type": "stream",
     "text": [
      "/Users/erichsu/anaconda/lib/python2.7/site-packages/bs4/__init__.py:189: UserWarning: \"http://www.southwestgardener.com/index.php\" looks like a URL. Beautiful Soup is not an HTTP client. You should probably use an HTTP client to get the document behind the URL, and feed that document to Beautiful Soup.\n",
      "  '\"%s\" looks like a URL. Beautiful Soup is not an HTTP client. You should probably use an HTTP client to get the document behind the URL, and feed that document to Beautiful Soup.' % markup)\n",
      "/Users/erichsu/anaconda/lib/python2.7/site-packages/bs4/__init__.py:189: UserWarning: \"http://youtu.be/A105kROIcoM?t=1m25s\" looks like a URL. Beautiful Soup is not an HTTP client. You should probably use an HTTP client to get the document behind the URL, and feed that document to Beautiful Soup.\n",
      "  '\"%s\" looks like a URL. Beautiful Soup is not an HTTP client. You should probably use an HTTP client to get the document behind the URL, and feed that document to Beautiful Soup.' % markup)\n"
     ]
    },
    {
     "name": "stdout",
     "output_type": "stream",
     "text": [
      "\n",
      "Review 215000 of 1569264\n",
      "Review 216000 of 1569264"
     ]
    },
    {
     "name": "stderr",
     "output_type": "stream",
     "text": [
      "/Users/erichsu/anaconda/lib/python2.7/site-packages/bs4/__init__.py:189: UserWarning: \"http://www.yelp.com/biz/peter-wong-chinese-restaurant-phoenix\" looks like a URL. Beautiful Soup is not an HTTP client. You should probably use an HTTP client to get the document behind the URL, and feed that document to Beautiful Soup.\n",
      "  '\"%s\" looks like a URL. Beautiful Soup is not an HTTP client. You should probably use an HTTP client to get the document behind the URL, and feed that document to Beautiful Soup.' % markup)\n",
      "/Users/erichsu/anaconda/lib/python2.7/site-packages/bs4/__init__.py:189: UserWarning: \"http://www.yelp.com/biz_photos/Jj8ubiwwuCR-rrhrrjcryw?select=K2yzE052dFn0Sf0qoKK1ww\" looks like a URL. Beautiful Soup is not an HTTP client. You should probably use an HTTP client to get the document behind the URL, and feed that document to Beautiful Soup.\n",
      "  '\"%s\" looks like a URL. Beautiful Soup is not an HTTP client. You should probably use an HTTP client to get the document behind the URL, and feed that document to Beautiful Soup.' % markup)\n"
     ]
    },
    {
     "name": "stdout",
     "output_type": "stream",
     "text": [
      "\n",
      "Review 217000 of 1569264\n",
      "Review 218000 of 1569264\n",
      "Review 219000 of 1569264\n",
      "Review 220000 of 1569264"
     ]
    },
    {
     "name": "stderr",
     "output_type": "stream",
     "text": [
      "/Users/erichsu/anaconda/lib/python2.7/site-packages/bs4/__init__.py:189: UserWarning: \"http://www.elyellasalon.com/\" looks like a URL. Beautiful Soup is not an HTTP client. You should probably use an HTTP client to get the document behind the URL, and feed that document to Beautiful Soup.\n",
      "  '\"%s\" looks like a URL. Beautiful Soup is not an HTTP client. You should probably use an HTTP client to get the document behind the URL, and feed that document to Beautiful Soup.' % markup)\n",
      "/Users/erichsu/anaconda/lib/python2.7/site-packages/bs4/__init__.py:189: UserWarning: \"http://www.pureheart.org/index.php\" looks like a URL. Beautiful Soup is not an HTTP client. You should probably use an HTTP client to get the document behind the URL, and feed that document to Beautiful Soup.\n",
      "  '\"%s\" looks like a URL. Beautiful Soup is not an HTTP client. You should probably use an HTTP client to get the document behind the URL, and feed that document to Beautiful Soup.' % markup)\n"
     ]
    },
    {
     "name": "stdout",
     "output_type": "stream",
     "text": [
      "\n",
      "Review 221000 of 1569264\n",
      "Review 222000 of 1569264\n",
      "Review 223000 of 1569264"
     ]
    },
    {
     "name": "stderr",
     "output_type": "stream",
     "text": [
      "/Users/erichsu/anaconda/lib/python2.7/site-packages/bs4/__init__.py:189: UserWarning: \"http://www.yelp.com/biz_photos/nsEO3MRzYLKfgtID7gvArw?select=h_wy_MqnFW0L397uYsQOig\n",
      "http://www.yelp.com/biz_photos/nsEO3MRzYLKfgtID7gvArw?select=1UOxVH3vvYGkwv7HZ_H8Cw\n",
      "http://www.yelp.com/biz_photos/nsEO3MRzYLKfgtID7gvArw?select=ryVQVqRPyJylpYzi-XZezQ\" looks like a URL. Beautiful Soup is not an HTTP client. You should probably use an HTTP client to get the document behind the URL, and feed that document to Beautiful Soup.\n",
      "  '\"%s\" looks like a URL. Beautiful Soup is not an HTTP client. You should probably use an HTTP client to get the document behind the URL, and feed that document to Beautiful Soup.' % markup)\n",
      "/Users/erichsu/anaconda/lib/python2.7/site-packages/bs4/__init__.py:189: UserWarning: \"http://www.yelp.com/biz_photos/nsEO3MRzYLKfgtID7gvArw?select=9vEQ2jKcRGjryTyVEvZDmA\n",
      "http://www.yelp.com/biz_photos/nsEO3MRzYLKfgtID7gvArw?select=w1hAI5b7FWBJ1WNQzRpplg\" looks like a URL. Beautiful Soup is not an HTTP client. You should probably use an HTTP client to get the document behind the URL, and feed that document to Beautiful Soup.\n",
      "  '\"%s\" looks like a URL. Beautiful Soup is not an HTTP client. You should probably use an HTTP client to get the document behind the URL, and feed that document to Beautiful Soup.' % markup)\n",
      "/Users/erichsu/anaconda/lib/python2.7/site-packages/bs4/__init__.py:189: UserWarning: \"https://vimeo.com/83289913\" looks like a URL. Beautiful Soup is not an HTTP client. You should probably use an HTTP client to get the document behind the URL, and feed that document to Beautiful Soup.\n",
      "  '\"%s\" looks like a URL. Beautiful Soup is not an HTTP client. You should probably use an HTTP client to get the document behind the URL, and feed that document to Beautiful Soup.' % markup)\n"
     ]
    },
    {
     "name": "stdout",
     "output_type": "stream",
     "text": [
      "\n",
      "Review 224000 of 1569264\n",
      "Review 225000 of 1569264"
     ]
    },
    {
     "name": "stderr",
     "output_type": "stream",
     "text": [
      "/Users/erichsu/anaconda/lib/python2.7/site-packages/bs4/__init__.py:189: UserWarning: \"http://www.mimiscafe.com/EClub.aspx\" looks like a URL. Beautiful Soup is not an HTTP client. You should probably use an HTTP client to get the document behind the URL, and feed that document to Beautiful Soup.\n",
      "  '\"%s\" looks like a URL. Beautiful Soup is not an HTTP client. You should probably use an HTTP client to get the document behind the URL, and feed that document to Beautiful Soup.' % markup)\n",
      "/Users/erichsu/anaconda/lib/python2.7/site-packages/bs4/__init__.py:189: UserWarning: \"http://www.yelp.com/biz/west-marine-phoenix#hrid:dXDOGM1mJC4GnsWtjq4h8Q\" looks like a URL. Beautiful Soup is not an HTTP client. You should probably use an HTTP client to get the document behind the URL, and feed that document to Beautiful Soup.\n",
      "  '\"%s\" looks like a URL. Beautiful Soup is not an HTTP client. You should probably use an HTTP client to get the document behind the URL, and feed that document to Beautiful Soup.' % markup)\n"
     ]
    },
    {
     "name": "stdout",
     "output_type": "stream",
     "text": [
      "\n",
      "Review 226000 of 1569264\n",
      "Review 227000 of 1569264"
     ]
    },
    {
     "name": "stderr",
     "output_type": "stream",
     "text": [
      "/Users/erichsu/anaconda/lib/python2.7/site-packages/bs4/__init__.py:189: UserWarning: \"http://www.thegoodeggaz.com/\" looks like a URL. Beautiful Soup is not an HTTP client. You should probably use an HTTP client to get the document behind the URL, and feed that document to Beautiful Soup.\n",
      "  '\"%s\" looks like a URL. Beautiful Soup is not an HTTP client. You should probably use an HTTP client to get the document behind the URL, and feed that document to Beautiful Soup.' % markup)\n",
      "/Users/erichsu/anaconda/lib/python2.7/site-packages/bs4/__init__.py:189: UserWarning: \"http://www.blueadobegrille.com/menu\" looks like a URL. Beautiful Soup is not an HTTP client. You should probably use an HTTP client to get the document behind the URL, and feed that document to Beautiful Soup.\n",
      "  '\"%s\" looks like a URL. Beautiful Soup is not an HTTP client. You should probably use an HTTP client to get the document behind the URL, and feed that document to Beautiful Soup.' % markup)\n"
     ]
    },
    {
     "name": "stdout",
     "output_type": "stream",
     "text": [
      "\n",
      "Review 228000 of 1569264\n",
      "Review 229000 of 1569264\n",
      "Review 230000 of 1569264"
     ]
    },
    {
     "name": "stderr",
     "output_type": "stream",
     "text": [
      "/Users/erichsu/anaconda/lib/python2.7/site-packages/bs4/__init__.py:189: UserWarning: \"http://mugshots-directory.com/booking/6635779/John-Giroux\" looks like a URL. Beautiful Soup is not an HTTP client. You should probably use an HTTP client to get the document behind the URL, and feed that document to Beautiful Soup.\n",
      "  '\"%s\" looks like a URL. Beautiful Soup is not an HTTP client. You should probably use an HTTP client to get the document behind the URL, and feed that document to Beautiful Soup.' % markup)\n",
      "/Users/erichsu/anaconda/lib/python2.7/site-packages/bs4/__init__.py:189: UserWarning: \"https://www.azag.gov/complaints/consumer\" looks like a URL. Beautiful Soup is not an HTTP client. You should probably use an HTTP client to get the document behind the URL, and feed that document to Beautiful Soup.\n",
      "  '\"%s\" looks like a URL. Beautiful Soup is not an HTTP client. You should probably use an HTTP client to get the document behind the URL, and feed that document to Beautiful Soup.' % markup)\n",
      "/Users/erichsu/anaconda/lib/python2.7/site-packages/bs4/__init__.py:189: UserWarning: \"http://www.ramonafarms.com/recipes/\" looks like a URL. Beautiful Soup is not an HTTP client. You should probably use an HTTP client to get the document behind the URL, and feed that document to Beautiful Soup.\n",
      "  '\"%s\" looks like a URL. Beautiful Soup is not an HTTP client. You should probably use an HTTP client to get the document behind the URL, and feed that document to Beautiful Soup.' % markup)\n"
     ]
    },
    {
     "name": "stdout",
     "output_type": "stream",
     "text": [
      "\n",
      "Review 231000 of 1569264\n",
      "Review 232000 of 1569264\n",
      "Review 233000 of 1569264\n",
      "Review 234000 of 1569264\n",
      "Review 235000 of 1569264\n",
      "Review 236000 of 1569264\n",
      "Review 237000 of 1569264"
     ]
    },
    {
     "name": "stderr",
     "output_type": "stream",
     "text": [
      "/Users/erichsu/anaconda/lib/python2.7/site-packages/bs4/__init__.py:189: UserWarning: \"http://sanfrancisco.giants.mlb.com/spring_training/tickets.jsp?c_id=sf\" looks like a URL. Beautiful Soup is not an HTTP client. You should probably use an HTTP client to get the document behind the URL, and feed that document to Beautiful Soup.\n",
      "  '\"%s\" looks like a URL. Beautiful Soup is not an HTTP client. You should probably use an HTTP client to get the document behind the URL, and feed that document to Beautiful Soup.' % markup)\n",
      "/Users/erichsu/anaconda/lib/python2.7/site-packages/bs4/__init__.py:189: UserWarning: \"http://www.sunriseseniorliving.com/communities/brighton-gardens-of-scottsdale/Overview.aspx\" looks like a URL. Beautiful Soup is not an HTTP client. You should probably use an HTTP client to get the document behind the URL, and feed that document to Beautiful Soup.\n",
      "  '\"%s\" looks like a URL. Beautiful Soup is not an HTTP client. You should probably use an HTTP client to get the document behind the URL, and feed that document to Beautiful Soup.' % markup)\n"
     ]
    },
    {
     "name": "stdout",
     "output_type": "stream",
     "text": [
      "\n",
      "Review 238000 of 1569264\n",
      "Review 239000 of 1569264\n",
      "Review 240000 of 1569264\n",
      "Review 241000 of 1569264"
     ]
    },
    {
     "name": "stderr",
     "output_type": "stream",
     "text": [
      "/Users/erichsu/anaconda/lib/python2.7/site-packages/bs4/__init__.py:189: UserWarning: \"http://www.kazbar.net/\" looks like a URL. Beautiful Soup is not an HTTP client. You should probably use an HTTP client to get the document behind the URL, and feed that document to Beautiful Soup.\n",
      "  '\"%s\" looks like a URL. Beautiful Soup is not an HTTP client. You should probably use an HTTP client to get the document behind the URL, and feed that document to Beautiful Soup.' % markup)\n",
      "/Users/erichsu/anaconda/lib/python2.7/site-packages/bs4/__init__.py:189: UserWarning: \"http://www.medizonarestaurant.com/\" looks like a URL. Beautiful Soup is not an HTTP client. You should probably use an HTTP client to get the document behind the URL, and feed that document to Beautiful Soup.\n",
      "  '\"%s\" looks like a URL. Beautiful Soup is not an HTTP client. You should probably use an HTTP client to get the document behind the URL, and feed that document to Beautiful Soup.' % markup)\n"
     ]
    },
    {
     "name": "stdout",
     "output_type": "stream",
     "text": [
      "\n",
      "Review 242000 of 1569264\n",
      "Review 243000 of 1569264\n",
      "Review 244000 of 1569264"
     ]
    },
    {
     "name": "stderr",
     "output_type": "stream",
     "text": [
      "/Users/erichsu/anaconda/lib/python2.7/site-packages/bs4/__init__.py:189: UserWarning: \"http://www.ada.gov/service_animals_2010.htm\" looks like a URL. Beautiful Soup is not an HTTP client. You should probably use an HTTP client to get the document behind the URL, and feed that document to Beautiful Soup.\n",
      "  '\"%s\" looks like a URL. Beautiful Soup is not an HTTP client. You should probably use an HTTP client to get the document behind the URL, and feed that document to Beautiful Soup.' % markup)\n",
      "/Users/erichsu/anaconda/lib/python2.7/site-packages/bs4/__init__.py:189: UserWarning: \"http://www.manta.com/coms2/dnbcompany_035ff3\" looks like a URL. Beautiful Soup is not an HTTP client. You should probably use an HTTP client to get the document behind the URL, and feed that document to Beautiful Soup.\n",
      "  '\"%s\" looks like a URL. Beautiful Soup is not an HTTP client. You should probably use an HTTP client to get the document behind the URL, and feed that document to Beautiful Soup.' % markup)\n"
     ]
    },
    {
     "name": "stdout",
     "output_type": "stream",
     "text": [
      "\n",
      "Review 245000 of 1569264\n",
      "Review 246000 of 1569264"
     ]
    },
    {
     "name": "stderr",
     "output_type": "stream",
     "text": [
      "/Users/erichsu/anaconda/lib/python2.7/site-packages/bs4/__init__.py:189: UserWarning: \"http://Grimaldispizzeria.com\" looks like a URL. Beautiful Soup is not an HTTP client. You should probably use an HTTP client to get the document behind the URL, and feed that document to Beautiful Soup.\n",
      "  '\"%s\" looks like a URL. Beautiful Soup is not an HTTP client. You should probably use an HTTP client to get the document behind the URL, and feed that document to Beautiful Soup.' % markup)\n",
      "/Users/erichsu/anaconda/lib/python2.7/site-packages/bs4/__init__.py:189: UserWarning: \"http://a5e.net/\" looks like a URL. Beautiful Soup is not an HTTP client. You should probably use an HTTP client to get the document behind the URL, and feed that document to Beautiful Soup.\n",
      "  '\"%s\" looks like a URL. Beautiful Soup is not an HTTP client. You should probably use an HTTP client to get the document behind the URL, and feed that document to Beautiful Soup.' % markup)\n"
     ]
    },
    {
     "name": "stdout",
     "output_type": "stream",
     "text": [
      "\n",
      "Review 247000 of 1569264\n",
      "Review 248000 of 1569264\n",
      "Review 249000 of 1569264\n",
      "Review 250000 of 1569264\n",
      "Review 251000 of 1569264"
     ]
    },
    {
     "name": "stderr",
     "output_type": "stream",
     "text": [
      "/Users/erichsu/anaconda/lib/python2.7/site-packages/bs4/__init__.py:189: UserWarning: \"http://notomatoesplease.wordpress.com/2010/06/28/elements-phoenix-az/\" looks like a URL. Beautiful Soup is not an HTTP client. You should probably use an HTTP client to get the document behind the URL, and feed that document to Beautiful Soup.\n",
      "  '\"%s\" looks like a URL. Beautiful Soup is not an HTTP client. You should probably use an HTTP client to get the document behind the URL, and feed that document to Beautiful Soup.' % markup)\n",
      "/Users/erichsu/anaconda/lib/python2.7/site-packages/bs4/__init__.py:189: UserWarning: \"http://tinyurl.com/llb3caz\" looks like a URL. Beautiful Soup is not an HTTP client. You should probably use an HTTP client to get the document behind the URL, and feed that document to Beautiful Soup.\n",
      "  '\"%s\" looks like a URL. Beautiful Soup is not an HTTP client. You should probably use an HTTP client to get the document behind the URL, and feed that document to Beautiful Soup.' % markup)\n"
     ]
    },
    {
     "name": "stdout",
     "output_type": "stream",
     "text": [
      "\n",
      "Review 252000 of 1569264\n",
      "Review 253000 of 1569264\n",
      "Review 254000 of 1569264\n",
      "Review 255000 of 1569264\n",
      "Review 256000 of 1569264"
     ]
    },
    {
     "name": "stderr",
     "output_type": "stream",
     "text": [
      "/Users/erichsu/anaconda/lib/python2.7/site-packages/bs4/__init__.py:189: UserWarning: \"http://www.asublog.net/2008/06/27/hoodlums-looks-to-stay-in-da-hood/\" looks like a URL. Beautiful Soup is not an HTTP client. You should probably use an HTTP client to get the document behind the URL, and feed that document to Beautiful Soup.\n",
      "  '\"%s\" looks like a URL. Beautiful Soup is not an HTTP client. You should probably use an HTTP client to get the document behind the URL, and feed that document to Beautiful Soup.' % markup)\n",
      "/Users/erichsu/anaconda/lib/python2.7/site-packages/bs4/__init__.py:189: UserWarning: \"http://www.fourpeaks.com/\" looks like a URL. Beautiful Soup is not an HTTP client. You should probably use an HTTP client to get the document behind the URL, and feed that document to Beautiful Soup.\n",
      "  '\"%s\" looks like a URL. Beautiful Soup is not an HTTP client. You should probably use an HTTP client to get the document behind the URL, and feed that document to Beautiful Soup.' % markup)\n"
     ]
    },
    {
     "name": "stdout",
     "output_type": "stream",
     "text": [
      "\n",
      "Review 257000 of 1569264\n",
      "Review 258000 of 1569264\n",
      "Review 259000 of 1569264"
     ]
    },
    {
     "name": "stderr",
     "output_type": "stream",
     "text": [
      "/Users/erichsu/anaconda/lib/python2.7/site-packages/bs4/__init__.py:189: UserWarning: \"http://cidse.engineering.asu.edu/\n",
      "\n",
      "3.\" looks like a URL. Beautiful Soup is not an HTTP client. You should probably use an HTTP client to get the document behind the URL, and feed that document to Beautiful Soup.\n",
      "  '\"%s\" looks like a URL. Beautiful Soup is not an HTTP client. You should probably use an HTTP client to get the document behind the URL, and feed that document to Beautiful Soup.' % markup)\n",
      "/Users/erichsu/anaconda/lib/python2.7/site-packages/bs4/__init__.py:189: UserWarning: \"http://www.flickr.com/photos/dfactor/3284686119/\" looks like a URL. Beautiful Soup is not an HTTP client. You should probably use an HTTP client to get the document behind the URL, and feed that document to Beautiful Soup.\n",
      "  '\"%s\" looks like a URL. Beautiful Soup is not an HTTP client. You should probably use an HTTP client to get the document behind the URL, and feed that document to Beautiful Soup.' % markup)\n"
     ]
    },
    {
     "name": "stdout",
     "output_type": "stream",
     "text": [
      "\n",
      "Review 260000 of 1569264\n",
      "Review 261000 of 1569264\n",
      "Review 262000 of 1569264\n",
      "Review 263000 of 1569264\n",
      "Review 264000 of 1569264"
     ]
    },
    {
     "name": "stderr",
     "output_type": "stream",
     "text": [
      "/Users/erichsu/anaconda/lib/python2.7/site-packages/bs4/__init__.py:189: UserWarning: \"http://www.yelp.com/biz_photos/utoTa3Ngv_oSfB5TIMgN_Q?select=U1IbIb_HFj_VxJYxf1t2ZQ\" looks like a URL. Beautiful Soup is not an HTTP client. You should probably use an HTTP client to get the document behind the URL, and feed that document to Beautiful Soup.\n",
      "  '\"%s\" looks like a URL. Beautiful Soup is not an HTTP client. You should probably use an HTTP client to get the document behind the URL, and feed that document to Beautiful Soup.' % markup)\n",
      "/Users/erichsu/anaconda/lib/python2.7/site-packages/bs4/__init__.py:189: UserWarning: \"http://www.salonbossanova.com/\" looks like a URL. Beautiful Soup is not an HTTP client. You should probably use an HTTP client to get the document behind the URL, and feed that document to Beautiful Soup.\n",
      "  '\"%s\" looks like a URL. Beautiful Soup is not an HTTP client. You should probably use an HTTP client to get the document behind the URL, and feed that document to Beautiful Soup.' % markup)\n"
     ]
    },
    {
     "name": "stdout",
     "output_type": "stream",
     "text": [
      "\n",
      "Review 265000 of 1569264\n",
      "Review 266000 of 1569264\n",
      "Review 267000 of 1569264\n",
      "Review 268000 of 1569264\n",
      "Review 269000 of 1569264\n",
      "Review 270000 of 1569264\n",
      "Review 271000 of 1569264\n",
      "Review 272000 of 1569264"
     ]
    },
    {
     "name": "stderr",
     "output_type": "stream",
     "text": [
      "/Users/erichsu/anaconda/lib/python2.7/site-packages/bs4/__init__.py:189: UserWarning: \"http://www.houseoftricks.com/New%20Dinner%20Menu%203-12-08.pdf\" looks like a URL. Beautiful Soup is not an HTTP client. You should probably use an HTTP client to get the document behind the URL, and feed that document to Beautiful Soup.\n",
      "  '\"%s\" looks like a URL. Beautiful Soup is not an HTTP client. You should probably use an HTTP client to get the document behind the URL, and feed that document to Beautiful Soup.' % markup)\n",
      "/Users/erichsu/anaconda/lib/python2.7/site-packages/bs4/__init__.py:189: UserWarning: \"http://www.facebook.com/crazyczech?v=app_2392950137#!/video/video.php?v=409760827811\" looks like a URL. Beautiful Soup is not an HTTP client. You should probably use an HTTP client to get the document behind the URL, and feed that document to Beautiful Soup.\n",
      "  '\"%s\" looks like a URL. Beautiful Soup is not an HTTP client. You should probably use an HTTP client to get the document behind the URL, and feed that document to Beautiful Soup.' % markup)\n"
     ]
    },
    {
     "name": "stdout",
     "output_type": "stream",
     "text": [
      "\n",
      "Review 273000 of 1569264\n",
      "Review 274000 of 1569264\n",
      "Review 275000 of 1569264\n",
      "Review 276000 of 1569264\n",
      "Review 277000 of 1569264\n",
      "Review 278000 of 1569264\n",
      "Review 279000 of 1569264"
     ]
    },
    {
     "name": "stderr",
     "output_type": "stream",
     "text": [
      "/Users/erichsu/anaconda/lib/python2.7/site-packages/bs4/__init__.py:189: UserWarning: \"http://www.biennails.com/\" looks like a URL. Beautiful Soup is not an HTTP client. You should probably use an HTTP client to get the document behind the URL, and feed that document to Beautiful Soup.\n",
      "  '\"%s\" looks like a URL. Beautiful Soup is not an HTTP client. You should probably use an HTTP client to get the document behind the URL, and feed that document to Beautiful Soup.' % markup)\n",
      "/Users/erichsu/anaconda/lib/python2.7/site-packages/bs4/__init__.py:189: UserWarning: \"http://www.vegasinc.com/news/2012/feb/08/sneak-peek-inside-look-mccarrans-terminal-3/\" looks like a URL. Beautiful Soup is not an HTTP client. You should probably use an HTTP client to get the document behind the URL, and feed that document to Beautiful Soup.\n",
      "  '\"%s\" looks like a URL. Beautiful Soup is not an HTTP client. You should probably use an HTTP client to get the document behind the URL, and feed that document to Beautiful Soup.' % markup)\n"
     ]
    },
    {
     "name": "stdout",
     "output_type": "stream",
     "text": [
      "\n",
      "Review 280000 of 1569264"
     ]
    },
    {
     "name": "stderr",
     "output_type": "stream",
     "text": [
      "/Users/erichsu/anaconda/lib/python2.7/site-packages/bs4/__init__.py:189: UserWarning: \"http://www.ebates.com/rf.do?referrerid=GTG%2FIhLnOFJVDrkek6wxgg%3D%3D&eeid=23552\" looks like a URL. Beautiful Soup is not an HTTP client. You should probably use an HTTP client to get the document behind the URL, and feed that document to Beautiful Soup.\n",
      "  '\"%s\" looks like a URL. Beautiful Soup is not an HTTP client. You should probably use an HTTP client to get the document behind the URL, and feed that document to Beautiful Soup.' % markup)\n",
      "/Users/erichsu/anaconda/lib/python2.7/site-packages/bs4/__init__.py:189: UserWarning: \"http://www.lasvegassciencefestival.com/index.html\" looks like a URL. Beautiful Soup is not an HTTP client. You should probably use an HTTP client to get the document behind the URL, and feed that document to Beautiful Soup.\n",
      "  '\"%s\" looks like a URL. Beautiful Soup is not an HTTP client. You should probably use an HTTP client to get the document behind the URL, and feed that document to Beautiful Soup.' % markup)\n"
     ]
    },
    {
     "name": "stdout",
     "output_type": "stream",
     "text": [
      "\n",
      "Review 281000 of 1569264\n",
      "Review 282000 of 1569264\n",
      "Review 283000 of 1569264\n",
      "Review 284000 of 1569264\n",
      "Review 285000 of 1569264"
     ]
    },
    {
     "name": "stderr",
     "output_type": "stream",
     "text": [
      "/Users/erichsu/anaconda/lib/python2.7/site-packages/bs4/__init__.py:189: UserWarning: \"http://dtlv.com/2014/08/26/the-new-bunkhouse-is-kind-of-awesome/\" looks like a URL. Beautiful Soup is not an HTTP client. You should probably use an HTTP client to get the document behind the URL, and feed that document to Beautiful Soup.\n",
      "  '\"%s\" looks like a URL. Beautiful Soup is not an HTTP client. You should probably use an HTTP client to get the document behind the URL, and feed that document to Beautiful Soup.' % markup)\n",
      "/Users/erichsu/anaconda/lib/python2.7/site-packages/bs4/__init__.py:189: UserWarning: \"http://lasvegastoppicks.com/your-helping-hands-house-cleaning/\" looks like a URL. Beautiful Soup is not an HTTP client. You should probably use an HTTP client to get the document behind the URL, and feed that document to Beautiful Soup.\n",
      "  '\"%s\" looks like a URL. Beautiful Soup is not an HTTP client. You should probably use an HTTP client to get the document behind the URL, and feed that document to Beautiful Soup.' % markup)\n"
     ]
    },
    {
     "name": "stdout",
     "output_type": "stream",
     "text": [
      "\n",
      "Review 286000 of 1569264\n",
      "Review 287000 of 1569264\n",
      "Review 288000 of 1569264"
     ]
    },
    {
     "name": "stderr",
     "output_type": "stream",
     "text": [
      "/Users/erichsu/anaconda/lib/python2.7/site-packages/bs4/__init__.py:189: UserWarning: \"http://www.yelp.com/biz/ruths-chris-steak-house-las-vegas-2#hrid:YfjHw0PU2ZRJiE4yItk5EQ\" looks like a URL. Beautiful Soup is not an HTTP client. You should probably use an HTTP client to get the document behind the URL, and feed that document to Beautiful Soup.\n",
      "  '\"%s\" looks like a URL. Beautiful Soup is not an HTTP client. You should probably use an HTTP client to get the document behind the URL, and feed that document to Beautiful Soup.' % markup)\n",
      "/Users/erichsu/anaconda/lib/python2.7/site-packages/bs4/__init__.py:189: UserWarning: \"http://www.green-4-u.com/2008/05/22/why-styrofoam-is-bad/\" looks like a URL. Beautiful Soup is not an HTTP client. You should probably use an HTTP client to get the document behind the URL, and feed that document to Beautiful Soup.\n",
      "  '\"%s\" looks like a URL. Beautiful Soup is not an HTTP client. You should probably use an HTTP client to get the document behind the URL, and feed that document to Beautiful Soup.' % markup)\n"
     ]
    },
    {
     "name": "stdout",
     "output_type": "stream",
     "text": [
      "\n",
      "Review 289000 of 1569264\n",
      "Review 290000 of 1569264\n",
      "Review 291000 of 1569264\n",
      "Review 292000 of 1569264\n",
      "Review 293000 of 1569264\n",
      "Review 294000 of 1569264\n",
      "Review 295000 of 1569264\n",
      "Review 296000 of 1569264\n",
      "Review 297000 of 1569264\n",
      "Review 298000 of 1569264\n",
      "Review 299000 of 1569264\n",
      "Review 300000 of 1569264\n",
      "Review 301000 of 1569264\n",
      "Review 302000 of 1569264"
     ]
    },
    {
     "name": "stderr",
     "output_type": "stream",
     "text": [
      "/Users/erichsu/anaconda/lib/python2.7/site-packages/bs4/__init__.py:189: UserWarning: \"http://www.guggenheim.org/new-york/press-room/press-releases/1814\n",
      "\n",
      "closed.\" looks like a URL. Beautiful Soup is not an HTTP client. You should probably use an HTTP client to get the document behind the URL, and feed that document to Beautiful Soup.\n",
      "  '\"%s\" looks like a URL. Beautiful Soup is not an HTTP client. You should probably use an HTTP client to get the document behind the URL, and feed that document to Beautiful Soup.' % markup)\n",
      "/Users/erichsu/anaconda/lib/python2.7/site-packages/bs4/__init__.py:189: UserWarning: \"http://www.yelp.com/biz_photos/RRpHuoXpxcuLk4LdB_YrOg?select=rHxsrSqMouzqUn20ZyhXfw#rHxsrSqMouzqUn20ZyhXfw\" looks like a URL. Beautiful Soup is not an HTTP client. You should probably use an HTTP client to get the document behind the URL, and feed that document to Beautiful Soup.\n",
      "  '\"%s\" looks like a URL. Beautiful Soup is not an HTTP client. You should probably use an HTTP client to get the document behind the URL, and feed that document to Beautiful Soup.' % markup)\n"
     ]
    },
    {
     "name": "stdout",
     "output_type": "stream",
     "text": [
      "\n",
      "Review 303000 of 1569264\n",
      "Review 304000 of 1569264\n",
      "Review 305000 of 1569264\n",
      "Review 306000 of 1569264"
     ]
    },
    {
     "name": "stderr",
     "output_type": "stream",
     "text": [
      "/Users/erichsu/anaconda/lib/python2.7/site-packages/bs4/__init__.py:189: UserWarning: \"http://vegas.eater.com/2014/9/5/6159951/bahama-breeze-suffers-an-imminent-health-hazard\n",
      "\n",
      "Gross.\" looks like a URL. Beautiful Soup is not an HTTP client. You should probably use an HTTP client to get the document behind the URL, and feed that document to Beautiful Soup.\n",
      "  '\"%s\" looks like a URL. Beautiful Soup is not an HTTP client. You should probably use an HTTP client to get the document behind the URL, and feed that document to Beautiful Soup.' % markup)\n",
      "/Users/erichsu/anaconda/lib/python2.7/site-packages/bs4/__init__.py:189: UserWarning: \"http://tastypalateandfoodie.blogspot.com\" looks like a URL. Beautiful Soup is not an HTTP client. You should probably use an HTTP client to get the document behind the URL, and feed that document to Beautiful Soup.\n",
      "  '\"%s\" looks like a URL. Beautiful Soup is not an HTTP client. You should probably use an HTTP client to get the document behind the URL, and feed that document to Beautiful Soup.' % markup)\n",
      "/Users/erichsu/anaconda/lib/python2.7/site-packages/bs4/__init__.py:189: UserWarning: \"http://www.consumermatch.com/wdetail/wid/3540/wn/Wynn-Las-Vegas.html\" looks like a URL. Beautiful Soup is not an HTTP client. You should probably use an HTTP client to get the document behind the URL, and feed that document to Beautiful Soup.\n",
      "  '\"%s\" looks like a URL. Beautiful Soup is not an HTTP client. You should probably use an HTTP client to get the document behind the URL, and feed that document to Beautiful Soup.' % markup)\n",
      "/Users/erichsu/anaconda/lib/python2.7/site-packages/bs4/__init__.py:189: UserWarning: \"http://www.merchantcircle.com/business/Wynn.Las.Vegas.702-770-7000\" looks like a URL. Beautiful Soup is not an HTTP client. You should probably use an HTTP client to get the document behind the URL, and feed that document to Beautiful Soup.\n",
      "  '\"%s\" looks like a URL. Beautiful Soup is not an HTTP client. You should probably use an HTTP client to get the document behind the URL, and feed that document to Beautiful Soup.' % markup)\n"
     ]
    },
    {
     "name": "stdout",
     "output_type": "stream",
     "text": [
      "\n",
      "Review 307000 of 1569264\n",
      "Review 308000 of 1569264\n",
      "Review 309000 of 1569264\n",
      "Review 310000 of 1569264\n",
      "Review 311000 of 1569264\n",
      "Review 312000 of 1569264"
     ]
    },
    {
     "name": "stderr",
     "output_type": "stream",
     "text": [
      "/Users/erichsu/anaconda/lib/python2.7/site-packages/bs4/__init__.py:189: UserWarning: \"http://www.yelp.com/biz_photos/EAwh1OmG6t6p3nRaZOW_AA?select=SICcD3aU6LmtyFMrWrAQKA\" looks like a URL. Beautiful Soup is not an HTTP client. You should probably use an HTTP client to get the document behind the URL, and feed that document to Beautiful Soup.\n",
      "  '\"%s\" looks like a URL. Beautiful Soup is not an HTTP client. You should probably use an HTTP client to get the document behind the URL, and feed that document to Beautiful Soup.' % markup)\n",
      "/Users/erichsu/anaconda/lib/python2.7/site-packages/bs4/__init__.py:189: UserWarning: \"http://what2eatz.blogspot.com/2011/12/las-vegas-marrakech-moroccan-restaurant.html\" looks like a URL. Beautiful Soup is not an HTTP client. You should probably use an HTTP client to get the document behind the URL, and feed that document to Beautiful Soup.\n",
      "  '\"%s\" looks like a URL. Beautiful Soup is not an HTTP client. You should probably use an HTTP client to get the document behind the URL, and feed that document to Beautiful Soup.' % markup)\n"
     ]
    },
    {
     "name": "stdout",
     "output_type": "stream",
     "text": [
      "\n",
      "Review 313000 of 1569264\n",
      "Review 314000 of 1569264\n",
      "Review 315000 of 1569264"
     ]
    },
    {
     "name": "stderr",
     "output_type": "stream",
     "text": [
      "/Users/erichsu/anaconda/lib/python2.7/site-packages/bs4/__init__.py:189: UserWarning: \"http://www.talulahg.com/\" looks like a URL. Beautiful Soup is not an HTTP client. You should probably use an HTTP client to get the document behind the URL, and feed that document to Beautiful Soup.\n",
      "  '\"%s\" looks like a URL. Beautiful Soup is not an HTTP client. You should probably use an HTTP client to get the document behind the URL, and feed that document to Beautiful Soup.' % markup)\n",
      "/Users/erichsu/anaconda/lib/python2.7/site-packages/bs4/__init__.py:189: UserWarning: \"http://www.yelp.com/user_local_photos?userid=RoGuDu1egfAvVgb4WmZwUw&select=3bMBTfxcx61zIGnX8l06SQ\" looks like a URL. Beautiful Soup is not an HTTP client. You should probably use an HTTP client to get the document behind the URL, and feed that document to Beautiful Soup.\n",
      "  '\"%s\" looks like a URL. Beautiful Soup is not an HTTP client. You should probably use an HTTP client to get the document behind the URL, and feed that document to Beautiful Soup.' % markup)\n"
     ]
    },
    {
     "name": "stdout",
     "output_type": "stream",
     "text": [
      "\n",
      "Review 316000 of 1569264\n",
      "Review 317000 of 1569264\n",
      "Review 318000 of 1569264\n",
      "Review 319000 of 1569264\n",
      "Review 320000 of 1569264\n",
      "Review 321000 of 1569264\n",
      "Review 322000 of 1569264"
     ]
    },
    {
     "name": "stderr",
     "output_type": "stream",
     "text": [
      "/Users/erichsu/anaconda/lib/python2.7/site-packages/bs4/__init__.py:189: UserWarning: \"http://www.ultimatemotorcycling.com/2009_Yamaha_Champions_Riding_School_Miller_Motorsports_Park\" looks like a URL. Beautiful Soup is not an HTTP client. You should probably use an HTTP client to get the document behind the URL, and feed that document to Beautiful Soup.\n",
      "  '\"%s\" looks like a URL. Beautiful Soup is not an HTTP client. You should probably use an HTTP client to get the document behind the URL, and feed that document to Beautiful Soup.' % markup)\n",
      "/Users/erichsu/anaconda/lib/python2.7/site-packages/bs4/__init__.py:189: UserWarning: \"http://www.vcahospitals.com/hualapai\" looks like a URL. Beautiful Soup is not an HTTP client. You should probably use an HTTP client to get the document behind the URL, and feed that document to Beautiful Soup.\n",
      "  '\"%s\" looks like a URL. Beautiful Soup is not an HTTP client. You should probably use an HTTP client to get the document behind the URL, and feed that document to Beautiful Soup.' % markup)\n"
     ]
    },
    {
     "name": "stdout",
     "output_type": "stream",
     "text": [
      "\n",
      "Review 323000 of 1569264\n",
      "Review 324000 of 1569264\n",
      "Review 325000 of 1569264\n",
      "Review 326000 of 1569264\n",
      "Review 327000 of 1569264\n",
      "Review 328000 of 1569264"
     ]
    },
    {
     "name": "stderr",
     "output_type": "stream",
     "text": [
      "/Users/erichsu/anaconda/lib/python2.7/site-packages/bs4/__init__.py:189: UserWarning: \"http://www.metropizza.com/calendar\" looks like a URL. Beautiful Soup is not an HTTP client. You should probably use an HTTP client to get the document behind the URL, and feed that document to Beautiful Soup.\n",
      "  '\"%s\" looks like a URL. Beautiful Soup is not an HTTP client. You should probably use an HTTP client to get the document behind the URL, and feed that document to Beautiful Soup.' % markup)\n",
      "/Users/erichsu/anaconda/lib/python2.7/site-packages/bs4/__init__.py:189: UserWarning: \"http://www.bordergrill.com/PDF/BGLV_Brunch_Flyer_0310_Flyer.pdf\" looks like a URL. Beautiful Soup is not an HTTP client. You should probably use an HTTP client to get the document behind the URL, and feed that document to Beautiful Soup.\n",
      "  '\"%s\" looks like a URL. Beautiful Soup is not an HTTP client. You should probably use an HTTP client to get the document behind the URL, and feed that document to Beautiful Soup.' % markup)\n"
     ]
    },
    {
     "name": "stdout",
     "output_type": "stream",
     "text": [
      "\n",
      "Review 329000 of 1569264\n",
      "Review 330000 of 1569264\n",
      "Review 331000 of 1569264"
     ]
    },
    {
     "name": "stderr",
     "output_type": "stream",
     "text": [
      "/Users/erichsu/anaconda/lib/python2.7/site-packages/bs4/__init__.py:189: UserWarning: \"http://profile.myspace.com/index.cfm?fuseaction=user.viewprofile&friendid=75304378&MyToken=111eb25b-d65e-4546-8f39-6fede72fcf3c\" looks like a URL. Beautiful Soup is not an HTTP client. You should probably use an HTTP client to get the document behind the URL, and feed that document to Beautiful Soup.\n",
      "  '\"%s\" looks like a URL. Beautiful Soup is not an HTTP client. You should probably use an HTTP client to get the document behind the URL, and feed that document to Beautiful Soup.' % markup)\n",
      "/Users/erichsu/anaconda/lib/python2.7/site-packages/bs4/__init__.py:189: UserWarning: \"http://www.webvet.com/main/2008/05/06/safe-cleaning-products-your-pets\" looks like a URL. Beautiful Soup is not an HTTP client. You should probably use an HTTP client to get the document behind the URL, and feed that document to Beautiful Soup.\n",
      "  '\"%s\" looks like a URL. Beautiful Soup is not an HTTP client. You should probably use an HTTP client to get the document behind the URL, and feed that document to Beautiful Soup.' % markup)\n"
     ]
    },
    {
     "name": "stdout",
     "output_type": "stream",
     "text": [
      "\n",
      "Review 332000 of 1569264\n",
      "Review 333000 of 1569264\n",
      "Review 334000 of 1569264"
     ]
    },
    {
     "name": "stderr",
     "output_type": "stream",
     "text": [
      "/Users/erichsu/anaconda/lib/python2.7/site-packages/bs4/__init__.py:189: UserWarning: \"http://southernnevada.bbb.org/bbb_acc_rpt_s.asp?bbbid=51235&rmode=satmbr\" looks like a URL. Beautiful Soup is not an HTTP client. You should probably use an HTTP client to get the document behind the URL, and feed that document to Beautiful Soup.\n",
      "  '\"%s\" looks like a URL. Beautiful Soup is not an HTTP client. You should probably use an HTTP client to get the document behind the URL, and feed that document to Beautiful Soup.' % markup)\n",
      "/Users/erichsu/anaconda/lib/python2.7/site-packages/bs4/__init__.py:189: UserWarning: \"http://www.youtube.com/watch?v=tNwXReoaCKQ\" looks like a URL. Beautiful Soup is not an HTTP client. You should probably use an HTTP client to get the document behind the URL, and feed that document to Beautiful Soup.\n",
      "  '\"%s\" looks like a URL. Beautiful Soup is not an HTTP client. You should probably use an HTTP client to get the document behind the URL, and feed that document to Beautiful Soup.' % markup)\n"
     ]
    },
    {
     "name": "stdout",
     "output_type": "stream",
     "text": [
      "\n",
      "Review 335000 of 1569264\n",
      "Review 336000 of 1569264\n",
      "Review 337000 of 1569264\n",
      "Review 338000 of 1569264\n",
      "Review 339000 of 1569264\n",
      "Review 340000 of 1569264\n",
      "Review 341000 of 1569264\n",
      "Review 342000 of 1569264\n",
      "Review 343000 of 1569264\n",
      "Review 344000 of 1569264\n",
      "Review 345000 of 1569264\n",
      "Review 346000 of 1569264\n",
      "Review 347000 of 1569264\n",
      "Review 348000 of 1569264"
     ]
    },
    {
     "name": "stderr",
     "output_type": "stream",
     "text": [
      "/Users/erichsu/anaconda/lib/python2.7/site-packages/bs4/__init__.py:189: UserWarning: \"http://www.kennywood.com/\" looks like a URL. Beautiful Soup is not an HTTP client. You should probably use an HTTP client to get the document behind the URL, and feed that document to Beautiful Soup.\n",
      "  '\"%s\" looks like a URL. Beautiful Soup is not an HTTP client. You should probably use an HTTP client to get the document behind the URL, and feed that document to Beautiful Soup.' % markup)\n",
      "/Users/erichsu/anaconda/lib/python2.7/site-packages/bs4/__init__.py:189: UserWarning: \"http://www.youtube.com/watch?v=bE96fz6BWqk\" looks like a URL. Beautiful Soup is not an HTTP client. You should probably use an HTTP client to get the document behind the URL, and feed that document to Beautiful Soup.\n",
      "  '\"%s\" looks like a URL. Beautiful Soup is not an HTTP client. You should probably use an HTTP client to get the document behind the URL, and feed that document to Beautiful Soup.' % markup)\n"
     ]
    },
    {
     "name": "stdout",
     "output_type": "stream",
     "text": [
      "\n",
      "Review 349000 of 1569264"
     ]
    },
    {
     "name": "stderr",
     "output_type": "stream",
     "text": [
      "/Users/erichsu/anaconda/lib/python2.7/site-packages/bs4/__init__.py:189: UserWarning: \"http://www.rodzillareviews.com/2011/03/kaya.html\" looks like a URL. Beautiful Soup is not an HTTP client. You should probably use an HTTP client to get the document behind the URL, and feed that document to Beautiful Soup.\n",
      "  '\"%s\" looks like a URL. Beautiful Soup is not an HTTP client. You should probably use an HTTP client to get the document behind the URL, and feed that document to Beautiful Soup.' % markup)\n",
      "/Users/erichsu/anaconda/lib/python2.7/site-packages/bs4/__init__.py:189: UserWarning: \"http://www.yelp.com/biz/andys-sushi-bar-pittsburgh\" looks like a URL. Beautiful Soup is not an HTTP client. You should probably use an HTTP client to get the document behind the URL, and feed that document to Beautiful Soup.\n",
      "  '\"%s\" looks like a URL. Beautiful Soup is not an HTTP client. You should probably use an HTTP client to get the document behind the URL, and feed that document to Beautiful Soup.' % markup)\n"
     ]
    },
    {
     "name": "stdout",
     "output_type": "stream",
     "text": [
      "\n",
      "Review 350000 of 1569264\n",
      "Review 351000 of 1569264\n",
      "Review 352000 of 1569264\n",
      "Review 353000 of 1569264"
     ]
    },
    {
     "name": "stderr",
     "output_type": "stream",
     "text": [
      "/Users/erichsu/anaconda/lib/python2.7/site-packages/bs4/__init__.py:189: UserWarning: \"http://slice.seriouseats.com/archives/2009/12/i-finally-go-to-pizzeria-bianco-phoenix-arizona-az-amazing-pizza.html\" looks like a URL. Beautiful Soup is not an HTTP client. You should probably use an HTTP client to get the document behind the URL, and feed that document to Beautiful Soup.\n",
      "  '\"%s\" looks like a URL. Beautiful Soup is not an HTTP client. You should probably use an HTTP client to get the document behind the URL, and feed that document to Beautiful Soup.' % markup)\n",
      "/Users/erichsu/anaconda/lib/python2.7/site-packages/bs4/__init__.py:189: UserWarning: \"https://www.facebook.com/Foodiephile\" looks like a URL. Beautiful Soup is not an HTTP client. You should probably use an HTTP client to get the document behind the URL, and feed that document to Beautiful Soup.\n",
      "  '\"%s\" looks like a URL. Beautiful Soup is not an HTTP client. You should probably use an HTTP client to get the document behind the URL, and feed that document to Beautiful Soup.' % markup)\n"
     ]
    },
    {
     "name": "stdout",
     "output_type": "stream",
     "text": [
      "\n",
      "Review 354000 of 1569264"
     ]
    },
    {
     "name": "stderr",
     "output_type": "stream",
     "text": [
      "/Users/erichsu/anaconda/lib/python2.7/site-packages/bs4/__init__.py:189: UserWarning: \"http://stephangcalizona.wordpress.com/2013/01/06/lux/\" looks like a URL. Beautiful Soup is not an HTTP client. You should probably use an HTTP client to get the document behind the URL, and feed that document to Beautiful Soup.\n",
      "  '\"%s\" looks like a URL. Beautiful Soup is not an HTTP client. You should probably use an HTTP client to get the document behind the URL, and feed that document to Beautiful Soup.' % markup)\n",
      "/Users/erichsu/anaconda/lib/python2.7/site-packages/bs4/__init__.py:189: UserWarning: \"http://goldenphoenixrestaurant.com/\" looks like a URL. Beautiful Soup is not an HTTP client. You should probably use an HTTP client to get the document behind the URL, and feed that document to Beautiful Soup.\n",
      "  '\"%s\" looks like a URL. Beautiful Soup is not an HTTP client. You should probably use an HTTP client to get the document behind the URL, and feed that document to Beautiful Soup.' % markup)\n"
     ]
    },
    {
     "name": "stdout",
     "output_type": "stream",
     "text": [
      "\n",
      "Review 355000 of 1569264\n",
      "Review 356000 of 1569264"
     ]
    },
    {
     "name": "stderr",
     "output_type": "stream",
     "text": [
      "/Users/erichsu/anaconda/lib/python2.7/site-packages/bs4/__init__.py:189: UserWarning: \"http://www.losdosmolinosaz.net/\" looks like a URL. Beautiful Soup is not an HTTP client. You should probably use an HTTP client to get the document behind the URL, and feed that document to Beautiful Soup.\n",
      "  '\"%s\" looks like a URL. Beautiful Soup is not an HTTP client. You should probably use an HTTP client to get the document behind the URL, and feed that document to Beautiful Soup.' % markup)\n",
      "/Users/erichsu/anaconda/lib/python2.7/site-packages/bs4/__init__.py:189: UserWarning: \"http://images.yelp.com/photo?id=wLBceoTXLzxS020dnX_bnQ&s=l\" looks like a URL. Beautiful Soup is not an HTTP client. You should probably use an HTTP client to get the document behind the URL, and feed that document to Beautiful Soup.\n",
      "  '\"%s\" looks like a URL. Beautiful Soup is not an HTTP client. You should probably use an HTTP client to get the document behind the URL, and feed that document to Beautiful Soup.' % markup)\n"
     ]
    },
    {
     "name": "stdout",
     "output_type": "stream",
     "text": [
      "\n",
      "Review 357000 of 1569264"
     ]
    },
    {
     "name": "stderr",
     "output_type": "stream",
     "text": [
      "/Users/erichsu/anaconda/lib/python2.7/site-packages/bs4/__init__.py:189: UserWarning: \"http://m.youtube.com/watch?v=t6_m_WzKi9g\" looks like a URL. Beautiful Soup is not an HTTP client. You should probably use an HTTP client to get the document behind the URL, and feed that document to Beautiful Soup.\n",
      "  '\"%s\" looks like a URL. Beautiful Soup is not an HTTP client. You should probably use an HTTP client to get the document behind the URL, and feed that document to Beautiful Soup.' % markup)\n",
      "/Users/erichsu/anaconda/lib/python2.7/site-packages/bs4/__init__.py:189: UserWarning: \"http://what2eatz.blogspot.com/2011/12/lotus-of-siam.html\" looks like a URL. Beautiful Soup is not an HTTP client. You should probably use an HTTP client to get the document behind the URL, and feed that document to Beautiful Soup.\n",
      "  '\"%s\" looks like a URL. Beautiful Soup is not an HTTP client. You should probably use an HTTP client to get the document behind the URL, and feed that document to Beautiful Soup.' % markup)\n"
     ]
    },
    {
     "name": "stdout",
     "output_type": "stream",
     "text": [
      "\n",
      "Review 358000 of 1569264\n",
      "Review 359000 of 1569264\n",
      "Review 360000 of 1569264\n",
      "Review 361000 of 1569264\n",
      "Review 362000 of 1569264"
     ]
    },
    {
     "name": "stderr",
     "output_type": "stream",
     "text": [
      "/Users/erichsu/anaconda/lib/python2.7/site-packages/bs4/__init__.py:189: UserWarning: \"http://www.yelp.com/biz/lunchbox-laboratory-seattle\" looks like a URL. Beautiful Soup is not an HTTP client. You should probably use an HTTP client to get the document behind the URL, and feed that document to Beautiful Soup.\n",
      "  '\"%s\" looks like a URL. Beautiful Soup is not an HTTP client. You should probably use an HTTP client to get the document behind the URL, and feed that document to Beautiful Soup.' % markup)\n",
      "/Users/erichsu/anaconda/lib/python2.7/site-packages/bs4/__init__.py:189: UserWarning: \"http://youtube.com/watch?v=_qQX-jayixQ\" looks like a URL. Beautiful Soup is not an HTTP client. You should probably use an HTTP client to get the document behind the URL, and feed that document to Beautiful Soup.\n",
      "  '\"%s\" looks like a URL. Beautiful Soup is not an HTTP client. You should probably use an HTTP client to get the document behind the URL, and feed that document to Beautiful Soup.' % markup)\n",
      "/Users/erichsu/anaconda/lib/python2.7/site-packages/bs4/__init__.py:189: UserWarning: \"http://www.yelp.com/biz_photos/penn-and-teller-las-vegas?userid=hJverBH9YFe3lMzlqxexbA#p2nlM-Bf9MrIzofUSvBEqQ\" looks like a URL. Beautiful Soup is not an HTTP client. You should probably use an HTTP client to get the document behind the URL, and feed that document to Beautiful Soup.\n",
      "  '\"%s\" looks like a URL. Beautiful Soup is not an HTTP client. You should probably use an HTTP client to get the document behind the URL, and feed that document to Beautiful Soup.' % markup)\n",
      "/Users/erichsu/anaconda/lib/python2.7/site-packages/bs4/__init__.py:189: UserWarning: \"http://www.yelp.com/biz/penn-and-teller-las-vegas\" looks like a URL. Beautiful Soup is not an HTTP client. You should probably use an HTTP client to get the document behind the URL, and feed that document to Beautiful Soup.\n",
      "  '\"%s\" looks like a URL. Beautiful Soup is not an HTTP client. You should probably use an HTTP client to get the document behind the URL, and feed that document to Beautiful Soup.' % markup)\n"
     ]
    },
    {
     "name": "stdout",
     "output_type": "stream",
     "text": [
      "\n",
      "Review 363000 of 1569264\n",
      "Review 364000 of 1569264\n",
      "Review 365000 of 1569264"
     ]
    },
    {
     "name": "stderr",
     "output_type": "stream",
     "text": [
      "/Users/erichsu/anaconda/lib/python2.7/site-packages/bs4/__init__.py:189: UserWarning: \"http://faubulousinpittsburgh.blogspot.com/2014/03/not-now-ive-got-fat-head-ache.html\" looks like a URL. Beautiful Soup is not an HTTP client. You should probably use an HTTP client to get the document behind the URL, and feed that document to Beautiful Soup.\n",
      "  '\"%s\" looks like a URL. Beautiful Soup is not an HTTP client. You should probably use an HTTP client to get the document behind the URL, and feed that document to Beautiful Soup.' % markup)\n",
      "/Users/erichsu/anaconda/lib/python2.7/site-packages/bs4/__init__.py:189: UserWarning: \"http://mitchells.tv/\" looks like a URL. Beautiful Soup is not an HTTP client. You should probably use an HTTP client to get the document behind the URL, and feed that document to Beautiful Soup.\n",
      "  '\"%s\" looks like a URL. Beautiful Soup is not an HTTP client. You should probably use an HTTP client to get the document behind the URL, and feed that document to Beautiful Soup.' % markup)\n"
     ]
    },
    {
     "name": "stdout",
     "output_type": "stream",
     "text": [
      "\n",
      "Review 366000 of 1569264\n",
      "Review 367000 of 1569264\n",
      "Review 368000 of 1569264\n",
      "Review 369000 of 1569264\n",
      "Review 370000 of 1569264"
     ]
    },
    {
     "name": "stderr",
     "output_type": "stream",
     "text": [
      "/Users/erichsu/anaconda/lib/python2.7/site-packages/bs4/__init__.py:189: UserWarning: \"http://ziarecords.com/Home\" looks like a URL. Beautiful Soup is not an HTTP client. You should probably use an HTTP client to get the document behind the URL, and feed that document to Beautiful Soup.\n",
      "  '\"%s\" looks like a URL. Beautiful Soup is not an HTTP client. You should probably use an HTTP client to get the document behind the URL, and feed that document to Beautiful Soup.' % markup)\n",
      "/Users/erichsu/anaconda/lib/python2.7/site-packages/bs4/__init__.py:189: UserWarning: \"http://homepage.mac.com/az88/Site/Home.html\" looks like a URL. Beautiful Soup is not an HTTP client. You should probably use an HTTP client to get the document behind the URL, and feed that document to Beautiful Soup.\n",
      "  '\"%s\" looks like a URL. Beautiful Soup is not an HTTP client. You should probably use an HTTP client to get the document behind the URL, and feed that document to Beautiful Soup.' % markup)\n"
     ]
    },
    {
     "name": "stdout",
     "output_type": "stream",
     "text": [
      "\n",
      "Review 371000 of 1569264\n",
      "Review 372000 of 1569264"
     ]
    },
    {
     "name": "stderr",
     "output_type": "stream",
     "text": [
      "/Users/erichsu/anaconda/lib/python2.7/site-packages/bs4/__init__.py:189: UserWarning: \"http://foodie4ever.tumblr.com/\" looks like a URL. Beautiful Soup is not an HTTP client. You should probably use an HTTP client to get the document behind the URL, and feed that document to Beautiful Soup.\n",
      "  '\"%s\" looks like a URL. Beautiful Soup is not an HTTP client. You should probably use an HTTP client to get the document behind the URL, and feed that document to Beautiful Soup.' % markup)\n",
      "/Users/erichsu/anaconda/lib/python2.7/site-packages/bs4/__init__.py:189: UserWarning: \"http://www.youtube.com/watch?v=akXzFdeI6YA\" looks like a URL. Beautiful Soup is not an HTTP client. You should probably use an HTTP client to get the document behind the URL, and feed that document to Beautiful Soup.\n",
      "  '\"%s\" looks like a URL. Beautiful Soup is not an HTTP client. You should probably use an HTTP client to get the document behind the URL, and feed that document to Beautiful Soup.' % markup)\n"
     ]
    },
    {
     "name": "stdout",
     "output_type": "stream",
     "text": [
      "\n",
      "Review 373000 of 1569264\n",
      "Review 374000 of 1569264"
     ]
    },
    {
     "name": "stderr",
     "output_type": "stream",
     "text": [
      "/Users/erichsu/anaconda/lib/python2.7/site-packages/bs4/__init__.py:189: UserWarning: \"https://www.youtube.com/watch?v=whqgVUuIN9M\" looks like a URL. Beautiful Soup is not an HTTP client. You should probably use an HTTP client to get the document behind the URL, and feed that document to Beautiful Soup.\n",
      "  '\"%s\" looks like a URL. Beautiful Soup is not an HTTP client. You should probably use an HTTP client to get the document behind the URL, and feed that document to Beautiful Soup.' % markup)\n",
      "/Users/erichsu/anaconda/lib/python2.7/site-packages/bs4/__init__.py:189: UserWarning: \"http://www.coyoteuglysaloon.com/vegas/coyotes.html\" looks like a URL. Beautiful Soup is not an HTTP client. You should probably use an HTTP client to get the document behind the URL, and feed that document to Beautiful Soup.\n",
      "  '\"%s\" looks like a URL. Beautiful Soup is not an HTTP client. You should probably use an HTTP client to get the document behind the URL, and feed that document to Beautiful Soup.' % markup)\n"
     ]
    },
    {
     "name": "stdout",
     "output_type": "stream",
     "text": [
      "\n",
      "Review 375000 of 1569264\n",
      "Review 376000 of 1569264\n",
      "Review 377000 of 1569264\n",
      "Review 378000 of 1569264"
     ]
    },
    {
     "name": "stderr",
     "output_type": "stream",
     "text": [
      "/Users/erichsu/anaconda/lib/python2.7/site-packages/bs4/__init__.py:189: UserWarning: \"http://www.merchantcircle.com/business/Las.Vegas.Hilton.702-732-5301\" looks like a URL. Beautiful Soup is not an HTTP client. You should probably use an HTTP client to get the document behind the URL, and feed that document to Beautiful Soup.\n",
      "  '\"%s\" looks like a URL. Beautiful Soup is not an HTTP client. You should probably use an HTTP client to get the document behind the URL, and feed that document to Beautiful Soup.' % markup)\n",
      "/Users/erichsu/anaconda/lib/python2.7/site-packages/bs4/__init__.py:189: UserWarning: \"http://www.montecarlo.com/offers/2009/08_hotel32_guestbook/\" looks like a URL. Beautiful Soup is not an HTTP client. You should probably use an HTTP client to get the document behind the URL, and feed that document to Beautiful Soup.\n",
      "  '\"%s\" looks like a URL. Beautiful Soup is not an HTTP client. You should probably use an HTTP client to get the document behind the URL, and feed that document to Beautiful Soup.' % markup)\n"
     ]
    },
    {
     "name": "stdout",
     "output_type": "stream",
     "text": [
      "\n",
      "Review 379000 of 1569264\n",
      "Review 380000 of 1569264\n",
      "Review 381000 of 1569264\n",
      "Review 382000 of 1569264\n",
      "Review 383000 of 1569264\n",
      "Review 384000 of 1569264"
     ]
    },
    {
     "name": "stderr",
     "output_type": "stream",
     "text": [
      "/Users/erichsu/anaconda/lib/python2.7/site-packages/bs4/__init__.py:189: UserWarning: \"http://www.lvmonorail.com/\" looks like a URL. Beautiful Soup is not an HTTP client. You should probably use an HTTP client to get the document behind the URL, and feed that document to Beautiful Soup.\n",
      "  '\"%s\" looks like a URL. Beautiful Soup is not an HTTP client. You should probably use an HTTP client to get the document behind the URL, and feed that document to Beautiful Soup.' % markup)\n",
      "/Users/erichsu/anaconda/lib/python2.7/site-packages/bs4/__init__.py:189: UserWarning: \"http://www.yelp.com/biz/badda-bing-las-vegas#hrid:vQ06lAyg8UIM3ZN0EDy_GQ\" looks like a URL. Beautiful Soup is not an HTTP client. You should probably use an HTTP client to get the document behind the URL, and feed that document to Beautiful Soup.\n",
      "  '\"%s\" looks like a URL. Beautiful Soup is not an HTTP client. You should probably use an HTTP client to get the document behind the URL, and feed that document to Beautiful Soup.' % markup)\n"
     ]
    },
    {
     "name": "stdout",
     "output_type": "stream",
     "text": [
      "\n",
      "Review 385000 of 1569264\n",
      "Review 386000 of 1569264"
     ]
    },
    {
     "name": "stderr",
     "output_type": "stream",
     "text": [
      "/Users/erichsu/anaconda/lib/python2.7/site-packages/bs4/__init__.py:189: UserWarning: \"http://www.mgmgrand.com/nightlife/centrifuge-bar.aspx\" looks like a URL. Beautiful Soup is not an HTTP client. You should probably use an HTTP client to get the document behind the URL, and feed that document to Beautiful Soup.\n",
      "  '\"%s\" looks like a URL. Beautiful Soup is not an HTTP client. You should probably use an HTTP client to get the document behind the URL, and feed that document to Beautiful Soup.' % markup)\n",
      "/Users/erichsu/anaconda/lib/python2.7/site-packages/bs4/__init__.py:189: UserWarning: \"http://www.sellmytimesharenow.com/timeshare/Jockey+Club/resort/buy-timeshare/#2\" looks like a URL. Beautiful Soup is not an HTTP client. You should probably use an HTTP client to get the document behind the URL, and feed that document to Beautiful Soup.\n",
      "  '\"%s\" looks like a URL. Beautiful Soup is not an HTTP client. You should probably use an HTTP client to get the document behind the URL, and feed that document to Beautiful Soup.' % markup)\n"
     ]
    },
    {
     "name": "stdout",
     "output_type": "stream",
     "text": [
      "\n",
      "Review 387000 of 1569264\n",
      "Review 388000 of 1569264\n",
      "Review 389000 of 1569264\n",
      "Review 390000 of 1569264\n",
      "Review 391000 of 1569264\n",
      "Review 392000 of 1569264\n",
      "Review 393000 of 1569264\n",
      "Review 394000 of 1569264"
     ]
    },
    {
     "name": "stderr",
     "output_type": "stream",
     "text": [
      "/Users/erichsu/anaconda/lib/python2.7/site-packages/bs4/__init__.py:189: UserWarning: \"http://www.yelp.com/user_local_photos?select=z3izxU7Eckk67LFAP1pTVg&userid=S8lmPHaZK1RoSc5gtaZtWw\" looks like a URL. Beautiful Soup is not an HTTP client. You should probably use an HTTP client to get the document behind the URL, and feed that document to Beautiful Soup.\n",
      "  '\"%s\" looks like a URL. Beautiful Soup is not an HTTP client. You should probably use an HTTP client to get the document behind the URL, and feed that document to Beautiful Soup.' % markup)\n",
      "/Users/erichsu/anaconda/lib/python2.7/site-packages/bs4/__init__.py:189: UserWarning: \"http://www.hilton.com/en/hi/hotels/index.jhtml?ctyhocn=LASFLGV\" looks like a URL. Beautiful Soup is not an HTTP client. You should probably use an HTTP client to get the document behind the URL, and feed that document to Beautiful Soup.\n",
      "  '\"%s\" looks like a URL. Beautiful Soup is not an HTTP client. You should probably use an HTTP client to get the document behind the URL, and feed that document to Beautiful Soup.' % markup)\n"
     ]
    },
    {
     "name": "stdout",
     "output_type": "stream",
     "text": [
      "\n",
      "Review 395000 of 1569264\n",
      "Review 396000 of 1569264\n",
      "Review 397000 of 1569264\n",
      "Review 398000 of 1569264\n",
      "Review 399000 of 1569264"
     ]
    },
    {
     "name": "stderr",
     "output_type": "stream",
     "text": [
      "/Users/erichsu/anaconda/lib/python2.7/site-packages/bs4/__init__.py:189: UserWarning: \"http://www.youtube.com/watch?v=KG7CzQk5MeM\" looks like a URL. Beautiful Soup is not an HTTP client. You should probably use an HTTP client to get the document behind the URL, and feed that document to Beautiful Soup.\n",
      "  '\"%s\" looks like a URL. Beautiful Soup is not an HTTP client. You should probably use an HTTP client to get the document behind the URL, and feed that document to Beautiful Soup.' % markup)\n",
      "/Users/erichsu/anaconda/lib/python2.7/site-packages/bs4/__init__.py:189: UserWarning: \"http://www.mandalaybay.com/features-and-shopping/concierge/.\" looks like a URL. Beautiful Soup is not an HTTP client. You should probably use an HTTP client to get the document behind the URL, and feed that document to Beautiful Soup.\n",
      "  '\"%s\" looks like a URL. Beautiful Soup is not an HTTP client. You should probably use an HTTP client to get the document behind the URL, and feed that document to Beautiful Soup.' % markup)\n"
     ]
    },
    {
     "name": "stdout",
     "output_type": "stream",
     "text": [
      "\n",
      "Review 400000 of 1569264\n",
      "Review 401000 of 1569264\n",
      "Review 402000 of 1569264\n",
      "Review 403000 of 1569264\n",
      "Review 404000 of 1569264\n",
      "Review 405000 of 1569264\n",
      "Review 406000 of 1569264\n",
      "Review 407000 of 1569264"
     ]
    },
    {
     "name": "stderr",
     "output_type": "stream",
     "text": [
      "/Users/erichsu/anaconda/lib/python2.7/site-packages/bs4/__init__.py:189: UserWarning: \"http://www.boston.com/Boston/businessupdates/2012/05/boston-officials-say-chef-todd-english-left-his-closed-faneuil-hall-restaurant-shambles/4NgD7C8aIfP6BRZcqyF9gM/story.html?p1=News_links\" looks like a URL. Beautiful Soup is not an HTTP client. You should probably use an HTTP client to get the document behind the URL, and feed that document to Beautiful Soup.\n",
      "  '\"%s\" looks like a URL. Beautiful Soup is not an HTTP client. You should probably use an HTTP client to get the document behind the URL, and feed that document to Beautiful Soup.' % markup)\n",
      "/Users/erichsu/anaconda/lib/python2.7/site-packages/bs4/__init__.py:189: UserWarning: \"http://www.yelp.com/biz_photos/BCAw9a_kyx2RddRH9tMmKQ?select=PFSFpAUNnnkEWOK7xpGDDg#6vE7WYKbZh-08oDTqs0lUA\n",
      "http://www.yelp.com/biz_photos/BCAw9a_kyx2RddRH9tMmKQ?select=PFSFpAUNnnkEWOK7xpGDDg#oLd6a_s2MkgnrIvfz6HN_w\" looks like a URL. Beautiful Soup is not an HTTP client. You should probably use an HTTP client to get the document behind the URL, and feed that document to Beautiful Soup.\n",
      "  '\"%s\" looks like a URL. Beautiful Soup is not an HTTP client. You should probably use an HTTP client to get the document behind the URL, and feed that document to Beautiful Soup.' % markup)\n"
     ]
    },
    {
     "name": "stdout",
     "output_type": "stream",
     "text": [
      "\n",
      "Review 408000 of 1569264\n",
      "Review 409000 of 1569264\n",
      "Review 410000 of 1569264\n",
      "Review 411000 of 1569264"
     ]
    },
    {
     "name": "stderr",
     "output_type": "stream",
     "text": [
      "/Users/erichsu/anaconda/lib/python2.7/site-packages/bs4/__init__.py:189: UserWarning: \"http://www.mgmgrand.com/pages_html/dining_shibuya.asp\" looks like a URL. Beautiful Soup is not an HTTP client. You should probably use an HTTP client to get the document behind the URL, and feed that document to Beautiful Soup.\n",
      "  '\"%s\" looks like a URL. Beautiful Soup is not an HTTP client. You should probably use an HTTP client to get the document behind the URL, and feed that document to Beautiful Soup.' % markup)\n",
      "/Users/erichsu/anaconda/lib/python2.7/site-packages/bs4/__init__.py:189: UserWarning: \"http://www.fathersoffice.com/html/fathersOffice.html\" looks like a URL. Beautiful Soup is not an HTTP client. You should probably use an HTTP client to get the document behind the URL, and feed that document to Beautiful Soup.\n",
      "  '\"%s\" looks like a URL. Beautiful Soup is not an HTTP client. You should probably use an HTTP client to get the document behind the URL, and feed that document to Beautiful Soup.' % markup)\n"
     ]
    },
    {
     "name": "stdout",
     "output_type": "stream",
     "text": [
      "\n",
      "Review 412000 of 1569264\n",
      "Review 413000 of 1569264"
     ]
    },
    {
     "name": "stderr",
     "output_type": "stream",
     "text": [
      "/Users/erichsu/anaconda/lib/python2.7/site-packages/bs4/__init__.py:189: UserWarning: \"http://www.yelp.com/biz_photos/chino-bandido-phoenix-3?select=CZvfsuGP_dza-9TYOodNeQ#YGQIUUDXXMh1CUc1MSolVQ\" looks like a URL. Beautiful Soup is not an HTTP client. You should probably use an HTTP client to get the document behind the URL, and feed that document to Beautiful Soup.\n",
      "  '\"%s\" looks like a URL. Beautiful Soup is not an HTTP client. You should probably use an HTTP client to get the document behind the URL, and feed that document to Beautiful Soup.' % markup)\n",
      "/Users/erichsu/anaconda/lib/python2.7/site-packages/bs4/__init__.py:189: UserWarning: \"http://www.bellagio.com/restaurants/the-buffet.aspx\" looks like a URL. Beautiful Soup is not an HTTP client. You should probably use an HTTP client to get the document behind the URL, and feed that document to Beautiful Soup.\n",
      "  '\"%s\" looks like a URL. Beautiful Soup is not an HTTP client. You should probably use an HTTP client to get the document behind the URL, and feed that document to Beautiful Soup.' % markup)\n"
     ]
    },
    {
     "name": "stdout",
     "output_type": "stream",
     "text": [
      "\n",
      "Review 414000 of 1569264\n",
      "Review 415000 of 1569264"
     ]
    },
    {
     "name": "stderr",
     "output_type": "stream",
     "text": [
      "/Users/erichsu/anaconda/lib/python2.7/site-packages/bs4/__init__.py:189: UserWarning: \"https://www.youtube.com/watch?v=aeixPh5mCI8\" looks like a URL. Beautiful Soup is not an HTTP client. You should probably use an HTTP client to get the document behind the URL, and feed that document to Beautiful Soup.\n",
      "  '\"%s\" looks like a URL. Beautiful Soup is not an HTTP client. You should probably use an HTTP client to get the document behind the URL, and feed that document to Beautiful Soup.' % markup)\n",
      "/Users/erichsu/anaconda/lib/python2.7/site-packages/bs4/__init__.py:189: UserWarning: \"http://www.caesars.com/buffets/faq.html\" looks like a URL. Beautiful Soup is not an HTTP client. You should probably use an HTTP client to get the document behind the URL, and feed that document to Beautiful Soup.\n",
      "  '\"%s\" looks like a URL. Beautiful Soup is not an HTTP client. You should probably use an HTTP client to get the document behind the URL, and feed that document to Beautiful Soup.' % markup)\n"
     ]
    },
    {
     "name": "stdout",
     "output_type": "stream",
     "text": [
      "\n",
      "Review 416000 of 1569264\n",
      "Review 417000 of 1569264\n",
      "Review 418000 of 1569264\n",
      "Review 419000 of 1569264"
     ]
    },
    {
     "name": "stderr",
     "output_type": "stream",
     "text": [
      "/Users/erichsu/anaconda/lib/python2.7/site-packages/bs4/__init__.py:189: UserWarning: \"http://www.getnmahbelly.com/2012/03/the-old-fashioned-big-wisconsin-flavor/\" looks like a URL. Beautiful Soup is not an HTTP client. You should probably use an HTTP client to get the document behind the URL, and feed that document to Beautiful Soup.\n",
      "  '\"%s\" looks like a URL. Beautiful Soup is not an HTTP client. You should probably use an HTTP client to get the document behind the URL, and feed that document to Beautiful Soup.' % markup)\n",
      "/Users/erichsu/anaconda/lib/python2.7/site-packages/bs4/__init__.py:189: UserWarning: \"http:///www.VegasHotelBedding.com\" looks like a URL. Beautiful Soup is not an HTTP client. You should probably use an HTTP client to get the document behind the URL, and feed that document to Beautiful Soup.\n",
      "  '\"%s\" looks like a URL. Beautiful Soup is not an HTTP client. You should probably use an HTTP client to get the document behind the URL, and feed that document to Beautiful Soup.' % markup)\n"
     ]
    },
    {
     "name": "stdout",
     "output_type": "stream",
     "text": [
      "\n",
      "Review 420000 of 1569264\n",
      "Review 421000 of 1569264\n",
      "Review 422000 of 1569264\n",
      "Review 423000 of 1569264\n",
      "Review 424000 of 1569264\n",
      "Review 425000 of 1569264\n",
      "Review 426000 of 1569264\n",
      "Review 427000 of 1569264\n",
      "Review 428000 of 1569264\n",
      "Review 429000 of 1569264\n",
      "Review 430000 of 1569264"
     ]
    },
    {
     "name": "stderr",
     "output_type": "stream",
     "text": [
      "/Users/erichsu/anaconda/lib/python2.7/site-packages/bs4/__init__.py:189: UserWarning: \"http://www.venetian.com/grand-lux-cafe-venetian.html\" looks like a URL. Beautiful Soup is not an HTTP client. You should probably use an HTTP client to get the document behind the URL, and feed that document to Beautiful Soup.\n",
      "  '\"%s\" looks like a URL. Beautiful Soup is not an HTTP client. You should probably use an HTTP client to get the document behind the URL, and feed that document to Beautiful Soup.' % markup)\n",
      "/Users/erichsu/anaconda/lib/python2.7/site-packages/bs4/__init__.py:189: UserWarning: \"http://youtu.be/KY44zvhWhp4\" looks like a URL. Beautiful Soup is not an HTTP client. You should probably use an HTTP client to get the document behind the URL, and feed that document to Beautiful Soup.\n",
      "  '\"%s\" looks like a URL. Beautiful Soup is not an HTTP client. You should probably use an HTTP client to get the document behind the URL, and feed that document to Beautiful Soup.' % markup)\n"
     ]
    },
    {
     "name": "stdout",
     "output_type": "stream",
     "text": [
      "\n",
      "Review 431000 of 1569264\n",
      "Review 432000 of 1569264"
     ]
    },
    {
     "name": "stderr",
     "output_type": "stream",
     "text": [
      "/Users/erichsu/anaconda/lib/python2.7/site-packages/bs4/__init__.py:189: UserWarning: \"http://www.vegaschatter.com/story/2010/2/4/16133/96259/vegas-travel/Cafe_Ba_Ba_Reeba_To_Close_on_February_15\" looks like a URL. Beautiful Soup is not an HTTP client. You should probably use an HTTP client to get the document behind the URL, and feed that document to Beautiful Soup.\n",
      "  '\"%s\" looks like a URL. Beautiful Soup is not an HTTP client. You should probably use an HTTP client to get the document behind the URL, and feed that document to Beautiful Soup.' % markup)\n",
      "/Users/erichsu/anaconda/lib/python2.7/site-packages/bs4/__init__.py:189: UserWarning: \"http://www.fuistetravels.com/mountains/camelbackmountain\" looks like a URL. Beautiful Soup is not an HTTP client. You should probably use an HTTP client to get the document behind the URL, and feed that document to Beautiful Soup.\n",
      "  '\"%s\" looks like a URL. Beautiful Soup is not an HTTP client. You should probably use an HTTP client to get the document behind the URL, and feed that document to Beautiful Soup.' % markup)\n"
     ]
    },
    {
     "name": "stdout",
     "output_type": "stream",
     "text": [
      "\n",
      "Review 433000 of 1569264\n",
      "Review 434000 of 1569264"
     ]
    },
    {
     "name": "stderr",
     "output_type": "stream",
     "text": [
      "/Users/erichsu/anaconda/lib/python2.7/site-packages/bs4/__init__.py:189: UserWarning: \"http://www.yelp.com/biz_photos/9a3DrZvpYxVs3k_qwlCNSw?select=pxm0cOIoLBj5CGjYAvw8Lw\n",
      "http://www.yelp.com/biz_photos/9a3DrZvpYxVs3k_qwlCNSw?select=hd-s0jAenKqoNg-hUqnPMQ\n",
      "http://www.yelp.com/biz_photos/9a3DrZvpYxVs3k_qwlCNSw?select=z63anYfNP879CV749HlyNg\" looks like a URL. Beautiful Soup is not an HTTP client. You should probably use an HTTP client to get the document behind the URL, and feed that document to Beautiful Soup.\n",
      "  '\"%s\" looks like a URL. Beautiful Soup is not an HTTP client. You should probably use an HTTP client to get the document behind the URL, and feed that document to Beautiful Soup.' % markup)\n",
      "/Users/erichsu/anaconda/lib/python2.7/site-packages/bs4/__init__.py:189: UserWarning: \"http://www.azpbs.org/checkplease/.\" looks like a URL. Beautiful Soup is not an HTTP client. You should probably use an HTTP client to get the document behind the URL, and feed that document to Beautiful Soup.\n",
      "  '\"%s\" looks like a URL. Beautiful Soup is not an HTTP client. You should probably use an HTTP client to get the document behind the URL, and feed that document to Beautiful Soup.' % markup)\n"
     ]
    },
    {
     "name": "stdout",
     "output_type": "stream",
     "text": [
      "\n",
      "Review 435000 of 1569264\n",
      "Review 436000 of 1569264\n",
      "Review 437000 of 1569264\n",
      "Review 438000 of 1569264"
     ]
    },
    {
     "name": "stderr",
     "output_type": "stream",
     "text": [
      "/Users/erichsu/anaconda/lib/python2.7/site-packages/bs4/__init__.py:189: UserWarning: \"http://www.southernnevadahealthdistrict.org/foodborne/fbi-form.php.\" looks like a URL. Beautiful Soup is not an HTTP client. You should probably use an HTTP client to get the document behind the URL, and feed that document to Beautiful Soup.\n",
      "  '\"%s\" looks like a URL. Beautiful Soup is not an HTTP client. You should probably use an HTTP client to get the document behind the URL, and feed that document to Beautiful Soup.' % markup)\n",
      "/Users/erichsu/anaconda/lib/python2.7/site-packages/bs4/__init__.py:189: UserWarning: \"http://lagamio.com/2014/04/25/pinball-hall-of-fame/\" looks like a URL. Beautiful Soup is not an HTTP client. You should probably use an HTTP client to get the document behind the URL, and feed that document to Beautiful Soup.\n",
      "  '\"%s\" looks like a URL. Beautiful Soup is not an HTTP client. You should probably use an HTTP client to get the document behind the URL, and feed that document to Beautiful Soup.' % markup)\n"
     ]
    },
    {
     "name": "stdout",
     "output_type": "stream",
     "text": [
      "\n",
      "Review 439000 of 1569264\n",
      "Review 440000 of 1569264\n",
      "Review 441000 of 1569264\n",
      "Review 442000 of 1569264\n",
      "Review 443000 of 1569264\n",
      "Review 444000 of 1569264"
     ]
    },
    {
     "name": "stderr",
     "output_type": "stream",
     "text": [
      "/Users/erichsu/anaconda/lib/python2.7/site-packages/bs4/__init__.py:189: UserWarning: \"http://www.danielnyc.com/dbbrasserie/_pdf/menu.pdf\" looks like a URL. Beautiful Soup is not an HTTP client. You should probably use an HTTP client to get the document behind the URL, and feed that document to Beautiful Soup.\n",
      "  '\"%s\" looks like a URL. Beautiful Soup is not an HTTP client. You should probably use an HTTP client to get the document behind the URL, and feed that document to Beautiful Soup.' % markup)\n",
      "/Users/erichsu/anaconda/lib/python2.7/site-packages/bs4/__init__.py:189: UserWarning: \"http://static.px.yelp.com/photo/dhGM6FCdeISuYQOMrFdvyQ/l\n",
      "\n",
      "wow.\" looks like a URL. Beautiful Soup is not an HTTP client. You should probably use an HTTP client to get the document behind the URL, and feed that document to Beautiful Soup.\n",
      "  '\"%s\" looks like a URL. Beautiful Soup is not an HTTP client. You should probably use an HTTP client to get the document behind the URL, and feed that document to Beautiful Soup.' % markup)\n"
     ]
    },
    {
     "name": "stdout",
     "output_type": "stream",
     "text": [
      "\n",
      "Review 445000 of 1569264\n",
      "Review 446000 of 1569264\n",
      "Review 447000 of 1569264"
     ]
    },
    {
     "name": "stderr",
     "output_type": "stream",
     "text": [
      "/Users/erichsu/anaconda/lib/python2.7/site-packages/bs4/__init__.py:189: UserWarning: \"http://www.jrn.com/ktnv/news/dirty-dining/Dirty-Dining-Asian-Buffet-and-Ra-Sushi-269299381.html?lc=Smart\" looks like a URL. Beautiful Soup is not an HTTP client. You should probably use an HTTP client to get the document behind the URL, and feed that document to Beautiful Soup.\n",
      "  '\"%s\" looks like a URL. Beautiful Soup is not an HTTP client. You should probably use an HTTP client to get the document behind the URL, and feed that document to Beautiful Soup.' % markup)\n",
      "/Users/erichsu/anaconda/lib/python2.7/site-packages/bs4/__init__.py:189: UserWarning: \"http://blog.tinou.com/2007/08/pinot-brasserie.html\" looks like a URL. Beautiful Soup is not an HTTP client. You should probably use an HTTP client to get the document behind the URL, and feed that document to Beautiful Soup.\n",
      "  '\"%s\" looks like a URL. Beautiful Soup is not an HTTP client. You should probably use an HTTP client to get the document behind the URL, and feed that document to Beautiful Soup.' % markup)\n"
     ]
    },
    {
     "name": "stdout",
     "output_type": "stream",
     "text": [
      "\n",
      "Review 448000 of 1569264\n",
      "Review 449000 of 1569264\n",
      "Review 450000 of 1569264\n",
      "Review 451000 of 1569264\n",
      "Review 452000 of 1569264\n",
      "Review 453000 of 1569264\n",
      "Review 454000 of 1569264\n",
      "Review 455000 of 1569264\n",
      "Review 456000 of 1569264\n",
      "Review 457000 of 1569264\n",
      "Review 458000 of 1569264"
     ]
    },
    {
     "name": "stderr",
     "output_type": "stream",
     "text": [
      "/Users/erichsu/anaconda/lib/python2.7/site-packages/bs4/__init__.py:189: UserWarning: \"http://www.change.org/petitions/city-of-scottsdale-az-relocate-and-continue-greasewood-flat\" looks like a URL. Beautiful Soup is not an HTTP client. You should probably use an HTTP client to get the document behind the URL, and feed that document to Beautiful Soup.\n",
      "  '\"%s\" looks like a URL. Beautiful Soup is not an HTTP client. You should probably use an HTTP client to get the document behind the URL, and feed that document to Beautiful Soup.' % markup)\n",
      "/Users/erichsu/anaconda/lib/python2.7/site-packages/bs4/__init__.py:189: UserWarning: \"http://www.azcentral.com/thingstodo/dining/articles/2011/07/25/20110725phoenix-dim-sum.html\" looks like a URL. Beautiful Soup is not an HTTP client. You should probably use an HTTP client to get the document behind the URL, and feed that document to Beautiful Soup.\n",
      "  '\"%s\" looks like a URL. Beautiful Soup is not an HTTP client. You should probably use an HTTP client to get the document behind the URL, and feed that document to Beautiful Soup.' % markup)\n"
     ]
    },
    {
     "name": "stdout",
     "output_type": "stream",
     "text": [
      "\n",
      "Review 459000 of 1569264\n",
      "Review 460000 of 1569264"
     ]
    },
    {
     "name": "stderr",
     "output_type": "stream",
     "text": [
      "/Users/erichsu/anaconda/lib/python2.7/site-packages/bs4/__init__.py:189: UserWarning: \"http://eatmoyfood.blogspot.com/\" looks like a URL. Beautiful Soup is not an HTTP client. You should probably use an HTTP client to get the document behind the URL, and feed that document to Beautiful Soup.\n",
      "  '\"%s\" looks like a URL. Beautiful Soup is not an HTTP client. You should probably use an HTTP client to get the document behind the URL, and feed that document to Beautiful Soup.' % markup)\n",
      "/Users/erichsu/anaconda/lib/python2.7/site-packages/bs4/__init__.py:189: UserWarning: \"http://static.px.yelp.com/bphoto/PDHYAGQZWMidFH8zs-CkEw/l\" looks like a URL. Beautiful Soup is not an HTTP client. You should probably use an HTTP client to get the document behind the URL, and feed that document to Beautiful Soup.\n",
      "  '\"%s\" looks like a URL. Beautiful Soup is not an HTTP client. You should probably use an HTTP client to get the document behind the URL, and feed that document to Beautiful Soup.' % markup)\n"
     ]
    },
    {
     "name": "stdout",
     "output_type": "stream",
     "text": [
      "\n",
      "Review 461000 of 1569264\n",
      "Review 462000 of 1569264\n",
      "Review 463000 of 1569264"
     ]
    },
    {
     "name": "stderr",
     "output_type": "stream",
     "text": [
      "/Users/erichsu/anaconda/lib/python2.7/site-packages/bs4/__init__.py:189: UserWarning: \"http://www.palms.com/dining/las-vegas-fortunes/\" looks like a URL. Beautiful Soup is not an HTTP client. You should probably use an HTTP client to get the document behind the URL, and feed that document to Beautiful Soup.\n",
      "  '\"%s\" looks like a URL. Beautiful Soup is not an HTTP client. You should probably use an HTTP client to get the document behind the URL, and feed that document to Beautiful Soup.' % markup)\n",
      "/Users/erichsu/anaconda/lib/python2.7/site-packages/bs4/__init__.py:189: UserWarning: \"http://thecigarlounger.com\" looks like a URL. Beautiful Soup is not an HTTP client. You should probably use an HTTP client to get the document behind the URL, and feed that document to Beautiful Soup.\n",
      "  '\"%s\" looks like a URL. Beautiful Soup is not an HTTP client. You should probably use an HTTP client to get the document behind the URL, and feed that document to Beautiful Soup.' % markup)\n"
     ]
    },
    {
     "name": "stdout",
     "output_type": "stream",
     "text": [
      "\n",
      "Review 464000 of 1569264\n",
      "Review 465000 of 1569264\n",
      "Review 466000 of 1569264\n",
      "Review 467000 of 1569264\n",
      "Review 468000 of 1569264"
     ]
    },
    {
     "name": "stderr",
     "output_type": "stream",
     "text": [
      "/Users/erichsu/anaconda/lib/python2.7/site-packages/bs4/__init__.py:189: UserWarning: \"http://www.youtube.com/watch?v=DIQjrcw2SaE\" looks like a URL. Beautiful Soup is not an HTTP client. You should probably use an HTTP client to get the document behind the URL, and feed that document to Beautiful Soup.\n",
      "  '\"%s\" looks like a URL. Beautiful Soup is not an HTTP client. You should probably use an HTTP client to get the document behind the URL, and feed that document to Beautiful Soup.' % markup)\n",
      "/Users/erichsu/anaconda/lib/python2.7/site-packages/bs4/__init__.py:189: UserWarning: \"http://www.yelp.com/biz_photos/shark-reef-aquarium-las-vegas?select=QyKnZiAkjtu3KMioiuaieQ#QyKnZiAkjtu3KMioiuaieQ\" looks like a URL. Beautiful Soup is not an HTTP client. You should probably use an HTTP client to get the document behind the URL, and feed that document to Beautiful Soup.\n",
      "  '\"%s\" looks like a URL. Beautiful Soup is not an HTTP client. You should probably use an HTTP client to get the document behind the URL, and feed that document to Beautiful Soup.' % markup)\n"
     ]
    },
    {
     "name": "stdout",
     "output_type": "stream",
     "text": [
      "\n",
      "Review 469000 of 1569264"
     ]
    },
    {
     "name": "stderr",
     "output_type": "stream",
     "text": [
      "/Users/erichsu/anaconda/lib/python2.7/site-packages/bs4/__init__.py:189: UserWarning: \"http://www.youtube.com/watch?v=SMWi7CLoZ2Q\" looks like a URL. Beautiful Soup is not an HTTP client. You should probably use an HTTP client to get the document behind the URL, and feed that document to Beautiful Soup.\n",
      "  '\"%s\" looks like a URL. Beautiful Soup is not an HTTP client. You should probably use an HTTP client to get the document behind the URL, and feed that document to Beautiful Soup.' % markup)\n",
      "/Users/erichsu/anaconda/lib/python2.7/site-packages/bs4/__init__.py:189: UserWarning: \"http://www.imdb.com/title/tt1532503/\" looks like a URL. Beautiful Soup is not an HTTP client. You should probably use an HTTP client to get the document behind the URL, and feed that document to Beautiful Soup.\n",
      "  '\"%s\" looks like a URL. Beautiful Soup is not an HTTP client. You should probably use an HTTP client to get the document behind the URL, and feed that document to Beautiful Soup.' % markup)\n"
     ]
    },
    {
     "name": "stdout",
     "output_type": "stream",
     "text": [
      "\n",
      "Review 470000 of 1569264\n",
      "Review 471000 of 1569264"
     ]
    },
    {
     "name": "stderr",
     "output_type": "stream",
     "text": [
      "/Users/erichsu/anaconda/lib/python2.7/site-packages/bs4/__init__.py:189: UserWarning: \"http://www.eggandi.com/\" looks like a URL. Beautiful Soup is not an HTTP client. You should probably use an HTTP client to get the document behind the URL, and feed that document to Beautiful Soup.\n",
      "  '\"%s\" looks like a URL. Beautiful Soup is not an HTTP client. You should probably use an HTTP client to get the document behind the URL, and feed that document to Beautiful Soup.' % markup)\n",
      "/Users/erichsu/anaconda/lib/python2.7/site-packages/bs4/__init__.py:189: UserWarning: \"http://www.yelp.com/biz_photos/edens-grill-inn-phoenix?select=6RVy7cQMG8RVosc6PvM3fQ#6RVy7cQMG8RVosc6PvM3fQ\" looks like a URL. Beautiful Soup is not an HTTP client. You should probably use an HTTP client to get the document behind the URL, and feed that document to Beautiful Soup.\n",
      "  '\"%s\" looks like a URL. Beautiful Soup is not an HTTP client. You should probably use an HTTP client to get the document behind the URL, and feed that document to Beautiful Soup.' % markup)\n"
     ]
    },
    {
     "name": "stdout",
     "output_type": "stream",
     "text": [
      "\n",
      "Review 472000 of 1569264\n",
      "Review 473000 of 1569264\n",
      "Review 474000 of 1569264"
     ]
    },
    {
     "name": "stderr",
     "output_type": "stream",
     "text": [
      "/Users/erichsu/anaconda/lib/python2.7/site-packages/bs4/__init__.py:189: UserWarning: \"http://www.youtube.com/watch?v=df0BXSnBr1Q&feature=related\" looks like a URL. Beautiful Soup is not an HTTP client. You should probably use an HTTP client to get the document behind the URL, and feed that document to Beautiful Soup.\n",
      "  '\"%s\" looks like a URL. Beautiful Soup is not an HTTP client. You should probably use an HTTP client to get the document behind the URL, and feed that document to Beautiful Soup.' % markup)\n",
      "/Users/erichsu/anaconda/lib/python2.7/site-packages/bs4/__init__.py:189: UserWarning: \"http://thedealfanatic.com\" looks like a URL. Beautiful Soup is not an HTTP client. You should probably use an HTTP client to get the document behind the URL, and feed that document to Beautiful Soup.\n",
      "  '\"%s\" looks like a URL. Beautiful Soup is not an HTTP client. You should probably use an HTTP client to get the document behind the URL, and feed that document to Beautiful Soup.' % markup)\n"
     ]
    },
    {
     "name": "stdout",
     "output_type": "stream",
     "text": [
      "\n",
      "Review 475000 of 1569264\n",
      "Review 476000 of 1569264\n",
      "Review 477000 of 1569264\n",
      "Review 478000 of 1569264\n",
      "Review 479000 of 1569264\n",
      "Review 480000 of 1569264"
     ]
    },
    {
     "name": "stderr",
     "output_type": "stream",
     "text": [
      "/Users/erichsu/anaconda/lib/python2.7/site-packages/bs4/__init__.py:189: UserWarning: \"http://www.bellagio.com/files/restaurants/menu-sensi-tasting.pdf\n",
      "\n",
      "Eh.\" looks like a URL. Beautiful Soup is not an HTTP client. You should probably use an HTTP client to get the document behind the URL, and feed that document to Beautiful Soup.\n",
      "  '\"%s\" looks like a URL. Beautiful Soup is not an HTTP client. You should probably use an HTTP client to get the document behind the URL, and feed that document to Beautiful Soup.' % markup)\n",
      "/Users/erichsu/anaconda/lib/python2.7/site-packages/bs4/__init__.py:189: UserWarning: \"http://simplygluttonous.blogspot.ca/2013/08/social-house-crystals-las-vegas.html\" looks like a URL. Beautiful Soup is not an HTTP client. You should probably use an HTTP client to get the document behind the URL, and feed that document to Beautiful Soup.\n",
      "  '\"%s\" looks like a URL. Beautiful Soup is not an HTTP client. You should probably use an HTTP client to get the document behind the URL, and feed that document to Beautiful Soup.' % markup)\n"
     ]
    },
    {
     "name": "stdout",
     "output_type": "stream",
     "text": [
      "\n",
      "Review 481000 of 1569264\n",
      "Review 482000 of 1569264"
     ]
    },
    {
     "name": "stderr",
     "output_type": "stream",
     "text": [
      "/Users/erichsu/anaconda/lib/python2.7/site-packages/bs4/__init__.py:189: UserWarning: \"http://www.mandalatearoom.com/choose_organic.html\n",
      "\n",
      "Delicious!\" looks like a URL. Beautiful Soup is not an HTTP client. You should probably use an HTTP client to get the document behind the URL, and feed that document to Beautiful Soup.\n",
      "  '\"%s\" looks like a URL. Beautiful Soup is not an HTTP client. You should probably use an HTTP client to get the document behind the URL, and feed that document to Beautiful Soup.' % markup)\n",
      "/Users/erichsu/anaconda/lib/python2.7/site-packages/bs4/__init__.py:189: UserWarning: \"http://phxbootcamp.com/site/index.php\" looks like a URL. Beautiful Soup is not an HTTP client. You should probably use an HTTP client to get the document behind the URL, and feed that document to Beautiful Soup.\n",
      "  '\"%s\" looks like a URL. Beautiful Soup is not an HTTP client. You should probably use an HTTP client to get the document behind the URL, and feed that document to Beautiful Soup.' % markup)\n"
     ]
    },
    {
     "name": "stdout",
     "output_type": "stream",
     "text": [
      "\n",
      "Review 483000 of 1569264\n",
      "Review 484000 of 1569264"
     ]
    },
    {
     "name": "stderr",
     "output_type": "stream",
     "text": [
      "/Users/erichsu/anaconda/lib/python2.7/site-packages/bs4/__init__.py:189: UserWarning: \"http://www.youtube.com/watch?v=v1Fu-m-MxKE\" looks like a URL. Beautiful Soup is not an HTTP client. You should probably use an HTTP client to get the document behind the URL, and feed that document to Beautiful Soup.\n",
      "  '\"%s\" looks like a URL. Beautiful Soup is not an HTTP client. You should probably use an HTTP client to get the document behind the URL, and feed that document to Beautiful Soup.' % markup)\n",
      "/Users/erichsu/anaconda/lib/python2.7/site-packages/bs4/__init__.py:189: UserWarning: \"http://www.triplegeorgegrill.com/\" looks like a URL. Beautiful Soup is not an HTTP client. You should probably use an HTTP client to get the document behind the URL, and feed that document to Beautiful Soup.\n",
      "  '\"%s\" looks like a URL. Beautiful Soup is not an HTTP client. You should probably use an HTTP client to get the document behind the URL, and feed that document to Beautiful Soup.' % markup)\n"
     ]
    },
    {
     "name": "stdout",
     "output_type": "stream",
     "text": [
      "\n",
      "Review 485000 of 1569264\n",
      "Review 486000 of 1569264"
     ]
    },
    {
     "name": "stderr",
     "output_type": "stream",
     "text": [
      "/Users/erichsu/anaconda/lib/python2.7/site-packages/bs4/__init__.py:189: UserWarning: \"http://facebook.com/splitbreed\" looks like a URL. Beautiful Soup is not an HTTP client. You should probably use an HTTP client to get the document behind the URL, and feed that document to Beautiful Soup.\n",
      "  '\"%s\" looks like a URL. Beautiful Soup is not an HTTP client. You should probably use an HTTP client to get the document behind the URL, and feed that document to Beautiful Soup.' % markup)\n",
      "/Users/erichsu/anaconda/lib/python2.7/site-packages/bs4/__init__.py:189: UserWarning: \"https://www.youtube.com/watch?v=nYl2MEs5bjI\" looks like a URL. Beautiful Soup is not an HTTP client. You should probably use an HTTP client to get the document behind the URL, and feed that document to Beautiful Soup.\n",
      "  '\"%s\" looks like a URL. Beautiful Soup is not an HTTP client. You should probably use an HTTP client to get the document behind the URL, and feed that document to Beautiful Soup.' % markup)\n"
     ]
    },
    {
     "name": "stdout",
     "output_type": "stream",
     "text": [
      "\n",
      "Review 487000 of 1569264"
     ]
    },
    {
     "name": "stderr",
     "output_type": "stream",
     "text": [
      "/Users/erichsu/anaconda/lib/python2.7/site-packages/bs4/__init__.py:189: UserWarning: \"http://www.rainbowbrite.net/characters/murky.html\" looks like a URL. Beautiful Soup is not an HTTP client. You should probably use an HTTP client to get the document behind the URL, and feed that document to Beautiful Soup.\n",
      "  '\"%s\" looks like a URL. Beautiful Soup is not an HTTP client. You should probably use an HTTP client to get the document behind the URL, and feed that document to Beautiful Soup.' % markup)\n",
      "/Users/erichsu/anaconda/lib/python2.7/site-packages/bs4/__init__.py:189: UserWarning: \"http://www.yelp.com/biz_photos/fantasy-las-vegas?select=DPxs_CG0wOhcWBDF8istsg#O1Kpk73cyR6N9uCoJycm8g\" looks like a URL. Beautiful Soup is not an HTTP client. You should probably use an HTTP client to get the document behind the URL, and feed that document to Beautiful Soup.\n",
      "  '\"%s\" looks like a URL. Beautiful Soup is not an HTTP client. You should probably use an HTTP client to get the document behind the URL, and feed that document to Beautiful Soup.' % markup)\n"
     ]
    },
    {
     "name": "stdout",
     "output_type": "stream",
     "text": [
      "\n",
      "Review 488000 of 1569264"
     ]
    },
    {
     "name": "stderr",
     "output_type": "stream",
     "text": [
      "/Users/erichsu/anaconda/lib/python2.7/site-packages/bs4/__init__.py:189: UserWarning: \"http://www.retroranch.net\" looks like a URL. Beautiful Soup is not an HTTP client. You should probably use an HTTP client to get the document behind the URL, and feed that document to Beautiful Soup.\n",
      "  '\"%s\" looks like a URL. Beautiful Soup is not an HTTP client. You should probably use an HTTP client to get the document behind the URL, and feed that document to Beautiful Soup.' % markup)\n",
      "/Users/erichsu/anaconda/lib/python2.7/site-packages/bs4/__init__.py:189: UserWarning: \"http://www.yelp.com/biz/pho-87-las-vegas#hrid:z4C9Ksv1dibqql5hhy-3ag\" looks like a URL. Beautiful Soup is not an HTTP client. You should probably use an HTTP client to get the document behind the URL, and feed that document to Beautiful Soup.\n",
      "  '\"%s\" looks like a URL. Beautiful Soup is not an HTTP client. You should probably use an HTTP client to get the document behind the URL, and feed that document to Beautiful Soup.' % markup)\n"
     ]
    },
    {
     "name": "stdout",
     "output_type": "stream",
     "text": [
      "\n",
      "Review 489000 of 1569264\n",
      "Review 490000 of 1569264\n",
      "Review 491000 of 1569264\n",
      "Review 492000 of 1569264\n",
      "Review 493000 of 1569264\n",
      "Review 494000 of 1569264\n",
      "Review 495000 of 1569264"
     ]
    },
    {
     "name": "stderr",
     "output_type": "stream",
     "text": [
      "/Users/erichsu/anaconda/lib/python2.7/site-packages/bs4/__init__.py:189: UserWarning: \"http://www.southernnevadahealthdistrict.org/restaurants/inspections.php\" looks like a URL. Beautiful Soup is not an HTTP client. You should probably use an HTTP client to get the document behind the URL, and feed that document to Beautiful Soup.\n",
      "  '\"%s\" looks like a URL. Beautiful Soup is not an HTTP client. You should probably use an HTTP client to get the document behind the URL, and feed that document to Beautiful Soup.' % markup)\n",
      "/Users/erichsu/anaconda/lib/python2.7/site-packages/bs4/__init__.py:189: UserWarning: \"http://phoenixpd.org/PARKS/jfg.html\" looks like a URL. Beautiful Soup is not an HTTP client. You should probably use an HTTP client to get the document behind the URL, and feed that document to Beautiful Soup.\n",
      "  '\"%s\" looks like a URL. Beautiful Soup is not an HTTP client. You should probably use an HTTP client to get the document behind the URL, and feed that document to Beautiful Soup.' % markup)\n"
     ]
    },
    {
     "name": "stdout",
     "output_type": "stream",
     "text": [
      "\n",
      "Review 496000 of 1569264\n",
      "Review 497000 of 1569264\n",
      "Review 498000 of 1569264"
     ]
    },
    {
     "name": "stderr",
     "output_type": "stream",
     "text": [
      "/Users/erichsu/anaconda/lib/python2.7/site-packages/bs4/__init__.py:189: UserWarning: \"http://www.joesrealbbq.com\" looks like a URL. Beautiful Soup is not an HTTP client. You should probably use an HTTP client to get the document behind the URL, and feed that document to Beautiful Soup.\n",
      "  '\"%s\" looks like a URL. Beautiful Soup is not an HTTP client. You should probably use an HTTP client to get the document behind the URL, and feed that document to Beautiful Soup.' % markup)\n",
      "/Users/erichsu/anaconda/lib/python2.7/site-packages/bs4/__init__.py:189: UserWarning: \"http://www.yelp.com/biz_photos/secret-garden-las-vegas-2?select=OxrScPdr4mT0cUa8hJQchg#OxrScPdr4mT0cUa8hJQchg\" looks like a URL. Beautiful Soup is not an HTTP client. You should probably use an HTTP client to get the document behind the URL, and feed that document to Beautiful Soup.\n",
      "  '\"%s\" looks like a URL. Beautiful Soup is not an HTTP client. You should probably use an HTTP client to get the document behind the URL, and feed that document to Beautiful Soup.' % markup)\n"
     ]
    },
    {
     "name": "stdout",
     "output_type": "stream",
     "text": [
      "\n",
      "Review 499000 of 1569264\n",
      "Review 500000 of 1569264\n",
      "Review 501000 of 1569264\n",
      "Review 502000 of 1569264\n",
      "Review 503000 of 1569264"
     ]
    },
    {
     "name": "stderr",
     "output_type": "stream",
     "text": [
      "/Users/erichsu/anaconda/lib/python2.7/site-packages/bs4/__init__.py:189: UserWarning: \"http://www.diplomatie.gouv.fr/en/country-files_156/albania_359/france-and-albania_6103/index.html\" looks like a URL. Beautiful Soup is not an HTTP client. You should probably use an HTTP client to get the document behind the URL, and feed that document to Beautiful Soup.\n",
      "  '\"%s\" looks like a URL. Beautiful Soup is not an HTTP client. You should probably use an HTTP client to get the document behind the URL, and feed that document to Beautiful Soup.' % markup)\n",
      "/Users/erichsu/anaconda/lib/python2.7/site-packages/bs4/__init__.py:189: UserWarning: \"http://www.youtube.com/watch?v=1MyplHQ1MBU\" looks like a URL. Beautiful Soup is not an HTTP client. You should probably use an HTTP client to get the document behind the URL, and feed that document to Beautiful Soup.\n",
      "  '\"%s\" looks like a URL. Beautiful Soup is not an HTTP client. You should probably use an HTTP client to get the document behind the URL, and feed that document to Beautiful Soup.' % markup)\n"
     ]
    },
    {
     "name": "stdout",
     "output_type": "stream",
     "text": [
      "\n",
      "Review 504000 of 1569264"
     ]
    },
    {
     "name": "stderr",
     "output_type": "stream",
     "text": [
      "/Users/erichsu/anaconda/lib/python2.7/site-packages/bs4/__init__.py:189: UserWarning: \"http://eatinginpittsburgh.com/2011/02/02/eleven-brought-coma/\" looks like a URL. Beautiful Soup is not an HTTP client. You should probably use an HTTP client to get the document behind the URL, and feed that document to Beautiful Soup.\n",
      "  '\"%s\" looks like a URL. Beautiful Soup is not an HTTP client. You should probably use an HTTP client to get the document behind the URL, and feed that document to Beautiful Soup.' % markup)\n",
      "/Users/erichsu/anaconda/lib/python2.7/site-packages/bs4/__init__.py:189: UserWarning: \"http://www.palacestation.com/dining/oyster-bar/menu.pdf\" looks like a URL. Beautiful Soup is not an HTTP client. You should probably use an HTTP client to get the document behind the URL, and feed that document to Beautiful Soup.\n",
      "  '\"%s\" looks like a URL. Beautiful Soup is not an HTTP client. You should probably use an HTTP client to get the document behind the URL, and feed that document to Beautiful Soup.' % markup)\n"
     ]
    },
    {
     "name": "stdout",
     "output_type": "stream",
     "text": [
      "\n",
      "Review 505000 of 1569264"
     ]
    },
    {
     "name": "stderr",
     "output_type": "stream",
     "text": [
      "/Users/erichsu/anaconda/lib/python2.7/site-packages/bs4/__init__.py:189: UserWarning: \"http://www.yelp.com/biz_photos/awI4hHMfa7H0Xf0-ChU5hg?select=xS-dbbXgtbDyumD7P4Z5gQ\" looks like a URL. Beautiful Soup is not an HTTP client. You should probably use an HTTP client to get the document behind the URL, and feed that document to Beautiful Soup.\n",
      "  '\"%s\" looks like a URL. Beautiful Soup is not an HTTP client. You should probably use an HTTP client to get the document behind the URL, and feed that document to Beautiful Soup.' % markup)\n",
      "/Users/erichsu/anaconda/lib/python2.7/site-packages/bs4/__init__.py:189: UserWarning: \"http://www.yelp.com/biz_photos/oyster-bar-las-vegas-2?select=FDG_fUoUjs-KavTq8D0Hng#Mdd4OMnfoQf_Z8YFx5krig\" looks like a URL. Beautiful Soup is not an HTTP client. You should probably use an HTTP client to get the document behind the URL, and feed that document to Beautiful Soup.\n",
      "  '\"%s\" looks like a URL. Beautiful Soup is not an HTTP client. You should probably use an HTTP client to get the document behind the URL, and feed that document to Beautiful Soup.' % markup)\n"
     ]
    },
    {
     "name": "stdout",
     "output_type": "stream",
     "text": [
      "\n",
      "Review 506000 of 1569264\n",
      "Review 507000 of 1569264\n",
      "Review 508000 of 1569264"
     ]
    },
    {
     "name": "stderr",
     "output_type": "stream",
     "text": [
      "/Users/erichsu/anaconda/lib/python2.7/site-packages/bs4/__init__.py:189: UserWarning: \"http://blogs.phoenixnewtimes.com/bella/2008/09/citybakery_closes_bentley_proj.php\" looks like a URL. Beautiful Soup is not an HTTP client. You should probably use an HTTP client to get the document behind the URL, and feed that document to Beautiful Soup.\n",
      "  '\"%s\" looks like a URL. Beautiful Soup is not an HTTP client. You should probably use an HTTP client to get the document behind the URL, and feed that document to Beautiful Soup.' % markup)\n",
      "/Users/erichsu/anaconda/lib/python2.7/site-packages/bs4/__init__.py:189: UserWarning: \"http://local.yahoo.com/info-19969075-5th-avenue-cafe-phoenix;_ylt=AmvpsXx.8qC26WLyMjXCRuWHNcIF;_ylv=3?csz=Phoenix%2C+AZ\" looks like a URL. Beautiful Soup is not an HTTP client. You should probably use an HTTP client to get the document behind the URL, and feed that document to Beautiful Soup.\n",
      "  '\"%s\" looks like a URL. Beautiful Soup is not an HTTP client. You should probably use an HTTP client to get the document behind the URL, and feed that document to Beautiful Soup.' % markup)\n"
     ]
    },
    {
     "name": "stdout",
     "output_type": "stream",
     "text": [
      "\n",
      "Review 509000 of 1569264\n",
      "Review 510000 of 1569264\n",
      "Review 511000 of 1569264\n",
      "Review 512000 of 1569264\n",
      "Review 513000 of 1569264\n",
      "Review 514000 of 1569264"
     ]
    },
    {
     "name": "stderr",
     "output_type": "stream",
     "text": [
      "/Users/erichsu/anaconda/lib/python2.7/site-packages/bs4/__init__.py:189: UserWarning: \"http://www.vegaspersonalshopper.com/review-red-rock-casino-feast-buffet-review/\" looks like a URL. Beautiful Soup is not an HTTP client. You should probably use an HTTP client to get the document behind the URL, and feed that document to Beautiful Soup.\n",
      "  '\"%s\" looks like a URL. Beautiful Soup is not an HTTP client. You should probably use an HTTP client to get the document behind the URL, and feed that document to Beautiful Soup.' % markup)\n",
      "/Users/erichsu/anaconda/lib/python2.7/site-packages/bs4/__init__.py:189: UserWarning: \"http://static.px.yelp.com/photo/uhrQt43cIGJKSAHztVLjbA/l\" looks like a URL. Beautiful Soup is not an HTTP client. You should probably use an HTTP client to get the document behind the URL, and feed that document to Beautiful Soup.\n",
      "  '\"%s\" looks like a URL. Beautiful Soup is not an HTTP client. You should probably use an HTTP client to get the document behind the URL, and feed that document to Beautiful Soup.' % markup)\n"
     ]
    },
    {
     "name": "stdout",
     "output_type": "stream",
     "text": [
      "\n",
      "Review 515000 of 1569264\n",
      "Review 516000 of 1569264\n",
      "Review 517000 of 1569264\n",
      "Review 518000 of 1569264"
     ]
    },
    {
     "name": "stderr",
     "output_type": "stream",
     "text": [
      "/Users/erichsu/anaconda/lib/python2.7/site-packages/bs4/__init__.py:189: UserWarning: \"http://www.yelp.com/biz/settebello-pizzeria-napoletana-las-vegas?hrid=P1cKU1NcOs1WOHb5vka5xA\" looks like a URL. Beautiful Soup is not an HTTP client. You should probably use an HTTP client to get the document behind the URL, and feed that document to Beautiful Soup.\n",
      "  '\"%s\" looks like a URL. Beautiful Soup is not an HTTP client. You should probably use an HTTP client to get the document behind the URL, and feed that document to Beautiful Soup.' % markup)\n",
      "/Users/erichsu/anaconda/lib/python2.7/site-packages/bs4/__init__.py:189: UserWarning: \"http://www.yelp.com/biz/quintons-bar-and-deli-iowa-city\" looks like a URL. Beautiful Soup is not an HTTP client. You should probably use an HTTP client to get the document behind the URL, and feed that document to Beautiful Soup.\n",
      "  '\"%s\" looks like a URL. Beautiful Soup is not an HTTP client. You should probably use an HTTP client to get the document behind the URL, and feed that document to Beautiful Soup.' % markup)\n"
     ]
    },
    {
     "name": "stdout",
     "output_type": "stream",
     "text": [
      "\n",
      "Review 519000 of 1569264\n",
      "Review 520000 of 1569264\n",
      "Review 521000 of 1569264"
     ]
    },
    {
     "name": "stderr",
     "output_type": "stream",
     "text": [
      "/Users/erichsu/anaconda/lib/python2.7/site-packages/bs4/__init__.py:189: UserWarning: \"http://www.yelp.com/biz_photos/guy-savoy-las-vegas-2#C-57ZJD0nizUqT6KX2rW7w\n",
      "\n",
      "11.\" looks like a URL. Beautiful Soup is not an HTTP client. You should probably use an HTTP client to get the document behind the URL, and feed that document to Beautiful Soup.\n",
      "  '\"%s\" looks like a URL. Beautiful Soup is not an HTTP client. You should probably use an HTTP client to get the document behind the URL, and feed that document to Beautiful Soup.' % markup)\n",
      "/Users/erichsu/anaconda/lib/python2.7/site-packages/bs4/__init__.py:189: UserWarning: \"http://www.yelp.com/biz_photos/guy-savoy-las-vegas-2#nxPYm6xHNI4VHDeOENerHA\n",
      "\n",
      "12.\" looks like a URL. Beautiful Soup is not an HTTP client. You should probably use an HTTP client to get the document behind the URL, and feed that document to Beautiful Soup.\n",
      "  '\"%s\" looks like a URL. Beautiful Soup is not an HTTP client. You should probably use an HTTP client to get the document behind the URL, and feed that document to Beautiful Soup.' % markup)\n",
      "/Users/erichsu/anaconda/lib/python2.7/site-packages/bs4/__init__.py:189: UserWarning: \"http://www.yelp.com/biz_photos/guy-savoy-las-vegas-2#7Pr_qRWQFYVv3XAoI7LmXg\n",
      "\n",
      "13.\" looks like a URL. Beautiful Soup is not an HTTP client. You should probably use an HTTP client to get the document behind the URL, and feed that document to Beautiful Soup.\n",
      "  '\"%s\" looks like a URL. Beautiful Soup is not an HTTP client. You should probably use an HTTP client to get the document behind the URL, and feed that document to Beautiful Soup.' % markup)\n",
      "/Users/erichsu/anaconda/lib/python2.7/site-packages/bs4/__init__.py:189: UserWarning: \"http://www.yelp.com/biz_photos/guy-savoy-las-vegas-2#-DEMLg2PSmHqFcBs0tiP6A\n",
      "\n",
      "14.\" looks like a URL. Beautiful Soup is not an HTTP client. You should probably use an HTTP client to get the document behind the URL, and feed that document to Beautiful Soup.\n",
      "  '\"%s\" looks like a URL. Beautiful Soup is not an HTTP client. You should probably use an HTTP client to get the document behind the URL, and feed that document to Beautiful Soup.' % markup)\n",
      "/Users/erichsu/anaconda/lib/python2.7/site-packages/bs4/__init__.py:189: UserWarning: \"http://www.yelp.com/biz_photos/guy-savoy-las-vegas-2#jJUVhGJx-Q_KwSCdp3RKSg\n",
      "\n",
      "15.\" looks like a URL. Beautiful Soup is not an HTTP client. You should probably use an HTTP client to get the document behind the URL, and feed that document to Beautiful Soup.\n",
      "  '\"%s\" looks like a URL. Beautiful Soup is not an HTTP client. You should probably use an HTTP client to get the document behind the URL, and feed that document to Beautiful Soup.' % markup)\n",
      "/Users/erichsu/anaconda/lib/python2.7/site-packages/bs4/__init__.py:189: UserWarning: \"http://www.yelp.com/biz_photos/guy-savoy-las-vegas-2#pJKZ7tmsXUio2twlQET6Hw\n",
      "\n",
      "16.\" looks like a URL. Beautiful Soup is not an HTTP client. You should probably use an HTTP client to get the document behind the URL, and feed that document to Beautiful Soup.\n",
      "  '\"%s\" looks like a URL. Beautiful Soup is not an HTTP client. You should probably use an HTTP client to get the document behind the URL, and feed that document to Beautiful Soup.' % markup)\n",
      "/Users/erichsu/anaconda/lib/python2.7/site-packages/bs4/__init__.py:189: UserWarning: \"http://www.yelp.com/biz_photos/guy-savoy-las-vegas-2#0I7_VnPra4NSsCkdOMrO-A\n",
      "\n",
      "17.\" looks like a URL. Beautiful Soup is not an HTTP client. You should probably use an HTTP client to get the document behind the URL, and feed that document to Beautiful Soup.\n",
      "  '\"%s\" looks like a URL. Beautiful Soup is not an HTTP client. You should probably use an HTTP client to get the document behind the URL, and feed that document to Beautiful Soup.' % markup)\n",
      "/Users/erichsu/anaconda/lib/python2.7/site-packages/bs4/__init__.py:189: UserWarning: \"http://www.yelp.com/biz_photos/guy-savoy-las-vegas-2#P5XpkRtbQMeNV5GdwDgR-Q\n",
      "\n",
      "18.\" looks like a URL. Beautiful Soup is not an HTTP client. You should probably use an HTTP client to get the document behind the URL, and feed that document to Beautiful Soup.\n",
      "  '\"%s\" looks like a URL. Beautiful Soup is not an HTTP client. You should probably use an HTTP client to get the document behind the URL, and feed that document to Beautiful Soup.' % markup)\n",
      "/Users/erichsu/anaconda/lib/python2.7/site-packages/bs4/__init__.py:189: UserWarning: \"http://www.yelp.com/biz_photos/guy-savoy-las-vegas-2#fQmUdv3T38O9ADf6FHBEJQ\n",
      "\n",
      "19.\" looks like a URL. Beautiful Soup is not an HTTP client. You should probably use an HTTP client to get the document behind the URL, and feed that document to Beautiful Soup.\n",
      "  '\"%s\" looks like a URL. Beautiful Soup is not an HTTP client. You should probably use an HTTP client to get the document behind the URL, and feed that document to Beautiful Soup.' % markup)\n",
      "/Users/erichsu/anaconda/lib/python2.7/site-packages/bs4/__init__.py:189: UserWarning: \"http://www.yelp.com/biz_photos/guy-savoy-las-vegas-2#q-5nZctMRztBoHuzI-9IiA\n",
      "\n",
      "2.\" looks like a URL. Beautiful Soup is not an HTTP client. You should probably use an HTTP client to get the document behind the URL, and feed that document to Beautiful Soup.\n",
      "  '\"%s\" looks like a URL. Beautiful Soup is not an HTTP client. You should probably use an HTTP client to get the document behind the URL, and feed that document to Beautiful Soup.' % markup)\n",
      "/Users/erichsu/anaconda/lib/python2.7/site-packages/bs4/__init__.py:189: UserWarning: \"http://www.yelp.com/biz_photos/guy-savoy-las-vegas-2#k-HfOiDwUHjQDk2yS_A-Ug\n",
      "\n",
      "3.\" looks like a URL. Beautiful Soup is not an HTTP client. You should probably use an HTTP client to get the document behind the URL, and feed that document to Beautiful Soup.\n",
      "  '\"%s\" looks like a URL. Beautiful Soup is not an HTTP client. You should probably use an HTTP client to get the document behind the URL, and feed that document to Beautiful Soup.' % markup)\n",
      "/Users/erichsu/anaconda/lib/python2.7/site-packages/bs4/__init__.py:189: UserWarning: \"http://www.yelp.com/biz_photos/guy-savoy-las-vegas-2#CeIpoN0mqYabwMCCuRhM2A\n",
      "\n",
      "4.\" looks like a URL. Beautiful Soup is not an HTTP client. You should probably use an HTTP client to get the document behind the URL, and feed that document to Beautiful Soup.\n",
      "  '\"%s\" looks like a URL. Beautiful Soup is not an HTTP client. You should probably use an HTTP client to get the document behind the URL, and feed that document to Beautiful Soup.' % markup)\n",
      "/Users/erichsu/anaconda/lib/python2.7/site-packages/bs4/__init__.py:189: UserWarning: \"http://www.yelp.com/biz_photos/guy-savoy-las-vegas-2#kgqj-Czz4DtXuRe4HMI7wg\n",
      "\n",
      "5.\" looks like a URL. Beautiful Soup is not an HTTP client. You should probably use an HTTP client to get the document behind the URL, and feed that document to Beautiful Soup.\n",
      "  '\"%s\" looks like a URL. Beautiful Soup is not an HTTP client. You should probably use an HTTP client to get the document behind the URL, and feed that document to Beautiful Soup.' % markup)\n",
      "/Users/erichsu/anaconda/lib/python2.7/site-packages/bs4/__init__.py:189: UserWarning: \"http://www.yelp.com/biz_photos/guy-savoy-las-vegas-2#gVFhIUDM1qU2dkxH3XxtsA\n",
      "\n",
      "6.\" looks like a URL. Beautiful Soup is not an HTTP client. You should probably use an HTTP client to get the document behind the URL, and feed that document to Beautiful Soup.\n",
      "  '\"%s\" looks like a URL. Beautiful Soup is not an HTTP client. You should probably use an HTTP client to get the document behind the URL, and feed that document to Beautiful Soup.' % markup)\n",
      "/Users/erichsu/anaconda/lib/python2.7/site-packages/bs4/__init__.py:189: UserWarning: \"http://www.yelp.com/biz_photos/guy-savoy-las-vegas-2#HVKWHN7wRaciqzmZzUiHFw\n",
      "\n",
      "7.\" looks like a URL. Beautiful Soup is not an HTTP client. You should probably use an HTTP client to get the document behind the URL, and feed that document to Beautiful Soup.\n",
      "  '\"%s\" looks like a URL. Beautiful Soup is not an HTTP client. You should probably use an HTTP client to get the document behind the URL, and feed that document to Beautiful Soup.' % markup)\n",
      "/Users/erichsu/anaconda/lib/python2.7/site-packages/bs4/__init__.py:189: UserWarning: \"http://www.yelp.com/biz_photos/guy-savoy-las-vegas-2#5ubR8rXxh6w0WRwNHKzo2Q\n",
      "\n",
      "8.\" looks like a URL. Beautiful Soup is not an HTTP client. You should probably use an HTTP client to get the document behind the URL, and feed that document to Beautiful Soup.\n",
      "  '\"%s\" looks like a URL. Beautiful Soup is not an HTTP client. You should probably use an HTTP client to get the document behind the URL, and feed that document to Beautiful Soup.' % markup)\n",
      "/Users/erichsu/anaconda/lib/python2.7/site-packages/bs4/__init__.py:189: UserWarning: \"http://www.yelp.com/biz_photos/guy-savoy-las-vegas-2#wGN_mNDWyRB53ISlRUzaqg\n",
      "\n",
      "9.\" looks like a URL. Beautiful Soup is not an HTTP client. You should probably use an HTTP client to get the document behind the URL, and feed that document to Beautiful Soup.\n",
      "  '\"%s\" looks like a URL. Beautiful Soup is not an HTTP client. You should probably use an HTTP client to get the document behind the URL, and feed that document to Beautiful Soup.' % markup)\n",
      "/Users/erichsu/anaconda/lib/python2.7/site-packages/bs4/__init__.py:189: UserWarning: \"http://www.halorescue.org/index.html\" looks like a URL. Beautiful Soup is not an HTTP client. You should probably use an HTTP client to get the document behind the URL, and feed that document to Beautiful Soup.\n",
      "  '\"%s\" looks like a URL. Beautiful Soup is not an HTTP client. You should probably use an HTTP client to get the document behind the URL, and feed that document to Beautiful Soup.' % markup)\n"
     ]
    },
    {
     "name": "stdout",
     "output_type": "stream",
     "text": [
      "\n",
      "Review 522000 of 1569264\n",
      "Review 523000 of 1569264\n",
      "Review 524000 of 1569264"
     ]
    },
    {
     "name": "stderr",
     "output_type": "stream",
     "text": [
      "/Users/erichsu/anaconda/lib/python2.7/site-packages/bs4/__init__.py:189: UserWarning: \"http://www.pleaseaddbacon.com/2011/05/the-grand-wok-las-vegas-review/\" looks like a URL. Beautiful Soup is not an HTTP client. You should probably use an HTTP client to get the document behind the URL, and feed that document to Beautiful Soup.\n",
      "  '\"%s\" looks like a URL. Beautiful Soup is not an HTTP client. You should probably use an HTTP client to get the document behind the URL, and feed that document to Beautiful Soup.' % markup)\n",
      "/Users/erichsu/anaconda/lib/python2.7/site-packages/bs4/__init__.py:189: UserWarning: \"http://www.incrediblethings.com/wp-content/uploads/2012/12/Grumpy-Cat-Pasties.jpg).\" looks like a URL. Beautiful Soup is not an HTTP client. You should probably use an HTTP client to get the document behind the URL, and feed that document to Beautiful Soup.\n",
      "  '\"%s\" looks like a URL. Beautiful Soup is not an HTTP client. You should probably use an HTTP client to get the document behind the URL, and feed that document to Beautiful Soup.' % markup)\n"
     ]
    },
    {
     "name": "stdout",
     "output_type": "stream",
     "text": [
      "\n",
      "Review 525000 of 1569264\n",
      "Review 526000 of 1569264\n",
      "Review 527000 of 1569264\n",
      "Review 528000 of 1569264"
     ]
    },
    {
     "name": "stderr",
     "output_type": "stream",
     "text": [
      "/Users/erichsu/anaconda/lib/python2.7/site-packages/bs4/__init__.py:189: UserWarning: \"http://www.pleaseaddbacon.com/2011/05/wichcraft-amazing-sandwiches-by-tom-colicchio-review/\" looks like a URL. Beautiful Soup is not an HTTP client. You should probably use an HTTP client to get the document behind the URL, and feed that document to Beautiful Soup.\n",
      "  '\"%s\" looks like a URL. Beautiful Soup is not an HTTP client. You should probably use an HTTP client to get the document behind the URL, and feed that document to Beautiful Soup.' % markup)\n",
      "/Users/erichsu/anaconda/lib/python2.7/site-packages/bs4/__init__.py:189: UserWarning: \"http://www.moviewatcher.com/index.html\" looks like a URL. Beautiful Soup is not an HTTP client. You should probably use an HTTP client to get the document behind the URL, and feed that document to Beautiful Soup.\n",
      "  '\"%s\" looks like a URL. Beautiful Soup is not an HTTP client. You should probably use an HTTP client to get the document behind the URL, and feed that document to Beautiful Soup.' % markup)\n"
     ]
    },
    {
     "name": "stdout",
     "output_type": "stream",
     "text": [
      "\n",
      "Review 529000 of 1569264\n",
      "Review 530000 of 1569264\n",
      "Review 531000 of 1569264"
     ]
    },
    {
     "name": "stderr",
     "output_type": "stream",
     "text": [
      "/Users/erichsu/anaconda/lib/python2.7/site-packages/bs4/__init__.py:189: UserWarning: \"http://www.foodandwine.com/slideshows/americas-best-bars\" looks like a URL. Beautiful Soup is not an HTTP client. You should probably use an HTTP client to get the document behind the URL, and feed that document to Beautiful Soup.\n",
      "  '\"%s\" looks like a URL. Beautiful Soup is not an HTTP client. You should probably use an HTTP client to get the document behind the URL, and feed that document to Beautiful Soup.' % markup)\n",
      "/Users/erichsu/anaconda/lib/python2.7/site-packages/bs4/__init__.py:189: UserWarning: \"http://expressiveautism.com/OurBlog.en.html\" looks like a URL. Beautiful Soup is not an HTTP client. You should probably use an HTTP client to get the document behind the URL, and feed that document to Beautiful Soup.\n",
      "  '\"%s\" looks like a URL. Beautiful Soup is not an HTTP client. You should probably use an HTTP client to get the document behind the URL, and feed that document to Beautiful Soup.' % markup)\n"
     ]
    },
    {
     "name": "stdout",
     "output_type": "stream",
     "text": [
      "\n",
      "Review 532000 of 1569264\n",
      "Review 533000 of 1569264\n",
      "Review 534000 of 1569264\n",
      "Review 535000 of 1569264\n",
      "Review 536000 of 1569264"
     ]
    },
    {
     "name": "stderr",
     "output_type": "stream",
     "text": [
      "/Users/erichsu/anaconda/lib/python2.7/site-packages/bs4/__init__.py:189: UserWarning: \"http://lagamio.com/2014/04/24/las-vegas/\" looks like a URL. Beautiful Soup is not an HTTP client. You should probably use an HTTP client to get the document behind the URL, and feed that document to Beautiful Soup.\n",
      "  '\"%s\" looks like a URL. Beautiful Soup is not an HTTP client. You should probably use an HTTP client to get the document behind the URL, and feed that document to Beautiful Soup.' % markup)\n",
      "/Users/erichsu/anaconda/lib/python2.7/site-packages/bs4/__init__.py:189: UserWarning: \"http://vegasstyleguy.blogspot.com/\" looks like a URL. Beautiful Soup is not an HTTP client. You should probably use an HTTP client to get the document behind the URL, and feed that document to Beautiful Soup.\n",
      "  '\"%s\" looks like a URL. Beautiful Soup is not an HTTP client. You should probably use an HTTP client to get the document behind the URL, and feed that document to Beautiful Soup.' % markup)\n"
     ]
    },
    {
     "name": "stdout",
     "output_type": "stream",
     "text": [
      "\n",
      "Review 537000 of 1569264\n",
      "Review 538000 of 1569264"
     ]
    },
    {
     "name": "stderr",
     "output_type": "stream",
     "text": [
      "/Users/erichsu/anaconda/lib/python2.7/site-packages/bs4/__init__.py:189: UserWarning: \"http://www.city-data.com/businesses/856267018-mermaid-s-casino-las-vegas-nv.html\" looks like a URL. Beautiful Soup is not an HTTP client. You should probably use an HTTP client to get the document behind the URL, and feed that document to Beautiful Soup.\n",
      "  '\"%s\" looks like a URL. Beautiful Soup is not an HTTP client. You should probably use an HTTP client to get the document behind the URL, and feed that document to Beautiful Soup.' % markup)\n",
      "/Users/erichsu/anaconda/lib/python2.7/site-packages/bs4/__init__.py:189: UserWarning: \"http://www.youtube.com/watch?v=mZjPnqzq_E0&mode=related&search=\" looks like a URL. Beautiful Soup is not an HTTP client. You should probably use an HTTP client to get the document behind the URL, and feed that document to Beautiful Soup.\n",
      "  '\"%s\" looks like a URL. Beautiful Soup is not an HTTP client. You should probably use an HTTP client to get the document behind the URL, and feed that document to Beautiful Soup.' % markup)\n"
     ]
    },
    {
     "name": "stdout",
     "output_type": "stream",
     "text": [
      "\n",
      "Review 539000 of 1569264\n",
      "Review 540000 of 1569264\n",
      "Review 541000 of 1569264\n",
      "Review 542000 of 1569264"
     ]
    },
    {
     "name": "stderr",
     "output_type": "stream",
     "text": [
      "/Users/erichsu/anaconda/lib/python2.7/site-packages/bs4/__init__.py:189: UserWarning: \"http://www.pbloco.com\" looks like a URL. Beautiful Soup is not an HTTP client. You should probably use an HTTP client to get the document behind the URL, and feed that document to Beautiful Soup.\n",
      "  '\"%s\" looks like a URL. Beautiful Soup is not an HTTP client. You should probably use an HTTP client to get the document behind the URL, and feed that document to Beautiful Soup.' % markup)\n",
      "/Users/erichsu/anaconda/lib/python2.7/site-packages/bs4/__init__.py:189: UserWarning: \"http://www.bbb.org/southern-nevada/business-reviews/fitness-centers/las-vegas-athletic-club-in-las-vegas-nv-52712\n",
      "\n",
      "http://www.consumeraffairs.com/health_clubs/las_vegas_athletic_clubs.html\" looks like a URL. Beautiful Soup is not an HTTP client. You should probably use an HTTP client to get the document behind the URL, and feed that document to Beautiful Soup.\n",
      "  '\"%s\" looks like a URL. Beautiful Soup is not an HTTP client. You should probably use an HTTP client to get the document behind the URL, and feed that document to Beautiful Soup.' % markup)\n"
     ]
    },
    {
     "name": "stdout",
     "output_type": "stream",
     "text": [
      "\n",
      "Review 543000 of 1569264\n",
      "Review 544000 of 1569264\n",
      "Review 545000 of 1569264"
     ]
    },
    {
     "name": "stderr",
     "output_type": "stream",
     "text": [
      "/Users/erichsu/anaconda/lib/python2.7/site-packages/bs4/__init__.py:189: UserWarning: \"http://www.zoeskitchen.com/menu.asp\" looks like a URL. Beautiful Soup is not an HTTP client. You should probably use an HTTP client to get the document behind the URL, and feed that document to Beautiful Soup.\n",
      "  '\"%s\" looks like a URL. Beautiful Soup is not an HTTP client. You should probably use an HTTP client to get the document behind the URL, and feed that document to Beautiful Soup.' % markup)\n",
      "/Users/erichsu/anaconda/lib/python2.7/site-packages/bs4/__init__.py:189: UserWarning: \"http://www.inmaricopa.com/Article/2010/03/16/restaurants-in-nearby-maricopa-county-hit-with-health-violations\" looks like a URL. Beautiful Soup is not an HTTP client. You should probably use an HTTP client to get the document behind the URL, and feed that document to Beautiful Soup.\n",
      "  '\"%s\" looks like a URL. Beautiful Soup is not an HTTP client. You should probably use an HTTP client to get the document behind the URL, and feed that document to Beautiful Soup.' % markup)\n"
     ]
    },
    {
     "name": "stdout",
     "output_type": "stream",
     "text": [
      "\n",
      "Review 546000 of 1569264\n",
      "Review 547000 of 1569264"
     ]
    },
    {
     "name": "stderr",
     "output_type": "stream",
     "text": [
      "/Users/erichsu/anaconda/lib/python2.7/site-packages/bs4/__init__.py:189: UserWarning: \"http://youtu.be/nlWWxBWWNL0\" looks like a URL. Beautiful Soup is not an HTTP client. You should probably use an HTTP client to get the document behind the URL, and feed that document to Beautiful Soup.\n",
      "  '\"%s\" looks like a URL. Beautiful Soup is not an HTTP client. You should probably use an HTTP client to get the document behind the URL, and feed that document to Beautiful Soup.' % markup)\n",
      "/Users/erichsu/anaconda/lib/python2.7/site-packages/bs4/__init__.py:189: UserWarning: \"https://www.marcsavard.com/showtickets.php\" looks like a URL. Beautiful Soup is not an HTTP client. You should probably use an HTTP client to get the document behind the URL, and feed that document to Beautiful Soup.\n",
      "  '\"%s\" looks like a URL. Beautiful Soup is not an HTTP client. You should probably use an HTTP client to get the document behind the URL, and feed that document to Beautiful Soup.' % markup)\n",
      "/Users/erichsu/anaconda/lib/python2.7/site-packages/bs4/__init__.py:189: UserWarning: \"http://www.yelp.com/biz/bouchon-las-vegas#hrid:PjzTZX9Il0c4LV-ezt13hA\" looks like a URL. Beautiful Soup is not an HTTP client. You should probably use an HTTP client to get the document behind the URL, and feed that document to Beautiful Soup.\n",
      "  '\"%s\" looks like a URL. Beautiful Soup is not an HTTP client. You should probably use an HTTP client to get the document behind the URL, and feed that document to Beautiful Soup.' % markup)\n",
      "/Users/erichsu/anaconda/lib/python2.7/site-packages/bs4/__init__.py:189: UserWarning: \"http://www.redrocklasvegas.com/dining/feast_buffet.php\" looks like a URL. Beautiful Soup is not an HTTP client. You should probably use an HTTP client to get the document behind the URL, and feed that document to Beautiful Soup.\n",
      "  '\"%s\" looks like a URL. Beautiful Soup is not an HTTP client. You should probably use an HTTP client to get the document behind the URL, and feed that document to Beautiful Soup.' % markup)\n"
     ]
    },
    {
     "name": "stdout",
     "output_type": "stream",
     "text": [
      "\n",
      "Review 548000 of 1569264\n",
      "Review 549000 of 1569264\n",
      "Review 550000 of 1569264\n",
      "Review 551000 of 1569264\n",
      "Review 552000 of 1569264"
     ]
    },
    {
     "name": "stderr",
     "output_type": "stream",
     "text": [
      "/Users/erichsu/anaconda/lib/python2.7/site-packages/bs4/__init__.py:189: UserWarning: \"https://drive.google.com/file/d/0B4iaEyQxw8SAUjlYUUl6UEtVcEk/edit?usp=sharing\" looks like a URL. Beautiful Soup is not an HTTP client. You should probably use an HTTP client to get the document behind the URL, and feed that document to Beautiful Soup.\n",
      "  '\"%s\" looks like a URL. Beautiful Soup is not an HTTP client. You should probably use an HTTP client to get the document behind the URL, and feed that document to Beautiful Soup.' % markup)\n",
      "/Users/erichsu/anaconda/lib/python2.7/site-packages/bs4/__init__.py:189: UserWarning: \"http://www.mgmgrand.com/entertainment/lion-habitat.aspx\" looks like a URL. Beautiful Soup is not an HTTP client. You should probably use an HTTP client to get the document behind the URL, and feed that document to Beautiful Soup.\n",
      "  '\"%s\" looks like a URL. Beautiful Soup is not an HTTP client. You should probably use an HTTP client to get the document behind the URL, and feed that document to Beautiful Soup.' % markup)\n"
     ]
    },
    {
     "name": "stdout",
     "output_type": "stream",
     "text": [
      "\n",
      "Review 553000 of 1569264"
     ]
    },
    {
     "name": "stderr",
     "output_type": "stream",
     "text": [
      "/Users/erichsu/anaconda/lib/python2.7/site-packages/bs4/__init__.py:189: UserWarning: \"http://www.frontdesktip.com/fhotel.php?id=4\" looks like a URL. Beautiful Soup is not an HTTP client. You should probably use an HTTP client to get the document behind the URL, and feed that document to Beautiful Soup.\n",
      "  '\"%s\" looks like a URL. Beautiful Soup is not an HTTP client. You should probably use an HTTP client to get the document behind the URL, and feed that document to Beautiful Soup.' % markup)\n",
      "/Users/erichsu/anaconda/lib/python2.7/site-packages/bs4/__init__.py:189: UserWarning: \"http://www.yelp.com/biz_photos/esBRj9uPRzwxaW4Lz1XGLA?select=pLRczvnXA6XtDrUDhjzxag#08IrO9UivhSGlb0dMWiMhQ\" looks like a URL. Beautiful Soup is not an HTTP client. You should probably use an HTTP client to get the document behind the URL, and feed that document to Beautiful Soup.\n",
      "  '\"%s\" looks like a URL. Beautiful Soup is not an HTTP client. You should probably use an HTTP client to get the document behind the URL, and feed that document to Beautiful Soup.' % markup)\n"
     ]
    },
    {
     "name": "stdout",
     "output_type": "stream",
     "text": [
      "\n",
      "Review 554000 of 1569264\n",
      "Review 555000 of 1569264\n",
      "Review 556000 of 1569264\n",
      "Review 557000 of 1569264\n",
      "Review 558000 of 1569264\n",
      "Review 559000 of 1569264\n",
      "Review 560000 of 1569264\n",
      "Review 561000 of 1569264\n",
      "Review 562000 of 1569264\n",
      "Review 563000 of 1569264\n",
      "Review 564000 of 1569264\n",
      "Review 565000 of 1569264\n",
      "Review 566000 of 1569264\n",
      "Review 567000 of 1569264"
     ]
    },
    {
     "name": "stderr",
     "output_type": "stream",
     "text": [
      "/Users/erichsu/anaconda/lib/python2.7/site-packages/bs4/__init__.py:189: UserWarning: \"http://www.yelp.com/biz_photos/rNqSjfRM09T-VOjRTAF66g?select=ygt_oEC7K_ukEGlFdMWpow\n",
      "http://www.yelp.com/biz_photos/rNqSjfRM09T-VOjRTAF66g?select=f7Ci-_b6cb0BZg3QgvZHYg\n",
      "http://www.yelp.com/biz_photos/rNqSjfRM09T-VOjRTAF66g?select=PHZJQhzvrwBhmsxWV5aYDg\" looks like a URL. Beautiful Soup is not an HTTP client. You should probably use an HTTP client to get the document behind the URL, and feed that document to Beautiful Soup.\n",
      "  '\"%s\" looks like a URL. Beautiful Soup is not an HTTP client. You should probably use an HTTP client to get the document behind the URL, and feed that document to Beautiful Soup.' % markup)\n",
      "/Users/erichsu/anaconda/lib/python2.7/site-packages/bs4/__init__.py:189: UserWarning: \"http://www.franklloydwright.org/web/Home.html\" looks like a URL. Beautiful Soup is not an HTTP client. You should probably use an HTTP client to get the document behind the URL, and feed that document to Beautiful Soup.\n",
      "  '\"%s\" looks like a URL. Beautiful Soup is not an HTTP client. You should probably use an HTTP client to get the document behind the URL, and feed that document to Beautiful Soup.' % markup)\n",
      "/Users/erichsu/anaconda/lib/python2.7/site-packages/bs4/__init__.py:189: UserWarning: \"http://wp.me/pQ3DR-1L\" looks like a URL. Beautiful Soup is not an HTTP client. You should probably use an HTTP client to get the document behind the URL, and feed that document to Beautiful Soup.\n",
      "  '\"%s\" looks like a URL. Beautiful Soup is not an HTTP client. You should probably use an HTTP client to get the document behind the URL, and feed that document to Beautiful Soup.' % markup)\n",
      "/Users/erichsu/anaconda/lib/python2.7/site-packages/bs4/__init__.py:189: UserWarning: \"http://www.azcentral.com/community/tempe/articles/2011/07/13/20110713tempe-ac-lawsuit-abrk.html\" looks like a URL. Beautiful Soup is not an HTTP client. You should probably use an HTTP client to get the document behind the URL, and feed that document to Beautiful Soup.\n",
      "  '\"%s\" looks like a URL. Beautiful Soup is not an HTTP client. You should probably use an HTTP client to get the document behind the URL, and feed that document to Beautiful Soup.' % markup)\n"
     ]
    },
    {
     "name": "stdout",
     "output_type": "stream",
     "text": [
      "\n",
      "Review 568000 of 1569264\n",
      "Review 569000 of 1569264\n",
      "Review 570000 of 1569264\n",
      "Review 571000 of 1569264\n",
      "Review 572000 of 1569264\n",
      "Review 573000 of 1569264\n",
      "Review 574000 of 1569264\n",
      "Review 575000 of 1569264"
     ]
    },
    {
     "name": "stderr",
     "output_type": "stream",
     "text": [
      "/Users/erichsu/anaconda/lib/python2.7/site-packages/bs4/__init__.py:189: UserWarning: \"http://www.yelp.com/biz_photos/frys-food-stores-of-arizona-buckeye#NLuWpPJVznUc95NDo82wNw\n",
      "\n",
      "TV's!?!?!?\" looks like a URL. Beautiful Soup is not an HTTP client. You should probably use an HTTP client to get the document behind the URL, and feed that document to Beautiful Soup.\n",
      "  '\"%s\" looks like a URL. Beautiful Soup is not an HTTP client. You should probably use an HTTP client to get the document behind the URL, and feed that document to Beautiful Soup.' % markup)\n",
      "/Users/erichsu/anaconda/lib/python2.7/site-packages/bs4/__init__.py:189: UserWarning: \"http://coulterinfinitiaz.blogspot.com/?m=1\" looks like a URL. Beautiful Soup is not an HTTP client. You should probably use an HTTP client to get the document behind the URL, and feed that document to Beautiful Soup.\n",
      "  '\"%s\" looks like a URL. Beautiful Soup is not an HTTP client. You should probably use an HTTP client to get the document behind the URL, and feed that document to Beautiful Soup.' % markup)\n"
     ]
    },
    {
     "name": "stdout",
     "output_type": "stream",
     "text": [
      "\n",
      "Review 576000 of 1569264\n",
      "Review 577000 of 1569264"
     ]
    },
    {
     "name": "stderr",
     "output_type": "stream",
     "text": [
      "/Users/erichsu/anaconda/lib/python2.7/site-packages/bs4/__init__.py:189: UserWarning: \"http://www.lightworkersgifts.com/\" looks like a URL. Beautiful Soup is not an HTTP client. You should probably use an HTTP client to get the document behind the URL, and feed that document to Beautiful Soup.\n",
      "  '\"%s\" looks like a URL. Beautiful Soup is not an HTTP client. You should probably use an HTTP client to get the document behind the URL, and feed that document to Beautiful Soup.' % markup)\n",
      "/Users/erichsu/anaconda/lib/python2.7/site-packages/bs4/__init__.py:189: UserWarning: \"http://www.gamersinnaz.com/\" looks like a URL. Beautiful Soup is not an HTTP client. You should probably use an HTTP client to get the document behind the URL, and feed that document to Beautiful Soup.\n",
      "  '\"%s\" looks like a URL. Beautiful Soup is not an HTTP client. You should probably use an HTTP client to get the document behind the URL, and feed that document to Beautiful Soup.' % markup)\n"
     ]
    },
    {
     "name": "stdout",
     "output_type": "stream",
     "text": [
      "\n",
      "Review 578000 of 1569264\n",
      "Review 579000 of 1569264\n",
      "Review 580000 of 1569264\n",
      "Review 581000 of 1569264"
     ]
    },
    {
     "name": "stderr",
     "output_type": "stream",
     "text": [
      "/Users/erichsu/anaconda/lib/python2.7/site-packages/bs4/__init__.py:189: UserWarning: \"http://www.MysteryMansion.com/\" looks like a URL. Beautiful Soup is not an HTTP client. You should probably use an HTTP client to get the document behind the URL, and feed that document to Beautiful Soup.\n",
      "  '\"%s\" looks like a URL. Beautiful Soup is not an HTTP client. You should probably use an HTTP client to get the document behind the URL, and feed that document to Beautiful Soup.' % markup)\n",
      "/Users/erichsu/anaconda/lib/python2.7/site-packages/bs4/__init__.py:189: UserWarning: \"http://www.juliabakerconfections.com/\" looks like a URL. Beautiful Soup is not an HTTP client. You should probably use an HTTP client to get the document behind the URL, and feed that document to Beautiful Soup.\n",
      "  '\"%s\" looks like a URL. Beautiful Soup is not an HTTP client. You should probably use an HTTP client to get the document behind the URL, and feed that document to Beautiful Soup.' % markup)\n"
     ]
    },
    {
     "name": "stdout",
     "output_type": "stream",
     "text": [
      "\n",
      "Review 582000 of 1569264\n",
      "Review 583000 of 1569264\n",
      "Review 584000 of 1569264\n",
      "Review 585000 of 1569264\n",
      "Review 586000 of 1569264\n",
      "Review 587000 of 1569264\n",
      "Review 588000 of 1569264\n",
      "Review 589000 of 1569264\n",
      "Review 590000 of 1569264"
     ]
    },
    {
     "name": "stderr",
     "output_type": "stream",
     "text": [
      "/Users/erichsu/anaconda/lib/python2.7/site-packages/bs4/__init__.py:189: UserWarning: \"http://www.breadsmith.com/locations/mesamenu.pdf\" looks like a URL. Beautiful Soup is not an HTTP client. You should probably use an HTTP client to get the document behind the URL, and feed that document to Beautiful Soup.\n",
      "  '\"%s\" looks like a URL. Beautiful Soup is not an HTTP client. You should probably use an HTTP client to get the document behind the URL, and feed that document to Beautiful Soup.' % markup)\n",
      "/Users/erichsu/anaconda/lib/python2.7/site-packages/bs4/__init__.py:189: UserWarning: \"https://www.facebook.com/TuyetRoyal\" looks like a URL. Beautiful Soup is not an HTTP client. You should probably use an HTTP client to get the document behind the URL, and feed that document to Beautiful Soup.\n",
      "  '\"%s\" looks like a URL. Beautiful Soup is not an HTTP client. You should probably use an HTTP client to get the document behind the URL, and feed that document to Beautiful Soup.' % markup)\n"
     ]
    },
    {
     "name": "stdout",
     "output_type": "stream",
     "text": [
      "\n",
      "Review 591000 of 1569264\n",
      "Review 592000 of 1569264"
     ]
    },
    {
     "name": "stderr",
     "output_type": "stream",
     "text": [
      "/Users/erichsu/anaconda/lib/python2.7/site-packages/bs4/__init__.py:189: UserWarning: \"http://www.yelp.com/biz/new-york-51-pizzeria-scottsdale\n",
      "\n",
      "Sorry!\" looks like a URL. Beautiful Soup is not an HTTP client. You should probably use an HTTP client to get the document behind the URL, and feed that document to Beautiful Soup.\n",
      "  '\"%s\" looks like a URL. Beautiful Soup is not an HTTP client. You should probably use an HTTP client to get the document behind the URL, and feed that document to Beautiful Soup.' % markup)\n",
      "/Users/erichsu/anaconda/lib/python2.7/site-packages/bs4/__init__.py:189: UserWarning: \"http://www.jeepneybist...\n",
      "\n",
      "http://www.yelp.com/bi...\" looks like a URL. Beautiful Soup is not an HTTP client. You should probably use an HTTP client to get the document behind the URL, and feed that document to Beautiful Soup.\n",
      "  '\"%s\" looks like a URL. Beautiful Soup is not an HTTP client. You should probably use an HTTP client to get the document behind the URL, and feed that document to Beautiful Soup.' % markup)\n"
     ]
    },
    {
     "name": "stdout",
     "output_type": "stream",
     "text": [
      "\n",
      "Review 593000 of 1569264\n",
      "Review 594000 of 1569264\n",
      "Review 595000 of 1569264\n",
      "Review 596000 of 1569264\n",
      "Review 597000 of 1569264"
     ]
    },
    {
     "name": "stderr",
     "output_type": "stream",
     "text": [
      "/Users/erichsu/anaconda/lib/python2.7/site-packages/bs4/__init__.py:189: UserWarning: \"http://www.mayoclinic.org/bio/13735799.html\" looks like a URL. Beautiful Soup is not an HTTP client. You should probably use an HTTP client to get the document behind the URL, and feed that document to Beautiful Soup.\n",
      "  '\"%s\" looks like a URL. Beautiful Soup is not an HTTP client. You should probably use an HTTP client to get the document behind the URL, and feed that document to Beautiful Soup.' % markup)\n",
      "/Users/erichsu/anaconda/lib/python2.7/site-packages/bs4/__init__.py:189: UserWarning: \"http://www.yelp.com/biz/big-sur-oyster-bar-las-vegas#hrid:tcssVi14UormweX233SlQw\" looks like a URL. Beautiful Soup is not an HTTP client. You should probably use an HTTP client to get the document behind the URL, and feed that document to Beautiful Soup.\n",
      "  '\"%s\" looks like a URL. Beautiful Soup is not an HTTP client. You should probably use an HTTP client to get the document behind the URL, and feed that document to Beautiful Soup.' % markup)\n"
     ]
    },
    {
     "name": "stdout",
     "output_type": "stream",
     "text": [
      "\n",
      "Review 598000 of 1569264\n",
      "Review 599000 of 1569264\n",
      "Review 600000 of 1569264"
     ]
    },
    {
     "name": "stderr",
     "output_type": "stream",
     "text": [
      "/Users/erichsu/anaconda/lib/python2.7/site-packages/bs4/__init__.py:189: UserWarning: \"http://lwehttam.wordpress.com/2011/02/20/sushi-roku/\" looks like a URL. Beautiful Soup is not an HTTP client. You should probably use an HTTP client to get the document behind the URL, and feed that document to Beautiful Soup.\n",
      "  '\"%s\" looks like a URL. Beautiful Soup is not an HTTP client. You should probably use an HTTP client to get the document behind the URL, and feed that document to Beautiful Soup.' % markup)\n",
      "/Users/erichsu/anaconda/lib/python2.7/site-packages/bs4/__init__.py:189: UserWarning: \"http://www.shopthedistrictgvr.com/farmersmarket/\" looks like a URL. Beautiful Soup is not an HTTP client. You should probably use an HTTP client to get the document behind the URL, and feed that document to Beautiful Soup.\n",
      "  '\"%s\" looks like a URL. Beautiful Soup is not an HTTP client. You should probably use an HTTP client to get the document behind the URL, and feed that document to Beautiful Soup.' % markup)\n"
     ]
    },
    {
     "name": "stdout",
     "output_type": "stream",
     "text": [
      "\n",
      "Review 601000 of 1569264\n",
      "Review 602000 of 1569264\n",
      "Review 603000 of 1569264\n",
      "Review 604000 of 1569264"
     ]
    },
    {
     "name": "stderr",
     "output_type": "stream",
     "text": [
      "/Users/erichsu/anaconda/lib/python2.7/site-packages/bs4/__init__.py:189: UserWarning: \"http://inapplesworld.blogspot.com/\" looks like a URL. Beautiful Soup is not an HTTP client. You should probably use an HTTP client to get the document behind the URL, and feed that document to Beautiful Soup.\n",
      "  '\"%s\" looks like a URL. Beautiful Soup is not an HTTP client. You should probably use an HTTP client to get the document behind the URL, and feed that document to Beautiful Soup.' % markup)\n",
      "/Users/erichsu/anaconda/lib/python2.7/site-packages/bs4/__init__.py:189: UserWarning: \"http://www.facebook.com/pages/Karaoke-Sing-Karaoke-Las-Vegas-NV-Henderson-NV/106424396088819\" looks like a URL. Beautiful Soup is not an HTTP client. You should probably use an HTTP client to get the document behind the URL, and feed that document to Beautiful Soup.\n",
      "  '\"%s\" looks like a URL. Beautiful Soup is not an HTTP client. You should probably use an HTTP client to get the document behind the URL, and feed that document to Beautiful Soup.' % markup)\n"
     ]
    },
    {
     "name": "stdout",
     "output_type": "stream",
     "text": [
      "\n",
      "Review 605000 of 1569264\n",
      "Review 606000 of 1569264"
     ]
    },
    {
     "name": "stderr",
     "output_type": "stream",
     "text": [
      "/Users/erichsu/anaconda/lib/python2.7/site-packages/bs4/__init__.py:189: UserWarning: \"http://www.yelp.com/biz/mortons-the-steakhouse-las-vegas#hrid:UOzbBhPdUCl4wy56QKjDdw\" looks like a URL. Beautiful Soup is not an HTTP client. You should probably use an HTTP client to get the document behind the URL, and feed that document to Beautiful Soup.\n",
      "  '\"%s\" looks like a URL. Beautiful Soup is not an HTTP client. You should probably use an HTTP client to get the document behind the URL, and feed that document to Beautiful Soup.' % markup)\n",
      "/Users/erichsu/anaconda/lib/python2.7/site-packages/bs4/__init__.py:189: UserWarning: \"http://www.yelp.com/biz_photos/qjLlFfu2pnJ9lVYlj-4QVg?select=OSaZJITQDnMHu9sP7UVQwg\" looks like a URL. Beautiful Soup is not an HTTP client. You should probably use an HTTP client to get the document behind the URL, and feed that document to Beautiful Soup.\n",
      "  '\"%s\" looks like a URL. Beautiful Soup is not an HTTP client. You should probably use an HTTP client to get the document behind the URL, and feed that document to Beautiful Soup.' % markup)\n"
     ]
    },
    {
     "name": "stdout",
     "output_type": "stream",
     "text": [
      "\n",
      "Review 607000 of 1569264"
     ]
    },
    {
     "name": "stderr",
     "output_type": "stream",
     "text": [
      "/Users/erichsu/anaconda/lib/python2.7/site-packages/bs4/__init__.py:189: UserWarning: \"http://www.threesquare.org/events/event-calendar/restaurant-week/\" looks like a URL. Beautiful Soup is not an HTTP client. You should probably use an HTTP client to get the document behind the URL, and feed that document to Beautiful Soup.\n",
      "  '\"%s\" looks like a URL. Beautiful Soup is not an HTTP client. You should probably use an HTTP client to get the document behind the URL, and feed that document to Beautiful Soup.' % markup)\n",
      "/Users/erichsu/anaconda/lib/python2.7/site-packages/bs4/__init__.py:189: UserWarning: \"http://www.toddsunique.com/\" looks like a URL. Beautiful Soup is not an HTTP client. You should probably use an HTTP client to get the document behind the URL, and feed that document to Beautiful Soup.\n",
      "  '\"%s\" looks like a URL. Beautiful Soup is not an HTTP client. You should probably use an HTTP client to get the document behind the URL, and feed that document to Beautiful Soup.' % markup)\n"
     ]
    },
    {
     "name": "stdout",
     "output_type": "stream",
     "text": [
      "\n",
      "Review 608000 of 1569264\n",
      "Review 609000 of 1569264\n",
      "Review 610000 of 1569264"
     ]
    },
    {
     "name": "stderr",
     "output_type": "stream",
     "text": [
      "/Users/erichsu/anaconda/lib/python2.7/site-packages/bs4/__init__.py:189: UserWarning: \"http://www.hhovv.org/\" looks like a URL. Beautiful Soup is not an HTTP client. You should probably use an HTTP client to get the document behind the URL, and feed that document to Beautiful Soup.\n",
      "  '\"%s\" looks like a URL. Beautiful Soup is not an HTTP client. You should probably use an HTTP client to get the document behind the URL, and feed that document to Beautiful Soup.' % markup)\n",
      "/Users/erichsu/anaconda/lib/python2.7/site-packages/bs4/__init__.py:189: UserWarning: \"http://vegas.eater.com/archives/2014/09/10/snhd-shuts-down-four-restaurants-across-the-valley.php\" looks like a URL. Beautiful Soup is not an HTTP client. You should probably use an HTTP client to get the document behind the URL, and feed that document to Beautiful Soup.\n",
      "  '\"%s\" looks like a URL. Beautiful Soup is not an HTTP client. You should probably use an HTTP client to get the document behind the URL, and feed that document to Beautiful Soup.' % markup)\n"
     ]
    },
    {
     "name": "stdout",
     "output_type": "stream",
     "text": [
      "\n",
      "Review 611000 of 1569264\n",
      "Review 612000 of 1569264\n",
      "Review 613000 of 1569264\n",
      "Review 614000 of 1569264"
     ]
    },
    {
     "name": "stderr",
     "output_type": "stream",
     "text": [
      "/Users/erichsu/anaconda/lib/python2.7/site-packages/bs4/__init__.py:189: UserWarning: \"http://www.myjiffy.com/oil_change_coupons.php#\" looks like a URL. Beautiful Soup is not an HTTP client. You should probably use an HTTP client to get the document behind the URL, and feed that document to Beautiful Soup.\n",
      "  '\"%s\" looks like a URL. Beautiful Soup is not an HTTP client. You should probably use an HTTP client to get the document behind the URL, and feed that document to Beautiful Soup.' % markup)\n",
      "/Users/erichsu/anaconda/lib/python2.7/site-packages/bs4/__init__.py:189: UserWarning: \"http://carrottop.com\" looks like a URL. Beautiful Soup is not an HTTP client. You should probably use an HTTP client to get the document behind the URL, and feed that document to Beautiful Soup.\n",
      "  '\"%s\" looks like a URL. Beautiful Soup is not an HTTP client. You should probably use an HTTP client to get the document behind the URL, and feed that document to Beautiful Soup.' % markup)\n"
     ]
    },
    {
     "name": "stdout",
     "output_type": "stream",
     "text": [
      "\n",
      "Review 615000 of 1569264"
     ]
    },
    {
     "name": "stderr",
     "output_type": "stream",
     "text": [
      "/Users/erichsu/anaconda/lib/python2.7/site-packages/bs4/__init__.py:189: UserWarning: \"http://lvnvacationhomerentals.com/index.php\" looks like a URL. Beautiful Soup is not an HTTP client. You should probably use an HTTP client to get the document behind the URL, and feed that document to Beautiful Soup.\n",
      "  '\"%s\" looks like a URL. Beautiful Soup is not an HTTP client. You should probably use an HTTP client to get the document behind the URL, and feed that document to Beautiful Soup.' % markup)\n",
      "/Users/erichsu/anaconda/lib/python2.7/site-packages/bs4/__init__.py:189: UserWarning: \"http://www.vosgeschocolate.com/\" looks like a URL. Beautiful Soup is not an HTTP client. You should probably use an HTTP client to get the document behind the URL, and feed that document to Beautiful Soup.\n",
      "  '\"%s\" looks like a URL. Beautiful Soup is not an HTTP client. You should probably use an HTTP client to get the document behind the URL, and feed that document to Beautiful Soup.' % markup)\n"
     ]
    },
    {
     "name": "stdout",
     "output_type": "stream",
     "text": [
      "\n",
      "Review 616000 of 1569264\n",
      "Review 617000 of 1569264"
     ]
    },
    {
     "name": "stderr",
     "output_type": "stream",
     "text": [
      "/Users/erichsu/anaconda/lib/python2.7/site-packages/bs4/__init__.py:189: UserWarning: \"http://www.yelp.com/biz_photos/LpJvitnw7vU5UW-3KE9kjA?select=05V2dKzM-R3p4oJRngv_Tw\n",
      "Cute!\" looks like a URL. Beautiful Soup is not an HTTP client. You should probably use an HTTP client to get the document behind the URL, and feed that document to Beautiful Soup.\n",
      "  '\"%s\" looks like a URL. Beautiful Soup is not an HTTP client. You should probably use an HTTP client to get the document behind the URL, and feed that document to Beautiful Soup.' % markup)\n",
      "/Users/erichsu/anaconda/lib/python2.7/site-packages/bs4/__init__.py:189: UserWarning: \"http://www.yelp.com/biz_photos/LpJvitnw7vU5UW-3KE9kjA?select=u4GGLYGsISd7oe-FGklu5w\" looks like a URL. Beautiful Soup is not an HTTP client. You should probably use an HTTP client to get the document behind the URL, and feed that document to Beautiful Soup.\n",
      "  '\"%s\" looks like a URL. Beautiful Soup is not an HTTP client. You should probably use an HTTP client to get the document behind the URL, and feed that document to Beautiful Soup.' % markup)\n",
      "/Users/erichsu/anaconda/lib/python2.7/site-packages/bs4/__init__.py:189: UserWarning: \"http://www.joesstonecrab.com/recipes/intro.html\" looks like a URL. Beautiful Soup is not an HTTP client. You should probably use an HTTP client to get the document behind the URL, and feed that document to Beautiful Soup.\n",
      "  '\"%s\" looks like a URL. Beautiful Soup is not an HTTP client. You should probably use an HTTP client to get the document behind the URL, and feed that document to Beautiful Soup.' % markup)\n"
     ]
    },
    {
     "name": "stdout",
     "output_type": "stream",
     "text": [
      "\n",
      "Review 618000 of 1569264"
     ]
    },
    {
     "name": "stderr",
     "output_type": "stream",
     "text": [
      "/Users/erichsu/anaconda/lib/python2.7/site-packages/bs4/__init__.py:189: UserWarning: \"http://www.alain-ducasse.com/public/index.htm\" looks like a URL. Beautiful Soup is not an HTTP client. You should probably use an HTTP client to get the document behind the URL, and feed that document to Beautiful Soup.\n",
      "  '\"%s\" looks like a URL. Beautiful Soup is not an HTTP client. You should probably use an HTTP client to get the document behind the URL, and feed that document to Beautiful Soup.' % markup)\n",
      "/Users/erichsu/anaconda/lib/python2.7/site-packages/bs4/__init__.py:189: UserWarning: \"http://www.bluewaikiki.com/bw_lasvegas.html\" looks like a URL. Beautiful Soup is not an HTTP client. You should probably use an HTTP client to get the document behind the URL, and feed that document to Beautiful Soup.\n",
      "  '\"%s\" looks like a URL. Beautiful Soup is not an HTTP client. You should probably use an HTTP client to get the document behind the URL, and feed that document to Beautiful Soup.' % markup)\n"
     ]
    },
    {
     "name": "stdout",
     "output_type": "stream",
     "text": [
      "\n",
      "Review 619000 of 1569264\n",
      "Review 620000 of 1569264"
     ]
    },
    {
     "name": "stderr",
     "output_type": "stream",
     "text": [
      "/Users/erichsu/anaconda/lib/python2.7/site-packages/bs4/__init__.py:189: UserWarning: \"http://neadentistry.com/\" looks like a URL. Beautiful Soup is not an HTTP client. You should probably use an HTTP client to get the document behind the URL, and feed that document to Beautiful Soup.\n",
      "  '\"%s\" looks like a URL. Beautiful Soup is not an HTTP client. You should probably use an HTTP client to get the document behind the URL, and feed that document to Beautiful Soup.' % markup)\n",
      "/Users/erichsu/anaconda/lib/python2.7/site-packages/bs4/__init__.py:189: UserWarning: \"http://www.degreeflash.com/images/DSCF2877.JPG\" looks like a URL. Beautiful Soup is not an HTTP client. You should probably use an HTTP client to get the document behind the URL, and feed that document to Beautiful Soup.\n",
      "  '\"%s\" looks like a URL. Beautiful Soup is not an HTTP client. You should probably use an HTTP client to get the document behind the URL, and feed that document to Beautiful Soup.' % markup)\n"
     ]
    },
    {
     "name": "stdout",
     "output_type": "stream",
     "text": [
      "\n",
      "Review 621000 of 1569264\n",
      "Review 622000 of 1569264\n",
      "Review 623000 of 1569264\n",
      "Review 624000 of 1569264\n",
      "Review 625000 of 1569264"
     ]
    },
    {
     "name": "stderr",
     "output_type": "stream",
     "text": [
      "/Users/erichsu/anaconda/lib/python2.7/site-packages/bs4/__init__.py:189: UserWarning: \"http://www.iihs.org/ratings.\" looks like a URL. Beautiful Soup is not an HTTP client. You should probably use an HTTP client to get the document behind the URL, and feed that document to Beautiful Soup.\n",
      "  '\"%s\" looks like a URL. Beautiful Soup is not an HTTP client. You should probably use an HTTP client to get the document behind the URL, and feed that document to Beautiful Soup.' % markup)\n",
      "/Users/erichsu/anaconda/lib/python2.7/site-packages/bs4/__init__.py:189: UserWarning: \"http://www.yelp.com/user_details_review_search?userid=kd04Y_VyQzuEhKyvhCsPXQ&q=veggie+delight\" looks like a URL. Beautiful Soup is not an HTTP client. You should probably use an HTTP client to get the document behind the URL, and feed that document to Beautiful Soup.\n",
      "  '\"%s\" looks like a URL. Beautiful Soup is not an HTTP client. You should probably use an HTTP client to get the document behind the URL, and feed that document to Beautiful Soup.' % markup)\n"
     ]
    },
    {
     "name": "stdout",
     "output_type": "stream",
     "text": [
      "\n",
      "Review 626000 of 1569264\n",
      "Review 627000 of 1569264\n",
      "Review 628000 of 1569264\n",
      "Review 629000 of 1569264\n",
      "Review 630000 of 1569264"
     ]
    },
    {
     "name": "stderr",
     "output_type": "stream",
     "text": [
      "/Users/erichsu/anaconda/lib/python2.7/site-packages/bs4/__init__.py:189: UserWarning: \"http://www.merchantcircle.com/business/The.Cheesecake.Factory.702-207-6372\" looks like a URL. Beautiful Soup is not an HTTP client. You should probably use an HTTP client to get the document behind the URL, and feed that document to Beautiful Soup.\n",
      "  '\"%s\" looks like a URL. Beautiful Soup is not an HTTP client. You should probably use an HTTP client to get the document behind the URL, and feed that document to Beautiful Soup.' % markup)\n",
      "/Users/erichsu/anaconda/lib/python2.7/site-packages/bs4/__init__.py:189: UserWarning: \"http://www.huffingtonpost.com/2012/11/16/trump-steakhouse-inspection_n_2146571.html?ncid=edlinkusaolp00000003\" looks like a URL. Beautiful Soup is not an HTTP client. You should probably use an HTTP client to get the document behind the URL, and feed that document to Beautiful Soup.\n",
      "  '\"%s\" looks like a URL. Beautiful Soup is not an HTTP client. You should probably use an HTTP client to get the document behind the URL, and feed that document to Beautiful Soup.' % markup)\n"
     ]
    },
    {
     "name": "stdout",
     "output_type": "stream",
     "text": [
      "\n",
      "Review 631000 of 1569264\n",
      "Review 632000 of 1569264\n",
      "Review 633000 of 1569264\n",
      "Review 634000 of 1569264\n",
      "Review 635000 of 1569264\n",
      "Review 636000 of 1569264\n",
      "Review 637000 of 1569264\n",
      "Review 638000 of 1569264\n",
      "Review 639000 of 1569264\n",
      "Review 640000 of 1569264\n",
      "Review 641000 of 1569264\n",
      "Review 642000 of 1569264\n",
      "Review 643000 of 1569264\n",
      "Review 644000 of 1569264\n",
      "Review 645000 of 1569264"
     ]
    },
    {
     "name": "stderr",
     "output_type": "stream",
     "text": [
      "/Users/erichsu/anaconda/lib/python2.7/site-packages/bs4/__init__.py:189: UserWarning: \"http://i208.photobucket.com/albums/bb139/kfoxaz/519871893208_0_ALB.jpg\" looks like a URL. Beautiful Soup is not an HTTP client. You should probably use an HTTP client to get the document behind the URL, and feed that document to Beautiful Soup.\n",
      "  '\"%s\" looks like a URL. Beautiful Soup is not an HTTP client. You should probably use an HTTP client to get the document behind the URL, and feed that document to Beautiful Soup.' % markup)\n",
      "/Users/erichsu/anaconda/lib/python2.7/site-packages/bs4/__init__.py:189: UserWarning: \"http://www.kpho.com/health/22798261/detail.html\" looks like a URL. Beautiful Soup is not an HTTP client. You should probably use an HTTP client to get the document behind the URL, and feed that document to Beautiful Soup.\n",
      "  '\"%s\" looks like a URL. Beautiful Soup is not an HTTP client. You should probably use an HTTP client to get the document behind the URL, and feed that document to Beautiful Soup.' % markup)\n"
     ]
    },
    {
     "name": "stdout",
     "output_type": "stream",
     "text": [
      "\n",
      "Review 646000 of 1569264\n",
      "Review 647000 of 1569264\n",
      "Review 648000 of 1569264"
     ]
    },
    {
     "name": "stderr",
     "output_type": "stream",
     "text": [
      "/Users/erichsu/anaconda/lib/python2.7/site-packages/bs4/__init__.py:189: UserWarning: \"http://www.eatinglv.com/2009/06/en-sushi-on-klas-tv-cbs-channel-8s-dishing-dining/\n",
      "\n",
      "Nice...\" looks like a URL. Beautiful Soup is not an HTTP client. You should probably use an HTTP client to get the document behind the URL, and feed that document to Beautiful Soup.\n",
      "  '\"%s\" looks like a URL. Beautiful Soup is not an HTTP client. You should probably use an HTTP client to get the document behind the URL, and feed that document to Beautiful Soup.' % markup)\n",
      "/Users/erichsu/anaconda/lib/python2.7/site-packages/bs4/__init__.py:189: UserWarning: \"http://www.post-gazette.com/pg/09145/972563-46.stm\" looks like a URL. Beautiful Soup is not an HTTP client. You should probably use an HTTP client to get the document behind the URL, and feed that document to Beautiful Soup.\n",
      "  '\"%s\" looks like a URL. Beautiful Soup is not an HTTP client. You should probably use an HTTP client to get the document behind the URL, and feed that document to Beautiful Soup.' % markup)\n"
     ]
    },
    {
     "name": "stdout",
     "output_type": "stream",
     "text": [
      "\n",
      "Review 649000 of 1569264\n",
      "Review 650000 of 1569264"
     ]
    },
    {
     "name": "stderr",
     "output_type": "stream",
     "text": [
      "/Users/erichsu/anaconda/lib/python2.7/site-packages/bs4/__init__.py:189: UserWarning: \"http://www.yelp.com/biz/chevys-fresh-mex-restaurant-henderson#hrid:x3EEfZF3W1bcp8oER92lWg\" looks like a URL. Beautiful Soup is not an HTTP client. You should probably use an HTTP client to get the document behind the URL, and feed that document to Beautiful Soup.\n",
      "  '\"%s\" looks like a URL. Beautiful Soup is not an HTTP client. You should probably use an HTTP client to get the document behind the URL, and feed that document to Beautiful Soup.' % markup)\n",
      "/Users/erichsu/anaconda/lib/python2.7/site-packages/bs4/__init__.py:189: UserWarning: \"http://www.yelp.com/biz_photos/miracle-mile-shops-las-vegas?select=TtBtg0BIkVTR-YWNpFTRxA#TtBtg0BIkVTR-YWNpFTRxA\" looks like a URL. Beautiful Soup is not an HTTP client. You should probably use an HTTP client to get the document behind the URL, and feed that document to Beautiful Soup.\n",
      "  '\"%s\" looks like a URL. Beautiful Soup is not an HTTP client. You should probably use an HTTP client to get the document behind the URL, and feed that document to Beautiful Soup.' % markup)\n"
     ]
    },
    {
     "name": "stdout",
     "output_type": "stream",
     "text": [
      "\n",
      "Review 651000 of 1569264\n",
      "Review 652000 of 1569264"
     ]
    },
    {
     "name": "stderr",
     "output_type": "stream",
     "text": [
      "/Users/erichsu/anaconda/lib/python2.7/site-packages/bs4/__init__.py:189: UserWarning: \"http://www.yelp.com/biz_photos/AjWFFZN8KwyqJzzi0DyEsw?select=F4NLspbB1o4xetDmIEKmXQ.\" looks like a URL. Beautiful Soup is not an HTTP client. You should probably use an HTTP client to get the document behind the URL, and feed that document to Beautiful Soup.\n",
      "  '\"%s\" looks like a URL. Beautiful Soup is not an HTTP client. You should probably use an HTTP client to get the document behind the URL, and feed that document to Beautiful Soup.' % markup)\n",
      "/Users/erichsu/anaconda/lib/python2.7/site-packages/bs4/__init__.py:189: UserWarning: \"http://www.secret.strandland.com/MaryElaines/\" looks like a URL. Beautiful Soup is not an HTTP client. You should probably use an HTTP client to get the document behind the URL, and feed that document to Beautiful Soup.\n",
      "  '\"%s\" looks like a URL. Beautiful Soup is not an HTTP client. You should probably use an HTTP client to get the document behind the URL, and feed that document to Beautiful Soup.' % markup)\n"
     ]
    },
    {
     "name": "stdout",
     "output_type": "stream",
     "text": [
      "\n",
      "Review 653000 of 1569264\n",
      "Review 654000 of 1569264"
     ]
    },
    {
     "name": "stderr",
     "output_type": "stream",
     "text": [
      "/Users/erichsu/anaconda/lib/python2.7/site-packages/bs4/__init__.py:189: UserWarning: \"http://www.yelp.com/biz_photos/jade-bar-paradise-valley?select=s2hd0fbtVP5F4N4dmx9fCA#s2hd0fbtVP5F4N4dmx9fCA\" looks like a URL. Beautiful Soup is not an HTTP client. You should probably use an HTTP client to get the document behind the URL, and feed that document to Beautiful Soup.\n",
      "  '\"%s\" looks like a URL. Beautiful Soup is not an HTTP client. You should probably use an HTTP client to get the document behind the URL, and feed that document to Beautiful Soup.' % markup)\n",
      "/Users/erichsu/anaconda/lib/python2.7/site-packages/bs4/__init__.py:189: UserWarning: \"http://thelawrencevillevibe.blogspot.com/2010/05/sunday-morning-praise-dawning.html\" looks like a URL. Beautiful Soup is not an HTTP client. You should probably use an HTTP client to get the document behind the URL, and feed that document to Beautiful Soup.\n",
      "  '\"%s\" looks like a URL. Beautiful Soup is not an HTTP client. You should probably use an HTTP client to get the document behind the URL, and feed that document to Beautiful Soup.' % markup)\n",
      "/Users/erichsu/anaconda/lib/python2.7/site-packages/bs4/__init__.py:189: UserWarning: \"http://www.phxmetropolitan.com\" looks like a URL. Beautiful Soup is not an HTTP client. You should probably use an HTTP client to get the document behind the URL, and feed that document to Beautiful Soup.\n",
      "  '\"%s\" looks like a URL. Beautiful Soup is not an HTTP client. You should probably use an HTTP client to get the document behind the URL, and feed that document to Beautiful Soup.' % markup)\n"
     ]
    },
    {
     "name": "stdout",
     "output_type": "stream",
     "text": [
      "\n",
      "Review 655000 of 1569264\n",
      "Review 656000 of 1569264\n",
      "Review 657000 of 1569264\n",
      "Review 658000 of 1569264\n",
      "Review 659000 of 1569264\n",
      "Review 660000 of 1569264\n",
      "Review 661000 of 1569264"
     ]
    },
    {
     "name": "stderr",
     "output_type": "stream",
     "text": [
      "/Users/erichsu/anaconda/lib/python2.7/site-packages/bs4/__init__.py:189: UserWarning: \"http://www.yelp.com/biz_photos/4ugJ4F8jDJ9-2dEiZ47wLg?select=J0FFzxNuH4TF0jexP2tY3w#J0FFzxNuH4TF0jexP2tY3w\n",
      "2A.\" looks like a URL. Beautiful Soup is not an HTTP client. You should probably use an HTTP client to get the document behind the URL, and feed that document to Beautiful Soup.\n",
      "  '\"%s\" looks like a URL. Beautiful Soup is not an HTTP client. You should probably use an HTTP client to get the document behind the URL, and feed that document to Beautiful Soup.' % markup)\n",
      "/Users/erichsu/anaconda/lib/python2.7/site-packages/bs4/__init__.py:189: UserWarning: \"http://www.yelp.com/biz_photos/4ugJ4F8jDJ9-2dEiZ47wLg?select=J0FFzxNuH4TF0jexP2tY3w#KGCR_WyqmS6CdQvpjsSGwQ\n",
      "2M.\" looks like a URL. Beautiful Soup is not an HTTP client. You should probably use an HTTP client to get the document behind the URL, and feed that document to Beautiful Soup.\n",
      "  '\"%s\" looks like a URL. Beautiful Soup is not an HTTP client. You should probably use an HTTP client to get the document behind the URL, and feed that document to Beautiful Soup.' % markup)\n",
      "/Users/erichsu/anaconda/lib/python2.7/site-packages/bs4/__init__.py:189: UserWarning: \"http://www.lvrj.com/news/8781542.html\" looks like a URL. Beautiful Soup is not an HTTP client. You should probably use an HTTP client to get the document behind the URL, and feed that document to Beautiful Soup.\n",
      "  '\"%s\" looks like a URL. Beautiful Soup is not an HTTP client. You should probably use an HTTP client to get the document behind the URL, and feed that document to Beautiful Soup.' % markup)\n"
     ]
    },
    {
     "name": "stdout",
     "output_type": "stream",
     "text": [
      "\n",
      "Review 662000 of 1569264\n",
      "Review 663000 of 1569264\n",
      "Review 664000 of 1569264\n",
      "Review 665000 of 1569264\n",
      "Review 666000 of 1569264"
     ]
    },
    {
     "name": "stderr",
     "output_type": "stream",
     "text": [
      "/Users/erichsu/anaconda/lib/python2.7/site-packages/bs4/__init__.py:189: UserWarning: \"http://autocollections.com/index.cfm?action=free&tab=free\" looks like a URL. Beautiful Soup is not an HTTP client. You should probably use an HTTP client to get the document behind the URL, and feed that document to Beautiful Soup.\n",
      "  '\"%s\" looks like a URL. Beautiful Soup is not an HTTP client. You should probably use an HTTP client to get the document behind the URL, and feed that document to Beautiful Soup.' % markup)\n",
      "/Users/erichsu/anaconda/lib/python2.7/site-packages/bs4/__init__.py:189: UserWarning: \"http://www.yelp.com/biz/lo-los-chicken-and-waffles-phoenix#hrid:KN-j7PyAgt4EGCnjUMCHTQ\" looks like a URL. Beautiful Soup is not an HTTP client. You should probably use an HTTP client to get the document behind the URL, and feed that document to Beautiful Soup.\n",
      "  '\"%s\" looks like a URL. Beautiful Soup is not an HTTP client. You should probably use an HTTP client to get the document behind the URL, and feed that document to Beautiful Soup.' % markup)\n"
     ]
    },
    {
     "name": "stdout",
     "output_type": "stream",
     "text": [
      "\n",
      "Review 667000 of 1569264\n",
      "Review 668000 of 1569264\n",
      "Review 669000 of 1569264\n",
      "Review 670000 of 1569264"
     ]
    },
    {
     "name": "stderr",
     "output_type": "stream",
     "text": [
      "/Users/erichsu/anaconda/lib/python2.7/site-packages/bs4/__init__.py:189: UserWarning: \"http://www.kosushi2go.com/\" looks like a URL. Beautiful Soup is not an HTTP client. You should probably use an HTTP client to get the document behind the URL, and feed that document to Beautiful Soup.\n",
      "  '\"%s\" looks like a URL. Beautiful Soup is not an HTTP client. You should probably use an HTTP client to get the document behind the URL, and feed that document to Beautiful Soup.' % markup)\n",
      "/Users/erichsu/anaconda/lib/python2.7/site-packages/bs4/__init__.py:189: UserWarning: \"http://www.yelp.com/biz_photos/DkYS3arLOhA8si5uUEmHOw?select=f87flydbA6bnMIEZXqQuww\n",
      "\n",
      "Now.\" looks like a URL. Beautiful Soup is not an HTTP client. You should probably use an HTTP client to get the document behind the URL, and feed that document to Beautiful Soup.\n",
      "  '\"%s\" looks like a URL. Beautiful Soup is not an HTTP client. You should probably use an HTTP client to get the document behind the URL, and feed that document to Beautiful Soup.' % markup)\n"
     ]
    },
    {
     "name": "stdout",
     "output_type": "stream",
     "text": [
      "\n",
      "Review 671000 of 1569264\n",
      "Review 672000 of 1569264\n",
      "Review 673000 of 1569264\n",
      "Review 674000 of 1569264\n",
      "Review 675000 of 1569264\n",
      "Review 676000 of 1569264\n",
      "Review 677000 of 1569264\n",
      "Review 678000 of 1569264\n",
      "Review 679000 of 1569264\n",
      "Review 680000 of 1569264"
     ]
    },
    {
     "name": "stderr",
     "output_type": "stream",
     "text": [
      "/Users/erichsu/anaconda/lib/python2.7/site-packages/bs4/__init__.py:189: UserWarning: \"http://www.yelp.com/biz_photos/DkYS3arLOhA8si5uUEmHOw?select=DbdvnjAtWRE2Hj0_MbX26Q\" looks like a URL. Beautiful Soup is not an HTTP client. You should probably use an HTTP client to get the document behind the URL, and feed that document to Beautiful Soup.\n",
      "  '\"%s\" looks like a URL. Beautiful Soup is not an HTTP client. You should probably use an HTTP client to get the document behind the URL, and feed that document to Beautiful Soup.' % markup)\n",
      "/Users/erichsu/anaconda/lib/python2.7/site-packages/bs4/__init__.py:189: UserWarning: \"http://www.mirage.com/entertainment/special-offer-love.aspx\" looks like a URL. Beautiful Soup is not an HTTP client. You should probably use an HTTP client to get the document behind the URL, and feed that document to Beautiful Soup.\n",
      "  '\"%s\" looks like a URL. Beautiful Soup is not an HTTP client. You should probably use an HTTP client to get the document behind the URL, and feed that document to Beautiful Soup.' % markup)\n"
     ]
    },
    {
     "name": "stdout",
     "output_type": "stream",
     "text": [
      "\n",
      "Review 681000 of 1569264"
     ]
    },
    {
     "name": "stderr",
     "output_type": "stream",
     "text": [
      "/Users/erichsu/anaconda/lib/python2.7/site-packages/bs4/__init__.py:189: UserWarning: \"http://www.plazahotelcasino.com/entertainment/louie-anderson\" looks like a URL. Beautiful Soup is not an HTTP client. You should probably use an HTTP client to get the document behind the URL, and feed that document to Beautiful Soup.\n",
      "  '\"%s\" looks like a URL. Beautiful Soup is not an HTTP client. You should probably use an HTTP client to get the document behind the URL, and feed that document to Beautiful Soup.' % markup)\n",
      "/Users/erichsu/anaconda/lib/python2.7/site-packages/bs4/__init__.py:189: UserWarning: \"http://www.kvbc.com/global/story.asp?s=10810973\" looks like a URL. Beautiful Soup is not an HTTP client. You should probably use an HTTP client to get the document behind the URL, and feed that document to Beautiful Soup.\n",
      "  '\"%s\" looks like a URL. Beautiful Soup is not an HTTP client. You should probably use an HTTP client to get the document behind the URL, and feed that document to Beautiful Soup.' % markup)\n"
     ]
    },
    {
     "name": "stdout",
     "output_type": "stream",
     "text": [
      "\n",
      "Review 682000 of 1569264\n",
      "Review 683000 of 1569264"
     ]
    },
    {
     "name": "stderr",
     "output_type": "stream",
     "text": [
      "/Users/erichsu/anaconda/lib/python2.7/site-packages/bs4/__init__.py:189: UserWarning: \"http://www.yelp.com/user_details_review_search?userid=y3FcL4bLy0eLlkb0SDPnBQ&q=sambalatte\" looks like a URL. Beautiful Soup is not an HTTP client. You should probably use an HTTP client to get the document behind the URL, and feed that document to Beautiful Soup.\n",
      "  '\"%s\" looks like a URL. Beautiful Soup is not an HTTP client. You should probably use an HTTP client to get the document behind the URL, and feed that document to Beautiful Soup.' % markup)\n",
      "/Users/erichsu/anaconda/lib/python2.7/site-packages/bs4/__init__.py:189: UserWarning: \"http://www.youtube.com/watch?v=rJTOoI0EXc0&feature=channel_video_title\" looks like a URL. Beautiful Soup is not an HTTP client. You should probably use an HTTP client to get the document behind the URL, and feed that document to Beautiful Soup.\n",
      "  '\"%s\" looks like a URL. Beautiful Soup is not an HTTP client. You should probably use an HTTP client to get the document behind the URL, and feed that document to Beautiful Soup.' % markup)\n"
     ]
    },
    {
     "name": "stdout",
     "output_type": "stream",
     "text": [
      "\n",
      "Review 684000 of 1569264\n",
      "Review 685000 of 1569264\n",
      "Review 686000 of 1569264\n",
      "Review 687000 of 1569264\n",
      "Review 688000 of 1569264"
     ]
    },
    {
     "name": "stderr",
     "output_type": "stream",
     "text": [
      "/Users/erichsu/anaconda/lib/python2.7/site-packages/bs4/__init__.py:189: UserWarning: \"http://www.yelp.com/biz_photos/-Dnh48f029YNugtMKkkI-Q?select=dUlITiNdAY5kue075cevJQ#dUlITiNdAY5kue075cevJQ\" looks like a URL. Beautiful Soup is not an HTTP client. You should probably use an HTTP client to get the document behind the URL, and feed that document to Beautiful Soup.\n",
      "  '\"%s\" looks like a URL. Beautiful Soup is not an HTTP client. You should probably use an HTTP client to get the document behind the URL, and feed that document to Beautiful Soup.' % markup)\n",
      "/Users/erichsu/anaconda/lib/python2.7/site-packages/bs4/__init__.py:189: UserWarning: \"http://www.yelp.com/biz_photos/AyEtowSGi9vx0-xFfrgjWw?select=3gNuupNE4bC3Ey8P_y8mvg\" looks like a URL. Beautiful Soup is not an HTTP client. You should probably use an HTTP client to get the document behind the URL, and feed that document to Beautiful Soup.\n",
      "  '\"%s\" looks like a URL. Beautiful Soup is not an HTTP client. You should probably use an HTTP client to get the document behind the URL, and feed that document to Beautiful Soup.' % markup)\n"
     ]
    },
    {
     "name": "stdout",
     "output_type": "stream",
     "text": [
      "\n",
      "Review 689000 of 1569264\n",
      "Review 690000 of 1569264\n",
      "Review 691000 of 1569264"
     ]
    },
    {
     "name": "stderr",
     "output_type": "stream",
     "text": [
      "/Users/erichsu/anaconda/lib/python2.7/site-packages/bs4/__init__.py:189: UserWarning: \"http://www.islandsrestaurants.com/about/SearchResult.aspx\" looks like a URL. Beautiful Soup is not an HTTP client. You should probably use an HTTP client to get the document behind the URL, and feed that document to Beautiful Soup.\n",
      "  '\"%s\" looks like a URL. Beautiful Soup is not an HTTP client. You should probably use an HTTP client to get the document behind the URL, and feed that document to Beautiful Soup.' % markup)\n",
      "/Users/erichsu/anaconda/lib/python2.7/site-packages/bs4/__init__.py:189: UserWarning: \"http://www.yelp.com/biz_photos/roka-akor-scottsdale-4?select=HrhOl_vuURZc31AE4wdbcA#HrhOl_vuURZc31AE4wdbcA\" looks like a URL. Beautiful Soup is not an HTTP client. You should probably use an HTTP client to get the document behind the URL, and feed that document to Beautiful Soup.\n",
      "  '\"%s\" looks like a URL. Beautiful Soup is not an HTTP client. You should probably use an HTTP client to get the document behind the URL, and feed that document to Beautiful Soup.' % markup)\n"
     ]
    },
    {
     "name": "stdout",
     "output_type": "stream",
     "text": [
      "\n",
      "Review 692000 of 1569264"
     ]
    },
    {
     "name": "stderr",
     "output_type": "stream",
     "text": [
      "/Users/erichsu/anaconda/lib/python2.7/site-packages/bs4/__init__.py:189: UserWarning: \"http://rokaakor.com/mobi/scottsdale-menu.html\" looks like a URL. Beautiful Soup is not an HTTP client. You should probably use an HTTP client to get the document behind the URL, and feed that document to Beautiful Soup.\n",
      "  '\"%s\" looks like a URL. Beautiful Soup is not an HTTP client. You should probably use an HTTP client to get the document behind the URL, and feed that document to Beautiful Soup.' % markup)\n",
      "/Users/erichsu/anaconda/lib/python2.7/site-packages/bs4/__init__.py:189: UserWarning: \"http://www.usmenuguide.com/oyshi.html\" looks like a URL. Beautiful Soup is not an HTTP client. You should probably use an HTTP client to get the document behind the URL, and feed that document to Beautiful Soup.\n",
      "  '\"%s\" looks like a URL. Beautiful Soup is not an HTTP client. You should probably use an HTTP client to get the document behind the URL, and feed that document to Beautiful Soup.' % markup)\n"
     ]
    },
    {
     "name": "stdout",
     "output_type": "stream",
     "text": [
      "\n",
      "Review 693000 of 1569264"
     ]
    },
    {
     "name": "stderr",
     "output_type": "stream",
     "text": [
      "/Users/erichsu/anaconda/lib/python2.7/site-packages/bs4/__init__.py:189: UserWarning: \"http://www.yelp.com/biz/la-bocca-urban-pizzeria-wine-bar-tempe#hrid:O3ctYrNgJDYoj_k-erYzDQ\n",
      "\n",
      "Enjoy!\" looks like a URL. Beautiful Soup is not an HTTP client. You should probably use an HTTP client to get the document behind the URL, and feed that document to Beautiful Soup.\n",
      "  '\"%s\" looks like a URL. Beautiful Soup is not an HTTP client. You should probably use an HTTP client to get the document behind the URL, and feed that document to Beautiful Soup.' % markup)\n",
      "/Users/erichsu/anaconda/lib/python2.7/site-packages/bs4/__init__.py:189: UserWarning: \"http://www.yelp.com/biz_photos/vAbRNF0hJt91oCUpm_sdKw?select=5jOntNFBA-zzs_q5_Lf7xw.\" looks like a URL. Beautiful Soup is not an HTTP client. You should probably use an HTTP client to get the document behind the URL, and feed that document to Beautiful Soup.\n",
      "  '\"%s\" looks like a URL. Beautiful Soup is not an HTTP client. You should probably use an HTTP client to get the document behind the URL, and feed that document to Beautiful Soup.' % markup)\n"
     ]
    },
    {
     "name": "stdout",
     "output_type": "stream",
     "text": [
      "\n",
      "Review 694000 of 1569264\n",
      "Review 695000 of 1569264"
     ]
    },
    {
     "name": "stderr",
     "output_type": "stream",
     "text": [
      "/Users/erichsu/anaconda/lib/python2.7/site-packages/bs4/__init__.py:189: UserWarning: \"http://www.towntalkbbq.com/\" looks like a URL. Beautiful Soup is not an HTTP client. You should probably use an HTTP client to get the document behind the URL, and feed that document to Beautiful Soup.\n",
      "  '\"%s\" looks like a URL. Beautiful Soup is not an HTTP client. You should probably use an HTTP client to get the document behind the URL, and feed that document to Beautiful Soup.' % markup)\n",
      "/Users/erichsu/anaconda/lib/python2.7/site-packages/bs4/__init__.py:189: UserWarning: \"http://www.theabsoluteorganics.com/\" looks like a URL. Beautiful Soup is not an HTTP client. You should probably use an HTTP client to get the document behind the URL, and feed that document to Beautiful Soup.\n",
      "  '\"%s\" looks like a URL. Beautiful Soup is not an HTTP client. You should probably use an HTTP client to get the document behind the URL, and feed that document to Beautiful Soup.' % markup)\n"
     ]
    },
    {
     "name": "stdout",
     "output_type": "stream",
     "text": [
      "\n",
      "Review 696000 of 1569264\n",
      "Review 697000 of 1569264"
     ]
    },
    {
     "name": "stderr",
     "output_type": "stream",
     "text": [
      "/Users/erichsu/anaconda/lib/python2.7/site-packages/bs4/__init__.py:189: UserWarning: \"http://www.theabsoluteorganics.com\" looks like a URL. Beautiful Soup is not an HTTP client. You should probably use an HTTP client to get the document behind the URL, and feed that document to Beautiful Soup.\n",
      "  '\"%s\" looks like a URL. Beautiful Soup is not an HTTP client. You should probably use an HTTP client to get the document behind the URL, and feed that document to Beautiful Soup.' % markup)\n",
      "/Users/erichsu/anaconda/lib/python2.7/site-packages/bs4/__init__.py:189: UserWarning: \"http://www.yelp.com/biz_photos/bellagio-conservatory-and-botanical-gardens-las-vegas?select=PuupyE-05RLRR1GnYCu7Ig#PuupyE-05RLRR1GnYCu7Ig\" looks like a URL. Beautiful Soup is not an HTTP client. You should probably use an HTTP client to get the document behind the URL, and feed that document to Beautiful Soup.\n",
      "  '\"%s\" looks like a URL. Beautiful Soup is not an HTTP client. You should probably use an HTTP client to get the document behind the URL, and feed that document to Beautiful Soup.' % markup)\n"
     ]
    },
    {
     "name": "stdout",
     "output_type": "stream",
     "text": [
      "\n",
      "Review 698000 of 1569264\n",
      "Review 699000 of 1569264\n",
      "Review 700000 of 1569264\n",
      "Review 701000 of 1569264\n",
      "Review 702000 of 1569264"
     ]
    },
    {
     "name": "stderr",
     "output_type": "stream",
     "text": [
      "/Users/erichsu/anaconda/lib/python2.7/site-packages/bs4/__init__.py:189: UserWarning: \"http://www.crphotography.org/\" looks like a URL. Beautiful Soup is not an HTTP client. You should probably use an HTTP client to get the document behind the URL, and feed that document to Beautiful Soup.\n",
      "  '\"%s\" looks like a URL. Beautiful Soup is not an HTTP client. You should probably use an HTTP client to get the document behind the URL, and feed that document to Beautiful Soup.' % markup)\n",
      "/Users/erichsu/anaconda/lib/python2.7/site-packages/bs4/__init__.py:189: UserWarning: \"http://www.springspreserve.org/apps/event/details.cfml?id=206&date=11%2F06%2F2010\" looks like a URL. Beautiful Soup is not an HTTP client. You should probably use an HTTP client to get the document behind the URL, and feed that document to Beautiful Soup.\n",
      "  '\"%s\" looks like a URL. Beautiful Soup is not an HTTP client. You should probably use an HTTP client to get the document behind the URL, and feed that document to Beautiful Soup.' % markup)\n"
     ]
    },
    {
     "name": "stdout",
     "output_type": "stream",
     "text": [
      "\n",
      "Review 703000 of 1569264"
     ]
    },
    {
     "name": "stderr",
     "output_type": "stream",
     "text": [
      "/Users/erichsu/anaconda/lib/python2.7/site-packages/bs4/__init__.py:189: UserWarning: \"http://www.yelp.com/biz_photos/springs-preserve-las-vegas?select=AbXVuW15cDreljppZ6s4MA#AbXVuW15cDreljppZ6s4MA\" looks like a URL. Beautiful Soup is not an HTTP client. You should probably use an HTTP client to get the document behind the URL, and feed that document to Beautiful Soup.\n",
      "  '\"%s\" looks like a URL. Beautiful Soup is not an HTTP client. You should probably use an HTTP client to get the document behind the URL, and feed that document to Beautiful Soup.' % markup)\n",
      "/Users/erichsu/anaconda/lib/python2.7/site-packages/bs4/__init__.py:189: UserWarning: \"http://blogs.lasvegascitylife.com/cityblog/2009/07/23/notes-from-vegas-clubland-planet-hollywoods-prive-misbehaves-gets-shut-down/\" looks like a URL. Beautiful Soup is not an HTTP client. You should probably use an HTTP client to get the document behind the URL, and feed that document to Beautiful Soup.\n",
      "  '\"%s\" looks like a URL. Beautiful Soup is not an HTTP client. You should probably use an HTTP client to get the document behind the URL, and feed that document to Beautiful Soup.' % markup)\n"
     ]
    },
    {
     "name": "stdout",
     "output_type": "stream",
     "text": [
      "\n",
      "Review 704000 of 1569264\n",
      "Review 705000 of 1569264\n",
      "Review 706000 of 1569264\n",
      "Review 707000 of 1569264\n",
      "Review 708000 of 1569264\n",
      "Review 709000 of 1569264"
     ]
    },
    {
     "name": "stderr",
     "output_type": "stream",
     "text": [
      "/Users/erichsu/anaconda/lib/python2.7/site-packages/bs4/__init__.py:189: UserWarning: \"http://www.epicurious.com/recipes/food/views/Mignonette-Sauce-15405\" looks like a URL. Beautiful Soup is not an HTTP client. You should probably use an HTTP client to get the document behind the URL, and feed that document to Beautiful Soup.\n",
      "  '\"%s\" looks like a URL. Beautiful Soup is not an HTTP client. You should probably use an HTTP client to get the document behind the URL, and feed that document to Beautiful Soup.' % markup)\n",
      "/Users/erichsu/anaconda/lib/python2.7/site-packages/bs4/__init__.py:189: UserWarning: \"http://www.youtube.com/watch?v=AL4Amj0F2Pk&feature=g-upl&context=G2f125afAUAAAAAAALAA\" looks like a URL. Beautiful Soup is not an HTTP client. You should probably use an HTTP client to get the document behind the URL, and feed that document to Beautiful Soup.\n",
      "  '\"%s\" looks like a URL. Beautiful Soup is not an HTTP client. You should probably use an HTTP client to get the document behind the URL, and feed that document to Beautiful Soup.' % markup)\n"
     ]
    },
    {
     "name": "stdout",
     "output_type": "stream",
     "text": [
      "\n",
      "Review 710000 of 1569264\n",
      "Review 711000 of 1569264\n",
      "Review 712000 of 1569264\n",
      "Review 713000 of 1569264\n",
      "Review 714000 of 1569264\n",
      "Review 715000 of 1569264"
     ]
    },
    {
     "name": "stderr",
     "output_type": "stream",
     "text": [
      "/Users/erichsu/anaconda/lib/python2.7/site-packages/bs4/__init__.py:189: UserWarning: \"http://www.maricopa.gov/parks/white_tank/\" looks like a URL. Beautiful Soup is not an HTTP client. You should probably use an HTTP client to get the document behind the URL, and feed that document to Beautiful Soup.\n",
      "  '\"%s\" looks like a URL. Beautiful Soup is not an HTTP client. You should probably use an HTTP client to get the document behind the URL, and feed that document to Beautiful Soup.' % markup)\n",
      "/Users/erichsu/anaconda/lib/python2.7/site-packages/bs4/__init__.py:189: UserWarning: \"http://www.azcentral.com/business/articles/2009/05/11/20090511biz-swv-restaurants0512.html\" looks like a URL. Beautiful Soup is not an HTTP client. You should probably use an HTTP client to get the document behind the URL, and feed that document to Beautiful Soup.\n",
      "  '\"%s\" looks like a URL. Beautiful Soup is not an HTTP client. You should probably use an HTTP client to get the document behind the URL, and feed that document to Beautiful Soup.' % markup)\n",
      "/Users/erichsu/anaconda/lib/python2.7/site-packages/bs4/__init__.py:189: UserWarning: \"http://www.mcalistersdeli.com/nutrition/\n",
      "\n",
      "WHAT?!\" looks like a URL. Beautiful Soup is not an HTTP client. You should probably use an HTTP client to get the document behind the URL, and feed that document to Beautiful Soup.\n",
      "  '\"%s\" looks like a URL. Beautiful Soup is not an HTTP client. You should probably use an HTTP client to get the document behind the URL, and feed that document to Beautiful Soup.' % markup)\n",
      "/Users/erichsu/anaconda/lib/python2.7/site-packages/bs4/__init__.py:189: UserWarning: \"http://blueadobegrille.com/\" looks like a URL. Beautiful Soup is not an HTTP client. You should probably use an HTTP client to get the document behind the URL, and feed that document to Beautiful Soup.\n",
      "  '\"%s\" looks like a URL. Beautiful Soup is not an HTTP client. You should probably use an HTTP client to get the document behind the URL, and feed that document to Beautiful Soup.' % markup)\n"
     ]
    },
    {
     "name": "stdout",
     "output_type": "stream",
     "text": [
      "\n",
      "Review 716000 of 1569264\n",
      "Review 717000 of 1569264\n",
      "Review 718000 of 1569264"
     ]
    },
    {
     "name": "stderr",
     "output_type": "stream",
     "text": [
      "/Users/erichsu/anaconda/lib/python2.7/site-packages/bs4/__init__.py:189: UserWarning: \"http://cinematreasures.org/news/26155_0_1_0_M/\" looks like a URL. Beautiful Soup is not an HTTP client. You should probably use an HTTP client to get the document behind the URL, and feed that document to Beautiful Soup.\n",
      "  '\"%s\" looks like a URL. Beautiful Soup is not an HTTP client. You should probably use an HTTP client to get the document behind the URL, and feed that document to Beautiful Soup.' % markup)\n",
      "/Users/erichsu/anaconda/lib/python2.7/site-packages/bs4/__init__.py:189: UserWarning: \"http://thedish.freedomblogging.com/2009/04/27/photos-notorious-pig-dinner-at-digestif/6939/\" looks like a URL. Beautiful Soup is not an HTTP client. You should probably use an HTTP client to get the document behind the URL, and feed that document to Beautiful Soup.\n",
      "  '\"%s\" looks like a URL. Beautiful Soup is not an HTTP client. You should probably use an HTTP client to get the document behind the URL, and feed that document to Beautiful Soup.' % markup)\n"
     ]
    },
    {
     "name": "stdout",
     "output_type": "stream",
     "text": [
      "\n",
      "Review 719000 of 1569264\n",
      "Review 720000 of 1569264\n",
      "Review 721000 of 1569264"
     ]
    },
    {
     "name": "stderr",
     "output_type": "stream",
     "text": [
      "/Users/erichsu/anaconda/lib/python2.7/site-packages/bs4/__init__.py:189: UserWarning: \"http://www.yelp.com/biz_photos/O_2VEWa6ExYX5HpF3GW5yg?select=1MvW7owNmtFIwSTuidqOUw\" looks like a URL. Beautiful Soup is not an HTTP client. You should probably use an HTTP client to get the document behind the URL, and feed that document to Beautiful Soup.\n",
      "  '\"%s\" looks like a URL. Beautiful Soup is not an HTTP client. You should probably use an HTTP client to get the document behind the URL, and feed that document to Beautiful Soup.' % markup)\n",
      "/Users/erichsu/anaconda/lib/python2.7/site-packages/bs4/__init__.py:189: UserWarning: \"http://www.paradisebakery.com/\" looks like a URL. Beautiful Soup is not an HTTP client. You should probably use an HTTP client to get the document behind the URL, and feed that document to Beautiful Soup.\n",
      "  '\"%s\" looks like a URL. Beautiful Soup is not an HTTP client. You should probably use an HTTP client to get the document behind the URL, and feed that document to Beautiful Soup.' % markup)\n"
     ]
    },
    {
     "name": "stdout",
     "output_type": "stream",
     "text": [
      "\n",
      "Review 722000 of 1569264\n",
      "Review 723000 of 1569264\n",
      "Review 724000 of 1569264\n",
      "Review 725000 of 1569264\n",
      "Review 726000 of 1569264\n",
      "Review 727000 of 1569264\n",
      "Review 728000 of 1569264\n",
      "Review 729000 of 1569264\n",
      "Review 730000 of 1569264\n",
      "Review 731000 of 1569264\n",
      "Review 732000 of 1569264\n",
      "Review 733000 of 1569264\n",
      "Review 734000 of 1569264"
     ]
    },
    {
     "name": "stderr",
     "output_type": "stream",
     "text": [
      "/Users/erichsu/anaconda/lib/python2.7/site-packages/bs4/__init__.py:189: UserWarning: \"http://www.techiesinfo.com\" looks like a URL. Beautiful Soup is not an HTTP client. You should probably use an HTTP client to get the document behind the URL, and feed that document to Beautiful Soup.\n",
      "  '\"%s\" looks like a URL. Beautiful Soup is not an HTTP client. You should probably use an HTTP client to get the document behind the URL, and feed that document to Beautiful Soup.' % markup)\n",
      "/Users/erichsu/anaconda/lib/python2.7/site-packages/bs4/__init__.py:189: UserWarning: \"http://en.wikipedia.org/wiki/List_of_Las_Vegas_casinos_that_never_opened\" looks like a URL. Beautiful Soup is not an HTTP client. You should probably use an HTTP client to get the document behind the URL, and feed that document to Beautiful Soup.\n",
      "  '\"%s\" looks like a URL. Beautiful Soup is not an HTTP client. You should probably use an HTTP client to get the document behind the URL, and feed that document to Beautiful Soup.' % markup)\n"
     ]
    },
    {
     "name": "stdout",
     "output_type": "stream",
     "text": [
      "\n",
      "Review 735000 of 1569264"
     ]
    },
    {
     "name": "stderr",
     "output_type": "stream",
     "text": [
      "/Users/erichsu/anaconda/lib/python2.7/site-packages/bs4/__init__.py:189: UserWarning: \"http://www.daveramsey.com/article/the-truth-about-timeshares/\" looks like a URL. Beautiful Soup is not an HTTP client. You should probably use an HTTP client to get the document behind the URL, and feed that document to Beautiful Soup.\n",
      "  '\"%s\" looks like a URL. Beautiful Soup is not an HTTP client. You should probably use an HTTP client to get the document behind the URL, and feed that document to Beautiful Soup.' % markup)\n",
      "/Users/erichsu/anaconda/lib/python2.7/site-packages/bs4/__init__.py:189: UserWarning: \"http://www.waiwaipgh.com/\" looks like a URL. Beautiful Soup is not an HTTP client. You should probably use an HTTP client to get the document behind the URL, and feed that document to Beautiful Soup.\n",
      "  '\"%s\" looks like a URL. Beautiful Soup is not an HTTP client. You should probably use an HTTP client to get the document behind the URL, and feed that document to Beautiful Soup.' % markup)\n"
     ]
    },
    {
     "name": "stdout",
     "output_type": "stream",
     "text": [
      "\n",
      "Review 736000 of 1569264\n",
      "Review 737000 of 1569264\n",
      "Review 738000 of 1569264"
     ]
    },
    {
     "name": "stderr",
     "output_type": "stream",
     "text": [
      "/Users/erichsu/anaconda/lib/python2.7/site-packages/bs4/__init__.py:189: UserWarning: \"http://queencreekolivemill.com/\" looks like a URL. Beautiful Soup is not an HTTP client. You should probably use an HTTP client to get the document behind the URL, and feed that document to Beautiful Soup.\n",
      "  '\"%s\" looks like a URL. Beautiful Soup is not an HTTP client. You should probably use an HTTP client to get the document behind the URL, and feed that document to Beautiful Soup.' % markup)\n",
      "/Users/erichsu/anaconda/lib/python2.7/site-packages/bs4/__init__.py:189: UserWarning: \"http://www.youtube.com/watch?v=NelL0lSW4sM&feature=share&list=UUHxCm8yARmGL1AtxOC4VkAw\" looks like a URL. Beautiful Soup is not an HTTP client. You should probably use an HTTP client to get the document behind the URL, and feed that document to Beautiful Soup.\n",
      "  '\"%s\" looks like a URL. Beautiful Soup is not an HTTP client. You should probably use an HTTP client to get the document behind the URL, and feed that document to Beautiful Soup.' % markup)\n"
     ]
    },
    {
     "name": "stdout",
     "output_type": "stream",
     "text": [
      "\n",
      "Review 739000 of 1569264\n",
      "Review 740000 of 1569264\n",
      "Review 741000 of 1569264\n",
      "Review 742000 of 1569264\n",
      "Review 743000 of 1569264\n",
      "Review 744000 of 1569264"
     ]
    },
    {
     "name": "stderr",
     "output_type": "stream",
     "text": [
      "/Users/erichsu/anaconda/lib/python2.7/site-packages/bs4/__init__.py:189: UserWarning: \"http://www.dmvnv.com/pdfforms/ced020.pdf\" looks like a URL. Beautiful Soup is not an HTTP client. You should probably use an HTTP client to get the document behind the URL, and feed that document to Beautiful Soup.\n",
      "  '\"%s\" looks like a URL. Beautiful Soup is not an HTTP client. You should probably use an HTTP client to get the document behind the URL, and feed that document to Beautiful Soup.' % markup)\n",
      "/Users/erichsu/anaconda/lib/python2.7/site-packages/bs4/__init__.py:189: UserWarning: \"http://www.maricopa.gov/envsvc/envwebapp/tabs/results.aspx?navigatedFrom=businessResultsDrillDown&mc_perm_id=217877&business=HARU%20SUSHI&address=9845%20%20%20S%20%20PRIEST%20DR&permitid=SG62199\" looks like a URL. Beautiful Soup is not an HTTP client. You should probably use an HTTP client to get the document behind the URL, and feed that document to Beautiful Soup.\n",
      "  '\"%s\" looks like a URL. Beautiful Soup is not an HTTP client. You should probably use an HTTP client to get the document behind the URL, and feed that document to Beautiful Soup.' % markup)\n",
      "/Users/erichsu/anaconda/lib/python2.7/site-packages/bs4/__init__.py:189: UserWarning: \"http://www.kpho.com/story/23042384/dirty-dining-aug-1-valley-sushi-bar-has-12-major-violations\" looks like a URL. Beautiful Soup is not an HTTP client. You should probably use an HTTP client to get the document behind the URL, and feed that document to Beautiful Soup.\n",
      "  '\"%s\" looks like a URL. Beautiful Soup is not an HTTP client. You should probably use an HTTP client to get the document behind the URL, and feed that document to Beautiful Soup.' % markup)\n",
      "/Users/erichsu/anaconda/lib/python2.7/site-packages/bs4/__init__.py:189: UserWarning: \"http://www.scottsdaleaz.gov/parks/pinnacle\" looks like a URL. Beautiful Soup is not an HTTP client. You should probably use an HTTP client to get the document behind the URL, and feed that document to Beautiful Soup.\n",
      "  '\"%s\" looks like a URL. Beautiful Soup is not an HTTP client. You should probably use an HTTP client to get the document behind the URL, and feed that document to Beautiful Soup.' % markup)\n"
     ]
    },
    {
     "name": "stdout",
     "output_type": "stream",
     "text": [
      "\n",
      "Review 745000 of 1569264\n",
      "Review 746000 of 1569264\n",
      "Review 747000 of 1569264\n",
      "Review 748000 of 1569264\n",
      "Review 749000 of 1569264"
     ]
    },
    {
     "name": "stderr",
     "output_type": "stream",
     "text": [
      "/Users/erichsu/anaconda/lib/python2.7/site-packages/bs4/__init__.py:189: UserWarning: \"http://www.yelp.com/biz/pizza-hut-las-vegas-36#hrid:x0l-cp-iYAYHgitAotWURw\" looks like a URL. Beautiful Soup is not an HTTP client. You should probably use an HTTP client to get the document behind the URL, and feed that document to Beautiful Soup.\n",
      "  '\"%s\" looks like a URL. Beautiful Soup is not an HTTP client. You should probably use an HTTP client to get the document behind the URL, and feed that document to Beautiful Soup.' % markup)\n",
      "/Users/erichsu/anaconda/lib/python2.7/site-packages/bs4/__init__.py:189: UserWarning: \"http://s32.photobucket.com/albums/d36/ksguy/Recon%20Mobile%20Bumper%20Repair/\" looks like a URL. Beautiful Soup is not an HTTP client. You should probably use an HTTP client to get the document behind the URL, and feed that document to Beautiful Soup.\n",
      "  '\"%s\" looks like a URL. Beautiful Soup is not an HTTP client. You should probably use an HTTP client to get the document behind the URL, and feed that document to Beautiful Soup.' % markup)\n"
     ]
    },
    {
     "name": "stdout",
     "output_type": "stream",
     "text": [
      "\n",
      "Review 750000 of 1569264\n",
      "Review 751000 of 1569264"
     ]
    },
    {
     "name": "stderr",
     "output_type": "stream",
     "text": [
      "/Users/erichsu/anaconda/lib/python2.7/site-packages/bs4/__init__.py:189: UserWarning: \"http://www.claimjumper.com/printmenus/NSBCORE.pdf\" looks like a URL. Beautiful Soup is not an HTTP client. You should probably use an HTTP client to get the document behind the URL, and feed that document to Beautiful Soup.\n",
      "  '\"%s\" looks like a URL. Beautiful Soup is not an HTTP client. You should probably use an HTTP client to get the document behind the URL, and feed that document to Beautiful Soup.' % markup)\n",
      "/Users/erichsu/anaconda/lib/python2.7/site-packages/bs4/__init__.py:189: UserWarning: \"http://www.raku-grill.com/\" looks like a URL. Beautiful Soup is not an HTTP client. You should probably use an HTTP client to get the document behind the URL, and feed that document to Beautiful Soup.\n",
      "  '\"%s\" looks like a URL. Beautiful Soup is not an HTTP client. You should probably use an HTTP client to get the document behind the URL, and feed that document to Beautiful Soup.' % markup)\n"
     ]
    },
    {
     "name": "stdout",
     "output_type": "stream",
     "text": [
      "\n",
      "Review 752000 of 1569264\n",
      "Review 753000 of 1569264\n",
      "Review 754000 of 1569264"
     ]
    },
    {
     "name": "stderr",
     "output_type": "stream",
     "text": [
      "/Users/erichsu/anaconda/lib/python2.7/site-packages/bs4/__init__.py:189: UserWarning: \"http://travel.yahoo.com/ideas/america-s-best-ice-cream.html\n",
      "\n",
      "5.\" looks like a URL. Beautiful Soup is not an HTTP client. You should probably use an HTTP client to get the document behind the URL, and feed that document to Beautiful Soup.\n",
      "  '\"%s\" looks like a URL. Beautiful Soup is not an HTTP client. You should probably use an HTTP client to get the document behind the URL, and feed that document to Beautiful Soup.' % markup)\n",
      "/Users/erichsu/anaconda/lib/python2.7/site-packages/bs4/__init__.py:189: UserWarning: \"http://www.yelp.com/biz/tacos-el-gordo-las-vegas-2\" looks like a URL. Beautiful Soup is not an HTTP client. You should probably use an HTTP client to get the document behind the URL, and feed that document to Beautiful Soup.\n",
      "  '\"%s\" looks like a URL. Beautiful Soup is not an HTTP client. You should probably use an HTTP client to get the document behind the URL, and feed that document to Beautiful Soup.' % markup)\n"
     ]
    },
    {
     "name": "stdout",
     "output_type": "stream",
     "text": [
      "\n",
      "Review 755000 of 1569264\n",
      "Review 756000 of 1569264"
     ]
    },
    {
     "name": "stderr",
     "output_type": "stream",
     "text": [
      "/Users/erichsu/anaconda/lib/python2.7/site-packages/bs4/__init__.py:189: UserWarning: \"http://www.twitter.com/ceciliauc\" looks like a URL. Beautiful Soup is not an HTTP client. You should probably use an HTTP client to get the document behind the URL, and feed that document to Beautiful Soup.\n",
      "  '\"%s\" looks like a URL. Beautiful Soup is not an HTTP client. You should probably use an HTTP client to get the document behind the URL, and feed that document to Beautiful Soup.' % markup)\n",
      "/Users/erichsu/anaconda/lib/python2.7/site-packages/bs4/__init__.py:189: UserWarning: \"http://www.meetup.com/sushilicious\" looks like a URL. Beautiful Soup is not an HTTP client. You should probably use an HTTP client to get the document behind the URL, and feed that document to Beautiful Soup.\n",
      "  '\"%s\" looks like a URL. Beautiful Soup is not an HTTP client. You should probably use an HTTP client to get the document behind the URL, and feed that document to Beautiful Soup.' % markup)\n"
     ]
    },
    {
     "name": "stdout",
     "output_type": "stream",
     "text": [
      "\n",
      "Review 757000 of 1569264\n",
      "Review 758000 of 1569264"
     ]
    },
    {
     "name": "stderr",
     "output_type": "stream",
     "text": [
      "/Users/erichsu/anaconda/lib/python2.7/site-packages/bs4/__init__.py:189: UserWarning: \"http://www.reviewjournal.com/columns-blogs/jane-ann-morrison/cookies-might-be-too-good-be-true\" looks like a URL. Beautiful Soup is not an HTTP client. You should probably use an HTTP client to get the document behind the URL, and feed that document to Beautiful Soup.\n",
      "  '\"%s\" looks like a URL. Beautiful Soup is not an HTTP client. You should probably use an HTTP client to get the document behind the URL, and feed that document to Beautiful Soup.' % markup)\n",
      "/Users/erichsu/anaconda/lib/python2.7/site-packages/bs4/__init__.py:189: UserWarning: \"http://grabyourfork.blogspot.com/2007/08/rabeih-sweets-punchbowl.html\" looks like a URL. Beautiful Soup is not an HTTP client. You should probably use an HTTP client to get the document behind the URL, and feed that document to Beautiful Soup.\n",
      "  '\"%s\" looks like a URL. Beautiful Soup is not an HTTP client. You should probably use an HTTP client to get the document behind the URL, and feed that document to Beautiful Soup.' % markup)\n"
     ]
    },
    {
     "name": "stdout",
     "output_type": "stream",
     "text": [
      "\n",
      "Review 759000 of 1569264\n",
      "Review 760000 of 1569264\n",
      "Review 761000 of 1569264\n",
      "Review 762000 of 1569264\n",
      "Review 763000 of 1569264\n",
      "Review 764000 of 1569264\n",
      "Review 765000 of 1569264\n",
      "Review 766000 of 1569264\n",
      "Review 767000 of 1569264"
     ]
    },
    {
     "name": "stderr",
     "output_type": "stream",
     "text": [
      "/Users/erichsu/anaconda/lib/python2.7/site-packages/bs4/__init__.py:189: UserWarning: \"http://www.americanmale.com/specials.asp\" looks like a URL. Beautiful Soup is not an HTTP client. You should probably use an HTTP client to get the document behind the URL, and feed that document to Beautiful Soup.\n",
      "  '\"%s\" looks like a URL. Beautiful Soup is not an HTTP client. You should probably use an HTTP client to get the document behind the URL, and feed that document to Beautiful Soup.' % markup)\n",
      "/Users/erichsu/anaconda/lib/python2.7/site-packages/bs4/__init__.py:189: UserWarning: \"http://www.foodcandy.com/PlaceView.aspx?id=959\" looks like a URL. Beautiful Soup is not an HTTP client. You should probably use an HTTP client to get the document behind the URL, and feed that document to Beautiful Soup.\n",
      "  '\"%s\" looks like a URL. Beautiful Soup is not an HTTP client. You should probably use an HTTP client to get the document behind the URL, and feed that document to Beautiful Soup.' % markup)\n"
     ]
    },
    {
     "name": "stdout",
     "output_type": "stream",
     "text": [
      "\n",
      "Review 768000 of 1569264\n",
      "Review 769000 of 1569264\n",
      "Review 770000 of 1569264"
     ]
    },
    {
     "name": "stderr",
     "output_type": "stream",
     "text": [
      "/Users/erichsu/anaconda/lib/python2.7/site-packages/bs4/__init__.py:189: UserWarning: \"http://www.yelp.com/biz_photos/d0K97p5aQMWgA3x2mQBMSA?select=FiATiPgGi-OlaI1CZr2Svw\" looks like a URL. Beautiful Soup is not an HTTP client. You should probably use an HTTP client to get the document behind the URL, and feed that document to Beautiful Soup.\n",
      "  '\"%s\" looks like a URL. Beautiful Soup is not an HTTP client. You should probably use an HTTP client to get the document behind the URL, and feed that document to Beautiful Soup.' % markup)\n",
      "/Users/erichsu/anaconda/lib/python2.7/site-packages/bs4/__init__.py:189: UserWarning: \"http://www.huffingtonpost.com/2011/09/02/netflix-hbo_n_946598.html\" looks like a URL. Beautiful Soup is not an HTTP client. You should probably use an HTTP client to get the document behind the URL, and feed that document to Beautiful Soup.\n",
      "  '\"%s\" looks like a URL. Beautiful Soup is not an HTTP client. You should probably use an HTTP client to get the document behind the URL, and feed that document to Beautiful Soup.' % markup)\n"
     ]
    },
    {
     "name": "stdout",
     "output_type": "stream",
     "text": [
      "\n",
      "Review 771000 of 1569264\n",
      "Review 772000 of 1569264\n",
      "Review 773000 of 1569264\n",
      "Review 774000 of 1569264\n",
      "Review 775000 of 1569264"
     ]
    },
    {
     "name": "stderr",
     "output_type": "stream",
     "text": [
      "/Users/erichsu/anaconda/lib/python2.7/site-packages/bs4/__init__.py:189: UserWarning: \"http://lovetoblog.ca/?p=63\" looks like a URL. Beautiful Soup is not an HTTP client. You should probably use an HTTP client to get the document behind the URL, and feed that document to Beautiful Soup.\n",
      "  '\"%s\" looks like a URL. Beautiful Soup is not an HTTP client. You should probably use an HTTP client to get the document behind the URL, and feed that document to Beautiful Soup.' % markup)\n",
      "/Users/erichsu/anaconda/lib/python2.7/site-packages/bs4/__init__.py:189: UserWarning: \"http://www.casadelpopolo.com/\" looks like a URL. Beautiful Soup is not an HTTP client. You should probably use an HTTP client to get the document behind the URL, and feed that document to Beautiful Soup.\n",
      "  '\"%s\" looks like a URL. Beautiful Soup is not an HTTP client. You should probably use an HTTP client to get the document behind the URL, and feed that document to Beautiful Soup.' % markup)\n"
     ]
    },
    {
     "name": "stdout",
     "output_type": "stream",
     "text": [
      "\n",
      "Review 776000 of 1569264\n",
      "Review 777000 of 1569264\n",
      "Review 778000 of 1569264\n",
      "Review 779000 of 1569264\n",
      "Review 780000 of 1569264\n",
      "Review 781000 of 1569264"
     ]
    },
    {
     "name": "stderr",
     "output_type": "stream",
     "text": [
      "/Users/erichsu/anaconda/lib/python2.7/site-packages/bs4/__init__.py:189: UserWarning: \"http://lovetoblog.ca/?p=97\" looks like a URL. Beautiful Soup is not an HTTP client. You should probably use an HTTP client to get the document behind the URL, and feed that document to Beautiful Soup.\n",
      "  '\"%s\" looks like a URL. Beautiful Soup is not an HTTP client. You should probably use an HTTP client to get the document behind the URL, and feed that document to Beautiful Soup.' % markup)\n",
      "/Users/erichsu/anaconda/lib/python2.7/site-packages/bs4/__init__.py:189: UserWarning: \"http://www.yelp.com/biz/reubens-deli-montreal#hrid:yqpzawU4dU69Tv4kqNa6XQ\" looks like a URL. Beautiful Soup is not an HTTP client. You should probably use an HTTP client to get the document behind the URL, and feed that document to Beautiful Soup.\n",
      "  '\"%s\" looks like a URL. Beautiful Soup is not an HTTP client. You should probably use an HTTP client to get the document behind the URL, and feed that document to Beautiful Soup.' % markup)\n"
     ]
    },
    {
     "name": "stdout",
     "output_type": "stream",
     "text": [
      "\n",
      "Review 782000 of 1569264\n",
      "Review 783000 of 1569264\n",
      "Review 784000 of 1569264"
     ]
    },
    {
     "name": "stderr",
     "output_type": "stream",
     "text": [
      "/Users/erichsu/anaconda/lib/python2.7/site-packages/bs4/__init__.py:189: UserWarning: \"http://chowhound.chow.com/topics/526634\" looks like a URL. Beautiful Soup is not an HTTP client. You should probably use an HTTP client to get the document behind the URL, and feed that document to Beautiful Soup.\n",
      "  '\"%s\" looks like a URL. Beautiful Soup is not an HTTP client. You should probably use an HTTP client to get the document behind the URL, and feed that document to Beautiful Soup.' % markup)\n",
      "/Users/erichsu/anaconda/lib/python2.7/site-packages/bs4/__init__.py:189: UserWarning: \"http://www.cbc.ca/news/canada/montreal/montreal-designer-says-boutique-onze-copied-and-sold-her-dress-1.2625569\" looks like a URL. Beautiful Soup is not an HTTP client. You should probably use an HTTP client to get the document behind the URL, and feed that document to Beautiful Soup.\n",
      "  '\"%s\" looks like a URL. Beautiful Soup is not an HTTP client. You should probably use an HTTP client to get the document behind the URL, and feed that document to Beautiful Soup.' % markup)\n"
     ]
    },
    {
     "name": "stdout",
     "output_type": "stream",
     "text": [
      "\n",
      "Review 785000 of 1569264\n",
      "Review 786000 of 1569264\n",
      "Review 787000 of 1569264"
     ]
    },
    {
     "name": "stderr",
     "output_type": "stream",
     "text": [
      "/Users/erichsu/anaconda/lib/python2.7/site-packages/bs4/__init__.py:189: UserWarning: \"http://www.yelp.com/biz/le-petit-hotel-montr%C3%A9al-2\" looks like a URL. Beautiful Soup is not an HTTP client. You should probably use an HTTP client to get the document behind the URL, and feed that document to Beautiful Soup.\n",
      "  '\"%s\" looks like a URL. Beautiful Soup is not an HTTP client. You should probably use an HTTP client to get the document behind the URL, and feed that document to Beautiful Soup.' % markup)\n",
      "/Users/erichsu/anaconda/lib/python2.7/site-packages/bs4/__init__.py:189: UserWarning: \"http://www.retrogosto.com/2014/09/dieu-du-ciel-deus-do-ceu.html\" looks like a URL. Beautiful Soup is not an HTTP client. You should probably use an HTTP client to get the document behind the URL, and feed that document to Beautiful Soup.\n",
      "  '\"%s\" looks like a URL. Beautiful Soup is not an HTTP client. You should probably use an HTTP client to get the document behind the URL, and feed that document to Beautiful Soup.' % markup)\n"
     ]
    },
    {
     "name": "stdout",
     "output_type": "stream",
     "text": [
      "\n",
      "Review 788000 of 1569264\n",
      "Review 789000 of 1569264"
     ]
    },
    {
     "name": "stderr",
     "output_type": "stream",
     "text": [
      "/Users/erichsu/anaconda/lib/python2.7/site-packages/bs4/__init__.py:189: UserWarning: \"http://www.spiritcentric.com/montreal-delights-fous-desserts/\" looks like a URL. Beautiful Soup is not an HTTP client. You should probably use an HTTP client to get the document behind the URL, and feed that document to Beautiful Soup.\n",
      "  '\"%s\" looks like a URL. Beautiful Soup is not an HTTP client. You should probably use an HTTP client to get the document behind the URL, and feed that document to Beautiful Soup.' % markup)\n",
      "/Users/erichsu/anaconda/lib/python2.7/site-packages/bs4/__init__.py:189: UserWarning: \"http://www.microbytes.com\" looks like a URL. Beautiful Soup is not an HTTP client. You should probably use an HTTP client to get the document behind the URL, and feed that document to Beautiful Soup.\n",
      "  '\"%s\" looks like a URL. Beautiful Soup is not an HTTP client. You should probably use an HTTP client to get the document behind the URL, and feed that document to Beautiful Soup.' % markup)\n"
     ]
    },
    {
     "name": "stdout",
     "output_type": "stream",
     "text": [
      "\n",
      "Review 790000 of 1569264"
     ]
    },
    {
     "name": "stderr",
     "output_type": "stream",
     "text": [
      "/Users/erichsu/anaconda/lib/python2.7/site-packages/bs4/__init__.py:189: UserWarning: \"http://www.chezalexandre.com/eng/index.html\n",
      "Tel.\" looks like a URL. Beautiful Soup is not an HTTP client. You should probably use an HTTP client to get the document behind the URL, and feed that document to Beautiful Soup.\n",
      "  '\"%s\" looks like a URL. Beautiful Soup is not an HTTP client. You should probably use an HTTP client to get the document behind the URL, and feed that document to Beautiful Soup.' % markup)\n",
      "/Users/erichsu/anaconda/lib/python2.7/site-packages/bs4/__init__.py:189: UserWarning: \"http://instagram.com/p/eRYh4Yo1Hc/\" looks like a URL. Beautiful Soup is not an HTTP client. You should probably use an HTTP client to get the document behind the URL, and feed that document to Beautiful Soup.\n",
      "  '\"%s\" looks like a URL. Beautiful Soup is not an HTTP client. You should probably use an HTTP client to get the document behind the URL, and feed that document to Beautiful Soup.' % markup)\n"
     ]
    },
    {
     "name": "stdout",
     "output_type": "stream",
     "text": [
      "\n",
      "Review 791000 of 1569264"
     ]
    },
    {
     "name": "stderr",
     "output_type": "stream",
     "text": [
      "/Users/erichsu/anaconda/lib/python2.7/site-packages/bs4/__init__.py:189: UserWarning: \"http://www.retrogosto.com/2014/08/les-trois-brasseurs-os-tres-cervejeiros.html\" looks like a URL. Beautiful Soup is not an HTTP client. You should probably use an HTTP client to get the document behind the URL, and feed that document to Beautiful Soup.\n",
      "  '\"%s\" looks like a URL. Beautiful Soup is not an HTTP client. You should probably use an HTTP client to get the document behind the URL, and feed that document to Beautiful Soup.' % markup)\n",
      "/Users/erichsu/anaconda/lib/python2.7/site-packages/bs4/__init__.py:189: UserWarning: \"http://www.le1000.com/fr/atrium/atrium_horaires_tarifs.php\" looks like a URL. Beautiful Soup is not an HTTP client. You should probably use an HTTP client to get the document behind the URL, and feed that document to Beautiful Soup.\n",
      "  '\"%s\" looks like a URL. Beautiful Soup is not an HTTP client. You should probably use an HTTP client to get the document behind the URL, and feed that document to Beautiful Soup.' % markup)\n"
     ]
    },
    {
     "name": "stdout",
     "output_type": "stream",
     "text": [
      "\n",
      "Review 792000 of 1569264\n",
      "Review 793000 of 1569264"
     ]
    },
    {
     "name": "stderr",
     "output_type": "stream",
     "text": [
      "/Users/erichsu/anaconda/lib/python2.7/site-packages/bs4/__init__.py:189: UserWarning: \"http://www.facebook.com/group.php?gid=5571646917\" looks like a URL. Beautiful Soup is not an HTTP client. You should probably use an HTTP client to get the document behind the URL, and feed that document to Beautiful Soup.\n",
      "  '\"%s\" looks like a URL. Beautiful Soup is not an HTTP client. You should probably use an HTTP client to get the document behind the URL, and feed that document to Beautiful Soup.' % markup)\n",
      "/Users/erichsu/anaconda/lib/python2.7/site-packages/bs4/__init__.py:189: UserWarning: \"http://www.retrogosto.com/2014/09/irish-embassy-irlanda-e-no-centro-de.html\" looks like a URL. Beautiful Soup is not an HTTP client. You should probably use an HTTP client to get the document behind the URL, and feed that document to Beautiful Soup.\n",
      "  '\"%s\" looks like a URL. Beautiful Soup is not an HTTP client. You should probably use an HTTP client to get the document behind the URL, and feed that document to Beautiful Soup.' % markup)\n"
     ]
    },
    {
     "name": "stdout",
     "output_type": "stream",
     "text": [
      "\n",
      "Review 794000 of 1569264\n",
      "Review 795000 of 1569264\n",
      "Review 796000 of 1569264\n",
      "Review 797000 of 1569264\n",
      "Review 798000 of 1569264"
     ]
    },
    {
     "name": "stderr",
     "output_type": "stream",
     "text": [
      "/Users/erichsu/anaconda/lib/python2.7/site-packages/bs4/__init__.py:189: UserWarning: \"http://www.totalmtl.com/food/vivaldis/\" looks like a URL. Beautiful Soup is not an HTTP client. You should probably use an HTTP client to get the document behind the URL, and feed that document to Beautiful Soup.\n",
      "  '\"%s\" looks like a URL. Beautiful Soup is not an HTTP client. You should probably use an HTTP client to get the document behind the URL, and feed that document to Beautiful Soup.' % markup)\n",
      "/Users/erichsu/anaconda/lib/python2.7/site-packages/bs4/__init__.py:189: UserWarning: \"http://www.youtube.com/watch?v=lFeqjgKW5fw\" looks like a URL. Beautiful Soup is not an HTTP client. You should probably use an HTTP client to get the document behind the URL, and feed that document to Beautiful Soup.\n",
      "  '\"%s\" looks like a URL. Beautiful Soup is not an HTTP client. You should probably use an HTTP client to get the document behind the URL, and feed that document to Beautiful Soup.' % markup)\n"
     ]
    },
    {
     "name": "stdout",
     "output_type": "stream",
     "text": [
      "\n",
      "Review 799000 of 1569264\n",
      "Review 800000 of 1569264"
     ]
    },
    {
     "name": "stderr",
     "output_type": "stream",
     "text": [
      "/Users/erichsu/anaconda/lib/python2.7/site-packages/bs4/__init__.py:189: UserWarning: \"http://www.yelp.com/biz/fresh-wasabi-glendale\" looks like a URL. Beautiful Soup is not an HTTP client. You should probably use an HTTP client to get the document behind the URL, and feed that document to Beautiful Soup.\n",
      "  '\"%s\" looks like a URL. Beautiful Soup is not an HTTP client. You should probably use an HTTP client to get the document behind the URL, and feed that document to Beautiful Soup.' % markup)\n",
      "/Users/erichsu/anaconda/lib/python2.7/site-packages/bs4/__init__.py:189: UserWarning: \"http://www.yelp.com/biz/innplace-hotel-phoenix\" looks like a URL. Beautiful Soup is not an HTTP client. You should probably use an HTTP client to get the document behind the URL, and feed that document to Beautiful Soup.\n",
      "  '\"%s\" looks like a URL. Beautiful Soup is not an HTTP client. You should probably use an HTTP client to get the document behind the URL, and feed that document to Beautiful Soup.' % markup)\n"
     ]
    },
    {
     "name": "stdout",
     "output_type": "stream",
     "text": [
      "\n",
      "Review 801000 of 1569264\n",
      "Review 802000 of 1569264"
     ]
    },
    {
     "name": "stderr",
     "output_type": "stream",
     "text": [
      "/Users/erichsu/anaconda/lib/python2.7/site-packages/bs4/__init__.py:189: UserWarning: \"http://www.youtube.com/watch?v=SD2HxJoCD54\" looks like a URL. Beautiful Soup is not an HTTP client. You should probably use an HTTP client to get the document behind the URL, and feed that document to Beautiful Soup.\n",
      "  '\"%s\" looks like a URL. Beautiful Soup is not an HTTP client. You should probably use an HTTP client to get the document behind the URL, and feed that document to Beautiful Soup.' % markup)\n",
      "/Users/erichsu/anaconda/lib/python2.7/site-packages/bs4/__init__.py:189: UserWarning: \"http://www.vieux.montreal.qc.ca/tour/eng/0cartea.htm.\" looks like a URL. Beautiful Soup is not an HTTP client. You should probably use an HTTP client to get the document behind the URL, and feed that document to Beautiful Soup.\n",
      "  '\"%s\" looks like a URL. Beautiful Soup is not an HTTP client. You should probably use an HTTP client to get the document behind the URL, and feed that document to Beautiful Soup.' % markup)\n"
     ]
    },
    {
     "name": "stdout",
     "output_type": "stream",
     "text": [
      "\n",
      "Review 803000 of 1569264\n",
      "Review 804000 of 1569264\n",
      "Review 805000 of 1569264\n",
      "Review 806000 of 1569264"
     ]
    },
    {
     "name": "stderr",
     "output_type": "stream",
     "text": [
      "/Users/erichsu/anaconda/lib/python2.7/site-packages/bs4/__init__.py:189: UserWarning: \"http://www.vegaspersonalshopper.com/do-you-check-your-bill/\" looks like a URL. Beautiful Soup is not an HTTP client. You should probably use an HTTP client to get the document behind the URL, and feed that document to Beautiful Soup.\n",
      "  '\"%s\" looks like a URL. Beautiful Soup is not an HTTP client. You should probably use an HTTP client to get the document behind the URL, and feed that document to Beautiful Soup.' % markup)\n",
      "/Users/erichsu/anaconda/lib/python2.7/site-packages/bs4/__init__.py:189: UserWarning: \"http://www.alchemycafe.net/id2.html\" looks like a URL. Beautiful Soup is not an HTTP client. You should probably use an HTTP client to get the document behind the URL, and feed that document to Beautiful Soup.\n",
      "  '\"%s\" looks like a URL. Beautiful Soup is not an HTTP client. You should probably use an HTTP client to get the document behind the URL, and feed that document to Beautiful Soup.' % markup)\n"
     ]
    },
    {
     "name": "stdout",
     "output_type": "stream",
     "text": [
      "\n",
      "Review 807000 of 1569264\n",
      "Review 808000 of 1569264"
     ]
    },
    {
     "name": "stderr",
     "output_type": "stream",
     "text": [
      "/Users/erichsu/anaconda/lib/python2.7/site-packages/bs4/__init__.py:189: UserWarning: \"http://lamestizamadison.wordpress.com/\" looks like a URL. Beautiful Soup is not an HTTP client. You should probably use an HTTP client to get the document behind the URL, and feed that document to Beautiful Soup.\n",
      "  '\"%s\" looks like a URL. Beautiful Soup is not an HTTP client. You should probably use an HTTP client to get the document behind the URL, and feed that document to Beautiful Soup.' % markup)\n",
      "/Users/erichsu/anaconda/lib/python2.7/site-packages/bs4/__init__.py:189: UserWarning: \"http://www.youtube.com/watch?v=0G1RqPUvW8Y\" looks like a URL. Beautiful Soup is not an HTTP client. You should probably use an HTTP client to get the document behind the URL, and feed that document to Beautiful Soup.\n",
      "  '\"%s\" looks like a URL. Beautiful Soup is not an HTTP client. You should probably use an HTTP client to get the document behind the URL, and feed that document to Beautiful Soup.' % markup)\n"
     ]
    },
    {
     "name": "stdout",
     "output_type": "stream",
     "text": [
      "\n",
      "Review 809000 of 1569264\n",
      "Review 810000 of 1569264\n",
      "Review 811000 of 1569264\n",
      "Review 812000 of 1569264"
     ]
    },
    {
     "name": "stderr",
     "output_type": "stream",
     "text": [
      "/Users/erichsu/anaconda/lib/python2.7/site-packages/bs4/__init__.py:189: UserWarning: \"http://en.wikipedia.org/wiki/Montreal_Olympic_Stadium\" looks like a URL. Beautiful Soup is not an HTTP client. You should probably use an HTTP client to get the document behind the URL, and feed that document to Beautiful Soup.\n",
      "  '\"%s\" looks like a URL. Beautiful Soup is not an HTTP client. You should probably use an HTTP client to get the document behind the URL, and feed that document to Beautiful Soup.' % markup)\n",
      "/Users/erichsu/anaconda/lib/python2.7/site-packages/bs4/__init__.py:189: UserWarning: \"http://en.wikipedia.org/wiki/Olympic_Stadium_(Montreal)\n",
      "http://en.wikipedia.org/wiki/Montreal_Expos\n",
      "http://en.wikipedia.org/wiki/Youppi\" looks like a URL. Beautiful Soup is not an HTTP client. You should probably use an HTTP client to get the document behind the URL, and feed that document to Beautiful Soup.\n",
      "  '\"%s\" looks like a URL. Beautiful Soup is not an HTTP client. You should probably use an HTTP client to get the document behind the URL, and feed that document to Beautiful Soup.' % markup)\n",
      "/Users/erichsu/anaconda/lib/python2.7/site-packages/bs4/__init__.py:189: UserWarning: \"http://www.yelp.ca/biz/wawel-patisserie-montreal#hrid:fBwNfKr4QCOzwytP93EgBg/src:self\n",
      "\n",
      "http://www.yelp.ca/biz/havre-aux-glaces-montreal\" looks like a URL. Beautiful Soup is not an HTTP client. You should probably use an HTTP client to get the document behind the URL, and feed that document to Beautiful Soup.\n",
      "  '\"%s\" looks like a URL. Beautiful Soup is not an HTTP client. You should probably use an HTTP client to get the document behind the URL, and feed that document to Beautiful Soup.' % markup)\n"
     ]
    },
    {
     "name": "stdout",
     "output_type": "stream",
     "text": [
      "\n",
      "Review 813000 of 1569264\n",
      "Review 814000 of 1569264"
     ]
    },
    {
     "name": "stderr",
     "output_type": "stream",
     "text": [
      "/Users/erichsu/anaconda/lib/python2.7/site-packages/bs4/__init__.py:189: UserWarning: \"http://fullspeeduws.wordpress.com/2014/10/04/food-in-montreal/\" looks like a URL. Beautiful Soup is not an HTTP client. You should probably use an HTTP client to get the document behind the URL, and feed that document to Beautiful Soup.\n",
      "  '\"%s\" looks like a URL. Beautiful Soup is not an HTTP client. You should probably use an HTTP client to get the document behind the URL, and feed that document to Beautiful Soup.' % markup)\n",
      "/Users/erichsu/anaconda/lib/python2.7/site-packages/bs4/__init__.py:189: UserWarning: \"http://www.habaneros.mx/Happy_Hour.html\" looks like a URL. Beautiful Soup is not an HTTP client. You should probably use an HTTP client to get the document behind the URL, and feed that document to Beautiful Soup.\n",
      "  '\"%s\" looks like a URL. Beautiful Soup is not an HTTP client. You should probably use an HTTP client to get the document behind the URL, and feed that document to Beautiful Soup.' % markup)\n"
     ]
    },
    {
     "name": "stdout",
     "output_type": "stream",
     "text": [
      "\n",
      "Review 815000 of 1569264\n",
      "Review 816000 of 1569264\n",
      "Review 817000 of 1569264\n",
      "Review 818000 of 1569264\n",
      "Review 819000 of 1569264"
     ]
    },
    {
     "name": "stderr",
     "output_type": "stream",
     "text": [
      "/Users/erichsu/anaconda/lib/python2.7/site-packages/bs4/__init__.py:189: UserWarning: \"http://zaytoonlasvegas.com/restaurant-menu.html\" looks like a URL. Beautiful Soup is not an HTTP client. You should probably use an HTTP client to get the document behind the URL, and feed that document to Beautiful Soup.\n",
      "  '\"%s\" looks like a URL. Beautiful Soup is not an HTTP client. You should probably use an HTTP client to get the document behind the URL, and feed that document to Beautiful Soup.' % markup)\n",
      "/Users/erichsu/anaconda/lib/python2.7/site-packages/bs4/__init__.py:189: UserWarning: \"http://cosmetology.nv.gov/Consumers/Nail_Salon_Guide\" looks like a URL. Beautiful Soup is not an HTTP client. You should probably use an HTTP client to get the document behind the URL, and feed that document to Beautiful Soup.\n",
      "  '\"%s\" looks like a URL. Beautiful Soup is not an HTTP client. You should probably use an HTTP client to get the document behind the URL, and feed that document to Beautiful Soup.' % markup)\n"
     ]
    },
    {
     "name": "stdout",
     "output_type": "stream",
     "text": [
      "\n",
      "Review 820000 of 1569264\n",
      "Review 821000 of 1569264\n",
      "Review 822000 of 1569264\n",
      "Review 823000 of 1569264\n",
      "Review 824000 of 1569264\n",
      "Review 825000 of 1569264\n",
      "Review 826000 of 1569264\n",
      "Review 827000 of 1569264\n",
      "Review 828000 of 1569264"
     ]
    },
    {
     "name": "stderr",
     "output_type": "stream",
     "text": [
      "/Users/erichsu/anaconda/lib/python2.7/site-packages/bs4/__init__.py:189: UserWarning: \"http://www.virginamerica.com/travel/cabins.html\" looks like a URL. Beautiful Soup is not an HTTP client. You should probably use an HTTP client to get the document behind the URL, and feed that document to Beautiful Soup.\n",
      "  '\"%s\" looks like a URL. Beautiful Soup is not an HTTP client. You should probably use an HTTP client to get the document behind the URL, and feed that document to Beautiful Soup.' % markup)\n",
      "/Users/erichsu/anaconda/lib/python2.7/site-packages/bs4/__init__.py:189: UserWarning: \"http://www.nevadasouthern.com.\" looks like a URL. Beautiful Soup is not an HTTP client. You should probably use an HTTP client to get the document behind the URL, and feed that document to Beautiful Soup.\n",
      "  '\"%s\" looks like a URL. Beautiful Soup is not an HTTP client. You should probably use an HTTP client to get the document behind the URL, and feed that document to Beautiful Soup.' % markup)\n"
     ]
    },
    {
     "name": "stdout",
     "output_type": "stream",
     "text": [
      "\n",
      "Review 829000 of 1569264\n",
      "Review 830000 of 1569264\n",
      "Review 831000 of 1569264\n",
      "Review 832000 of 1569264\n",
      "Review 833000 of 1569264\n",
      "Review 834000 of 1569264\n",
      "Review 835000 of 1569264"
     ]
    },
    {
     "name": "stderr",
     "output_type": "stream",
     "text": [
      "/Users/erichsu/anaconda/lib/python2.7/site-packages/bs4/__init__.py:189: UserWarning: \"http://smgdesigns.co.uk\" looks like a URL. Beautiful Soup is not an HTTP client. You should probably use an HTTP client to get the document behind the URL, and feed that document to Beautiful Soup.\n",
      "  '\"%s\" looks like a URL. Beautiful Soup is not an HTTP client. You should probably use an HTTP client to get the document behind the URL, and feed that document to Beautiful Soup.' % markup)\n",
      "/Users/erichsu/anaconda/lib/python2.7/site-packages/bs4/__init__.py:189: UserWarning: \"http://offthebeatentracks.tv/2009/episode-21-trespassers-william/\" looks like a URL. Beautiful Soup is not an HTTP client. You should probably use an HTTP client to get the document behind the URL, and feed that document to Beautiful Soup.\n",
      "  '\"%s\" looks like a URL. Beautiful Soup is not an HTTP client. You should probably use an HTTP client to get the document behind the URL, and feed that document to Beautiful Soup.' % markup)\n"
     ]
    },
    {
     "name": "stdout",
     "output_type": "stream",
     "text": [
      "\n",
      "Review 836000 of 1569264"
     ]
    },
    {
     "name": "stderr",
     "output_type": "stream",
     "text": [
      "/Users/erichsu/anaconda/lib/python2.7/site-packages/bs4/__init__.py:189: UserWarning: \"http://www.filmhousecinema.com/\" looks like a URL. Beautiful Soup is not an HTTP client. You should probably use an HTTP client to get the document behind the URL, and feed that document to Beautiful Soup.\n",
      "  '\"%s\" looks like a URL. Beautiful Soup is not an HTTP client. You should probably use an HTTP client to get the document behind the URL, and feed that document to Beautiful Soup.' % markup)\n",
      "/Users/erichsu/anaconda/lib/python2.7/site-packages/bs4/__init__.py:189: UserWarning: \"http://www.yelp.com/biz_photos/B7XwqO9Lbzq-VtOiRobfCg?select=triIsci1z4mtAzjfYVDHkg#triIsci1z4mtAzjfYVDHkg\n",
      "\n",
      "*Tip!\" looks like a URL. Beautiful Soup is not an HTTP client. You should probably use an HTTP client to get the document behind the URL, and feed that document to Beautiful Soup.\n",
      "  '\"%s\" looks like a URL. Beautiful Soup is not an HTTP client. You should probably use an HTTP client to get the document behind the URL, and feed that document to Beautiful Soup.' % markup)\n"
     ]
    },
    {
     "name": "stdout",
     "output_type": "stream",
     "text": [
      "\n",
      "Review 837000 of 1569264\n",
      "Review 838000 of 1569264\n",
      "Review 839000 of 1569264"
     ]
    },
    {
     "name": "stderr",
     "output_type": "stream",
     "text": [
      "/Users/erichsu/anaconda/lib/python2.7/site-packages/bs4/__init__.py:189: UserWarning: \"http://www.yelp.com/biz_photos/the-mission-scottsdale?select=m4ERxBHYvOyp4rsMGkjorw#m4ERxBHYvOyp4rsMGkjorw\" looks like a URL. Beautiful Soup is not an HTTP client. You should probably use an HTTP client to get the document behind the URL, and feed that document to Beautiful Soup.\n",
      "  '\"%s\" looks like a URL. Beautiful Soup is not an HTTP client. You should probably use an HTTP client to get the document behind the URL, and feed that document to Beautiful Soup.' % markup)\n",
      "/Users/erichsu/anaconda/lib/python2.7/site-packages/bs4/__init__.py:189: UserWarning: \"http://www.facebook.com/pages/Appreciating-Now-and-Then/168661269838995?v=wall\" looks like a URL. Beautiful Soup is not an HTTP client. You should probably use an HTTP client to get the document behind the URL, and feed that document to Beautiful Soup.\n",
      "  '\"%s\" looks like a URL. Beautiful Soup is not an HTTP client. You should probably use an HTTP client to get the document behind the URL, and feed that document to Beautiful Soup.' % markup)\n"
     ]
    },
    {
     "name": "stdout",
     "output_type": "stream",
     "text": [
      "\n",
      "Review 840000 of 1569264\n",
      "Review 841000 of 1569264\n",
      "Review 842000 of 1569264\n",
      "Review 843000 of 1569264\n",
      "Review 844000 of 1569264\n",
      "Review 845000 of 1569264\n",
      "Review 846000 of 1569264\n",
      "Review 847000 of 1569264\n",
      "Review 848000 of 1569264"
     ]
    },
    {
     "name": "stderr",
     "output_type": "stream",
     "text": [
      "/Users/erichsu/anaconda/lib/python2.7/site-packages/bs4/__init__.py:189: UserWarning: \"http://www.yelp.com/biz_photos/tSJTbxhAO1tJMSdeTCiZwg?select=7_-HKOKCU89N1xGIymWorg.\" looks like a URL. Beautiful Soup is not an HTTP client. You should probably use an HTTP client to get the document behind the URL, and feed that document to Beautiful Soup.\n",
      "  '\"%s\" looks like a URL. Beautiful Soup is not an HTTP client. You should probably use an HTTP client to get the document behind the URL, and feed that document to Beautiful Soup.' % markup)\n",
      "/Users/erichsu/anaconda/lib/python2.7/site-packages/bs4/__init__.py:189: UserWarning: \"http://www.elementalwi.com/\" looks like a URL. Beautiful Soup is not an HTTP client. You should probably use an HTTP client to get the document behind the URL, and feed that document to Beautiful Soup.\n",
      "  '\"%s\" looks like a URL. Beautiful Soup is not an HTTP client. You should probably use an HTTP client to get the document behind the URL, and feed that document to Beautiful Soup.' % markup)\n"
     ]
    },
    {
     "name": "stdout",
     "output_type": "stream",
     "text": [
      "\n",
      "Review 849000 of 1569264\n",
      "Review 850000 of 1569264\n",
      "Review 851000 of 1569264"
     ]
    },
    {
     "name": "stderr",
     "output_type": "stream",
     "text": [
      "/Users/erichsu/anaconda/lib/python2.7/site-packages/bs4/__init__.py:189: UserWarning: \"http://www.maricopa.gov/envsvc/envwebapp/tabs/results.aspx?navigatedFrom=inspectionResultsDrillDown&in_insp_id=1511798&cat=02&type=01\" looks like a URL. Beautiful Soup is not an HTTP client. You should probably use an HTTP client to get the document behind the URL, and feed that document to Beautiful Soup.\n",
      "  '\"%s\" looks like a URL. Beautiful Soup is not an HTTP client. You should probably use an HTTP client to get the document behind the URL, and feed that document to Beautiful Soup.' % markup)\n",
      "/Users/erichsu/anaconda/lib/python2.7/site-packages/bs4/__init__.py:189: UserWarning: \"http://www.azcentral.com/community/chandler/articles/2010/06/18/20100618chandler-gennaros-pizza-closes.html\" looks like a URL. Beautiful Soup is not an HTTP client. You should probably use an HTTP client to get the document behind the URL, and feed that document to Beautiful Soup.\n",
      "  '\"%s\" looks like a URL. Beautiful Soup is not an HTTP client. You should probably use an HTTP client to get the document behind the URL, and feed that document to Beautiful Soup.' % markup)\n"
     ]
    },
    {
     "name": "stdout",
     "output_type": "stream",
     "text": [
      "\n",
      "Review 852000 of 1569264\n",
      "Review 853000 of 1569264\n",
      "Review 854000 of 1569264\n",
      "Review 855000 of 1569264\n",
      "Review 856000 of 1569264"
     ]
    },
    {
     "name": "stderr",
     "output_type": "stream",
     "text": [
      "/Users/erichsu/anaconda/lib/python2.7/site-packages/bs4/__init__.py:189: UserWarning: \"http://www.yelp.com/biz_photos/ev1SC6q8AolQWix0n577sg?select=eemni2j3d2ebPYkrh_Nj7g#eemni2j3d2ebPYkrh_Nj7g\" looks like a URL. Beautiful Soup is not an HTTP client. You should probably use an HTTP client to get the document behind the URL, and feed that document to Beautiful Soup.\n",
      "  '\"%s\" looks like a URL. Beautiful Soup is not an HTTP client. You should probably use an HTTP client to get the document behind the URL, and feed that document to Beautiful Soup.' % markup)\n",
      "/Users/erichsu/anaconda/lib/python2.7/site-packages/bs4/__init__.py:189: UserWarning: \"https://scontent-b-iad.xx.fbcdn.net/hphotos-prn1/v/t34.0-12/1533505_10153648952985103_504751183_n.jpg?oh=9b8d9359fce3c4e43206e8ad17c48ab3&oe=53464855\n",
      "\n",
      "WTF!\" looks like a URL. Beautiful Soup is not an HTTP client. You should probably use an HTTP client to get the document behind the URL, and feed that document to Beautiful Soup.\n",
      "  '\"%s\" looks like a URL. Beautiful Soup is not an HTTP client. You should probably use an HTTP client to get the document behind the URL, and feed that document to Beautiful Soup.' % markup)\n",
      "/Users/erichsu/anaconda/lib/python2.7/site-packages/bs4/__init__.py:189: UserWarning: \"http://i.imgur.com/vuiEcyX.jpg\n",
      "http://i.imgur.com/pBlGdXc.jpg\" looks like a URL. Beautiful Soup is not an HTTP client. You should probably use an HTTP client to get the document behind the URL, and feed that document to Beautiful Soup.\n",
      "  '\"%s\" looks like a URL. Beautiful Soup is not an HTTP client. You should probably use an HTTP client to get the document behind the URL, and feed that document to Beautiful Soup.' % markup)\n",
      "/Users/erichsu/anaconda/lib/python2.7/site-packages/bs4/__init__.py:189: UserWarning: \"http://www.youtube.com/watch?v=e_DqV1xdf-Y\" looks like a URL. Beautiful Soup is not an HTTP client. You should probably use an HTTP client to get the document behind the URL, and feed that document to Beautiful Soup.\n",
      "  '\"%s\" looks like a URL. Beautiful Soup is not an HTTP client. You should probably use an HTTP client to get the document behind the URL, and feed that document to Beautiful Soup.' % markup)\n"
     ]
    },
    {
     "name": "stdout",
     "output_type": "stream",
     "text": [
      "\n",
      "Review 857000 of 1569264\n",
      "Review 858000 of 1569264"
     ]
    },
    {
     "name": "stderr",
     "output_type": "stream",
     "text": [
      "/Users/erichsu/anaconda/lib/python2.7/site-packages/bs4/__init__.py:189: UserWarning: \"http://www.youtube.com/watch?v=4a9JpaxYER0\" looks like a URL. Beautiful Soup is not an HTTP client. You should probably use an HTTP client to get the document behind the URL, and feed that document to Beautiful Soup.\n",
      "  '\"%s\" looks like a URL. Beautiful Soup is not an HTTP client. You should probably use an HTTP client to get the document behind the URL, and feed that document to Beautiful Soup.' % markup)\n",
      "/Users/erichsu/anaconda/lib/python2.7/site-packages/bs4/__init__.py:189: UserWarning: \"http://24.media.tumblr.com/tumblr_m6qwn19mI31qkmqj8o1_500.gif\" looks like a URL. Beautiful Soup is not an HTTP client. You should probably use an HTTP client to get the document behind the URL, and feed that document to Beautiful Soup.\n",
      "  '\"%s\" looks like a URL. Beautiful Soup is not an HTTP client. You should probably use an HTTP client to get the document behind the URL, and feed that document to Beautiful Soup.' % markup)\n"
     ]
    },
    {
     "name": "stdout",
     "output_type": "stream",
     "text": [
      "\n",
      "Review 859000 of 1569264\n",
      "Review 860000 of 1569264"
     ]
    },
    {
     "name": "stderr",
     "output_type": "stream",
     "text": [
      "/Users/erichsu/anaconda/lib/python2.7/site-packages/bs4/__init__.py:189: UserWarning: \"http://www.bbb.org/phoenix/business-reviews/auto-dealers-new-cars/riverview-toyota-in-mesa-az-97031981/\" looks like a URL. Beautiful Soup is not an HTTP client. You should probably use an HTTP client to get the document behind the URL, and feed that document to Beautiful Soup.\n",
      "  '\"%s\" looks like a URL. Beautiful Soup is not an HTTP client. You should probably use an HTTP client to get the document behind the URL, and feed that document to Beautiful Soup.' % markup)\n",
      "/Users/erichsu/anaconda/lib/python2.7/site-packages/bs4/__init__.py:189: UserWarning: \"http://abcnews.go.com/Business/fired-walgreens-gun-toting-michigan-pharmacist-filled-robbers/story?id=13705438\" looks like a URL. Beautiful Soup is not an HTTP client. You should probably use an HTTP client to get the document behind the URL, and feed that document to Beautiful Soup.\n",
      "  '\"%s\" looks like a URL. Beautiful Soup is not an HTTP client. You should probably use an HTTP client to get the document behind the URL, and feed that document to Beautiful Soup.' % markup)\n"
     ]
    },
    {
     "name": "stdout",
     "output_type": "stream",
     "text": [
      "\n",
      "Review 861000 of 1569264"
     ]
    },
    {
     "name": "stderr",
     "output_type": "stream",
     "text": [
      "/Users/erichsu/anaconda/lib/python2.7/site-packages/bs4/__init__.py:189: UserWarning: \"http://www.encorelasvegas.com/#/dining/switch/\" looks like a URL. Beautiful Soup is not an HTTP client. You should probably use an HTTP client to get the document behind the URL, and feed that document to Beautiful Soup.\n",
      "  '\"%s\" looks like a URL. Beautiful Soup is not an HTTP client. You should probably use an HTTP client to get the document behind the URL, and feed that document to Beautiful Soup.' % markup)\n",
      "/Users/erichsu/anaconda/lib/python2.7/site-packages/bs4/__init__.py:189: UserWarning: \"http://notomatoesplease.wordpress.com/2009/08/19/switchlasvegas/\" looks like a URL. Beautiful Soup is not an HTTP client. You should probably use an HTTP client to get the document behind the URL, and feed that document to Beautiful Soup.\n",
      "  '\"%s\" looks like a URL. Beautiful Soup is not an HTTP client. You should probably use an HTTP client to get the document behind the URL, and feed that document to Beautiful Soup.' % markup)\n",
      "/Users/erichsu/anaconda/lib/python2.7/site-packages/bs4/__init__.py:189: UserWarning: \"http://www.youtube.com/watch?v=oDpAluad730\n",
      "\n",
      "P.S.\" looks like a URL. Beautiful Soup is not an HTTP client. You should probably use an HTTP client to get the document behind the URL, and feed that document to Beautiful Soup.\n",
      "  '\"%s\" looks like a URL. Beautiful Soup is not an HTTP client. You should probably use an HTTP client to get the document behind the URL, and feed that document to Beautiful Soup.' % markup)\n"
     ]
    },
    {
     "name": "stdout",
     "output_type": "stream",
     "text": [
      "\n",
      "Review 862000 of 1569264"
     ]
    },
    {
     "name": "stderr",
     "output_type": "stream",
     "text": [
      "/Users/erichsu/anaconda/lib/python2.7/site-packages/bs4/__init__.py:189: UserWarning: \"http://www.youtube.com/watch?v=9Y0omHfu9W8\" looks like a URL. Beautiful Soup is not an HTTP client. You should probably use an HTTP client to get the document behind the URL, and feed that document to Beautiful Soup.\n",
      "  '\"%s\" looks like a URL. Beautiful Soup is not an HTTP client. You should probably use an HTTP client to get the document behind the URL, and feed that document to Beautiful Soup.' % markup)\n",
      "/Users/erichsu/anaconda/lib/python2.7/site-packages/bs4/__init__.py:189: UserWarning: \"http://www.youtube.com/watch?v=__2ABJjxzNo\" looks like a URL. Beautiful Soup is not an HTTP client. You should probably use an HTTP client to get the document behind the URL, and feed that document to Beautiful Soup.\n",
      "  '\"%s\" looks like a URL. Beautiful Soup is not an HTTP client. You should probably use an HTTP client to get the document behind the URL, and feed that document to Beautiful Soup.' % markup)\n"
     ]
    },
    {
     "name": "stdout",
     "output_type": "stream",
     "text": [
      "\n",
      "Review 863000 of 1569264\n",
      "Review 864000 of 1569264\n",
      "Review 865000 of 1569264\n",
      "Review 866000 of 1569264\n",
      "Review 867000 of 1569264"
     ]
    },
    {
     "name": "stderr",
     "output_type": "stream",
     "text": [
      "/Users/erichsu/anaconda/lib/python2.7/site-packages/bs4/__init__.py:189: UserWarning: \"http://www.youtube.com/watch?v=ZVsUb5vHFeE\" looks like a URL. Beautiful Soup is not an HTTP client. You should probably use an HTTP client to get the document behind the URL, and feed that document to Beautiful Soup.\n",
      "  '\"%s\" looks like a URL. Beautiful Soup is not an HTTP client. You should probably use an HTTP client to get the document behind the URL, and feed that document to Beautiful Soup.' % markup)\n",
      "/Users/erichsu/anaconda/lib/python2.7/site-packages/bs4/__init__.py:189: UserWarning: \"http://www.yelp.com/biz_photos/AbadN65irz8uSL8z6fkoBg?select=ifwxHWilWKPkBEmMxGi_6A\" looks like a URL. Beautiful Soup is not an HTTP client. You should probably use an HTTP client to get the document behind the URL, and feed that document to Beautiful Soup.\n",
      "  '\"%s\" looks like a URL. Beautiful Soup is not an HTTP client. You should probably use an HTTP client to get the document behind the URL, and feed that document to Beautiful Soup.' % markup)\n"
     ]
    },
    {
     "name": "stdout",
     "output_type": "stream",
     "text": [
      "\n",
      "Review 868000 of 1569264\n",
      "Review 869000 of 1569264"
     ]
    },
    {
     "name": "stderr",
     "output_type": "stream",
     "text": [
      "/Users/erichsu/anaconda/lib/python2.7/site-packages/bs4/__init__.py:189: UserWarning: \"https://www.facebook.com/media/set/?set=a.627816773897627.1073741849.286936404652334&type=1&l=c6fba74f71\" looks like a URL. Beautiful Soup is not an HTTP client. You should probably use an HTTP client to get the document behind the URL, and feed that document to Beautiful Soup.\n",
      "  '\"%s\" looks like a URL. Beautiful Soup is not an HTTP client. You should probably use an HTTP client to get the document behind the URL, and feed that document to Beautiful Soup.' % markup)\n",
      "/Users/erichsu/anaconda/lib/python2.7/site-packages/bs4/__init__.py:189: UserWarning: \"http://www.yelp.com/user_local_photos?userid=h4o8e_Xbca2kXQO_vzOqgg&select=o6i23tiQnEs6Z2KMvx91eg\n",
      "\n",
      "ah...poke!\" looks like a URL. Beautiful Soup is not an HTTP client. You should probably use an HTTP client to get the document behind the URL, and feed that document to Beautiful Soup.\n",
      "  '\"%s\" looks like a URL. Beautiful Soup is not an HTTP client. You should probably use an HTTP client to get the document behind the URL, and feed that document to Beautiful Soup.' % markup)\n"
     ]
    },
    {
     "name": "stdout",
     "output_type": "stream",
     "text": [
      "\n",
      "Review 870000 of 1569264\n",
      "Review 871000 of 1569264\n",
      "Review 872000 of 1569264\n",
      "Review 873000 of 1569264\n",
      "Review 874000 of 1569264"
     ]
    },
    {
     "name": "stderr",
     "output_type": "stream",
     "text": [
      "/Users/erichsu/anaconda/lib/python2.7/site-packages/bs4/__init__.py:189: UserWarning: \"http://www.flickr.com/photos/33182341@N00/sets/72157621840716349/\" looks like a URL. Beautiful Soup is not an HTTP client. You should probably use an HTTP client to get the document behind the URL, and feed that document to Beautiful Soup.\n",
      "  '\"%s\" looks like a URL. Beautiful Soup is not an HTTP client. You should probably use an HTTP client to get the document behind the URL, and feed that document to Beautiful Soup.' % markup)\n",
      "/Users/erichsu/anaconda/lib/python2.7/site-packages/bs4/__init__.py:189: UserWarning: \"http://www.pitajungle.com/music-player/\" looks like a URL. Beautiful Soup is not an HTTP client. You should probably use an HTTP client to get the document behind the URL, and feed that document to Beautiful Soup.\n",
      "  '\"%s\" looks like a URL. Beautiful Soup is not an HTTP client. You should probably use an HTTP client to get the document behind the URL, and feed that document to Beautiful Soup.' % markup)\n"
     ]
    },
    {
     "name": "stdout",
     "output_type": "stream",
     "text": [
      "\n",
      "Review 875000 of 1569264\n",
      "Review 876000 of 1569264\n",
      "Review 877000 of 1569264\n",
      "Review 878000 of 1569264\n",
      "Review 879000 of 1569264\n",
      "Review 880000 of 1569264"
     ]
    },
    {
     "name": "stderr",
     "output_type": "stream",
     "text": [
      "/Users/erichsu/anaconda/lib/python2.7/site-packages/bs4/__init__.py:189: UserWarning: \"http://www.yelp.com/biz/elenas-restaurant-las-vegas-2#hrid:66pT_yQvZudRThxlGl74Qw\" looks like a URL. Beautiful Soup is not an HTTP client. You should probably use an HTTP client to get the document behind the URL, and feed that document to Beautiful Soup.\n",
      "  '\"%s\" looks like a URL. Beautiful Soup is not an HTTP client. You should probably use an HTTP client to get the document behind the URL, and feed that document to Beautiful Soup.' % markup)\n",
      "/Users/erichsu/anaconda/lib/python2.7/site-packages/bs4/__init__.py:189: UserWarning: \"http://www.the-penny-pinchers.com/Category.aspx?srchcity=&srchstore=scramble&srchzip=zip\" looks like a URL. Beautiful Soup is not an HTTP client. You should probably use an HTTP client to get the document behind the URL, and feed that document to Beautiful Soup.\n",
      "  '\"%s\" looks like a URL. Beautiful Soup is not an HTTP client. You should probably use an HTTP client to get the document behind the URL, and feed that document to Beautiful Soup.' % markup)\n"
     ]
    },
    {
     "name": "stdout",
     "output_type": "stream",
     "text": [
      "\n",
      "Review 881000 of 1569264\n",
      "Review 882000 of 1569264\n",
      "Review 883000 of 1569264\n",
      "Review 884000 of 1569264\n",
      "Review 885000 of 1569264"
     ]
    },
    {
     "name": "stderr",
     "output_type": "stream",
     "text": [
      "/Users/erichsu/anaconda/lib/python2.7/site-packages/bs4/__init__.py:189: UserWarning: \"http://www.youtube.com/watch?v=IwjhrxV0fLU\" looks like a URL. Beautiful Soup is not an HTTP client. You should probably use an HTTP client to get the document behind the URL, and feed that document to Beautiful Soup.\n",
      "  '\"%s\" looks like a URL. Beautiful Soup is not an HTTP client. You should probably use an HTTP client to get the document behind the URL, and feed that document to Beautiful Soup.' % markup)\n",
      "/Users/erichsu/anaconda/lib/python2.7/site-packages/bs4/__init__.py:189: UserWarning: \"http://www.yelp.com/user_local_photos?select=4kr2Xw7C7AIBQA8iKjfD2A&userid=BDHDu2gEcRS6d4qz8yf7zg.\" looks like a URL. Beautiful Soup is not an HTTP client. You should probably use an HTTP client to get the document behind the URL, and feed that document to Beautiful Soup.\n",
      "  '\"%s\" looks like a URL. Beautiful Soup is not an HTTP client. You should probably use an HTTP client to get the document behind the URL, and feed that document to Beautiful Soup.' % markup)\n"
     ]
    },
    {
     "name": "stdout",
     "output_type": "stream",
     "text": [
      "\n",
      "Review 886000 of 1569264\n",
      "Review 887000 of 1569264\n",
      "Review 888000 of 1569264\n",
      "Review 889000 of 1569264\n",
      "Review 890000 of 1569264\n",
      "Review 891000 of 1569264"
     ]
    },
    {
     "name": "stderr",
     "output_type": "stream",
     "text": [
      "/Users/erichsu/anaconda/lib/python2.7/site-packages/bs4/__init__.py:189: UserWarning: \"http://www.newyorker.com/reporting/2010/01/11/100111fa_fact_seabrook\" looks like a URL. Beautiful Soup is not an HTTP client. You should probably use an HTTP client to get the document behind the URL, and feed that document to Beautiful Soup.\n",
      "  '\"%s\" looks like a URL. Beautiful Soup is not an HTTP client. You should probably use an HTTP client to get the document behind the URL, and feed that document to Beautiful Soup.' % markup)\n",
      "/Users/erichsu/anaconda/lib/python2.7/site-packages/bs4/__init__.py:189: UserWarning: \"http://www.youtube.com/watch?v=nDAHjNJlol8\" looks like a URL. Beautiful Soup is not an HTTP client. You should probably use an HTTP client to get the document behind the URL, and feed that document to Beautiful Soup.\n",
      "  '\"%s\" looks like a URL. Beautiful Soup is not an HTTP client. You should probably use an HTTP client to get the document behind the URL, and feed that document to Beautiful Soup.' % markup)\n"
     ]
    },
    {
     "name": "stdout",
     "output_type": "stream",
     "text": [
      "\n",
      "Review 892000 of 1569264\n",
      "Review 893000 of 1569264\n",
      "Review 894000 of 1569264\n",
      "Review 895000 of 1569264\n",
      "Review 896000 of 1569264"
     ]
    },
    {
     "name": "stderr",
     "output_type": "stream",
     "text": [
      "/Users/erichsu/anaconda/lib/python2.7/site-packages/bs4/__init__.py:189: UserWarning: \"http://www.yelp.com/user_local_photos?userid=8kskB3QBzO3eQQ1egeasXQ\" looks like a URL. Beautiful Soup is not an HTTP client. You should probably use an HTTP client to get the document behind the URL, and feed that document to Beautiful Soup.\n",
      "  '\"%s\" looks like a URL. Beautiful Soup is not an HTTP client. You should probably use an HTTP client to get the document behind the URL, and feed that document to Beautiful Soup.' % markup)\n",
      "/Users/erichsu/anaconda/lib/python2.7/site-packages/bs4/__init__.py:189: UserWarning: \"http://www.pocketshot.net/\" looks like a URL. Beautiful Soup is not an HTTP client. You should probably use an HTTP client to get the document behind the URL, and feed that document to Beautiful Soup.\n",
      "  '\"%s\" looks like a URL. Beautiful Soup is not an HTTP client. You should probably use an HTTP client to get the document behind the URL, and feed that document to Beautiful Soup.' % markup)\n"
     ]
    },
    {
     "name": "stdout",
     "output_type": "stream",
     "text": [
      "\n",
      "Review 897000 of 1569264\n",
      "Review 898000 of 1569264\n",
      "Review 899000 of 1569264\n",
      "Review 900000 of 1569264\n",
      "Review 901000 of 1569264\n",
      "Review 902000 of 1569264\n",
      "Review 903000 of 1569264\n",
      "Review 904000 of 1569264\n",
      "Review 905000 of 1569264\n",
      "Review 906000 of 1569264\n",
      "Review 907000 of 1569264"
     ]
    },
    {
     "name": "stderr",
     "output_type": "stream",
     "text": [
      "/Users/erichsu/anaconda/lib/python2.7/site-packages/bs4/__init__.py:189: UserWarning: \"http://www.yelp.com/biz_photos/6qKhUQwyMLBl9ehwB-cfxQ?select=Kih_XQhOBdSVZe4ph3oHXQ\" looks like a URL. Beautiful Soup is not an HTTP client. You should probably use an HTTP client to get the document behind the URL, and feed that document to Beautiful Soup.\n",
      "  '\"%s\" looks like a URL. Beautiful Soup is not an HTTP client. You should probably use an HTTP client to get the document behind the URL, and feed that document to Beautiful Soup.' % markup)\n",
      "/Users/erichsu/anaconda/lib/python2.7/site-packages/bs4/__init__.py:189: UserWarning: \"http://www.snapfinger.com/menus/bjsbrewhouse/default.aspx?SiteID=5125\" looks like a URL. Beautiful Soup is not an HTTP client. You should probably use an HTTP client to get the document behind the URL, and feed that document to Beautiful Soup.\n",
      "  '\"%s\" looks like a URL. Beautiful Soup is not an HTTP client. You should probably use an HTTP client to get the document behind the URL, and feed that document to Beautiful Soup.' % markup)\n"
     ]
    },
    {
     "name": "stdout",
     "output_type": "stream",
     "text": [
      "\n",
      "Review 908000 of 1569264\n",
      "Review 909000 of 1569264\n",
      "Review 910000 of 1569264\n",
      "Review 911000 of 1569264"
     ]
    },
    {
     "name": "stderr",
     "output_type": "stream",
     "text": [
      "/Users/erichsu/anaconda/lib/python2.7/site-packages/bs4/__init__.py:189: UserWarning: \"http://Blogtalkradio.com/XLS\" looks like a URL. Beautiful Soup is not an HTTP client. You should probably use an HTTP client to get the document behind the URL, and feed that document to Beautiful Soup.\n",
      "  '\"%s\" looks like a URL. Beautiful Soup is not an HTTP client. You should probably use an HTTP client to get the document behind the URL, and feed that document to Beautiful Soup.' % markup)\n",
      "/Users/erichsu/anaconda/lib/python2.7/site-packages/bs4/__init__.py:189: UserWarning: \"http://www.galloblancocafe.com/\" looks like a URL. Beautiful Soup is not an HTTP client. You should probably use an HTTP client to get the document behind the URL, and feed that document to Beautiful Soup.\n",
      "  '\"%s\" looks like a URL. Beautiful Soup is not an HTTP client. You should probably use an HTTP client to get the document behind the URL, and feed that document to Beautiful Soup.' % markup)\n"
     ]
    },
    {
     "name": "stdout",
     "output_type": "stream",
     "text": [
      "\n",
      "Review 912000 of 1569264\n",
      "Review 913000 of 1569264"
     ]
    },
    {
     "name": "stderr",
     "output_type": "stream",
     "text": [
      "/Users/erichsu/anaconda/lib/python2.7/site-packages/bs4/__init__.py:189: UserWarning: \"http://www.fuistetravels.com/wanderings/windcavetrail\" looks like a URL. Beautiful Soup is not an HTTP client. You should probably use an HTTP client to get the document behind the URL, and feed that document to Beautiful Soup.\n",
      "  '\"%s\" looks like a URL. Beautiful Soup is not an HTTP client. You should probably use an HTTP client to get the document behind the URL, and feed that document to Beautiful Soup.' % markup)\n",
      "/Users/erichsu/anaconda/lib/python2.7/site-packages/bs4/__init__.py:189: UserWarning: \"http://eatinginpittsburgh.com/2010/06/02/asian-bakery-in-pittsburgh-where-a-review-of-bubble-pi-baking-arts/\" looks like a URL. Beautiful Soup is not an HTTP client. You should probably use an HTTP client to get the document behind the URL, and feed that document to Beautiful Soup.\n",
      "  '\"%s\" looks like a URL. Beautiful Soup is not an HTTP client. You should probably use an HTTP client to get the document behind the URL, and feed that document to Beautiful Soup.' % markup)\n",
      "/Users/erichsu/anaconda/lib/python2.7/site-packages/bs4/__init__.py:189: UserWarning: \"http://www.youtube.com/watch?v=cPGKR_mLouQ&feature=related\" looks like a URL. Beautiful Soup is not an HTTP client. You should probably use an HTTP client to get the document behind the URL, and feed that document to Beautiful Soup.\n",
      "  '\"%s\" looks like a URL. Beautiful Soup is not an HTTP client. You should probably use an HTTP client to get the document behind the URL, and feed that document to Beautiful Soup.' % markup)\n",
      "/Users/erichsu/anaconda/lib/python2.7/site-packages/bs4/__init__.py:189: UserWarning: \"http://pages.rubytuesdayrestaurants.com/page.aspx?QS=773ed3059447707deabda7bb9014e2bc76683fcf2ec10edcbf62b7dc638cf860\" looks like a URL. Beautiful Soup is not an HTTP client. You should probably use an HTTP client to get the document behind the URL, and feed that document to Beautiful Soup.\n",
      "  '\"%s\" looks like a URL. Beautiful Soup is not an HTTP client. You should probably use an HTTP client to get the document behind the URL, and feed that document to Beautiful Soup.' % markup)\n"
     ]
    },
    {
     "name": "stdout",
     "output_type": "stream",
     "text": [
      "\n",
      "Review 914000 of 1569264\n",
      "Review 915000 of 1569264\n",
      "Review 916000 of 1569264\n",
      "Review 917000 of 1569264\n",
      "Review 918000 of 1569264\n",
      "Review 919000 of 1569264"
     ]
    },
    {
     "name": "stderr",
     "output_type": "stream",
     "text": [
      "/Users/erichsu/anaconda/lib/python2.7/site-packages/bs4/__init__.py:189: UserWarning: \"http://www.dessybssteakhouse.com/\" looks like a URL. Beautiful Soup is not an HTTP client. You should probably use an HTTP client to get the document behind the URL, and feed that document to Beautiful Soup.\n",
      "  '\"%s\" looks like a URL. Beautiful Soup is not an HTTP client. You should probably use an HTTP client to get the document behind the URL, and feed that document to Beautiful Soup.' % markup)\n",
      "/Users/erichsu/anaconda/lib/python2.7/site-packages/bs4/__init__.py:189: UserWarning: \"http://morethanjustdessert.wordpress.com/2012/05/20/daisy-cafe-cupcakery-restaurant-review/\" looks like a URL. Beautiful Soup is not an HTTP client. You should probably use an HTTP client to get the document behind the URL, and feed that document to Beautiful Soup.\n",
      "  '\"%s\" looks like a URL. Beautiful Soup is not an HTTP client. You should probably use an HTTP client to get the document behind the URL, and feed that document to Beautiful Soup.' % markup)\n"
     ]
    },
    {
     "name": "stdout",
     "output_type": "stream",
     "text": [
      "\n",
      "Review 920000 of 1569264\n",
      "Review 921000 of 1569264\n",
      "Review 922000 of 1569264\n",
      "Review 923000 of 1569264\n",
      "Review 924000 of 1569264\n",
      "Review 925000 of 1569264"
     ]
    },
    {
     "name": "stderr",
     "output_type": "stream",
     "text": [
      "/Users/erichsu/anaconda/lib/python2.7/site-packages/bs4/__init__.py:189: UserWarning: \"http://www.livenation.com/venues/14282/ak-chin-pavilion\" looks like a URL. Beautiful Soup is not an HTTP client. You should probably use an HTTP client to get the document behind the URL, and feed that document to Beautiful Soup.\n",
      "  '\"%s\" looks like a URL. Beautiful Soup is not an HTTP client. You should probably use an HTTP client to get the document behind the URL, and feed that document to Beautiful Soup.' % markup)\n",
      "/Users/erichsu/anaconda/lib/python2.7/site-packages/bs4/__init__.py:189: UserWarning: \"http://online.wsj.com/article/SB10001424052702304879604575582253270407576.html?mod=WSJ_business_LeftSecondHighlights\" looks like a URL. Beautiful Soup is not an HTTP client. You should probably use an HTTP client to get the document behind the URL, and feed that document to Beautiful Soup.\n",
      "  '\"%s\" looks like a URL. Beautiful Soup is not an HTTP client. You should probably use an HTTP client to get the document behind the URL, and feed that document to Beautiful Soup.' % markup)\n"
     ]
    },
    {
     "name": "stdout",
     "output_type": "stream",
     "text": [
      "\n",
      "Review 926000 of 1569264\n",
      "Review 927000 of 1569264\n",
      "Review 928000 of 1569264\n",
      "Review 929000 of 1569264"
     ]
    },
    {
     "name": "stderr",
     "output_type": "stream",
     "text": [
      "/Users/erichsu/anaconda/lib/python2.7/site-packages/bs4/__init__.py:189: UserWarning: \"http://www.rivierahotel.com/las-vegas-entertainment/comedy-club/\" looks like a URL. Beautiful Soup is not an HTTP client. You should probably use an HTTP client to get the document behind the URL, and feed that document to Beautiful Soup.\n",
      "  '\"%s\" looks like a URL. Beautiful Soup is not an HTTP client. You should probably use an HTTP client to get the document behind the URL, and feed that document to Beautiful Soup.' % markup)\n",
      "/Users/erichsu/anaconda/lib/python2.7/site-packages/bs4/__init__.py:189: UserWarning: \"http://tinyurl.com/llb3\" looks like a URL. Beautiful Soup is not an HTTP client. You should probably use an HTTP client to get the document behind the URL, and feed that document to Beautiful Soup.\n",
      "  '\"%s\" looks like a URL. Beautiful Soup is not an HTTP client. You should probably use an HTTP client to get the document behind the URL, and feed that document to Beautiful Soup.' % markup)\n"
     ]
    },
    {
     "name": "stdout",
     "output_type": "stream",
     "text": [
      "\n",
      "Review 930000 of 1569264\n",
      "Review 931000 of 1569264\n",
      "Review 932000 of 1569264\n",
      "Review 933000 of 1569264"
     ]
    },
    {
     "name": "stderr",
     "output_type": "stream",
     "text": [
      "/Users/erichsu/anaconda/lib/python2.7/site-packages/bs4/__init__.py:189: UserWarning: \"http://www.arizonensis.org/sonoran/urbanhabitat/\" looks like a URL. Beautiful Soup is not an HTTP client. You should probably use an HTTP client to get the document behind the URL, and feed that document to Beautiful Soup.\n",
      "  '\"%s\" looks like a URL. Beautiful Soup is not an HTTP client. You should probably use an HTTP client to get the document behind the URL, and feed that document to Beautiful Soup.' % markup)\n",
      "/Users/erichsu/anaconda/lib/python2.7/site-packages/bs4/__init__.py:189: UserWarning: \"http://www.hokkaidoseafood.com/locations.html\" looks like a URL. Beautiful Soup is not an HTTP client. You should probably use an HTTP client to get the document behind the URL, and feed that document to Beautiful Soup.\n",
      "  '\"%s\" looks like a URL. Beautiful Soup is not an HTTP client. You should probably use an HTTP client to get the document behind the URL, and feed that document to Beautiful Soup.' % markup)\n"
     ]
    },
    {
     "name": "stdout",
     "output_type": "stream",
     "text": [
      "\n",
      "Review 934000 of 1569264\n",
      "Review 935000 of 1569264\n",
      "Review 936000 of 1569264\n",
      "Review 937000 of 1569264"
     ]
    },
    {
     "name": "stderr",
     "output_type": "stream",
     "text": [
      "/Users/erichsu/anaconda/lib/python2.7/site-packages/bs4/__init__.py:189: UserWarning: \"http://commonmarketisgood.com\" looks like a URL. Beautiful Soup is not an HTTP client. You should probably use an HTTP client to get the document behind the URL, and feed that document to Beautiful Soup.\n",
      "  '\"%s\" looks like a URL. Beautiful Soup is not an HTTP client. You should probably use an HTTP client to get the document behind the URL, and feed that document to Beautiful Soup.' % markup)\n",
      "/Users/erichsu/anaconda/lib/python2.7/site-packages/bs4/__init__.py:189: UserWarning: \"http://thepittsburghdiaries.wordpress.com/2010/12/13/tamari/\" looks like a URL. Beautiful Soup is not an HTTP client. You should probably use an HTTP client to get the document behind the URL, and feed that document to Beautiful Soup.\n",
      "  '\"%s\" looks like a URL. Beautiful Soup is not an HTTP client. You should probably use an HTTP client to get the document behind the URL, and feed that document to Beautiful Soup.' % markup)\n"
     ]
    },
    {
     "name": "stdout",
     "output_type": "stream",
     "text": [
      "\n",
      "Review 938000 of 1569264\n",
      "Review 939000 of 1569264"
     ]
    },
    {
     "name": "stderr",
     "output_type": "stream",
     "text": [
      "/Users/erichsu/anaconda/lib/python2.7/site-packages/bs4/__init__.py:189: UserWarning: \"http://www.whatisbrewing.com/\" looks like a URL. Beautiful Soup is not an HTTP client. You should probably use an HTTP client to get the document behind the URL, and feed that document to Beautiful Soup.\n",
      "  '\"%s\" looks like a URL. Beautiful Soup is not an HTTP client. You should probably use an HTTP client to get the document behind the URL, and feed that document to Beautiful Soup.' % markup)\n",
      "/Users/erichsu/anaconda/lib/python2.7/site-packages/bs4/__init__.py:189: UserWarning: \"http://www.dylanscandybar.com/\" looks like a URL. Beautiful Soup is not an HTTP client. You should probably use an HTTP client to get the document behind the URL, and feed that document to Beautiful Soup.\n",
      "  '\"%s\" looks like a URL. Beautiful Soup is not an HTTP client. You should probably use an HTTP client to get the document behind the URL, and feed that document to Beautiful Soup.' % markup)\n"
     ]
    },
    {
     "name": "stdout",
     "output_type": "stream",
     "text": [
      "\n",
      "Review 940000 of 1569264"
     ]
    },
    {
     "name": "stderr",
     "output_type": "stream",
     "text": [
      "/Users/erichsu/anaconda/lib/python2.7/site-packages/bs4/__init__.py:189: UserWarning: \"http://www.yelp.com/biz_photos/kareys-kitchen-phoenix?select=SHZJN-BYDlPa74nDjqH2xg#SHZJN-BYDlPa74nDjqH2xg\n",
      "\n",
      "2.\" looks like a URL. Beautiful Soup is not an HTTP client. You should probably use an HTTP client to get the document behind the URL, and feed that document to Beautiful Soup.\n",
      "  '\"%s\" looks like a URL. Beautiful Soup is not an HTTP client. You should probably use an HTTP client to get the document behind the URL, and feed that document to Beautiful Soup.' % markup)\n",
      "/Users/erichsu/anaconda/lib/python2.7/site-packages/bs4/__init__.py:189: UserWarning: \"http://www.yelp.com/biz_photos/kareys-kitchen-phoenix?select=Pcxd22BrQ9Ixjgm13149fQ#Pcxd22BrQ9Ixjgm13149fQ\n",
      "\n",
      "3.\" looks like a URL. Beautiful Soup is not an HTTP client. You should probably use an HTTP client to get the document behind the URL, and feed that document to Beautiful Soup.\n",
      "  '\"%s\" looks like a URL. Beautiful Soup is not an HTTP client. You should probably use an HTTP client to get the document behind the URL, and feed that document to Beautiful Soup.' % markup)\n",
      "/Users/erichsu/anaconda/lib/python2.7/site-packages/bs4/__init__.py:189: UserWarning: \"http://www.yelp.com/biz_photos/kareys-kitchen-phoenix?select=HyJX4evw0Ogej34RgcptkQ#HyJX4evw0Ogej34RgcptkQ\n",
      "\n",
      "4.\" looks like a URL. Beautiful Soup is not an HTTP client. You should probably use an HTTP client to get the document behind the URL, and feed that document to Beautiful Soup.\n",
      "  '\"%s\" looks like a URL. Beautiful Soup is not an HTTP client. You should probably use an HTTP client to get the document behind the URL, and feed that document to Beautiful Soup.' % markup)\n",
      "/Users/erichsu/anaconda/lib/python2.7/site-packages/bs4/__init__.py:189: UserWarning: \"http://www.yelp.com/biz_photos/kareys-kitchen-phoenix?select=cphMBWm29BPKoaBidq9QCA#cphMBWm29BPKoaBidq9QCA\n",
      "\n",
      "5.\" looks like a URL. Beautiful Soup is not an HTTP client. You should probably use an HTTP client to get the document behind the URL, and feed that document to Beautiful Soup.\n",
      "  '\"%s\" looks like a URL. Beautiful Soup is not an HTTP client. You should probably use an HTTP client to get the document behind the URL, and feed that document to Beautiful Soup.' % markup)\n",
      "/Users/erichsu/anaconda/lib/python2.7/site-packages/bs4/__init__.py:189: UserWarning: \"http://www.toplinebusinesssolutions.com/mountainside/\" looks like a URL. Beautiful Soup is not an HTTP client. You should probably use an HTTP client to get the document behind the URL, and feed that document to Beautiful Soup.\n",
      "  '\"%s\" looks like a URL. Beautiful Soup is not an HTTP client. You should probably use an HTTP client to get the document behind the URL, and feed that document to Beautiful Soup.' % markup)\n"
     ]
    },
    {
     "name": "stdout",
     "output_type": "stream",
     "text": [
      "\n",
      "Review 941000 of 1569264"
     ]
    },
    {
     "name": "stderr",
     "output_type": "stream",
     "text": [
      "/Users/erichsu/anaconda/lib/python2.7/site-packages/bs4/__init__.py:189: UserWarning: \"http://www.yelp.com/biz/smashburger-avondale\" looks like a URL. Beautiful Soup is not an HTTP client. You should probably use an HTTP client to get the document behind the URL, and feed that document to Beautiful Soup.\n",
      "  '\"%s\" looks like a URL. Beautiful Soup is not an HTTP client. You should probably use an HTTP client to get the document behind the URL, and feed that document to Beautiful Soup.' % markup)\n",
      "/Users/erichsu/anaconda/lib/python2.7/site-packages/bs4/__init__.py:189: UserWarning: \"http://yoritasouthside.com/\" looks like a URL. Beautiful Soup is not an HTTP client. You should probably use an HTTP client to get the document behind the URL, and feed that document to Beautiful Soup.\n",
      "  '\"%s\" looks like a URL. Beautiful Soup is not an HTTP client. You should probably use an HTTP client to get the document behind the URL, and feed that document to Beautiful Soup.' % markup)\n"
     ]
    },
    {
     "name": "stdout",
     "output_type": "stream",
     "text": [
      "\n",
      "Review 942000 of 1569264\n",
      "Review 943000 of 1569264\n",
      "Review 944000 of 1569264\n",
      "Review 945000 of 1569264\n",
      "Review 946000 of 1569264\n",
      "Review 947000 of 1569264"
     ]
    },
    {
     "name": "stderr",
     "output_type": "stream",
     "text": [
      "/Users/erichsu/anaconda/lib/python2.7/site-packages/bs4/__init__.py:189: UserWarning: \"http://www.mixiaosblock.com/twin_cities_lunch/thats_some_darn_good_chicke.html\" looks like a URL. Beautiful Soup is not an HTTP client. You should probably use an HTTP client to get the document behind the URL, and feed that document to Beautiful Soup.\n",
      "  '\"%s\" looks like a URL. Beautiful Soup is not an HTTP client. You should probably use an HTTP client to get the document behind the URL, and feed that document to Beautiful Soup.' % markup)\n",
      "/Users/erichsu/anaconda/lib/python2.7/site-packages/bs4/__init__.py:189: UserWarning: \"http://www.time.com/time/health/article/0,8599,1663604,00.html\" looks like a URL. Beautiful Soup is not an HTTP client. You should probably use an HTTP client to get the document behind the URL, and feed that document to Beautiful Soup.\n",
      "  '\"%s\" looks like a URL. Beautiful Soup is not an HTTP client. You should probably use an HTTP client to get the document behind the URL, and feed that document to Beautiful Soup.' % markup)\n",
      "/Users/erichsu/anaconda/lib/python2.7/site-packages/bs4/__init__.py:189: UserWarning: \"http://www.facebook.com/pages/Blossom-Asian-Cuisine/116172298411131\" looks like a URL. Beautiful Soup is not an HTTP client. You should probably use an HTTP client to get the document behind the URL, and feed that document to Beautiful Soup.\n",
      "  '\"%s\" looks like a URL. Beautiful Soup is not an HTTP client. You should probably use an HTTP client to get the document behind the URL, and feed that document to Beautiful Soup.' % markup)\n",
      "/Users/erichsu/anaconda/lib/python2.7/site-packages/bs4/__init__.py:189: UserWarning: \"http://www.citycoups.com/barcelonatapasbarcoupon.html\" looks like a URL. Beautiful Soup is not an HTTP client. You should probably use an HTTP client to get the document behind the URL, and feed that document to Beautiful Soup.\n",
      "  '\"%s\" looks like a URL. Beautiful Soup is not an HTTP client. You should probably use an HTTP client to get the document behind the URL, and feed that document to Beautiful Soup.' % markup)\n"
     ]
    },
    {
     "name": "stdout",
     "output_type": "stream",
     "text": [
      "\n",
      "Review 948000 of 1569264\n",
      "Review 949000 of 1569264\n",
      "Review 950000 of 1569264\n",
      "Review 951000 of 1569264\n",
      "Review 952000 of 1569264\n",
      "Review 953000 of 1569264\n",
      "Review 954000 of 1569264\n",
      "Review 955000 of 1569264"
     ]
    },
    {
     "name": "stderr",
     "output_type": "stream",
     "text": [
      "/Users/erichsu/anaconda/lib/python2.7/site-packages/bs4/__init__.py:189: UserWarning: \"http://www.flickr.com/photos/theedinburghblog/3018936259/\" looks like a URL. Beautiful Soup is not an HTTP client. You should probably use an HTTP client to get the document behind the URL, and feed that document to Beautiful Soup.\n",
      "  '\"%s\" looks like a URL. Beautiful Soup is not an HTTP client. You should probably use an HTTP client to get the document behind the URL, and feed that document to Beautiful Soup.' % markup)\n",
      "/Users/erichsu/anaconda/lib/python2.7/site-packages/bs4/__init__.py:189: UserWarning: \"http://www.rawhogs.com/2013/07/09/peace-love-and-little-donuts/\" looks like a URL. Beautiful Soup is not an HTTP client. You should probably use an HTTP client to get the document behind the URL, and feed that document to Beautiful Soup.\n",
      "  '\"%s\" looks like a URL. Beautiful Soup is not an HTTP client. You should probably use an HTTP client to get the document behind the URL, and feed that document to Beautiful Soup.' % markup)\n"
     ]
    },
    {
     "name": "stdout",
     "output_type": "stream",
     "text": [
      "\n",
      "Review 956000 of 1569264\n",
      "Review 957000 of 1569264\n",
      "Review 958000 of 1569264\n",
      "Review 959000 of 1569264\n",
      "Review 960000 of 1569264\n",
      "Review 961000 of 1569264\n",
      "Review 962000 of 1569264\n",
      "Review 963000 of 1569264\n",
      "Review 964000 of 1569264\n",
      "Review 965000 of 1569264\n",
      "Review 966000 of 1569264\n",
      "Review 967000 of 1569264\n",
      "Review 968000 of 1569264\n",
      "Review 969000 of 1569264\n",
      "Review 970000 of 1569264"
     ]
    },
    {
     "name": "stderr",
     "output_type": "stream",
     "text": [
      "/Users/erichsu/anaconda/lib/python2.7/site-packages/bs4/__init__.py:189: UserWarning: \"http://www.kellycardenassalon.com/stylists/lasvegas/jennifer_moses.html\" looks like a URL. Beautiful Soup is not an HTTP client. You should probably use an HTTP client to get the document behind the URL, and feed that document to Beautiful Soup.\n",
      "  '\"%s\" looks like a URL. Beautiful Soup is not an HTTP client. You should probably use an HTTP client to get the document behind the URL, and feed that document to Beautiful Soup.' % markup)\n",
      "/Users/erichsu/anaconda/lib/python2.7/site-packages/bs4/__init__.py:189: UserWarning: \"http://www.whiskishop.com/.\" looks like a URL. Beautiful Soup is not an HTTP client. You should probably use an HTTP client to get the document behind the URL, and feed that document to Beautiful Soup.\n",
      "  '\"%s\" looks like a URL. Beautiful Soup is not an HTTP client. You should probably use an HTTP client to get the document behind the URL, and feed that document to Beautiful Soup.' % markup)\n"
     ]
    },
    {
     "name": "stdout",
     "output_type": "stream",
     "text": [
      "\n",
      "Review 971000 of 1569264\n",
      "Review 972000 of 1569264\n",
      "Review 973000 of 1569264\n",
      "Review 974000 of 1569264"
     ]
    },
    {
     "name": "stderr",
     "output_type": "stream",
     "text": [
      "/Users/erichsu/anaconda/lib/python2.7/site-packages/bs4/__init__.py:189: UserWarning: \"http://www.yelp.com/biz_photos/pinks-hot-dogs-las-vegas-2?select=tjpcbEJKTKznY-hm_D4v8A#tjpcbEJKTKznY-hm_D4v8A\n",
      "\n",
      "$9.18\" looks like a URL. Beautiful Soup is not an HTTP client. You should probably use an HTTP client to get the document behind the URL, and feed that document to Beautiful Soup.\n",
      "  '\"%s\" looks like a URL. Beautiful Soup is not an HTTP client. You should probably use an HTTP client to get the document behind the URL, and feed that document to Beautiful Soup.' % markup)\n",
      "/Users/erichsu/anaconda/lib/python2.7/site-packages/bs4/__init__.py:189: UserWarning: \"http://www.foodburgh.com/2010/02/avenue-b/\" looks like a URL. Beautiful Soup is not an HTTP client. You should probably use an HTTP client to get the document behind the URL, and feed that document to Beautiful Soup.\n",
      "  '\"%s\" looks like a URL. Beautiful Soup is not an HTTP client. You should probably use an HTTP client to get the document behind the URL, and feed that document to Beautiful Soup.' % markup)\n"
     ]
    },
    {
     "name": "stdout",
     "output_type": "stream",
     "text": [
      "\n",
      "Review 975000 of 1569264\n",
      "Review 976000 of 1569264\n",
      "Review 977000 of 1569264\n",
      "Review 978000 of 1569264\n",
      "Review 979000 of 1569264\n",
      "Review 980000 of 1569264"
     ]
    },
    {
     "name": "stderr",
     "output_type": "stream",
     "text": [
      "/Users/erichsu/anaconda/lib/python2.7/site-packages/bs4/__init__.py:189: UserWarning: \"http://www.mybentoasiandiner.com/\" looks like a URL. Beautiful Soup is not an HTTP client. You should probably use an HTTP client to get the document behind the URL, and feed that document to Beautiful Soup.\n",
      "  '\"%s\" looks like a URL. Beautiful Soup is not an HTTP client. You should probably use an HTTP client to get the document behind the URL, and feed that document to Beautiful Soup.' % markup)\n",
      "/Users/erichsu/anaconda/lib/python2.7/site-packages/bs4/__init__.py:189: UserWarning: \"http://www.lasvegasweekly.com/news/2010/apr/14/viva-el-mundo/\" looks like a URL. Beautiful Soup is not an HTTP client. You should probably use an HTTP client to get the document behind the URL, and feed that document to Beautiful Soup.\n",
      "  '\"%s\" looks like a URL. Beautiful Soup is not an HTTP client. You should probably use an HTTP client to get the document behind the URL, and feed that document to Beautiful Soup.' % markup)\n"
     ]
    },
    {
     "name": "stdout",
     "output_type": "stream",
     "text": [
      "\n",
      "Review 981000 of 1569264"
     ]
    },
    {
     "name": "stderr",
     "output_type": "stream",
     "text": [
      "/Users/erichsu/anaconda/lib/python2.7/site-packages/bs4/__init__.py:189: UserWarning: \"http://i140.photobucket.com/albums/r37/keithand/grimaldis003.jpg\n",
      "http://i140.photobucket.com/albums/r37/keithand/grimaldis002.jpg\n",
      "http://i140.photobucket.com/albums/r37/keithand/grimaldis001.jpg\" looks like a URL. Beautiful Soup is not an HTTP client. You should probably use an HTTP client to get the document behind the URL, and feed that document to Beautiful Soup.\n",
      "  '\"%s\" looks like a URL. Beautiful Soup is not an HTTP client. You should probably use an HTTP client to get the document behind the URL, and feed that document to Beautiful Soup.' % markup)\n",
      "/Users/erichsu/anaconda/lib/python2.7/site-packages/bs4/__init__.py:189: UserWarning: \"http://www.kmov.com/ne...\n",
      "\n",
      "http://www.restaurantd...\" looks like a URL. Beautiful Soup is not an HTTP client. You should probably use an HTTP client to get the document behind the URL, and feed that document to Beautiful Soup.\n",
      "  '\"%s\" looks like a URL. Beautiful Soup is not an HTTP client. You should probably use an HTTP client to get the document behind the URL, and feed that document to Beautiful Soup.' % markup)\n"
     ]
    },
    {
     "name": "stdout",
     "output_type": "stream",
     "text": [
      "\n",
      "Review 982000 of 1569264\n",
      "Review 983000 of 1569264\n",
      "Review 984000 of 1569264\n",
      "Review 985000 of 1569264\n",
      "Review 986000 of 1569264"
     ]
    },
    {
     "name": "stderr",
     "output_type": "stream",
     "text": [
      "/Users/erichsu/anaconda/lib/python2.7/site-packages/bs4/__init__.py:189: UserWarning: \"http://davidstable.com/2010/11/my-favorite-meal-of-2010/\" looks like a URL. Beautiful Soup is not an HTTP client. You should probably use an HTTP client to get the document behind the URL, and feed that document to Beautiful Soup.\n",
      "  '\"%s\" looks like a URL. Beautiful Soup is not an HTTP client. You should probably use an HTTP client to get the document behind the URL, and feed that document to Beautiful Soup.' % markup)\n",
      "/Users/erichsu/anaconda/lib/python2.7/site-packages/bs4/__init__.py:189: UserWarning: \"http://www.yelp.com/biz/cartel-coffee-lab-phoenix#hrid:w6hrU_1NGdkAGEM2B_ot1w\" looks like a URL. Beautiful Soup is not an HTTP client. You should probably use an HTTP client to get the document behind the URL, and feed that document to Beautiful Soup.\n",
      "  '\"%s\" looks like a URL. Beautiful Soup is not an HTTP client. You should probably use an HTTP client to get the document behind the URL, and feed that document to Beautiful Soup.' % markup)\n"
     ]
    },
    {
     "name": "stdout",
     "output_type": "stream",
     "text": [
      "\n",
      "Review 987000 of 1569264\n",
      "Review 988000 of 1569264\n",
      "Review 989000 of 1569264\n",
      "Review 990000 of 1569264\n",
      "Review 991000 of 1569264"
     ]
    },
    {
     "name": "stderr",
     "output_type": "stream",
     "text": [
      "/Users/erichsu/anaconda/lib/python2.7/site-packages/bs4/__init__.py:189: UserWarning: \"http://www.batteriesplus.com/store_details/182.aspx\" looks like a URL. Beautiful Soup is not an HTTP client. You should probably use an HTTP client to get the document behind the URL, and feed that document to Beautiful Soup.\n",
      "  '\"%s\" looks like a URL. Beautiful Soup is not an HTTP client. You should probably use an HTTP client to get the document behind the URL, and feed that document to Beautiful Soup.' % markup)\n",
      "/Users/erichsu/anaconda/lib/python2.7/site-packages/bs4/__init__.py:189: UserWarning: \"http://www.taylorcarpenter-pt.com\" looks like a URL. Beautiful Soup is not an HTTP client. You should probably use an HTTP client to get the document behind the URL, and feed that document to Beautiful Soup.\n",
      "  '\"%s\" looks like a URL. Beautiful Soup is not an HTTP client. You should probably use an HTTP client to get the document behind the URL, and feed that document to Beautiful Soup.' % markup)\n",
      "/Users/erichsu/anaconda/lib/python2.7/site-packages/bs4/__init__.py:189: UserWarning: \"http://emoteuntildeath.blogspot.com\" looks like a URL. Beautiful Soup is not an HTTP client. You should probably use an HTTP client to get the document behind the URL, and feed that document to Beautiful Soup.\n",
      "  '\"%s\" looks like a URL. Beautiful Soup is not an HTTP client. You should probably use an HTTP client to get the document behind the URL, and feed that document to Beautiful Soup.' % markup)\n"
     ]
    },
    {
     "name": "stdout",
     "output_type": "stream",
     "text": [
      "\n",
      "Review 992000 of 1569264"
     ]
    },
    {
     "name": "stderr",
     "output_type": "stream",
     "text": [
      "/Users/erichsu/anaconda/lib/python2.7/site-packages/bs4/__init__.py:189: UserWarning: \"http://www.carolinacinemas.com/charlotte/index.php\" looks like a URL. Beautiful Soup is not an HTTP client. You should probably use an HTTP client to get the document behind the URL, and feed that document to Beautiful Soup.\n",
      "  '\"%s\" looks like a URL. Beautiful Soup is not an HTTP client. You should probably use an HTTP client to get the document behind the URL, and feed that document to Beautiful Soup.' % markup)\n",
      "/Users/erichsu/anaconda/lib/python2.7/site-packages/bs4/__init__.py:189: UserWarning: \"http://www.customhomepubs.com/events/\" looks like a URL. Beautiful Soup is not an HTTP client. You should probably use an HTTP client to get the document behind the URL, and feed that document to Beautiful Soup.\n",
      "  '\"%s\" looks like a URL. Beautiful Soup is not an HTTP client. You should probably use an HTTP client to get the document behind the URL, and feed that document to Beautiful Soup.' % markup)\n",
      "/Users/erichsu/anaconda/lib/python2.7/site-packages/bs4/__init__.py:189: UserWarning: \"http://www.youtube.com/watch?v=X1XilfKuYaQ\" looks like a URL. Beautiful Soup is not an HTTP client. You should probably use an HTTP client to get the document behind the URL, and feed that document to Beautiful Soup.\n",
      "  '\"%s\" looks like a URL. Beautiful Soup is not an HTTP client. You should probably use an HTTP client to get the document behind the URL, and feed that document to Beautiful Soup.' % markup)\n",
      "/Users/erichsu/anaconda/lib/python2.7/site-packages/bs4/__init__.py:189: UserWarning: \"http://www.brezone.blogspot.com/\n",
      "\n",
      "http://www.phxtaco.com/breezes-phoenix-rising-central/\n",
      "\n",
      "http://www.downtownphoenix.com\" looks like a URL. Beautiful Soup is not an HTTP client. You should probably use an HTTP client to get the document behind the URL, and feed that document to Beautiful Soup.\n",
      "  '\"%s\" looks like a URL. Beautiful Soup is not an HTTP client. You should probably use an HTTP client to get the document behind the URL, and feed that document to Beautiful Soup.' % markup)\n"
     ]
    },
    {
     "name": "stdout",
     "output_type": "stream",
     "text": [
      "\n",
      "Review 993000 of 1569264\n",
      "Review 994000 of 1569264\n",
      "Review 995000 of 1569264"
     ]
    },
    {
     "name": "stderr",
     "output_type": "stream",
     "text": [
      "/Users/erichsu/anaconda/lib/python2.7/site-packages/bs4/__init__.py:189: UserWarning: \"http://officialblog.yelp.com/2014/02/yelp-data-reveals-top-100-places-to-eat-bookmark-these-babies-now.html\" looks like a URL. Beautiful Soup is not an HTTP client. You should probably use an HTTP client to get the document behind the URL, and feed that document to Beautiful Soup.\n",
      "  '\"%s\" looks like a URL. Beautiful Soup is not an HTTP client. You should probably use an HTTP client to get the document behind the URL, and feed that document to Beautiful Soup.' % markup)\n",
      "/Users/erichsu/anaconda/lib/python2.7/site-packages/bs4/__init__.py:189: UserWarning: \"http://bit.ly/7mzo9A\" looks like a URL. Beautiful Soup is not an HTTP client. You should probably use an HTTP client to get the document behind the URL, and feed that document to Beautiful Soup.\n",
      "  '\"%s\" looks like a URL. Beautiful Soup is not an HTTP client. You should probably use an HTTP client to get the document behind the URL, and feed that document to Beautiful Soup.' % markup)\n"
     ]
    },
    {
     "name": "stdout",
     "output_type": "stream",
     "text": [
      "\n",
      "Review 996000 of 1569264\n",
      "Review 997000 of 1569264\n",
      "Review 998000 of 1569264\n",
      "Review 999000 of 1569264\n",
      "Review 1000000 of 1569264"
     ]
    },
    {
     "name": "stderr",
     "output_type": "stream",
     "text": [
      "/Users/erichsu/anaconda/lib/python2.7/site-packages/bs4/__init__.py:189: UserWarning: \"http://www.foodieslikeusblog.com/tag/outrageous-oils-and-vinegars-scottsdale/\" looks like a URL. Beautiful Soup is not an HTTP client. You should probably use an HTTP client to get the document behind the URL, and feed that document to Beautiful Soup.\n",
      "  '\"%s\" looks like a URL. Beautiful Soup is not an HTTP client. You should probably use an HTTP client to get the document behind the URL, and feed that document to Beautiful Soup.' % markup)\n",
      "/Users/erichsu/anaconda/lib/python2.7/site-packages/bs4/__init__.py:189: UserWarning: \"http://www.pittsburghlive.com/x/pittsburghtrib/s_434064.html\" looks like a URL. Beautiful Soup is not an HTTP client. You should probably use an HTTP client to get the document behind the URL, and feed that document to Beautiful Soup.\n",
      "  '\"%s\" looks like a URL. Beautiful Soup is not an HTTP client. You should probably use an HTTP client to get the document behind the URL, and feed that document to Beautiful Soup.' % markup)\n"
     ]
    },
    {
     "name": "stdout",
     "output_type": "stream",
     "text": [
      "\n",
      "Review 1001000 of 1569264\n",
      "Review 1002000 of 1569264\n",
      "Review 1003000 of 1569264\n",
      "Review 1004000 of 1569264\n",
      "Review 1005000 of 1569264\n",
      "Review 1006000 of 1569264"
     ]
    },
    {
     "name": "stderr",
     "output_type": "stream",
     "text": [
      "/Users/erichsu/anaconda/lib/python2.7/site-packages/bs4/__init__.py:189: UserWarning: \"http://www.yelp.com/user_details?userid=LgYkIqEVtJK_ZJBYVeTj0Q\" looks like a URL. Beautiful Soup is not an HTTP client. You should probably use an HTTP client to get the document behind the URL, and feed that document to Beautiful Soup.\n",
      "  '\"%s\" looks like a URL. Beautiful Soup is not an HTTP client. You should probably use an HTTP client to get the document behind the URL, and feed that document to Beautiful Soup.' % markup)\n",
      "/Users/erichsu/anaconda/lib/python2.7/site-packages/bs4/__init__.py:189: UserWarning: \"http://www.getnmahbelly.com/2013/02/vintage-brewing-co/\" looks like a URL. Beautiful Soup is not an HTTP client. You should probably use an HTTP client to get the document behind the URL, and feed that document to Beautiful Soup.\n",
      "  '\"%s\" looks like a URL. Beautiful Soup is not an HTTP client. You should probably use an HTTP client to get the document behind the URL, and feed that document to Beautiful Soup.' % markup)\n"
     ]
    },
    {
     "name": "stdout",
     "output_type": "stream",
     "text": [
      "\n",
      "Review 1007000 of 1569264\n",
      "Review 1008000 of 1569264\n",
      "Review 1009000 of 1569264\n",
      "Review 1010000 of 1569264\n",
      "Review 1011000 of 1569264\n",
      "Review 1012000 of 1569264"
     ]
    },
    {
     "name": "stderr",
     "output_type": "stream",
     "text": [
      "/Users/erichsu/anaconda/lib/python2.7/site-packages/bs4/__init__.py:189: UserWarning: \"http://www.facebook.com/events/121845437932281/?ref=ts\" looks like a URL. Beautiful Soup is not an HTTP client. You should probably use an HTTP client to get the document behind the URL, and feed that document to Beautiful Soup.\n",
      "  '\"%s\" looks like a URL. Beautiful Soup is not an HTTP client. You should probably use an HTTP client to get the document behind the URL, and feed that document to Beautiful Soup.' % markup)\n",
      "/Users/erichsu/anaconda/lib/python2.7/site-packages/bs4/__init__.py:189: UserWarning: \"http://www.facebook.com/?ref=home#!/SAGOSBAR\n",
      "\n",
      "http://www.sagosbar.com/\" looks like a URL. Beautiful Soup is not an HTTP client. You should probably use an HTTP client to get the document behind the URL, and feed that document to Beautiful Soup.\n",
      "  '\"%s\" looks like a URL. Beautiful Soup is not an HTTP client. You should probably use an HTTP client to get the document behind the URL, and feed that document to Beautiful Soup.' % markup)\n"
     ]
    },
    {
     "name": "stdout",
     "output_type": "stream",
     "text": [
      "\n",
      "Review 1013000 of 1569264\n",
      "Review 1014000 of 1569264\n",
      "Review 1015000 of 1569264\n",
      "Review 1016000 of 1569264\n",
      "Review 1017000 of 1569264\n",
      "Review 1018000 of 1569264\n",
      "Review 1019000 of 1569264"
     ]
    },
    {
     "name": "stderr",
     "output_type": "stream",
     "text": [
      "/Users/erichsu/anaconda/lib/python2.7/site-packages/bs4/__init__.py:189: UserWarning: \"http://www.yelp.com/user_local_photos?userid=8DGFWco9VeBAxjqsuh1aSw&select=VQYnRdKt0UXkcGAoFc6kKQ\" looks like a URL. Beautiful Soup is not an HTTP client. You should probably use an HTTP client to get the document behind the URL, and feed that document to Beautiful Soup.\n",
      "  '\"%s\" looks like a URL. Beautiful Soup is not an HTTP client. You should probably use an HTTP client to get the document behind the URL, and feed that document to Beautiful Soup.' % markup)\n",
      "/Users/erichsu/anaconda/lib/python2.7/site-packages/bs4/__init__.py:189: UserWarning: \"http://www.mwuclinic.com/az/di\" looks like a URL. Beautiful Soup is not an HTTP client. You should probably use an HTTP client to get the document behind the URL, and feed that document to Beautiful Soup.\n",
      "  '\"%s\" looks like a URL. Beautiful Soup is not an HTTP client. You should probably use an HTTP client to get the document behind the URL, and feed that document to Beautiful Soup.' % markup)\n"
     ]
    },
    {
     "name": "stdout",
     "output_type": "stream",
     "text": [
      "\n",
      "Review 1020000 of 1569264\n",
      "Review 1021000 of 1569264\n",
      "Review 1022000 of 1569264\n",
      "Review 1023000 of 1569264\n",
      "Review 1024000 of 1569264\n",
      "Review 1025000 of 1569264"
     ]
    },
    {
     "name": "stderr",
     "output_type": "stream",
     "text": [
      "/Users/erichsu/anaconda/lib/python2.7/site-packages/bs4/__init__.py:189: UserWarning: \"http://www.bbb.org/central-northern-western-arizona/business-reviews/cellular-telephone-service-and-supplies/cpr-cell-phone-repair-in-chandler-az-1000027737\" looks like a URL. Beautiful Soup is not an HTTP client. You should probably use an HTTP client to get the document behind the URL, and feed that document to Beautiful Soup.\n",
      "  '\"%s\" looks like a URL. Beautiful Soup is not an HTTP client. You should probably use an HTTP client to get the document behind the URL, and feed that document to Beautiful Soup.' % markup)\n",
      "/Users/erichsu/anaconda/lib/python2.7/site-packages/bs4/__init__.py:189: UserWarning: \"http://lovettellispeaks.blogspot.com/2010/02/getting-order-correct-at-mcdonalds-is.html\" looks like a URL. Beautiful Soup is not an HTTP client. You should probably use an HTTP client to get the document behind the URL, and feed that document to Beautiful Soup.\n",
      "  '\"%s\" looks like a URL. Beautiful Soup is not an HTTP client. You should probably use an HTTP client to get the document behind the URL, and feed that document to Beautiful Soup.' % markup)\n"
     ]
    },
    {
     "name": "stdout",
     "output_type": "stream",
     "text": [
      "\n",
      "Review 1026000 of 1569264\n",
      "Review 1027000 of 1569264\n",
      "Review 1028000 of 1569264"
     ]
    },
    {
     "name": "stderr",
     "output_type": "stream",
     "text": [
      "/Users/erichsu/anaconda/lib/python2.7/site-packages/bs4/__init__.py:189: UserWarning: \"http://thesuiteworld.com/blog/cafe-martorano-best-meatballs-italian-restaurants-vegas/\" looks like a URL. Beautiful Soup is not an HTTP client. You should probably use an HTTP client to get the document behind the URL, and feed that document to Beautiful Soup.\n",
      "  '\"%s\" looks like a URL. Beautiful Soup is not an HTTP client. You should probably use an HTTP client to get the document behind the URL, and feed that document to Beautiful Soup.' % markup)\n",
      "/Users/erichsu/anaconda/lib/python2.7/site-packages/bs4/__init__.py:189: UserWarning: \"http://www.youtube.com/watch?v=_E4jPBXiFpI&feature=youtube_gdata_player\" looks like a URL. Beautiful Soup is not an HTTP client. You should probably use an HTTP client to get the document behind the URL, and feed that document to Beautiful Soup.\n",
      "  '\"%s\" looks like a URL. Beautiful Soup is not an HTTP client. You should probably use an HTTP client to get the document behind the URL, and feed that document to Beautiful Soup.' % markup)\n"
     ]
    },
    {
     "name": "stdout",
     "output_type": "stream",
     "text": [
      "\n",
      "Review 1029000 of 1569264\n",
      "Review 1030000 of 1569264\n",
      "Review 1031000 of 1569264"
     ]
    },
    {
     "name": "stderr",
     "output_type": "stream",
     "text": [
      "/Users/erichsu/anaconda/lib/python2.7/site-packages/bs4/__init__.py:189: UserWarning: \"http://www.fodors.com/community/united-states/is-fox-rent-a-car-any-good.cfm\n",
      "\n",
      "BEWARE!!\" looks like a URL. Beautiful Soup is not an HTTP client. You should probably use an HTTP client to get the document behind the URL, and feed that document to Beautiful Soup.\n",
      "  '\"%s\" looks like a URL. Beautiful Soup is not an HTTP client. You should probably use an HTTP client to get the document behind the URL, and feed that document to Beautiful Soup.' % markup)\n",
      "/Users/erichsu/anaconda/lib/python2.7/site-packages/bs4/__init__.py:189: UserWarning: \"http://www.ksgu.org/foodforthought/listNEW.cfm\" looks like a URL. Beautiful Soup is not an HTTP client. You should probably use an HTTP client to get the document behind the URL, and feed that document to Beautiful Soup.\n",
      "  '\"%s\" looks like a URL. Beautiful Soup is not an HTTP client. You should probably use an HTTP client to get the document behind the URL, and feed that document to Beautiful Soup.' % markup)\n"
     ]
    },
    {
     "name": "stdout",
     "output_type": "stream",
     "text": [
      "\n",
      "Review 1032000 of 1569264\n",
      "Review 1033000 of 1569264\n",
      "Review 1034000 of 1569264"
     ]
    },
    {
     "name": "stderr",
     "output_type": "stream",
     "text": [
      "/Users/erichsu/anaconda/lib/python2.7/site-packages/bs4/__init__.py:189: UserWarning: \"http://www.youtube.com/watch?v=fos9yZpICV0\" looks like a URL. Beautiful Soup is not an HTTP client. You should probably use an HTTP client to get the document behind the URL, and feed that document to Beautiful Soup.\n",
      "  '\"%s\" looks like a URL. Beautiful Soup is not an HTTP client. You should probably use an HTTP client to get the document behind the URL, and feed that document to Beautiful Soup.' % markup)\n",
      "/Users/erichsu/anaconda/lib/python2.7/site-packages/bs4/__init__.py:189: UserWarning: \"http://instagram.com/p/nO_u7oL7ya/\" looks like a URL. Beautiful Soup is not an HTTP client. You should probably use an HTTP client to get the document behind the URL, and feed that document to Beautiful Soup.\n",
      "  '\"%s\" looks like a URL. Beautiful Soup is not an HTTP client. You should probably use an HTTP client to get the document behind the URL, and feed that document to Beautiful Soup.' % markup)\n"
     ]
    },
    {
     "name": "stdout",
     "output_type": "stream",
     "text": [
      "\n",
      "Review 1035000 of 1569264\n",
      "Review 1036000 of 1569264"
     ]
    },
    {
     "name": "stderr",
     "output_type": "stream",
     "text": [
      "/Users/erichsu/anaconda/lib/python2.7/site-packages/bs4/__init__.py:189: UserWarning: \"http://www.yelp.com/biz/mcdonalds-las-vegas-53\" looks like a URL. Beautiful Soup is not an HTTP client. You should probably use an HTTP client to get the document behind the URL, and feed that document to Beautiful Soup.\n",
      "  '\"%s\" looks like a URL. Beautiful Soup is not an HTTP client. You should probably use an HTTP client to get the document behind the URL, and feed that document to Beautiful Soup.' % markup)\n",
      "/Users/erichsu/anaconda/lib/python2.7/site-packages/bs4/__init__.py:189: UserWarning: \"http://www.youtube.com/watch?v=SsWrY77o77o.\" looks like a URL. Beautiful Soup is not an HTTP client. You should probably use an HTTP client to get the document behind the URL, and feed that document to Beautiful Soup.\n",
      "  '\"%s\" looks like a URL. Beautiful Soup is not an HTTP client. You should probably use an HTTP client to get the document behind the URL, and feed that document to Beautiful Soup.' % markup)\n"
     ]
    },
    {
     "name": "stdout",
     "output_type": "stream",
     "text": [
      "\n",
      "Review 1037000 of 1569264"
     ]
    },
    {
     "name": "stderr",
     "output_type": "stream",
     "text": [
      "/Users/erichsu/anaconda/lib/python2.7/site-packages/bs4/__init__.py:189: UserWarning: \"http://bit.ly/bKdoV0\" looks like a URL. Beautiful Soup is not an HTTP client. You should probably use an HTTP client to get the document behind the URL, and feed that document to Beautiful Soup.\n",
      "  '\"%s\" looks like a URL. Beautiful Soup is not an HTTP client. You should probably use an HTTP client to get the document behind the URL, and feed that document to Beautiful Soup.' % markup)\n",
      "/Users/erichsu/anaconda/lib/python2.7/site-packages/bs4/__init__.py:189: UserWarning: \"http://www.ripoffreport.com/home-improvements/a1-locksmith/a1-locksmith-roei-locksmith-ov-7c3c7.htm\" looks like a URL. Beautiful Soup is not an HTTP client. You should probably use an HTTP client to get the document behind the URL, and feed that document to Beautiful Soup.\n",
      "  '\"%s\" looks like a URL. Beautiful Soup is not an HTTP client. You should probably use an HTTP client to get the document behind the URL, and feed that document to Beautiful Soup.' % markup)\n"
     ]
    },
    {
     "name": "stdout",
     "output_type": "stream",
     "text": [
      "\n",
      "Review 1038000 of 1569264\n",
      "Review 1039000 of 1569264\n",
      "Review 1040000 of 1569264\n",
      "Review 1041000 of 1569264\n",
      "Review 1042000 of 1569264\n",
      "Review 1043000 of 1569264\n",
      "Review 1044000 of 1569264\n",
      "Review 1045000 of 1569264\n",
      "Review 1046000 of 1569264"
     ]
    },
    {
     "name": "stderr",
     "output_type": "stream",
     "text": [
      "/Users/erichsu/anaconda/lib/python2.7/site-packages/bs4/__init__.py:189: UserWarning: \"http://www.zenkaimotorsports.com/\" looks like a URL. Beautiful Soup is not an HTTP client. You should probably use an HTTP client to get the document behind the URL, and feed that document to Beautiful Soup.\n",
      "  '\"%s\" looks like a URL. Beautiful Soup is not an HTTP client. You should probably use an HTTP client to get the document behind the URL, and feed that document to Beautiful Soup.' % markup)\n",
      "/Users/erichsu/anaconda/lib/python2.7/site-packages/bs4/__init__.py:189: UserWarning: \"http://bit.ly/aWqVVJ.\" looks like a URL. Beautiful Soup is not an HTTP client. You should probably use an HTTP client to get the document behind the URL, and feed that document to Beautiful Soup.\n",
      "  '\"%s\" looks like a URL. Beautiful Soup is not an HTTP client. You should probably use an HTTP client to get the document behind the URL, and feed that document to Beautiful Soup.' % markup)\n"
     ]
    },
    {
     "name": "stdout",
     "output_type": "stream",
     "text": [
      "\n",
      "Review 1047000 of 1569264\n",
      "Review 1048000 of 1569264\n",
      "Review 1049000 of 1569264\n",
      "Review 1050000 of 1569264\n",
      "Review 1051000 of 1569264\n",
      "Review 1052000 of 1569264\n",
      "Review 1053000 of 1569264\n",
      "Review 1054000 of 1569264"
     ]
    },
    {
     "name": "stderr",
     "output_type": "stream",
     "text": [
      "/Users/erichsu/anaconda/lib/python2.7/site-packages/bs4/__init__.py:189: UserWarning: \"http://www.facebook.com/thegrindarcadia\" looks like a URL. Beautiful Soup is not an HTTP client. You should probably use an HTTP client to get the document behind the URL, and feed that document to Beautiful Soup.\n",
      "  '\"%s\" looks like a URL. Beautiful Soup is not an HTTP client. You should probably use an HTTP client to get the document behind the URL, and feed that document to Beautiful Soup.' % markup)\n",
      "/Users/erichsu/anaconda/lib/python2.7/site-packages/bs4/__init__.py:189: UserWarning: \"http://www.azcentral.com/community/chandler/articles/2010/07/09/20100709chandler-fat-cat-restaurant-closes.html\" looks like a URL. Beautiful Soup is not an HTTP client. You should probably use an HTTP client to get the document behind the URL, and feed that document to Beautiful Soup.\n",
      "  '\"%s\" looks like a URL. Beautiful Soup is not an HTTP client. You should probably use an HTTP client to get the document behind the URL, and feed that document to Beautiful Soup.' % markup)\n"
     ]
    },
    {
     "name": "stdout",
     "output_type": "stream",
     "text": [
      "\n",
      "Review 1055000 of 1569264\n",
      "Review 1056000 of 1569264\n",
      "Review 1057000 of 1569264\n",
      "Review 1058000 of 1569264\n",
      "Review 1059000 of 1569264\n",
      "Review 1060000 of 1569264\n",
      "Review 1061000 of 1569264\n",
      "Review 1062000 of 1569264\n",
      "Review 1063000 of 1569264\n",
      "Review 1064000 of 1569264\n",
      "Review 1065000 of 1569264\n",
      "Review 1066000 of 1569264\n",
      "Review 1067000 of 1569264\n",
      "Review 1068000 of 1569264"
     ]
    },
    {
     "name": "stderr",
     "output_type": "stream",
     "text": [
      "/Users/erichsu/anaconda/lib/python2.7/site-packages/bs4/__init__.py:189: UserWarning: \"http://www.maricopa.gov/envsvc/envwebapp/tabs/results.aspx?navigatedFrom=inspectionResultsDrillDown&in_insp_id=1547736&cat=02&type=01\" looks like a URL. Beautiful Soup is not an HTTP client. You should probably use an HTTP client to get the document behind the URL, and feed that document to Beautiful Soup.\n",
      "  '\"%s\" looks like a URL. Beautiful Soup is not an HTTP client. You should probably use an HTTP client to get the document behind the URL, and feed that document to Beautiful Soup.' % markup)\n",
      "/Users/erichsu/anaconda/lib/python2.7/site-packages/bs4/__init__.py:189: UserWarning: \"http://www.burntfen.net/comic/comics/087.png\" looks like a URL. Beautiful Soup is not an HTTP client. You should probably use an HTTP client to get the document behind the URL, and feed that document to Beautiful Soup.\n",
      "  '\"%s\" looks like a URL. Beautiful Soup is not an HTTP client. You should probably use an HTTP client to get the document behind the URL, and feed that document to Beautiful Soup.' % markup)\n"
     ]
    },
    {
     "name": "stdout",
     "output_type": "stream",
     "text": [
      "\n",
      "Review 1069000 of 1569264\n",
      "Review 1070000 of 1569264"
     ]
    },
    {
     "name": "stderr",
     "output_type": "stream",
     "text": [
      "/Users/erichsu/anaconda/lib/python2.7/site-packages/bs4/__init__.py:189: UserWarning: \"http://www.fh.az.gov/fountain-park.aspx\n",
      "\n",
      "Enjoy!\" looks like a URL. Beautiful Soup is not an HTTP client. You should probably use an HTTP client to get the document behind the URL, and feed that document to Beautiful Soup.\n",
      "  '\"%s\" looks like a URL. Beautiful Soup is not an HTTP client. You should probably use an HTTP client to get the document behind the URL, and feed that document to Beautiful Soup.' % markup)\n",
      "/Users/erichsu/anaconda/lib/python2.7/site-packages/bs4/__init__.py:189: UserWarning: \"http://www.yelp.co.uk/biz/liverpool-john-lennon-airport-liverpool#hrid:-Yngr4VIQtFI7VgedSCS8w\" looks like a URL. Beautiful Soup is not an HTTP client. You should probably use an HTTP client to get the document behind the URL, and feed that document to Beautiful Soup.\n",
      "  '\"%s\" looks like a URL. Beautiful Soup is not an HTTP client. You should probably use an HTTP client to get the document behind the URL, and feed that document to Beautiful Soup.' % markup)\n"
     ]
    },
    {
     "name": "stdout",
     "output_type": "stream",
     "text": [
      "\n",
      "Review 1071000 of 1569264"
     ]
    },
    {
     "name": "stderr",
     "output_type": "stream",
     "text": [
      "/Users/erichsu/anaconda/lib/python2.7/site-packages/bs4/__init__.py:189: UserWarning: \"http://www.youtube.com/watch?v=w47_voQmXJ0\n",
      "http://www.youtube.com/watch?v=TnCaRp7h9wI\n",
      "http://www.youtube.com/watch?v=Av13QIwrKEo\" looks like a URL. Beautiful Soup is not an HTTP client. You should probably use an HTTP client to get the document behind the URL, and feed that document to Beautiful Soup.\n",
      "  '\"%s\" looks like a URL. Beautiful Soup is not an HTTP client. You should probably use an HTTP client to get the document behind the URL, and feed that document to Beautiful Soup.' % markup)\n",
      "/Users/erichsu/anaconda/lib/python2.7/site-packages/bs4/__init__.py:189: UserWarning: \"http://eatinginpittsburgh.com/2011/02/09/culinary-merits-bryant-street/\" looks like a URL. Beautiful Soup is not an HTTP client. You should probably use an HTTP client to get the document behind the URL, and feed that document to Beautiful Soup.\n",
      "  '\"%s\" looks like a URL. Beautiful Soup is not an HTTP client. You should probably use an HTTP client to get the document behind the URL, and feed that document to Beautiful Soup.' % markup)\n"
     ]
    },
    {
     "name": "stdout",
     "output_type": "stream",
     "text": [
      "\n",
      "Review 1072000 of 1569264\n",
      "Review 1073000 of 1569264\n",
      "Review 1074000 of 1569264\n",
      "Review 1075000 of 1569264\n",
      "Review 1076000 of 1569264\n",
      "Review 1077000 of 1569264"
     ]
    },
    {
     "name": "stderr",
     "output_type": "stream",
     "text": [
      "/Users/erichsu/anaconda/lib/python2.7/site-packages/bs4/__init__.py:189: UserWarning: \"https://www.facebook.com/noodleandriceaz\" looks like a URL. Beautiful Soup is not an HTTP client. You should probably use an HTTP client to get the document behind the URL, and feed that document to Beautiful Soup.\n",
      "  '\"%s\" looks like a URL. Beautiful Soup is not an HTTP client. You should probably use an HTTP client to get the document behind the URL, and feed that document to Beautiful Soup.' % markup)\n",
      "/Users/erichsu/anaconda/lib/python2.7/site-packages/bs4/__init__.py:189: UserWarning: \"https://sites.google.com/site/shirazkabobpgh/home\" looks like a URL. Beautiful Soup is not an HTTP client. You should probably use an HTTP client to get the document behind the URL, and feed that document to Beautiful Soup.\n",
      "  '\"%s\" looks like a URL. Beautiful Soup is not an HTTP client. You should probably use an HTTP client to get the document behind the URL, and feed that document to Beautiful Soup.' % markup)\n"
     ]
    },
    {
     "name": "stdout",
     "output_type": "stream",
     "text": [
      "\n",
      "Review 1078000 of 1569264\n",
      "Review 1079000 of 1569264\n",
      "Review 1080000 of 1569264\n",
      "Review 1081000 of 1569264\n",
      "Review 1082000 of 1569264"
     ]
    },
    {
     "name": "stderr",
     "output_type": "stream",
     "text": [
      "/Users/erichsu/anaconda/lib/python2.7/site-packages/bs4/__init__.py:189: UserWarning: \"http://vegasstyleguy.blogspot.com/2011/10/downtown-las-vegas-beat.html\" looks like a URL. Beautiful Soup is not an HTTP client. You should probably use an HTTP client to get the document behind the URL, and feed that document to Beautiful Soup.\n",
      "  '\"%s\" looks like a URL. Beautiful Soup is not an HTTP client. You should probably use an HTTP client to get the document behind the URL, and feed that document to Beautiful Soup.' % markup)\n",
      "/Users/erichsu/anaconda/lib/python2.7/site-packages/bs4/__init__.py:189: UserWarning: \"http://queenofquinoa.blogspot.com\n",
      "@alyssarimmer\" looks like a URL. Beautiful Soup is not an HTTP client. You should probably use an HTTP client to get the document behind the URL, and feed that document to Beautiful Soup.\n",
      "  '\"%s\" looks like a URL. Beautiful Soup is not an HTTP client. You should probably use an HTTP client to get the document behind the URL, and feed that document to Beautiful Soup.' % markup)\n"
     ]
    },
    {
     "name": "stdout",
     "output_type": "stream",
     "text": [
      "\n",
      "Review 1083000 of 1569264\n",
      "Review 1084000 of 1569264\n",
      "Review 1085000 of 1569264\n",
      "Review 1086000 of 1569264\n",
      "Review 1087000 of 1569264"
     ]
    },
    {
     "name": "stderr",
     "output_type": "stream",
     "text": [
      "/Users/erichsu/anaconda/lib/python2.7/site-packages/bs4/__init__.py:189: UserWarning: \"http://shop.vegas.com/clubs/calendar.jsp?club=86\" looks like a URL. Beautiful Soup is not an HTTP client. You should probably use an HTTP client to get the document behind the URL, and feed that document to Beautiful Soup.\n",
      "  '\"%s\" looks like a URL. Beautiful Soup is not an HTTP client. You should probably use an HTTP client to get the document behind the URL, and feed that document to Beautiful Soup.' % markup)\n",
      "/Users/erichsu/anaconda/lib/python2.7/site-packages/bs4/__init__.py:189: UserWarning: \"http://parismusings.blogspot.com\" looks like a URL. Beautiful Soup is not an HTTP client. You should probably use an HTTP client to get the document behind the URL, and feed that document to Beautiful Soup.\n",
      "  '\"%s\" looks like a URL. Beautiful Soup is not an HTTP client. You should probably use an HTTP client to get the document behind the URL, and feed that document to Beautiful Soup.' % markup)\n"
     ]
    },
    {
     "name": "stdout",
     "output_type": "stream",
     "text": [
      "\n",
      "Review 1088000 of 1569264\n",
      "Review 1089000 of 1569264\n",
      "Review 1090000 of 1569264\n",
      "Review 1091000 of 1569264\n",
      "Review 1092000 of 1569264\n",
      "Review 1093000 of 1569264\n",
      "Review 1094000 of 1569264\n",
      "Review 1095000 of 1569264\n",
      "Review 1096000 of 1569264\n",
      "Review 1097000 of 1569264"
     ]
    },
    {
     "name": "stderr",
     "output_type": "stream",
     "text": [
      "/Users/erichsu/anaconda/lib/python2.7/site-packages/bs4/__init__.py:189: UserWarning: \"http://en.wikipedia.org/wiki/Affogato\" looks like a URL. Beautiful Soup is not an HTTP client. You should probably use an HTTP client to get the document behind the URL, and feed that document to Beautiful Soup.\n",
      "  '\"%s\" looks like a URL. Beautiful Soup is not an HTTP client. You should probably use an HTTP client to get the document behind the URL, and feed that document to Beautiful Soup.' % markup)\n",
      "/Users/erichsu/anaconda/lib/python2.7/site-packages/bs4/__init__.py:189: UserWarning: \"http://www.yelp.com/biz_photos/monta-ramen-las-vegas-2?select=z3vvY8VjBgwYjTi_uNYjtg#LpKw1AurwdwET8QrRRONgw\n",
      "http://www.yelp.com/biz_photos/monta-ramen-las-vegas-2?select=z3vvY8VjBgwYjTi_uNYjtg#m4yXnNO5Vc6iK6pNgUKqOA\" looks like a URL. Beautiful Soup is not an HTTP client. You should probably use an HTTP client to get the document behind the URL, and feed that document to Beautiful Soup.\n",
      "  '\"%s\" looks like a URL. Beautiful Soup is not an HTTP client. You should probably use an HTTP client to get the document behind the URL, and feed that document to Beautiful Soup.' % markup)\n"
     ]
    },
    {
     "name": "stdout",
     "output_type": "stream",
     "text": [
      "\n",
      "Review 1098000 of 1569264\n",
      "Review 1099000 of 1569264\n",
      "Review 1100000 of 1569264"
     ]
    },
    {
     "name": "stderr",
     "output_type": "stream",
     "text": [
      "/Users/erichsu/anaconda/lib/python2.7/site-packages/bs4/__init__.py:189: UserWarning: \"http://montreal.ctvnews.ca/exclusive-employees-at-iga-franchise-told-they-can-t-speak-english-to-each-other-1.1343299\" looks like a URL. Beautiful Soup is not an HTTP client. You should probably use an HTTP client to get the document behind the URL, and feed that document to Beautiful Soup.\n",
      "  '\"%s\" looks like a URL. Beautiful Soup is not an HTTP client. You should probably use an HTTP client to get the document behind the URL, and feed that document to Beautiful Soup.' % markup)\n",
      "/Users/erichsu/anaconda/lib/python2.7/site-packages/bs4/__init__.py:189: UserWarning: \"http://sydneyd.com\" looks like a URL. Beautiful Soup is not an HTTP client. You should probably use an HTTP client to get the document behind the URL, and feed that document to Beautiful Soup.\n",
      "  '\"%s\" looks like a URL. Beautiful Soup is not an HTTP client. You should probably use an HTTP client to get the document behind the URL, and feed that document to Beautiful Soup.' % markup)\n"
     ]
    },
    {
     "name": "stdout",
     "output_type": "stream",
     "text": [
      "\n",
      "Review 1101000 of 1569264\n",
      "Review 1102000 of 1569264\n",
      "Review 1103000 of 1569264\n",
      "Review 1104000 of 1569264\n",
      "Review 1105000 of 1569264\n",
      "Review 1106000 of 1569264\n",
      "Review 1107000 of 1569264\n",
      "Review 1108000 of 1569264\n",
      "Review 1109000 of 1569264"
     ]
    },
    {
     "name": "stderr",
     "output_type": "stream",
     "text": [
      "/Users/erichsu/anaconda/lib/python2.7/site-packages/bs4/__init__.py:189: UserWarning: \"http://eatinginpittsburgh.com/2010/06/30/cest-magnifique-la-gourmadine-in-pittsburgh/\" looks like a URL. Beautiful Soup is not an HTTP client. You should probably use an HTTP client to get the document behind the URL, and feed that document to Beautiful Soup.\n",
      "  '\"%s\" looks like a URL. Beautiful Soup is not an HTTP client. You should probably use an HTTP client to get the document behind the URL, and feed that document to Beautiful Soup.' % markup)\n",
      "/Users/erichsu/anaconda/lib/python2.7/site-packages/bs4/__init__.py:189: UserWarning: \"http://what2eatz.blogspot.com/2011/12/tiffanys-cofee.html\" looks like a URL. Beautiful Soup is not an HTTP client. You should probably use an HTTP client to get the document behind the URL, and feed that document to Beautiful Soup.\n",
      "  '\"%s\" looks like a URL. Beautiful Soup is not an HTTP client. You should probably use an HTTP client to get the document behind the URL, and feed that document to Beautiful Soup.' % markup)\n"
     ]
    },
    {
     "name": "stdout",
     "output_type": "stream",
     "text": [
      "\n",
      "Review 1110000 of 1569264\n",
      "Review 1111000 of 1569264\n",
      "Review 1112000 of 1569264\n",
      "Review 1113000 of 1569264"
     ]
    },
    {
     "name": "stderr",
     "output_type": "stream",
     "text": [
      "/Users/erichsu/anaconda/lib/python2.7/site-packages/bs4/__init__.py:189: UserWarning: \"http://www.gayot.com/best-restaurants/2010/top10-newrestaurants.html\" looks like a URL. Beautiful Soup is not an HTTP client. You should probably use an HTTP client to get the document behind the URL, and feed that document to Beautiful Soup.\n",
      "  '\"%s\" looks like a URL. Beautiful Soup is not an HTTP client. You should probably use an HTTP client to get the document behind the URL, and feed that document to Beautiful Soup.' % markup)\n",
      "/Users/erichsu/anaconda/lib/python2.7/site-packages/bs4/__init__.py:189: UserWarning: \"http://www.huffingtonpost.ca/toula-foscolos/sexist-jokes-women_b_4815632.html?utm_hp_ref=tw\" looks like a URL. Beautiful Soup is not an HTTP client. You should probably use an HTTP client to get the document behind the URL, and feed that document to Beautiful Soup.\n",
      "  '\"%s\" looks like a URL. Beautiful Soup is not an HTTP client. You should probably use an HTTP client to get the document behind the URL, and feed that document to Beautiful Soup.' % markup)\n"
     ]
    },
    {
     "name": "stdout",
     "output_type": "stream",
     "text": [
      "\n",
      "Review 1114000 of 1569264\n",
      "Review 1115000 of 1569264\n",
      "Review 1116000 of 1569264"
     ]
    },
    {
     "name": "stderr",
     "output_type": "stream",
     "text": [
      "/Users/erichsu/anaconda/lib/python2.7/site-packages/bs4/__init__.py:189: UserWarning: \"http://hawaiiandictionary.hisurf.com/\" looks like a URL. Beautiful Soup is not an HTTP client. You should probably use an HTTP client to get the document behind the URL, and feed that document to Beautiful Soup.\n",
      "  '\"%s\" looks like a URL. Beautiful Soup is not an HTTP client. You should probably use an HTTP client to get the document behind the URL, and feed that document to Beautiful Soup.' % markup)\n",
      "/Users/erichsu/anaconda/lib/python2.7/site-packages/bs4/__init__.py:189: UserWarning: \"http://www.yelp.com/biz_photos/w8RWhhuKxMiFCpvFvIQ3zg?select=WjX7TqdKnJfQ8_rL21lnNw.\" looks like a URL. Beautiful Soup is not an HTTP client. You should probably use an HTTP client to get the document behind the URL, and feed that document to Beautiful Soup.\n",
      "  '\"%s\" looks like a URL. Beautiful Soup is not an HTTP client. You should probably use an HTTP client to get the document behind the URL, and feed that document to Beautiful Soup.' % markup)\n"
     ]
    },
    {
     "name": "stdout",
     "output_type": "stream",
     "text": [
      "\n",
      "Review 1117000 of 1569264\n",
      "Review 1118000 of 1569264\n",
      "Review 1119000 of 1569264\n",
      "Review 1120000 of 1569264\n",
      "Review 1121000 of 1569264\n",
      "Review 1122000 of 1569264\n",
      "Review 1123000 of 1569264"
     ]
    },
    {
     "name": "stderr",
     "output_type": "stream",
     "text": [
      "/Users/erichsu/anaconda/lib/python2.7/site-packages/bs4/__init__.py:189: UserWarning: \"http://www.facebook.com/SageGardenBBQ?fref=ts\" looks like a URL. Beautiful Soup is not an HTTP client. You should probably use an HTTP client to get the document behind the URL, and feed that document to Beautiful Soup.\n",
      "  '\"%s\" looks like a URL. Beautiful Soup is not an HTTP client. You should probably use an HTTP client to get the document behind the URL, and feed that document to Beautiful Soup.' % markup)\n",
      "/Users/erichsu/anaconda/lib/python2.7/site-packages/bs4/__init__.py:189: UserWarning: \"http://campaign.r20.constantcontact.com/render?llr=sg9qmmjab&v=001_bDIN3xz3MywMnHhDpmdHX9MrgG7j2pf82ERj9sLW-o9Ary4Vz34wBbltt0jk3xNYSItJ6OcSMkjlZXMVNK-cN6Lm_0Vaq4ah_X2dQ5UxzXQbJfqPQUThnV2IgG0qZUJnfYuwzOTEzOk1JbcDHaXpg%3D%3D\" looks like a URL. Beautiful Soup is not an HTTP client. You should probably use an HTTP client to get the document behind the URL, and feed that document to Beautiful Soup.\n",
      "  '\"%s\" looks like a URL. Beautiful Soup is not an HTTP client. You should probably use an HTTP client to get the document behind the URL, and feed that document to Beautiful Soup.' % markup)\n"
     ]
    },
    {
     "name": "stdout",
     "output_type": "stream",
     "text": [
      "\n",
      "Review 1124000 of 1569264"
     ]
    },
    {
     "name": "stderr",
     "output_type": "stream",
     "text": [
      "/Users/erichsu/anaconda/lib/python2.7/site-packages/bs4/__init__.py:189: UserWarning: \"http://www.unlv.edu/srwc/fitness-rec/equipment-rental\" looks like a URL. Beautiful Soup is not an HTTP client. You should probably use an HTTP client to get the document behind the URL, and feed that document to Beautiful Soup.\n",
      "  '\"%s\" looks like a URL. Beautiful Soup is not an HTTP client. You should probably use an HTTP client to get the document behind the URL, and feed that document to Beautiful Soup.' % markup)\n",
      "/Users/erichsu/anaconda/lib/python2.7/site-packages/bs4/__init__.py:189: UserWarning: \"http://blissonfourth.com/specials/\" looks like a URL. Beautiful Soup is not an HTTP client. You should probably use an HTTP client to get the document behind the URL, and feed that document to Beautiful Soup.\n",
      "  '\"%s\" looks like a URL. Beautiful Soup is not an HTTP client. You should probably use an HTTP client to get the document behind the URL, and feed that document to Beautiful Soup.' % markup)\n"
     ]
    },
    {
     "name": "stdout",
     "output_type": "stream",
     "text": [
      "\n",
      "Review 1125000 of 1569264"
     ]
    },
    {
     "name": "stderr",
     "output_type": "stream",
     "text": [
      "/Users/erichsu/anaconda/lib/python2.7/site-packages/bs4/__init__.py:189: UserWarning: \"http://www.thecourthousebar.com/\" looks like a URL. Beautiful Soup is not an HTTP client. You should probably use an HTTP client to get the document behind the URL, and feed that document to Beautiful Soup.\n",
      "  '\"%s\" looks like a URL. Beautiful Soup is not an HTTP client. You should probably use an HTTP client to get the document behind the URL, and feed that document to Beautiful Soup.' % markup)\n",
      "/Users/erichsu/anaconda/lib/python2.7/site-packages/bs4/__init__.py:189: UserWarning: \"http://www.yelp.com/biz_photos/RHi3Bn4HBGBp105LdVlZbQ?select=rZ4Ib8pZ0sAqUC0PvdrfKw#rZ4Ib8pZ0sAqUC0PvdrfKw\" looks like a URL. Beautiful Soup is not an HTTP client. You should probably use an HTTP client to get the document behind the URL, and feed that document to Beautiful Soup.\n",
      "  '\"%s\" looks like a URL. Beautiful Soup is not an HTTP client. You should probably use an HTTP client to get the document behind the URL, and feed that document to Beautiful Soup.' % markup)\n"
     ]
    },
    {
     "name": "stdout",
     "output_type": "stream",
     "text": [
      "\n",
      "Review 1126000 of 1569264\n",
      "Review 1127000 of 1569264\n",
      "Review 1128000 of 1569264\n",
      "Review 1129000 of 1569264\n",
      "Review 1130000 of 1569264\n",
      "Review 1131000 of 1569264\n",
      "Review 1132000 of 1569264\n",
      "Review 1133000 of 1569264\n",
      "Review 1134000 of 1569264"
     ]
    },
    {
     "name": "stderr",
     "output_type": "stream",
     "text": [
      "/Users/erichsu/anaconda/lib/python2.7/site-packages/bs4/__init__.py:189: UserWarning: \"http://www.youtube.com/watch?v=UPFNmsMnT9M\" looks like a URL. Beautiful Soup is not an HTTP client. You should probably use an HTTP client to get the document behind the URL, and feed that document to Beautiful Soup.\n",
      "  '\"%s\" looks like a URL. Beautiful Soup is not an HTTP client. You should probably use an HTTP client to get the document behind the URL, and feed that document to Beautiful Soup.' % markup)\n",
      "/Users/erichsu/anaconda/lib/python2.7/site-packages/bs4/__init__.py:189: UserWarning: \"http://lasvegastoppicks.com/roys-liquor-store-wine-cigars/\" looks like a URL. Beautiful Soup is not an HTTP client. You should probably use an HTTP client to get the document behind the URL, and feed that document to Beautiful Soup.\n",
      "  '\"%s\" looks like a URL. Beautiful Soup is not an HTTP client. You should probably use an HTTP client to get the document behind the URL, and feed that document to Beautiful Soup.' % markup)\n"
     ]
    },
    {
     "name": "stdout",
     "output_type": "stream",
     "text": [
      "\n",
      "Review 1135000 of 1569264"
     ]
    },
    {
     "name": "stderr",
     "output_type": "stream",
     "text": [
      "/Users/erichsu/anaconda/lib/python2.7/site-packages/bs4/__init__.py:189: UserWarning: \"http://www.talkingstickresort.com/uploadedFiles/Talking_Stick_Resort/Dining/Degree_270/Degree%20270%20Menu%20-%20Wine%20and%20Food.pdf\" looks like a URL. Beautiful Soup is not an HTTP client. You should probably use an HTTP client to get the document behind the URL, and feed that document to Beautiful Soup.\n",
      "  '\"%s\" looks like a URL. Beautiful Soup is not an HTTP client. You should probably use an HTTP client to get the document behind the URL, and feed that document to Beautiful Soup.' % markup)\n",
      "/Users/erichsu/anaconda/lib/python2.7/site-packages/bs4/__init__.py:189: UserWarning: \"http://tinyurl.com/4zcfbaq\" looks like a URL. Beautiful Soup is not an HTTP client. You should probably use an HTTP client to get the document behind the URL, and feed that document to Beautiful Soup.\n",
      "  '\"%s\" looks like a URL. Beautiful Soup is not an HTTP client. You should probably use an HTTP client to get the document behind the URL, and feed that document to Beautiful Soup.' % markup)\n"
     ]
    },
    {
     "name": "stdout",
     "output_type": "stream",
     "text": [
      "\n",
      "Review 1136000 of 1569264\n",
      "Review 1137000 of 1569264"
     ]
    },
    {
     "name": "stderr",
     "output_type": "stream",
     "text": [
      "/Users/erichsu/anaconda/lib/python2.7/site-packages/bs4/__init__.py:189: UserWarning: \"https://www.facebook.com/photo.php?fbid=688108017919618&set=o.146159948872212&type=1\" looks like a URL. Beautiful Soup is not an HTTP client. You should probably use an HTTP client to get the document behind the URL, and feed that document to Beautiful Soup.\n",
      "  '\"%s\" looks like a URL. Beautiful Soup is not an HTTP client. You should probably use an HTTP client to get the document behind the URL, and feed that document to Beautiful Soup.' % markup)\n",
      "/Users/erichsu/anaconda/lib/python2.7/site-packages/bs4/__init__.py:189: UserWarning: \"http://www.yelp.com/biz/oso-ono-shave-ice-las-vegas\" looks like a URL. Beautiful Soup is not an HTTP client. You should probably use an HTTP client to get the document behind the URL, and feed that document to Beautiful Soup.\n",
      "  '\"%s\" looks like a URL. Beautiful Soup is not an HTTP client. You should probably use an HTTP client to get the document behind the URL, and feed that document to Beautiful Soup.' % markup)\n"
     ]
    },
    {
     "name": "stdout",
     "output_type": "stream",
     "text": [
      "\n",
      "Review 1138000 of 1569264\n",
      "Review 1139000 of 1569264\n",
      "Review 1140000 of 1569264\n",
      "Review 1141000 of 1569264"
     ]
    },
    {
     "name": "stderr",
     "output_type": "stream",
     "text": [
      "/Users/erichsu/anaconda/lib/python2.7/site-packages/bs4/__init__.py:189: UserWarning: \"http://www.meetup.com/pittsburgh-dining-nat/events/44718342/\" looks like a URL. Beautiful Soup is not an HTTP client. You should probably use an HTTP client to get the document behind the URL, and feed that document to Beautiful Soup.\n",
      "  '\"%s\" looks like a URL. Beautiful Soup is not an HTTP client. You should probably use an HTTP client to get the document behind the URL, and feed that document to Beautiful Soup.' % markup)\n",
      "/Users/erichsu/anaconda/lib/python2.7/site-packages/bs4/__init__.py:189: UserWarning: \"http://grtaylor2.com/2011/09/16/worst-restaurant-in-tempe-deverti-bar-gril/\" looks like a URL. Beautiful Soup is not an HTTP client. You should probably use an HTTP client to get the document behind the URL, and feed that document to Beautiful Soup.\n",
      "  '\"%s\" looks like a URL. Beautiful Soup is not an HTTP client. You should probably use an HTTP client to get the document behind the URL, and feed that document to Beautiful Soup.' % markup)\n"
     ]
    },
    {
     "name": "stdout",
     "output_type": "stream",
     "text": [
      "\n",
      "Review 1142000 of 1569264\n",
      "Review 1143000 of 1569264\n",
      "Review 1144000 of 1569264"
     ]
    },
    {
     "name": "stderr",
     "output_type": "stream",
     "text": [
      "/Users/erichsu/anaconda/lib/python2.7/site-packages/bs4/__init__.py:189: UserWarning: \"http://www.jsonline.mobi/newswatch/124801874.htm\" looks like a URL. Beautiful Soup is not an HTTP client. You should probably use an HTTP client to get the document behind the URL, and feed that document to Beautiful Soup.\n",
      "  '\"%s\" looks like a URL. Beautiful Soup is not an HTTP client. You should probably use an HTTP client to get the document behind the URL, and feed that document to Beautiful Soup.' % markup)\n",
      "/Users/erichsu/anaconda/lib/python2.7/site-packages/bs4/__init__.py:189: UserWarning: \"http://www.testedbestproducts.com/\" looks like a URL. Beautiful Soup is not an HTTP client. You should probably use an HTTP client to get the document behind the URL, and feed that document to Beautiful Soup.\n",
      "  '\"%s\" looks like a URL. Beautiful Soup is not an HTTP client. You should probably use an HTTP client to get the document behind the URL, and feed that document to Beautiful Soup.' % markup)\n"
     ]
    },
    {
     "name": "stdout",
     "output_type": "stream",
     "text": [
      "\n",
      "Review 1145000 of 1569264\n",
      "Review 1146000 of 1569264\n",
      "Review 1147000 of 1569264\n",
      "Review 1148000 of 1569264\n",
      "Review 1149000 of 1569264\n",
      "Review 1150000 of 1569264\n",
      "Review 1151000 of 1569264"
     ]
    },
    {
     "name": "stderr",
     "output_type": "stream",
     "text": [
      "/Users/erichsu/anaconda/lib/python2.7/site-packages/bs4/__init__.py:189: UserWarning: \"http://www.abida-restaurant.co.uk/home\" looks like a URL. Beautiful Soup is not an HTTP client. You should probably use an HTTP client to get the document behind the URL, and feed that document to Beautiful Soup.\n",
      "  '\"%s\" looks like a URL. Beautiful Soup is not an HTTP client. You should probably use an HTTP client to get the document behind the URL, and feed that document to Beautiful Soup.' % markup)\n",
      "/Users/erichsu/anaconda/lib/python2.7/site-packages/bs4/__init__.py:189: UserWarning: \"http://www.bizjournals.com/washington/print-edition/2012/03/09/pf-changs-backed-true-food-kitchen.html?page=all\" looks like a URL. Beautiful Soup is not an HTTP client. You should probably use an HTTP client to get the document behind the URL, and feed that document to Beautiful Soup.\n",
      "  '\"%s\" looks like a URL. Beautiful Soup is not an HTTP client. You should probably use an HTTP client to get the document behind the URL, and feed that document to Beautiful Soup.' % markup)\n"
     ]
    },
    {
     "name": "stdout",
     "output_type": "stream",
     "text": [
      "\n",
      "Review 1152000 of 1569264"
     ]
    },
    {
     "name": "stderr",
     "output_type": "stream",
     "text": [
      "/Users/erichsu/anaconda/lib/python2.7/site-packages/bs4/__init__.py:189: UserWarning: \"http://www.brownpapertickets.com/event/496813\" looks like a URL. Beautiful Soup is not an HTTP client. You should probably use an HTTP client to get the document behind the URL, and feed that document to Beautiful Soup.\n",
      "  '\"%s\" looks like a URL. Beautiful Soup is not an HTTP client. You should probably use an HTTP client to get the document behind the URL, and feed that document to Beautiful Soup.' % markup)\n",
      "/Users/erichsu/anaconda/lib/python2.7/site-packages/bs4/__init__.py:189: UserWarning: \"http://www.bilerico.com/2012/05/more_than_one_reason_not_to_eat_at_jimmy_johns.php\" looks like a URL. Beautiful Soup is not an HTTP client. You should probably use an HTTP client to get the document behind the URL, and feed that document to Beautiful Soup.\n",
      "  '\"%s\" looks like a URL. Beautiful Soup is not an HTTP client. You should probably use an HTTP client to get the document behind the URL, and feed that document to Beautiful Soup.' % markup)\n"
     ]
    },
    {
     "name": "stdout",
     "output_type": "stream",
     "text": [
      "\n",
      "Review 1153000 of 1569264\n",
      "Review 1154000 of 1569264\n",
      "Review 1155000 of 1569264"
     ]
    },
    {
     "name": "stderr",
     "output_type": "stream",
     "text": [
      "/Users/erichsu/anaconda/lib/python2.7/site-packages/bs4/__init__.py:189: UserWarning: \"http://eatmoretacos.com/\" looks like a URL. Beautiful Soup is not an HTTP client. You should probably use an HTTP client to get the document behind the URL, and feed that document to Beautiful Soup.\n",
      "  '\"%s\" looks like a URL. Beautiful Soup is not an HTTP client. You should probably use an HTTP client to get the document behind the URL, and feed that document to Beautiful Soup.' % markup)\n",
      "/Users/erichsu/anaconda/lib/python2.7/site-packages/bs4/__init__.py:189: UserWarning: \"http://www.goldcoastcasino.com/hotel-entertainment\" looks like a URL. Beautiful Soup is not an HTTP client. You should probably use an HTTP client to get the document behind the URL, and feed that document to Beautiful Soup.\n",
      "  '\"%s\" looks like a URL. Beautiful Soup is not an HTTP client. You should probably use an HTTP client to get the document behind the URL, and feed that document to Beautiful Soup.' % markup)\n"
     ]
    },
    {
     "name": "stdout",
     "output_type": "stream",
     "text": [
      "\n",
      "Review 1156000 of 1569264\n",
      "Review 1157000 of 1569264\n",
      "Review 1158000 of 1569264\n",
      "Review 1159000 of 1569264\n",
      "Review 1160000 of 1569264\n",
      "Review 1161000 of 1569264\n",
      "Review 1162000 of 1569264\n",
      "Review 1163000 of 1569264\n",
      "Review 1164000 of 1569264\n",
      "Review 1165000 of 1569264\n",
      "Review 1166000 of 1569264\n",
      "Review 1167000 of 1569264\n",
      "Review 1168000 of 1569264"
     ]
    },
    {
     "name": "stderr",
     "output_type": "stream",
     "text": [
      "/Users/erichsu/anaconda/lib/python2.7/site-packages/bs4/__init__.py:189: UserWarning: \"http://www.youtube.com/watch?v=Zz1Azjn6OTI\" looks like a URL. Beautiful Soup is not an HTTP client. You should probably use an HTTP client to get the document behind the URL, and feed that document to Beautiful Soup.\n",
      "  '\"%s\" looks like a URL. Beautiful Soup is not an HTTP client. You should probably use an HTTP client to get the document behind the URL, and feed that document to Beautiful Soup.' % markup)\n",
      "/Users/erichsu/anaconda/lib/python2.7/site-packages/bs4/__init__.py:189: UserWarning: \"http://www.yelp.com/biz/lily-bar-and-lounge-las-vegas#hrid:WxrU1pRUwFnkNSHEqVgX6g/src:self\" looks like a URL. Beautiful Soup is not an HTTP client. You should probably use an HTTP client to get the document behind the URL, and feed that document to Beautiful Soup.\n",
      "  '\"%s\" looks like a URL. Beautiful Soup is not an HTTP client. You should probably use an HTTP client to get the document behind the URL, and feed that document to Beautiful Soup.' % markup)\n"
     ]
    },
    {
     "name": "stdout",
     "output_type": "stream",
     "text": [
      "\n",
      "Review 1169000 of 1569264"
     ]
    },
    {
     "name": "stderr",
     "output_type": "stream",
     "text": [
      "/Users/erichsu/anaconda/lib/python2.7/site-packages/bs4/__init__.py:189: UserWarning: \"http://www.yelp.com/biz/volcano-buffet-mesa\" looks like a URL. Beautiful Soup is not an HTTP client. You should probably use an HTTP client to get the document behind the URL, and feed that document to Beautiful Soup.\n",
      "  '\"%s\" looks like a URL. Beautiful Soup is not an HTTP client. You should probably use an HTTP client to get the document behind the URL, and feed that document to Beautiful Soup.' % markup)\n",
      "/Users/erichsu/anaconda/lib/python2.7/site-packages/bs4/__init__.py:189: UserWarning: \"http://www.yelp.com/biz_photos/K0j_Znzin0jShXVnpvW86A?select=1e2MODTQsuNqpQAZhUaSvA\n",
      "\n",
      "Priceless!\" looks like a URL. Beautiful Soup is not an HTTP client. You should probably use an HTTP client to get the document behind the URL, and feed that document to Beautiful Soup.\n",
      "  '\"%s\" looks like a URL. Beautiful Soup is not an HTTP client. You should probably use an HTTP client to get the document behind the URL, and feed that document to Beautiful Soup.' % markup)\n"
     ]
    },
    {
     "name": "stdout",
     "output_type": "stream",
     "text": [
      "\n",
      "Review 1170000 of 1569264\n",
      "Review 1171000 of 1569264\n",
      "Review 1172000 of 1569264"
     ]
    },
    {
     "name": "stderr",
     "output_type": "stream",
     "text": [
      "/Users/erichsu/anaconda/lib/python2.7/site-packages/bs4/__init__.py:189: UserWarning: \"http://www.yelp.com/biz_photos/K0j_Znzin0jShXVnpvW86A?select=drHdCIGOU3jtpp4lmtyDHA#v9a5wds9zyCeiF-DaZZ5Tg\n",
      "\n",
      "http://www.yelp.com/biz_photos/K0j_Znzin0jShXVnpvW86A?select=drHdCIGOU3jtpp4lmtyDHA#t6gWYCJB19U60cyQRKFA6Q\" looks like a URL. Beautiful Soup is not an HTTP client. You should probably use an HTTP client to get the document behind the URL, and feed that document to Beautiful Soup.\n",
      "  '\"%s\" looks like a URL. Beautiful Soup is not an HTTP client. You should probably use an HTTP client to get the document behind the URL, and feed that document to Beautiful Soup.' % markup)\n",
      "/Users/erichsu/anaconda/lib/python2.7/site-packages/bs4/__init__.py:189: UserWarning: \"http://stoneyroads.com/mark-farina-kicked-decks-house-event/\" looks like a URL. Beautiful Soup is not an HTTP client. You should probably use an HTTP client to get the document behind the URL, and feed that document to Beautiful Soup.\n",
      "  '\"%s\" looks like a URL. Beautiful Soup is not an HTTP client. You should probably use an HTTP client to get the document behind the URL, and feed that document to Beautiful Soup.' % markup)\n"
     ]
    },
    {
     "name": "stdout",
     "output_type": "stream",
     "text": [
      "\n",
      "Review 1173000 of 1569264"
     ]
    },
    {
     "name": "stderr",
     "output_type": "stream",
     "text": [
      "/Users/erichsu/anaconda/lib/python2.7/site-packages/bs4/__init__.py:189: UserWarning: \"https://twitter.com/Vegas_Promoter\" looks like a URL. Beautiful Soup is not an HTTP client. You should probably use an HTTP client to get the document behind the URL, and feed that document to Beautiful Soup.\n",
      "  '\"%s\" looks like a URL. Beautiful Soup is not an HTTP client. You should probably use an HTTP client to get the document behind the URL, and feed that document to Beautiful Soup.' % markup)\n",
      "/Users/erichsu/anaconda/lib/python2.7/site-packages/bs4/__init__.py:189: UserWarning: \"http://twitvid.com/KQMSN\" looks like a URL. Beautiful Soup is not an HTTP client. You should probably use an HTTP client to get the document behind the URL, and feed that document to Beautiful Soup.\n",
      "  '\"%s\" looks like a URL. Beautiful Soup is not an HTTP client. You should probably use an HTTP client to get the document behind the URL, and feed that document to Beautiful Soup.' % markup)\n"
     ]
    },
    {
     "name": "stdout",
     "output_type": "stream",
     "text": [
      "\n",
      "Review 1174000 of 1569264"
     ]
    },
    {
     "name": "stderr",
     "output_type": "stream",
     "text": [
      "/Users/erichsu/anaconda/lib/python2.7/site-packages/bs4/__init__.py:189: UserWarning: \"http://lasvegasblvd.joesnypizza.com/zgrid/proc/site/sitep.jsp\" looks like a URL. Beautiful Soup is not an HTTP client. You should probably use an HTTP client to get the document behind the URL, and feed that document to Beautiful Soup.\n",
      "  '\"%s\" looks like a URL. Beautiful Soup is not an HTTP client. You should probably use an HTTP client to get the document behind the URL, and feed that document to Beautiful Soup.' % markup)\n",
      "/Users/erichsu/anaconda/lib/python2.7/site-packages/bs4/__init__.py:189: UserWarning: \"http://www.yelp.com/biz_photos/iCQpiavjjPzJ5_3gPD5Ebg?select=18_2XSMyx0Lwl2RWNkLMpg\n",
      "\n",
      "T.H.E.\" looks like a URL. Beautiful Soup is not an HTTP client. You should probably use an HTTP client to get the document behind the URL, and feed that document to Beautiful Soup.\n",
      "  '\"%s\" looks like a URL. Beautiful Soup is not an HTTP client. You should probably use an HTTP client to get the document behind the URL, and feed that document to Beautiful Soup.' % markup)\n"
     ]
    },
    {
     "name": "stdout",
     "output_type": "stream",
     "text": [
      "\n",
      "Review 1175000 of 1569264\n",
      "Review 1176000 of 1569264\n",
      "Review 1177000 of 1569264"
     ]
    },
    {
     "name": "stderr",
     "output_type": "stream",
     "text": [
      "/Users/erichsu/anaconda/lib/python2.7/site-packages/bs4/__init__.py:189: UserWarning: \"http://youtu.be/8FkRqZcge7M\" looks like a URL. Beautiful Soup is not an HTTP client. You should probably use an HTTP client to get the document behind the URL, and feed that document to Beautiful Soup.\n",
      "  '\"%s\" looks like a URL. Beautiful Soup is not an HTTP client. You should probably use an HTTP client to get the document behind the URL, and feed that document to Beautiful Soup.' % markup)\n",
      "/Users/erichsu/anaconda/lib/python2.7/site-packages/bs4/__init__.py:189: UserWarning: \"http://www.yelp.com/biz_photos/three-village-restaurant-las-vegas?select=4Wt4TSz7gC92XE_IQQfY0g#JSAKBr-cfIIfCU4nfIlmig\n",
      "2.\" looks like a URL. Beautiful Soup is not an HTTP client. You should probably use an HTTP client to get the document behind the URL, and feed that document to Beautiful Soup.\n",
      "  '\"%s\" looks like a URL. Beautiful Soup is not an HTTP client. You should probably use an HTTP client to get the document behind the URL, and feed that document to Beautiful Soup.' % markup)\n"
     ]
    },
    {
     "name": "stdout",
     "output_type": "stream",
     "text": [
      "\n",
      "Review 1178000 of 1569264\n",
      "Review 1179000 of 1569264\n",
      "Review 1180000 of 1569264"
     ]
    },
    {
     "name": "stderr",
     "output_type": "stream",
     "text": [
      "/Users/erichsu/anaconda/lib/python2.7/site-packages/bs4/__init__.py:189: UserWarning: \"http://www.yelp.com/biz_photos/tanzy-scottsdale?select=9aiYhoNUaF_nJWOkYu-yjg#9aiYhoNUaF_nJWOkYu-yjg\" looks like a URL. Beautiful Soup is not an HTTP client. You should probably use an HTTP client to get the document behind the URL, and feed that document to Beautiful Soup.\n",
      "  '\"%s\" looks like a URL. Beautiful Soup is not an HTTP client. You should probably use an HTTP client to get the document behind the URL, and feed that document to Beautiful Soup.' % markup)\n",
      "/Users/erichsu/anaconda/lib/python2.7/site-packages/bs4/__init__.py:189: UserWarning: \"http://www.yelp.com/biz/urban-dog-daycare-and-day-spa-pittsburgh-2#hrid:mbELYOf4LDEMwFUtjbv78A\" looks like a URL. Beautiful Soup is not an HTTP client. You should probably use an HTTP client to get the document behind the URL, and feed that document to Beautiful Soup.\n",
      "  '\"%s\" looks like a URL. Beautiful Soup is not an HTTP client. You should probably use an HTTP client to get the document behind the URL, and feed that document to Beautiful Soup.' % markup)\n"
     ]
    },
    {
     "name": "stdout",
     "output_type": "stream",
     "text": [
      "\n",
      "Review 1181000 of 1569264\n",
      "Review 1182000 of 1569264\n",
      "Review 1183000 of 1569264\n",
      "Review 1184000 of 1569264\n",
      "Review 1185000 of 1569264\n",
      "Review 1186000 of 1569264"
     ]
    },
    {
     "name": "stderr",
     "output_type": "stream",
     "text": [
      "/Users/erichsu/anaconda/lib/python2.7/site-packages/bs4/__init__.py:189: UserWarning: \"http://www.yelp.com/biz_photos/d10IxZPirVJlOSpdRZJczA?select=pfXMOtx6TQCUJlfsw6qZyA\n",
      "http://www.yelp.com/biz_photos/d10IxZPirVJlOSpdRZJczA?select=_fOtfCw4UONRwxFaj68TXw\n",
      "http://www.yelp.com/biz_photos/d10IxZPirVJlOSpdRZJczA?select=DfQI2P_ONdYqtNV1435YhQ\" looks like a URL. Beautiful Soup is not an HTTP client. You should probably use an HTTP client to get the document behind the URL, and feed that document to Beautiful Soup.\n",
      "  '\"%s\" looks like a URL. Beautiful Soup is not an HTTP client. You should probably use an HTTP client to get the document behind the URL, and feed that document to Beautiful Soup.' % markup)\n",
      "/Users/erichsu/anaconda/lib/python2.7/site-packages/bs4/__init__.py:189: UserWarning: \"http://www.uwimprint.ca/article/3896-a-taste-of-home-at-mozys\" looks like a URL. Beautiful Soup is not an HTTP client. You should probably use an HTTP client to get the document behind the URL, and feed that document to Beautiful Soup.\n",
      "  '\"%s\" looks like a URL. Beautiful Soup is not an HTTP client. You should probably use an HTTP client to get the document behind the URL, and feed that document to Beautiful Soup.' % markup)\n"
     ]
    },
    {
     "name": "stdout",
     "output_type": "stream",
     "text": [
      "\n",
      "Review 1187000 of 1569264\n",
      "Review 1188000 of 1569264\n",
      "Review 1189000 of 1569264\n",
      "Review 1190000 of 1569264\n",
      "Review 1191000 of 1569264\n",
      "Review 1192000 of 1569264\n",
      "Review 1193000 of 1569264\n",
      "Review 1194000 of 1569264\n",
      "Review 1195000 of 1569264\n",
      "Review 1196000 of 1569264\n",
      "Review 1197000 of 1569264\n",
      "Review 1198000 of 1569264\n",
      "Review 1199000 of 1569264\n",
      "Review 1200000 of 1569264\n",
      "Review 1201000 of 1569264\n",
      "Review 1202000 of 1569264"
     ]
    },
    {
     "name": "stderr",
     "output_type": "stream",
     "text": [
      "/Users/erichsu/anaconda/lib/python2.7/site-packages/bs4/__init__.py:189: UserWarning: \"http://www.youtube.com/watch?v=aDe_7GKbhJk\" looks like a URL. Beautiful Soup is not an HTTP client. You should probably use an HTTP client to get the document behind the URL, and feed that document to Beautiful Soup.\n",
      "  '\"%s\" looks like a URL. Beautiful Soup is not an HTTP client. You should probably use an HTTP client to get the document behind the URL, and feed that document to Beautiful Soup.' % markup)\n",
      "/Users/erichsu/anaconda/lib/python2.7/site-packages/bs4/__init__.py:189: UserWarning: \"http://www.absinthevegas.com/discountoffers/codeABS20.html\n",
      "2.\" looks like a URL. Beautiful Soup is not an HTTP client. You should probably use an HTTP client to get the document behind the URL, and feed that document to Beautiful Soup.\n",
      "  '\"%s\" looks like a URL. Beautiful Soup is not an HTTP client. You should probably use an HTTP client to get the document behind the URL, and feed that document to Beautiful Soup.' % markup)\n"
     ]
    },
    {
     "name": "stdout",
     "output_type": "stream",
     "text": [
      "\n",
      "Review 1203000 of 1569264\n",
      "Review 1204000 of 1569264\n",
      "Review 1205000 of 1569264\n",
      "Review 1206000 of 1569264\n",
      "Review 1207000 of 1569264\n",
      "Review 1208000 of 1569264\n",
      "Review 1209000 of 1569264"
     ]
    },
    {
     "name": "stderr",
     "output_type": "stream",
     "text": [
      "/Users/erichsu/anaconda/lib/python2.7/site-packages/bs4/__init__.py:189: UserWarning: \"http://www.facebook.com/?ref=logo#!/profile.php?id=100000526711436&v=wall\" looks like a URL. Beautiful Soup is not an HTTP client. You should probably use an HTTP client to get the document behind the URL, and feed that document to Beautiful Soup.\n",
      "  '\"%s\" looks like a URL. Beautiful Soup is not an HTTP client. You should probably use an HTTP client to get the document behind the URL, and feed that document to Beautiful Soup.' % markup)\n",
      "/Users/erichsu/anaconda/lib/python2.7/site-packages/bs4/__init__.py:189: UserWarning: \"http://farm5.staticflickr.com/4129/4981059066_371157fce0.jpg\" looks like a URL. Beautiful Soup is not an HTTP client. You should probably use an HTTP client to get the document behind the URL, and feed that document to Beautiful Soup.\n",
      "  '\"%s\" looks like a URL. Beautiful Soup is not an HTTP client. You should probably use an HTTP client to get the document behind the URL, and feed that document to Beautiful Soup.' % markup)\n"
     ]
    },
    {
     "name": "stdout",
     "output_type": "stream",
     "text": [
      "\n",
      "Review 1210000 of 1569264\n",
      "Review 1211000 of 1569264\n",
      "Review 1212000 of 1569264\n",
      "Review 1213000 of 1569264"
     ]
    },
    {
     "name": "stderr",
     "output_type": "stream",
     "text": [
      "/Users/erichsu/anaconda/lib/python2.7/site-packages/bs4/__init__.py:189: UserWarning: \"http://eatcookout.com\" looks like a URL. Beautiful Soup is not an HTTP client. You should probably use an HTTP client to get the document behind the URL, and feed that document to Beautiful Soup.\n",
      "  '\"%s\" looks like a URL. Beautiful Soup is not an HTTP client. You should probably use an HTTP client to get the document behind the URL, and feed that document to Beautiful Soup.' % markup)\n",
      "/Users/erichsu/anaconda/lib/python2.7/site-packages/bs4/__init__.py:189: UserWarning: \"http://furfriendlypetsitting.co/\" looks like a URL. Beautiful Soup is not an HTTP client. You should probably use an HTTP client to get the document behind the URL, and feed that document to Beautiful Soup.\n",
      "  '\"%s\" looks like a URL. Beautiful Soup is not an HTTP client. You should probably use an HTTP client to get the document behind the URL, and feed that document to Beautiful Soup.' % markup)\n"
     ]
    },
    {
     "name": "stdout",
     "output_type": "stream",
     "text": [
      "\n",
      "Review 1214000 of 1569264\n",
      "Review 1215000 of 1569264\n",
      "Review 1216000 of 1569264"
     ]
    },
    {
     "name": "stderr",
     "output_type": "stream",
     "text": [
      "/Users/erichsu/anaconda/lib/python2.7/site-packages/bs4/__init__.py:189: UserWarning: \"http://www.mtlblog.com/2014/04/best-montreal-bike-shops/\" looks like a URL. Beautiful Soup is not an HTTP client. You should probably use an HTTP client to get the document behind the URL, and feed that document to Beautiful Soup.\n",
      "  '\"%s\" looks like a URL. Beautiful Soup is not an HTTP client. You should probably use an HTTP client to get the document behind the URL, and feed that document to Beautiful Soup.' % markup)\n",
      "/Users/erichsu/anaconda/lib/python2.7/site-packages/bs4/__init__.py:189: UserWarning: \"http://www.yelp.com/biz/in-the-ra-fitness-phoenix-2\" looks like a URL. Beautiful Soup is not an HTTP client. You should probably use an HTTP client to get the document behind the URL, and feed that document to Beautiful Soup.\n",
      "  '\"%s\" looks like a URL. Beautiful Soup is not an HTTP client. You should probably use an HTTP client to get the document behind the URL, and feed that document to Beautiful Soup.' % markup)\n"
     ]
    },
    {
     "name": "stdout",
     "output_type": "stream",
     "text": [
      "\n",
      "Review 1217000 of 1569264\n",
      "Review 1218000 of 1569264\n",
      "Review 1219000 of 1569264\n",
      "Review 1220000 of 1569264\n",
      "Review 1221000 of 1569264\n",
      "Review 1222000 of 1569264\n",
      "Review 1223000 of 1569264\n",
      "Review 1224000 of 1569264\n",
      "Review 1225000 of 1569264\n",
      "Review 1226000 of 1569264\n",
      "Review 1227000 of 1569264\n",
      "Review 1228000 of 1569264\n",
      "Review 1229000 of 1569264\n",
      "Review 1230000 of 1569264\n",
      "Review 1231000 of 1569264\n",
      "Review 1232000 of 1569264"
     ]
    },
    {
     "name": "stderr",
     "output_type": "stream",
     "text": [
      "/Users/erichsu/anaconda/lib/python2.7/site-packages/bs4/__init__.py:189: UserWarning: \"http://mikehammershow.com/\" looks like a URL. Beautiful Soup is not an HTTP client. You should probably use an HTTP client to get the document behind the URL, and feed that document to Beautiful Soup.\n",
      "  '\"%s\" looks like a URL. Beautiful Soup is not an HTTP client. You should probably use an HTTP client to get the document behind the URL, and feed that document to Beautiful Soup.' % markup)\n",
      "/Users/erichsu/anaconda/lib/python2.7/site-packages/bs4/__init__.py:189: UserWarning: \"http://www.yelp.com/biz/taqueria-el-pastorcito-las-vegas#query:Tacos%20El%20Pastorcito\" looks like a URL. Beautiful Soup is not an HTTP client. You should probably use an HTTP client to get the document behind the URL, and feed that document to Beautiful Soup.\n",
      "  '\"%s\" looks like a URL. Beautiful Soup is not an HTTP client. You should probably use an HTTP client to get the document behind the URL, and feed that document to Beautiful Soup.' % markup)\n"
     ]
    },
    {
     "name": "stdout",
     "output_type": "stream",
     "text": [
      "\n",
      "Review 1233000 of 1569264\n",
      "Review 1234000 of 1569264"
     ]
    },
    {
     "name": "stderr",
     "output_type": "stream",
     "text": [
      "/Users/erichsu/anaconda/lib/python2.7/site-packages/bs4/__init__.py:189: UserWarning: \"http://www.yelp.com/biz_photos/etfMYJPvQD5eWa27TLtXxQ?select=W25u6zoG3OU5JP0MHkIoug\" looks like a URL. Beautiful Soup is not an HTTP client. You should probably use an HTTP client to get the document behind the URL, and feed that document to Beautiful Soup.\n",
      "  '\"%s\" looks like a URL. Beautiful Soup is not an HTTP client. You should probably use an HTTP client to get the document behind the URL, and feed that document to Beautiful Soup.' % markup)\n",
      "/Users/erichsu/anaconda/lib/python2.7/site-packages/bs4/__init__.py:189: UserWarning: \"http://blogs.phoenixnewtimes.com/bella/2014/07/hamburger_phoenix_hopdaddy_vs_paradise_valley_burger_co.php\" looks like a URL. Beautiful Soup is not an HTTP client. You should probably use an HTTP client to get the document behind the URL, and feed that document to Beautiful Soup.\n",
      "  '\"%s\" looks like a URL. Beautiful Soup is not an HTTP client. You should probably use an HTTP client to get the document behind the URL, and feed that document to Beautiful Soup.' % markup)\n"
     ]
    },
    {
     "name": "stdout",
     "output_type": "stream",
     "text": [
      "\n",
      "Review 1235000 of 1569264\n",
      "Review 1236000 of 1569264\n",
      "Review 1237000 of 1569264\n",
      "Review 1238000 of 1569264\n",
      "Review 1239000 of 1569264\n",
      "Review 1240000 of 1569264\n",
      "Review 1241000 of 1569264\n",
      "Review 1242000 of 1569264\n",
      "Review 1243000 of 1569264\n",
      "Review 1244000 of 1569264"
     ]
    },
    {
     "name": "stderr",
     "output_type": "stream",
     "text": [
      "/Users/erichsu/anaconda/lib/python2.7/site-packages/bs4/__init__.py:189: UserWarning: \"http://eatsporkjew.com/recipes/dinner/sushi-restaurant-shinbay-scottsdale/\" looks like a URL. Beautiful Soup is not an HTTP client. You should probably use an HTTP client to get the document behind the URL, and feed that document to Beautiful Soup.\n",
      "  '\"%s\" looks like a URL. Beautiful Soup is not an HTTP client. You should probably use an HTTP client to get the document behind the URL, and feed that document to Beautiful Soup.' % markup)\n",
      "/Users/erichsu/anaconda/lib/python2.7/site-packages/bs4/__init__.py:189: UserWarning: \"http://www.yelp.ca/biz/satay-brothers-winter-location-montreal\" looks like a URL. Beautiful Soup is not an HTTP client. You should probably use an HTTP client to get the document behind the URL, and feed that document to Beautiful Soup.\n",
      "  '\"%s\" looks like a URL. Beautiful Soup is not an HTTP client. You should probably use an HTTP client to get the document behind the URL, and feed that document to Beautiful Soup.' % markup)\n"
     ]
    },
    {
     "name": "stdout",
     "output_type": "stream",
     "text": [
      "\n",
      "Review 1245000 of 1569264\n",
      "Review 1246000 of 1569264\n",
      "Review 1247000 of 1569264\n",
      "Review 1248000 of 1569264\n",
      "Review 1249000 of 1569264"
     ]
    },
    {
     "name": "stderr",
     "output_type": "stream",
     "text": [
      "/Users/erichsu/anaconda/lib/python2.7/site-packages/bs4/__init__.py:189: UserWarning: \"http://islandmalaysiancuisine.weebly.com\" looks like a URL. Beautiful Soup is not an HTTP client. You should probably use an HTTP client to get the document behind the URL, and feed that document to Beautiful Soup.\n",
      "  '\"%s\" looks like a URL. Beautiful Soup is not an HTTP client. You should probably use an HTTP client to get the document behind the URL, and feed that document to Beautiful Soup.' % markup)\n",
      "/Users/erichsu/anaconda/lib/python2.7/site-packages/bs4/__init__.py:189: UserWarning: \"http://www.yelp.com/biz_photos/52sY8-9al5LJi475nNJkyQ?select=VFGVABajhQN8F2M4suGwdA\" looks like a URL. Beautiful Soup is not an HTTP client. You should probably use an HTTP client to get the document behind the URL, and feed that document to Beautiful Soup.\n",
      "  '\"%s\" looks like a URL. Beautiful Soup is not an HTTP client. You should probably use an HTTP client to get the document behind the URL, and feed that document to Beautiful Soup.' % markup)\n"
     ]
    },
    {
     "name": "stdout",
     "output_type": "stream",
     "text": [
      "\n",
      "Review 1250000 of 1569264\n",
      "Review 1251000 of 1569264\n",
      "Review 1252000 of 1569264\n",
      "Review 1253000 of 1569264\n",
      "Review 1254000 of 1569264\n",
      "Review 1255000 of 1569264\n",
      "Review 1256000 of 1569264\n",
      "Review 1257000 of 1569264\n",
      "Review 1258000 of 1569264\n",
      "Review 1259000 of 1569264\n",
      "Review 1260000 of 1569264\n",
      "Review 1261000 of 1569264"
     ]
    },
    {
     "name": "stderr",
     "output_type": "stream",
     "text": [
      "/Users/erichsu/anaconda/lib/python2.7/site-packages/bs4/__init__.py:189: UserWarning: \"http://www.jeremycornwellproject.com\" looks like a URL. Beautiful Soup is not an HTTP client. You should probably use an HTTP client to get the document behind the URL, and feed that document to Beautiful Soup.\n",
      "  '\"%s\" looks like a URL. Beautiful Soup is not an HTTP client. You should probably use an HTTP client to get the document behind the URL, and feed that document to Beautiful Soup.' % markup)\n",
      "/Users/erichsu/anaconda/lib/python2.7/site-packages/bs4/__init__.py:189: UserWarning: \"http://www.yelp.com/biz/the-salted-lime-north-las-vegas#hrid:OZJEtNQ_J4lUkD8-589_fw\" looks like a URL. Beautiful Soup is not an HTTP client. You should probably use an HTTP client to get the document behind the URL, and feed that document to Beautiful Soup.\n",
      "  '\"%s\" looks like a URL. Beautiful Soup is not an HTTP client. You should probably use an HTTP client to get the document behind the URL, and feed that document to Beautiful Soup.' % markup)\n"
     ]
    },
    {
     "name": "stdout",
     "output_type": "stream",
     "text": [
      "\n",
      "Review 1262000 of 1569264\n",
      "Review 1263000 of 1569264\n",
      "Review 1264000 of 1569264\n",
      "Review 1265000 of 1569264"
     ]
    },
    {
     "name": "stderr",
     "output_type": "stream",
     "text": [
      "/Users/erichsu/anaconda/lib/python2.7/site-packages/bs4/__init__.py:189: UserWarning: \"http://www.yelp.com/biz_photos/awFFNrU5RO3V9-_qiFLFVA?select=JkOLlnHMrnv7s9J2zRJ5jQ\" looks like a URL. Beautiful Soup is not an HTTP client. You should probably use an HTTP client to get the document behind the URL, and feed that document to Beautiful Soup.\n",
      "  '\"%s\" looks like a URL. Beautiful Soup is not an HTTP client. You should probably use an HTTP client to get the document behind the URL, and feed that document to Beautiful Soup.' % markup)\n",
      "/Users/erichsu/anaconda/lib/python2.7/site-packages/bs4/__init__.py:189: UserWarning: \"http://www.kpho.com/story/19242726/dirty-dining-aug-9-cockroach-falls-on-health-inspector-at-china-city\" looks like a URL. Beautiful Soup is not an HTTP client. You should probably use an HTTP client to get the document behind the URL, and feed that document to Beautiful Soup.\n",
      "  '\"%s\" looks like a URL. Beautiful Soup is not an HTTP client. You should probably use an HTTP client to get the document behind the URL, and feed that document to Beautiful Soup.' % markup)\n"
     ]
    },
    {
     "name": "stdout",
     "output_type": "stream",
     "text": [
      "\n",
      "Review 1266000 of 1569264\n",
      "Review 1267000 of 1569264\n",
      "Review 1268000 of 1569264\n",
      "Review 1269000 of 1569264\n",
      "Review 1270000 of 1569264\n",
      "Review 1271000 of 1569264"
     ]
    },
    {
     "name": "stderr",
     "output_type": "stream",
     "text": [
      "/Users/erichsu/anaconda/lib/python2.7/site-packages/bs4/__init__.py:189: UserWarning: \"http://www.alittleblueberry.com/2011/10/life-after-life.html\" looks like a URL. Beautiful Soup is not an HTTP client. You should probably use an HTTP client to get the document behind the URL, and feed that document to Beautiful Soup.\n",
      "  '\"%s\" looks like a URL. Beautiful Soup is not an HTTP client. You should probably use an HTTP client to get the document behind the URL, and feed that document to Beautiful Soup.' % markup)\n",
      "/Users/erichsu/anaconda/lib/python2.7/site-packages/bs4/__init__.py:189: UserWarning: \"http://www.thedynastycuisine.com/home/\" looks like a URL. Beautiful Soup is not an HTTP client. You should probably use an HTTP client to get the document behind the URL, and feed that document to Beautiful Soup.\n",
      "  '\"%s\" looks like a URL. Beautiful Soup is not an HTTP client. You should probably use an HTTP client to get the document behind the URL, and feed that document to Beautiful Soup.' % markup)\n"
     ]
    },
    {
     "name": "stdout",
     "output_type": "stream",
     "text": [
      "\n",
      "Review 1272000 of 1569264\n",
      "Review 1273000 of 1569264\n",
      "Review 1274000 of 1569264\n",
      "Review 1275000 of 1569264\n",
      "Review 1276000 of 1569264"
     ]
    },
    {
     "name": "stderr",
     "output_type": "stream",
     "text": [
      "/Users/erichsu/anaconda/lib/python2.7/site-packages/bs4/__init__.py:189: UserWarning: \"http://stephangcalizona.wordpress.com/2012/10/13/north-fattoria-italiana/\" looks like a URL. Beautiful Soup is not an HTTP client. You should probably use an HTTP client to get the document behind the URL, and feed that document to Beautiful Soup.\n",
      "  '\"%s\" looks like a URL. Beautiful Soup is not an HTTP client. You should probably use an HTTP client to get the document behind the URL, and feed that document to Beautiful Soup.' % markup)\n",
      "/Users/erichsu/anaconda/lib/python2.7/site-packages/bs4/__init__.py:189: UserWarning: \"http://www.yelp.com/biz_photos/o-h-s-o-eatery-nanobrewery-phoenix?select=7AzRGEQwFAyVLkRBvxSC3Q#7AzRGEQwFAyVLkRBvxSC3Q\" looks like a URL. Beautiful Soup is not an HTTP client. You should probably use an HTTP client to get the document behind the URL, and feed that document to Beautiful Soup.\n",
      "  '\"%s\" looks like a URL. Beautiful Soup is not an HTTP client. You should probably use an HTTP client to get the document behind the URL, and feed that document to Beautiful Soup.' % markup)\n"
     ]
    },
    {
     "name": "stdout",
     "output_type": "stream",
     "text": [
      "\n",
      "Review 1277000 of 1569264\n",
      "Review 1278000 of 1569264\n",
      "Review 1279000 of 1569264"
     ]
    },
    {
     "name": "stderr",
     "output_type": "stream",
     "text": [
      "/Users/erichsu/anaconda/lib/python2.7/site-packages/bs4/__init__.py:189: UserWarning: \"http://www.nobelprize.org/nobel_prizes/economics/laureates/1990/markowitz-lecture.html\" looks like a URL. Beautiful Soup is not an HTTP client. You should probably use an HTTP client to get the document behind the URL, and feed that document to Beautiful Soup.\n",
      "  '\"%s\" looks like a URL. Beautiful Soup is not an HTTP client. You should probably use an HTTP client to get the document behind the URL, and feed that document to Beautiful Soup.' % markup)\n",
      "/Users/erichsu/anaconda/lib/python2.7/site-packages/bs4/__init__.py:189: UserWarning: \"http://www.facebook.com/pages/La-Cucina-Flegrea-Regional-Italian-Cuisine-in-Market-Square/111437805557095\" looks like a URL. Beautiful Soup is not an HTTP client. You should probably use an HTTP client to get the document behind the URL, and feed that document to Beautiful Soup.\n",
      "  '\"%s\" looks like a URL. Beautiful Soup is not an HTTP client. You should probably use an HTTP client to get the document behind the URL, and feed that document to Beautiful Soup.' % markup)\n"
     ]
    },
    {
     "name": "stdout",
     "output_type": "stream",
     "text": [
      "\n",
      "Review 1280000 of 1569264\n",
      "Review 1281000 of 1569264"
     ]
    },
    {
     "name": "stderr",
     "output_type": "stream",
     "text": [
      "/Users/erichsu/anaconda/lib/python2.7/site-packages/bs4/__init__.py:189: UserWarning: \"http://blog.fundoofitness.com.\" looks like a URL. Beautiful Soup is not an HTTP client. You should probably use an HTTP client to get the document behind the URL, and feed that document to Beautiful Soup.\n",
      "  '\"%s\" looks like a URL. Beautiful Soup is not an HTTP client. You should probably use an HTTP client to get the document behind the URL, and feed that document to Beautiful Soup.' % markup)\n",
      "/Users/erichsu/anaconda/lib/python2.7/site-packages/bs4/__init__.py:189: UserWarning: \"http://jerkhutphx.com/\" looks like a URL. Beautiful Soup is not an HTTP client. You should probably use an HTTP client to get the document behind the URL, and feed that document to Beautiful Soup.\n",
      "  '\"%s\" looks like a URL. Beautiful Soup is not an HTTP client. You should probably use an HTTP client to get the document behind the URL, and feed that document to Beautiful Soup.' % markup)\n"
     ]
    },
    {
     "name": "stdout",
     "output_type": "stream",
     "text": [
      "\n",
      "Review 1282000 of 1569264\n",
      "Review 1283000 of 1569264"
     ]
    },
    {
     "name": "stderr",
     "output_type": "stream",
     "text": [
      "/Users/erichsu/anaconda/lib/python2.7/site-packages/bs4/__init__.py:189: UserWarning: \"http://www.facebook.com/DailyKitchen?sk=info\" looks like a URL. Beautiful Soup is not an HTTP client. You should probably use an HTTP client to get the document behind the URL, and feed that document to Beautiful Soup.\n",
      "  '\"%s\" looks like a URL. Beautiful Soup is not an HTTP client. You should probably use an HTTP client to get the document behind the URL, and feed that document to Beautiful Soup.' % markup)\n",
      "/Users/erichsu/anaconda/lib/python2.7/site-packages/bs4/__init__.py:189: UserWarning: \"http://www.facebook.com/vegoutlasvegas?sk=info\" looks like a URL. Beautiful Soup is not an HTTP client. You should probably use an HTTP client to get the document behind the URL, and feed that document to Beautiful Soup.\n",
      "  '\"%s\" looks like a URL. Beautiful Soup is not an HTTP client. You should probably use an HTTP client to get the document behind the URL, and feed that document to Beautiful Soup.' % markup)\n"
     ]
    },
    {
     "name": "stdout",
     "output_type": "stream",
     "text": [
      "\n",
      "Review 1284000 of 1569264"
     ]
    },
    {
     "name": "stderr",
     "output_type": "stream",
     "text": [
      "/Users/erichsu/anaconda/lib/python2.7/site-packages/bs4/__init__.py:189: UserWarning: \"https://www.facebook.com/vegoutlasvegas\" looks like a URL. Beautiful Soup is not an HTTP client. You should probably use an HTTP client to get the document behind the URL, and feed that document to Beautiful Soup.\n",
      "  '\"%s\" looks like a URL. Beautiful Soup is not an HTTP client. You should probably use an HTTP client to get the document behind the URL, and feed that document to Beautiful Soup.' % markup)\n",
      "/Users/erichsu/anaconda/lib/python2.7/site-packages/bs4/__init__.py:189: UserWarning: \"http://www.yelp.com/biz_photos/rollin-smoke-barbeque-las-vegas?select=dTv25Jp39MplokBxlgRkkg#QMwyRQhoijuHeKKEaQLoeA\n",
      "\n",
      "http://www.yelp.com/biz_photos/rollin-smoke-barbeque-las-vegas?select=dTv25Jp39MplokBxlgRkkg#VrpJ5wb8xPouU_LyfaecEw\" looks like a URL. Beautiful Soup is not an HTTP client. You should probably use an HTTP client to get the document behind the URL, and feed that document to Beautiful Soup.\n",
      "  '\"%s\" looks like a URL. Beautiful Soup is not an HTTP client. You should probably use an HTTP client to get the document behind the URL, and feed that document to Beautiful Soup.' % markup)\n"
     ]
    },
    {
     "name": "stdout",
     "output_type": "stream",
     "text": [
      "\n",
      "Review 1285000 of 1569264\n",
      "Review 1286000 of 1569264"
     ]
    },
    {
     "name": "stderr",
     "output_type": "stream",
     "text": [
      "/Users/erichsu/anaconda/lib/python2.7/site-packages/bs4/__init__.py:189: UserWarning: \"http://www.wcnc.com/news/local/Dog-walker-faces-new-charges-of-animal-cruelty-170611656.html\" looks like a URL. Beautiful Soup is not an HTTP client. You should probably use an HTTP client to get the document behind the URL, and feed that document to Beautiful Soup.\n",
      "  '\"%s\" looks like a URL. Beautiful Soup is not an HTTP client. You should probably use an HTTP client to get the document behind the URL, and feed that document to Beautiful Soup.' % markup)\n",
      "/Users/erichsu/anaconda/lib/python2.7/site-packages/bs4/__init__.py:189: UserWarning: \"http://fareeatales.com/2014/07/06/ironic-eating-as-i-tip-my-chapeau-to-the-big-ham-aka-le-gros-jambon/\" looks like a URL. Beautiful Soup is not an HTTP client. You should probably use an HTTP client to get the document behind the URL, and feed that document to Beautiful Soup.\n",
      "  '\"%s\" looks like a URL. Beautiful Soup is not an HTTP client. You should probably use an HTTP client to get the document behind the URL, and feed that document to Beautiful Soup.' % markup)\n"
     ]
    },
    {
     "name": "stdout",
     "output_type": "stream",
     "text": [
      "\n",
      "Review 1287000 of 1569264\n",
      "Review 1288000 of 1569264"
     ]
    },
    {
     "name": "stderr",
     "output_type": "stream",
     "text": [
      "/Users/erichsu/anaconda/lib/python2.7/site-packages/bs4/__init__.py:189: UserWarning: \"http://inbetweenmoments.com\" looks like a URL. Beautiful Soup is not an HTTP client. You should probably use an HTTP client to get the document behind the URL, and feed that document to Beautiful Soup.\n",
      "  '\"%s\" looks like a URL. Beautiful Soup is not an HTTP client. You should probably use an HTTP client to get the document behind the URL, and feed that document to Beautiful Soup.' % markup)\n",
      "/Users/erichsu/anaconda/lib/python2.7/site-packages/bs4/__init__.py:189: UserWarning: \"http://www.fox5vegas.com/story/22286174/health-district-students-contracted-norovirus-after-visiting-restaurant\" looks like a URL. Beautiful Soup is not an HTTP client. You should probably use an HTTP client to get the document behind the URL, and feed that document to Beautiful Soup.\n",
      "  '\"%s\" looks like a URL. Beautiful Soup is not an HTTP client. You should probably use an HTTP client to get the document behind the URL, and feed that document to Beautiful Soup.' % markup)\n"
     ]
    },
    {
     "name": "stdout",
     "output_type": "stream",
     "text": [
      "\n",
      "Review 1289000 of 1569264\n",
      "Review 1290000 of 1569264"
     ]
    },
    {
     "name": "stderr",
     "output_type": "stream",
     "text": [
      "/Users/erichsu/anaconda/lib/python2.7/site-packages/bs4/__init__.py:189: UserWarning: \"http://www.leesatamember.com/\" looks like a URL. Beautiful Soup is not an HTTP client. You should probably use an HTTP client to get the document behind the URL, and feed that document to Beautiful Soup.\n",
      "  '\"%s\" looks like a URL. Beautiful Soup is not an HTTP client. You should probably use an HTTP client to get the document behind the URL, and feed that document to Beautiful Soup.' % markup)\n",
      "/Users/erichsu/anaconda/lib/python2.7/site-packages/bs4/__init__.py:189: UserWarning: \"http://www.wsoctv.com/news/news/local/customers-say-they-were-overcharged-hundreds-dolla/nPNLm/\" looks like a URL. Beautiful Soup is not an HTTP client. You should probably use an HTTP client to get the document behind the URL, and feed that document to Beautiful Soup.\n",
      "  '\"%s\" looks like a URL. Beautiful Soup is not an HTTP client. You should probably use an HTTP client to get the document behind the URL, and feed that document to Beautiful Soup.' % markup)\n"
     ]
    },
    {
     "name": "stdout",
     "output_type": "stream",
     "text": [
      "\n",
      "Review 1291000 of 1569264\n",
      "Review 1292000 of 1569264"
     ]
    },
    {
     "name": "stderr",
     "output_type": "stream",
     "text": [
      "/Users/erichsu/anaconda/lib/python2.7/site-packages/bs4/__init__.py:189: UserWarning: \"http://www.youtube.com/watch?v=M96BDI0ou-A\" looks like a URL. Beautiful Soup is not an HTTP client. You should probably use an HTTP client to get the document behind the URL, and feed that document to Beautiful Soup.\n",
      "  '\"%s\" looks like a URL. Beautiful Soup is not an HTTP client. You should probably use an HTTP client to get the document behind the URL, and feed that document to Beautiful Soup.' % markup)\n",
      "/Users/erichsu/anaconda/lib/python2.7/site-packages/bs4/__init__.py:189: UserWarning: \"http://www.yelp.com/biz_photos/sNVGdeOPeitJ3OWUQBINzQ?select=iBVAE_AKie8MbW7D7PyvwA#M9rG8nMTXfqbL79IX4tFqA\n",
      "\n",
      "...What?\" looks like a URL. Beautiful Soup is not an HTTP client. You should probably use an HTTP client to get the document behind the URL, and feed that document to Beautiful Soup.\n",
      "  '\"%s\" looks like a URL. Beautiful Soup is not an HTTP client. You should probably use an HTTP client to get the document behind the URL, and feed that document to Beautiful Soup.' % markup)\n"
     ]
    },
    {
     "name": "stdout",
     "output_type": "stream",
     "text": [
      "\n",
      "Review 1293000 of 1569264\n",
      "Review 1294000 of 1569264\n",
      "Review 1295000 of 1569264\n",
      "Review 1296000 of 1569264"
     ]
    },
    {
     "name": "stderr",
     "output_type": "stream",
     "text": [
      "/Users/erichsu/anaconda/lib/python2.7/site-packages/bs4/__init__.py:189: UserWarning: \"https://scontent-b-iad.xx.fbcdn.net/hphotos-frc3/1463434_10202623166088775_192666625_n.jpg\" looks like a URL. Beautiful Soup is not an HTTP client. You should probably use an HTTP client to get the document behind the URL, and feed that document to Beautiful Soup.\n",
      "  '\"%s\" looks like a URL. Beautiful Soup is not an HTTP client. You should probably use an HTTP client to get the document behind the URL, and feed that document to Beautiful Soup.' % markup)\n",
      "/Users/erichsu/anaconda/lib/python2.7/site-packages/bs4/__init__.py:189: UserWarning: \"http://beautifulskinandnails.com\" looks like a URL. Beautiful Soup is not an HTTP client. You should probably use an HTTP client to get the document behind the URL, and feed that document to Beautiful Soup.\n",
      "  '\"%s\" looks like a URL. Beautiful Soup is not an HTTP client. You should probably use an HTTP client to get the document behind the URL, and feed that document to Beautiful Soup.' % markup)\n"
     ]
    },
    {
     "name": "stdout",
     "output_type": "stream",
     "text": [
      "\n",
      "Review 1297000 of 1569264\n",
      "Review 1298000 of 1569264"
     ]
    },
    {
     "name": "stderr",
     "output_type": "stream",
     "text": [
      "/Users/erichsu/anaconda/lib/python2.7/site-packages/bs4/__init__.py:189: UserWarning: \"https://www.facebook.com/photo.php?v=10152044627396978&set=vb.720981977&type=2&theater\" looks like a URL. Beautiful Soup is not an HTTP client. You should probably use an HTTP client to get the document behind the URL, and feed that document to Beautiful Soup.\n",
      "  '\"%s\" looks like a URL. Beautiful Soup is not an HTTP client. You should probably use an HTTP client to get the document behind the URL, and feed that document to Beautiful Soup.' % markup)\n",
      "/Users/erichsu/anaconda/lib/python2.7/site-packages/bs4/__init__.py:189: UserWarning: \"http://www.tiesandtutus.com/2012/01/green-apple-hair-lounge/\" looks like a URL. Beautiful Soup is not an HTTP client. You should probably use an HTTP client to get the document behind the URL, and feed that document to Beautiful Soup.\n",
      "  '\"%s\" looks like a URL. Beautiful Soup is not an HTTP client. You should probably use an HTTP client to get the document behind the URL, and feed that document to Beautiful Soup.' % markup)\n"
     ]
    },
    {
     "name": "stdout",
     "output_type": "stream",
     "text": [
      "\n",
      "Review 1299000 of 1569264\n",
      "Review 1300000 of 1569264\n",
      "Review 1301000 of 1569264"
     ]
    },
    {
     "name": "stderr",
     "output_type": "stream",
     "text": [
      "/Users/erichsu/anaconda/lib/python2.7/site-packages/bs4/__init__.py:189: UserWarning: \"http://www.dreamracing.com\" looks like a URL. Beautiful Soup is not an HTTP client. You should probably use an HTTP client to get the document behind the URL, and feed that document to Beautiful Soup.\n",
      "  '\"%s\" looks like a URL. Beautiful Soup is not an HTTP client. You should probably use an HTTP client to get the document behind the URL, and feed that document to Beautiful Soup.' % markup)\n",
      "/Users/erichsu/anaconda/lib/python2.7/site-packages/bs4/__init__.py:189: UserWarning: \"http://gutcharlotte.wordpress.com/2012/04/02/the-gut-awakens-thanks-to-the-tin-kitchen-food-truck/\" looks like a URL. Beautiful Soup is not an HTTP client. You should probably use an HTTP client to get the document behind the URL, and feed that document to Beautiful Soup.\n",
      "  '\"%s\" looks like a URL. Beautiful Soup is not an HTTP client. You should probably use an HTTP client to get the document behind the URL, and feed that document to Beautiful Soup.' % markup)\n"
     ]
    },
    {
     "name": "stdout",
     "output_type": "stream",
     "text": [
      "\n",
      "Review 1302000 of 1569264"
     ]
    },
    {
     "name": "stderr",
     "output_type": "stream",
     "text": [
      "/Users/erichsu/anaconda/lib/python2.7/site-packages/bs4/__init__.py:189: UserWarning: \"http://deborahapeters.com/category/blog/1000-ways-to-smile/\" looks like a URL. Beautiful Soup is not an HTTP client. You should probably use an HTTP client to get the document behind the URL, and feed that document to Beautiful Soup.\n",
      "  '\"%s\" looks like a URL. Beautiful Soup is not an HTTP client. You should probably use an HTTP client to get the document behind the URL, and feed that document to Beautiful Soup.' % markup)\n",
      "/Users/erichsu/anaconda/lib/python2.7/site-packages/bs4/__init__.py:189: UserWarning: \"http://blog.erinkestenbaum.com/2012/12/coffee-freemans-edinburgh-scotland.html\" looks like a URL. Beautiful Soup is not an HTTP client. You should probably use an HTTP client to get the document behind the URL, and feed that document to Beautiful Soup.\n",
      "  '\"%s\" looks like a URL. Beautiful Soup is not an HTTP client. You should probably use an HTTP client to get the document behind the URL, and feed that document to Beautiful Soup.' % markup)\n"
     ]
    },
    {
     "name": "stdout",
     "output_type": "stream",
     "text": [
      "\n",
      "Review 1303000 of 1569264\n"
     ]
    },
    {
     "name": "stderr",
     "output_type": "stream",
     "text": [
      "/Users/erichsu/anaconda/lib/python2.7/site-packages/bs4/__init__.py:182: UserWarning: \"./.\" looks like a filename, not markup. You should probably open this file and pass the filehandle into Beautiful Soup.\n",
      "  '\"%s\" looks like a filename, not markup. You should probably open this file and pass the filehandle into Beautiful Soup.' % markup)\n"
     ]
    },
    {
     "ename": "UnicodeEncodeError",
     "evalue": "'ascii' codec can't encode character u'\\xfc' in position 49: ordinal not in range(128)",
     "output_type": "error",
     "traceback": [
      "\u001b[0;31m---------------------------------------------------------------------------\u001b[0m",
      "\u001b[0;31mUnicodeEncodeError\u001b[0m                        Traceback (most recent call last)",
      "\u001b[0;32m<ipython-input-5-f436c3ac8d69>\u001b[0m in \u001b[0;36m<module>\u001b[0;34m()\u001b[0m\n\u001b[1;32m      9\u001b[0m     \u001b[0;32mif\u001b[0m \u001b[0mcounter\u001b[0m\u001b[0;34m%\u001b[0m\u001b[0;36m1000.\u001b[0m \u001b[0;34m==\u001b[0m \u001b[0;36m0.\u001b[0m\u001b[0;34m:\u001b[0m\u001b[0;34m\u001b[0m\u001b[0m\n\u001b[1;32m     10\u001b[0m            \u001b[0;32mprint\u001b[0m \u001b[0;34m\"Review %d of %d\"\u001b[0m \u001b[0;34m%\u001b[0m \u001b[0;34m(\u001b[0m\u001b[0mcounter\u001b[0m\u001b[0;34m,\u001b[0m \u001b[0mlen\u001b[0m\u001b[0;34m(\u001b[0m\u001b[0mdata\u001b[0m\u001b[0;34m)\u001b[0m\u001b[0;34m)\u001b[0m\u001b[0;34m\u001b[0m\u001b[0m\n\u001b[0;32m---> 11\u001b[0;31m     \u001b[0msentences\u001b[0m \u001b[0;34m+=\u001b[0m \u001b[0mreview_to_sentences\u001b[0m\u001b[0;34m(\u001b[0m\u001b[0mentry\u001b[0m\u001b[0;34m[\u001b[0m\u001b[0;34m'text'\u001b[0m\u001b[0;34m]\u001b[0m\u001b[0;34m,\u001b[0m \u001b[0mtokenizer\u001b[0m\u001b[0;34m)\u001b[0m\u001b[0;34m\u001b[0m\u001b[0m\n\u001b[0m\u001b[1;32m     12\u001b[0m     \u001b[0mcounter\u001b[0m \u001b[0;34m+=\u001b[0m \u001b[0;36m1\u001b[0m\u001b[0;34m\u001b[0m\u001b[0m\n\u001b[1;32m     13\u001b[0m     \u001b[0;31m#\u001b[0m\u001b[0;34m\u001b[0m\u001b[0;34m\u001b[0m\u001b[0m\n",
      "\u001b[0;32m<ipython-input-3-605f0d77c639>\u001b[0m in \u001b[0;36mreview_to_sentences\u001b[0;34m(review, tokenizer, remove_stopwords)\u001b[0m\n\u001b[1;32m     17\u001b[0m         \u001b[0;32mif\u001b[0m \u001b[0mlen\u001b[0m\u001b[0;34m(\u001b[0m\u001b[0mraw_sentence\u001b[0m\u001b[0;34m)\u001b[0m \u001b[0;34m>\u001b[0m \u001b[0;36m0\u001b[0m\u001b[0;34m:\u001b[0m\u001b[0;34m\u001b[0m\u001b[0m\n\u001b[1;32m     18\u001b[0m             \u001b[0;31m# Otherwise, call review_to_wordlist to get a list of words\u001b[0m\u001b[0;34m\u001b[0m\u001b[0;34m\u001b[0m\u001b[0m\n\u001b[0;32m---> 19\u001b[0;31m             \u001b[0msentences\u001b[0m\u001b[0;34m.\u001b[0m\u001b[0mappend\u001b[0m\u001b[0;34m(\u001b[0m \u001b[0mreview_to_wordlist\u001b[0m\u001b[0;34m(\u001b[0m \u001b[0mraw_sentence\u001b[0m\u001b[0;34m,\u001b[0m               \u001b[0mremove_stopwords\u001b[0m \u001b[0;34m)\u001b[0m\u001b[0;34m)\u001b[0m\u001b[0;34m\u001b[0m\u001b[0m\n\u001b[0m\u001b[1;32m     20\u001b[0m     \u001b[0;31m#\u001b[0m\u001b[0;34m\u001b[0m\u001b[0;34m\u001b[0m\u001b[0m\n\u001b[1;32m     21\u001b[0m     \u001b[0;31m# Return the list of sentences (each sentence is a list of words,\u001b[0m\u001b[0;34m\u001b[0m\u001b[0;34m\u001b[0m\u001b[0m\n",
      "\u001b[0;32m<ipython-input-2-1be47bd40080>\u001b[0m in \u001b[0;36mreview_to_wordlist\u001b[0;34m(review, remove_stopwords)\u001b[0m\n\u001b[1;32m      8\u001b[0m     \u001b[0;31m#\u001b[0m\u001b[0;34m\u001b[0m\u001b[0;34m\u001b[0m\u001b[0m\n\u001b[1;32m      9\u001b[0m     \u001b[0;31m# 1. Remove HTML\u001b[0m\u001b[0;34m\u001b[0m\u001b[0;34m\u001b[0m\u001b[0m\n\u001b[0;32m---> 10\u001b[0;31m     \u001b[0mreview_text\u001b[0m \u001b[0;34m=\u001b[0m \u001b[0mBeautifulSoup\u001b[0m\u001b[0;34m(\u001b[0m\u001b[0mreview\u001b[0m\u001b[0;34m)\u001b[0m\u001b[0;34m.\u001b[0m\u001b[0mget_text\u001b[0m\u001b[0;34m(\u001b[0m\u001b[0;34m)\u001b[0m\u001b[0;34m\u001b[0m\u001b[0m\n\u001b[0m\u001b[1;32m     11\u001b[0m     \u001b[0;31m#\u001b[0m\u001b[0;34m\u001b[0m\u001b[0;34m\u001b[0m\u001b[0m\n\u001b[1;32m     12\u001b[0m     \u001b[0;31m# 2. Remove non-letters\u001b[0m\u001b[0;34m\u001b[0m\u001b[0;34m\u001b[0m\u001b[0m\n",
      "\u001b[0;32m/Users/erichsu/anaconda/lib/python2.7/site-packages/bs4/__init__.pyc\u001b[0m in \u001b[0;36m__init__\u001b[0;34m(self, markup, features, builder, parse_only, from_encoding, **kwargs)\u001b[0m\n\u001b[1;32m    187\u001b[0m                     or (isinstance(markup, unicode) and not u' ' in markup)):\n\u001b[1;32m    188\u001b[0m                     warnings.warn(\n\u001b[0;32m--> 189\u001b[0;31m                         '\"%s\" looks like a URL. Beautiful Soup is not an HTTP client. You should probably use an HTTP client to get the document behind the URL, and feed that document to Beautiful Soup.' % markup)\n\u001b[0m\u001b[1;32m    190\u001b[0m \u001b[0;34m\u001b[0m\u001b[0m\n\u001b[1;32m    191\u001b[0m         for (self.markup, self.original_encoding, self.declared_html_encoding,\n",
      "\u001b[0;32m/Users/erichsu/anaconda/lib/python2.7/warnings.pyc\u001b[0m in \u001b[0;36m_show_warning\u001b[0;34m(message, category, filename, lineno, file, line)\u001b[0m\n\u001b[1;32m     28\u001b[0m         \u001b[0mfile\u001b[0m \u001b[0;34m=\u001b[0m \u001b[0msys\u001b[0m\u001b[0;34m.\u001b[0m\u001b[0mstderr\u001b[0m\u001b[0;34m\u001b[0m\u001b[0m\n\u001b[1;32m     29\u001b[0m     \u001b[0;32mtry\u001b[0m\u001b[0;34m:\u001b[0m\u001b[0;34m\u001b[0m\u001b[0m\n\u001b[0;32m---> 30\u001b[0;31m         \u001b[0mfile\u001b[0m\u001b[0;34m.\u001b[0m\u001b[0mwrite\u001b[0m\u001b[0;34m(\u001b[0m\u001b[0mformatwarning\u001b[0m\u001b[0;34m(\u001b[0m\u001b[0mmessage\u001b[0m\u001b[0;34m,\u001b[0m \u001b[0mcategory\u001b[0m\u001b[0;34m,\u001b[0m \u001b[0mfilename\u001b[0m\u001b[0;34m,\u001b[0m \u001b[0mlineno\u001b[0m\u001b[0;34m,\u001b[0m \u001b[0mline\u001b[0m\u001b[0;34m)\u001b[0m\u001b[0;34m)\u001b[0m\u001b[0;34m\u001b[0m\u001b[0m\n\u001b[0m\u001b[1;32m     31\u001b[0m     \u001b[0;32mexcept\u001b[0m \u001b[0mIOError\u001b[0m\u001b[0;34m:\u001b[0m\u001b[0;34m\u001b[0m\u001b[0m\n\u001b[1;32m     32\u001b[0m         \u001b[0;32mpass\u001b[0m \u001b[0;31m# the file (probably stderr) is invalid - this warning gets lost.\u001b[0m\u001b[0;34m\u001b[0m\u001b[0m\n",
      "\u001b[0;32m/Users/erichsu/anaconda/lib/python2.7/warnings.pyc\u001b[0m in \u001b[0;36mformatwarning\u001b[0;34m(message, category, filename, lineno, line)\u001b[0m\n\u001b[1;32m     37\u001b[0m \u001b[0;32mdef\u001b[0m \u001b[0mformatwarning\u001b[0m\u001b[0;34m(\u001b[0m\u001b[0mmessage\u001b[0m\u001b[0;34m,\u001b[0m \u001b[0mcategory\u001b[0m\u001b[0;34m,\u001b[0m \u001b[0mfilename\u001b[0m\u001b[0;34m,\u001b[0m \u001b[0mlineno\u001b[0m\u001b[0;34m,\u001b[0m \u001b[0mline\u001b[0m\u001b[0;34m=\u001b[0m\u001b[0mNone\u001b[0m\u001b[0;34m)\u001b[0m\u001b[0;34m:\u001b[0m\u001b[0;34m\u001b[0m\u001b[0m\n\u001b[1;32m     38\u001b[0m     \u001b[0;34m\"\"\"Function to format a warning the standard way.\"\"\"\u001b[0m\u001b[0;34m\u001b[0m\u001b[0m\n\u001b[0;32m---> 39\u001b[0;31m     \u001b[0ms\u001b[0m \u001b[0;34m=\u001b[0m  \u001b[0;34m\"%s:%s: %s: %s\\n\"\u001b[0m \u001b[0;34m%\u001b[0m \u001b[0;34m(\u001b[0m\u001b[0mfilename\u001b[0m\u001b[0;34m,\u001b[0m \u001b[0mlineno\u001b[0m\u001b[0;34m,\u001b[0m \u001b[0mcategory\u001b[0m\u001b[0;34m.\u001b[0m\u001b[0m__name__\u001b[0m\u001b[0;34m,\u001b[0m \u001b[0mmessage\u001b[0m\u001b[0;34m)\u001b[0m\u001b[0;34m\u001b[0m\u001b[0m\n\u001b[0m\u001b[1;32m     40\u001b[0m     \u001b[0mline\u001b[0m \u001b[0;34m=\u001b[0m \u001b[0mlinecache\u001b[0m\u001b[0;34m.\u001b[0m\u001b[0mgetline\u001b[0m\u001b[0;34m(\u001b[0m\u001b[0mfilename\u001b[0m\u001b[0;34m,\u001b[0m \u001b[0mlineno\u001b[0m\u001b[0;34m)\u001b[0m \u001b[0;32mif\u001b[0m \u001b[0mline\u001b[0m \u001b[0;32mis\u001b[0m \u001b[0mNone\u001b[0m \u001b[0;32melse\u001b[0m \u001b[0mline\u001b[0m\u001b[0;34m\u001b[0m\u001b[0m\n\u001b[1;32m     41\u001b[0m     \u001b[0;32mif\u001b[0m \u001b[0mline\u001b[0m\u001b[0;34m:\u001b[0m\u001b[0;34m\u001b[0m\u001b[0m\n",
      "\u001b[0;31mUnicodeEncodeError\u001b[0m: 'ascii' codec can't encode character u'\\xfc' in position 49: ordinal not in range(128)"
     ]
    }
   ],
   "source": [
    "import logging\n",
    "logging.basicConfig(format='%(asctime)s : %(levelname)s : %(message)s',\\\n",
    "    level=logging.INFO)\n",
    "\n",
    "sentences = []\n",
    "print \"Parsing sentences from training set\"\n",
    "counter = 0.\n",
    "for entry in data:\n",
    "    #\n",
    "    if counter%1000. == 0.:\n",
    "           print \"Review %d of %d\" % (counter, len(data))\n",
    "    sentences += review_to_sentences(entry['text'], tokenizer)\n",
    "    counter += 1\n",
    "    #"
   ]
  },
  {
   "cell_type": "code",
   "execution_count": 6,
   "metadata": {
    "collapsed": false
   },
   "outputs": [
    {
     "name": "stdout",
     "output_type": "stream",
     "text": [
      "Training model...\n"
     ]
    }
   ],
   "source": [
    "import logging\n",
    "logging.basicConfig(format='%(asctime)s : %(levelname)s : %(message)s',\\\n",
    "    level=logging.INFO)\n",
    "\n",
    "# Set values for various parameters\n",
    "num_features = 300    # Word vector dimensionality                      \n",
    "min_word_count = 40   # Minimum word count                        \n",
    "num_workers = 4       # Number of threads to run in parallel\n",
    "context = 10          # Context window size                                                                                    \n",
    "downsampling = 1e-3   # Downsample setting for frequent words\n",
    "\n",
    "# Initialize and train the model (this will take some time)\n",
    "from gensim.models import word2vec\n",
    "print \"Training model...\"\n",
    "model = word2vec.Word2Vec(sentences, workers=num_workers, \\\n",
    "            size=num_features, min_count = min_word_count, \\\n",
    "            window = context, sample = downsampling)\n",
    "\n",
    "# If you don't plan to train the model any further, calling \n",
    "# init_sims will make the model much more memory-efficient.\n",
    "model.init_sims(replace=True)\n",
    "\n",
    "# It can be helpful to create a meaningful model name and \n",
    "# save the model for later use. You can load it later using Word2Vec.load()\n",
    "model_name = \"300features_40minwords_10context\"\n",
    "model.save(model_name)\n",
    "\n"
   ]
  },
  {
   "cell_type": "code",
   "execution_count": 7,
   "metadata": {
    "collapsed": true
   },
   "outputs": [],
   "source": [
    "def makeFeatureVec(words, model, num_features):\n",
    "    # Function to average all of the word vectors in a given\n",
    "    # paragraph\n",
    "    #\n",
    "    # Pre-initialize an empty numpy array (for speed)\n",
    "    featureVec = np.zeros((num_features,),dtype=\"float32\")\n",
    "    #\n",
    "    nwords = 0.\n",
    "    # \n",
    "    # Index2word is a list that contains the names of the words in \n",
    "    # the model's vocabulary. Convert it to a set, for speed \n",
    "    index2word_set = set(model.index2word)\n",
    "    #\n",
    "    # Loop over each word in the review and, if it is in the model's\n",
    "    # vocaublary, add its feature vector to the total\n",
    "    for word in words:\n",
    "        if word in index2word_set: \n",
    "            nwords = nwords + 1.\n",
    "            featureVec = np.add(featureVec,model[word])\n",
    "    # \n",
    "    # Divide the result by the number of words to get the average\n",
    "    featureVec = np.divide(featureVec,nwords)\n",
    "    return featureVec\n",
    "\n",
    "\n",
    "def getAvgFeatureVecs(reviews, model, num_features):\n",
    "    # Given a set of reviews (each one a list of words), calculate \n",
    "    # the average feature vector for each one and return a 2D numpy array \n",
    "    # \n",
    "    # Initialize a counter\n",
    "    counter = 0.\n",
    "    # \n",
    "    # Preallocate a 2D numpy array, for speed\n",
    "    reviewFeatureVecs = np.zeros((len(reviews),num_features),dtype=\"float32\")\n",
    "    # \n",
    "    # Loop through the reviews\n",
    "    for review in reviews:\n",
    "       #\n",
    "       # Print a status message every 1000th review\n",
    "       if counter%1000. == 0.:\n",
    "           print \"Review %d of %d\" % (counter, len(reviews))\n",
    "       # \n",
    "       # Call the function (defined above) that makes average feature vectors\n",
    "       reviewFeatureVecs[counter] = makeFeatureVec(review, model, \\\n",
    "           num_features)\n",
    "       #\n",
    "       # Increment the counter\n",
    "       counter = counter + 1.\n",
    "    return reviewFeatureVecs"
   ]
  },
  {
   "cell_type": "code",
   "execution_count": 8,
   "metadata": {
    "collapsed": false
   },
   "outputs": [
    {
     "name": "stderr",
     "output_type": "stream",
     "text": [
      "/Users/erichsu/anaconda/lib/python2.7/site-packages/bs4/__init__.py:189: UserWarning: \"http://www.thestar.com/travel/northamerica/article/1155723--six-new-meals-in-montreal-the-food-lover-s-paradise\" looks like a URL. Beautiful Soup is not an HTTP client. You should probably use an HTTP client to get the document behind the URL, and feed that document to Beautiful Soup.\n",
      "  '\"%s\" looks like a URL. Beautiful Soup is not an HTTP client. You should probably use an HTTP client to get the document behind the URL, and feed that document to Beautiful Soup.' % markup)\n",
      "/Users/erichsu/anaconda/lib/python2.7/site-packages/bs4/__init__.py:189: UserWarning: \"http://kristilynk.wordpress.com\" looks like a URL. Beautiful Soup is not an HTTP client. You should probably use an HTTP client to get the document behind the URL, and feed that document to Beautiful Soup.\n",
      "  '\"%s\" looks like a URL. Beautiful Soup is not an HTTP client. You should probably use an HTTP client to get the document behind the URL, and feed that document to Beautiful Soup.' % markup)\n",
      "/Users/erichsu/anaconda/lib/python2.7/site-packages/bs4/__init__.py:189: UserWarning: \"http://www.courthousenews.com/2013/07/03/59061.htm\" looks like a URL. Beautiful Soup is not an HTTP client. You should probably use an HTTP client to get the document behind the URL, and feed that document to Beautiful Soup.\n",
      "  '\"%s\" looks like a URL. Beautiful Soup is not an HTTP client. You should probably use an HTTP client to get the document behind the URL, and feed that document to Beautiful Soup.' % markup)\n",
      "/Users/erichsu/anaconda/lib/python2.7/site-packages/bs4/__init__.py:189: UserWarning: \"http://www.youtube.com/watch?v=OfMy1uMjkdw\" looks like a URL. Beautiful Soup is not an HTTP client. You should probably use an HTTP client to get the document behind the URL, and feed that document to Beautiful Soup.\n",
      "  '\"%s\" looks like a URL. Beautiful Soup is not an HTTP client. You should probably use an HTTP client to get the document behind the URL, and feed that document to Beautiful Soup.' % markup)\n",
      "/Users/erichsu/anaconda/lib/python2.7/site-packages/bs4/__init__.py:189: UserWarning: \"http://sundaywithachanceofmeatballs.com/2014/02/25/why-i-started-this-site/\" looks like a URL. Beautiful Soup is not an HTTP client. You should probably use an HTTP client to get the document behind the URL, and feed that document to Beautiful Soup.\n",
      "  '\"%s\" looks like a URL. Beautiful Soup is not an HTTP client. You should probably use an HTTP client to get the document behind the URL, and feed that document to Beautiful Soup.' % markup)\n",
      "/Users/erichsu/anaconda/lib/python2.7/site-packages/bs4/__init__.py:189: UserWarning: \"http://www.journaldemontreal.com/2014/07/28/franchement-decevant\" looks like a URL. Beautiful Soup is not an HTTP client. You should probably use an HTTP client to get the document behind the URL, and feed that document to Beautiful Soup.\n",
      "  '\"%s\" looks like a URL. Beautiful Soup is not an HTTP client. You should probably use an HTTP client to get the document behind the URL, and feed that document to Beautiful Soup.' % markup)\n"
     ]
    },
    {
     "name": "stdout",
     "output_type": "stream",
     "text": [
      "Review 0 of 1569264\n",
      "Review 1000 of 1569264\n",
      "Review 2000 of 1569264\n",
      "Review 3000 of 1569264\n",
      "Review 4000 of 1569264\n",
      "Review 5000 of 1569264\n",
      "Review 6000 of 1569264\n",
      "Review 7000 of 1569264\n",
      "Review 8000 of 1569264\n",
      "Review 9000 of 1569264\n",
      "Review 10000 of 1569264\n",
      "Review 11000 of 1569264\n",
      "Review 12000 of 1569264\n",
      "Review 13000 of 1569264\n",
      "Review 14000 of 1569264\n",
      "Review 15000 of 1569264\n",
      "Review 16000 of 1569264\n",
      "Review 17000 of 1569264\n",
      "Review 18000 of 1569264\n",
      "Review 19000 of 1569264\n",
      "Review 20000 of 1569264\n",
      "Review 21000 of 1569264\n",
      "Review 22000 of 1569264\n",
      "Review 23000 of 1569264\n",
      "Review 24000 of 1569264\n",
      "Review 25000 of 1569264\n",
      "Review 26000 of 1569264\n",
      "Review 27000 of 1569264\n",
      "Review 28000 of 1569264\n",
      "Review 29000 of 1569264\n",
      "Review 30000 of 1569264\n",
      "Review 31000 of 1569264\n",
      "Review 32000 of 1569264\n",
      "Review 33000 of 1569264\n",
      "Review 34000 of 1569264\n",
      "Review 35000 of 1569264\n",
      "Review 36000 of 1569264\n",
      "Review 37000 of 1569264\n",
      "Review 38000 of 1569264\n",
      "Review 39000 of 1569264\n",
      "Review 40000 of 1569264\n",
      "Review 41000 of 1569264\n",
      "Review 42000 of 1569264\n",
      "Review 43000 of 1569264\n",
      "Review 44000 of 1569264\n",
      "Review 45000 of 1569264\n",
      "Review 46000 of 1569264\n",
      "Review 47000 of 1569264\n",
      "Review 48000 of 1569264\n",
      "Review 49000 of 1569264\n",
      "Review 50000 of 1569264\n",
      "Review 51000 of 1569264\n",
      "Review 52000 of 1569264\n",
      "Review 53000 of 1569264\n",
      "Review 54000 of 1569264\n",
      "Review 55000 of 1569264\n",
      "Review 56000 of 1569264\n",
      "Review 57000 of 1569264\n",
      "Review 58000 of 1569264\n",
      "Review 59000 of 1569264\n",
      "Review 60000 of 1569264\n",
      "Review 61000 of 1569264\n",
      "Review 62000 of 1569264\n",
      "Review 63000 of 1569264\n",
      "Review 64000 of 1569264\n",
      "Review 65000 of 1569264\n",
      "Review 66000 of 1569264\n",
      "Review 67000 of 1569264\n",
      "Review 68000 of 1569264\n",
      "Review 69000 of 1569264\n",
      "Review 70000 of 1569264\n",
      "Review 71000 of 1569264\n",
      "Review 72000 of 1569264\n",
      "Review 73000 of 1569264\n",
      "Review 74000 of 1569264\n",
      "Review 75000 of 1569264\n",
      "Review 76000 of 1569264\n",
      "Review 77000 of 1569264\n",
      "Review 78000 of 1569264\n",
      "Review 79000 of 1569264\n",
      "Review 80000 of 1569264\n",
      "Review 81000 of 1569264\n",
      "Review 82000 of 1569264\n",
      "Review 83000 of 1569264\n",
      "Review 84000 of 1569264\n",
      "Review 85000 of 1569264\n",
      "Review 86000 of 1569264\n",
      "Review 87000 of 1569264\n",
      "Review 88000 of 1569264\n",
      "Review 89000 of 1569264\n",
      "Review 90000 of 1569264\n",
      "Review 91000 of 1569264\n",
      "Review 92000 of 1569264\n",
      "Review 93000 of 1569264\n",
      "Review 94000 of 1569264\n",
      "Review 95000 of 1569264\n",
      "Review 96000 of 1569264\n",
      "Review 97000 of 1569264\n",
      "Review 98000 of 1569264\n",
      "Review 99000 of 1569264\n",
      "Review 100000 of 1569264\n",
      "Review 101000 of 1569264\n",
      "Review 102000 of 1569264\n",
      "Review 103000 of 1569264\n",
      "Review 104000 of 1569264\n",
      "Review 105000 of 1569264\n",
      "Review 106000 of 1569264\n",
      "Review 107000 of 1569264\n",
      "Review 108000 of 1569264\n",
      "Review 109000 of 1569264\n",
      "Review 110000 of 1569264\n",
      "Review 111000 of 1569264\n",
      "Review 112000 of 1569264\n",
      "Review 113000 of 1569264\n",
      "Review 114000 of 1569264\n",
      "Review 115000 of 1569264\n",
      "Review 116000 of 1569264\n",
      "Review 117000 of 1569264\n",
      "Review 118000 of 1569264\n",
      "Review 119000 of 1569264\n",
      "Review 120000 of 1569264\n",
      "Review 121000 of 1569264\n",
      "Review 122000 of 1569264\n",
      "Review 123000 of 1569264\n",
      "Review 124000 of 1569264\n",
      "Review 125000 of 1569264\n",
      "Review 126000 of 1569264\n",
      "Review 127000 of 1569264\n",
      "Review 128000 of 1569264\n",
      "Review 129000 of 1569264\n",
      "Review 130000 of 1569264\n",
      "Review 131000 of 1569264\n",
      "Review 132000 of 1569264\n",
      "Review 133000 of 1569264\n",
      "Review 134000 of 1569264\n",
      "Review 135000 of 1569264\n",
      "Review 136000 of 1569264\n",
      "Review 137000 of 1569264\n",
      "Review 138000 of 1569264\n",
      "Review 139000 of 1569264\n",
      "Review 140000 of 1569264\n",
      "Review 141000 of 1569264\n",
      "Review 142000 of 1569264\n",
      "Review 143000 of 1569264\n",
      "Review 144000 of 1569264\n",
      "Review 145000 of 1569264\n",
      "Review 146000 of 1569264\n",
      "Review 147000 of 1569264\n",
      "Review 148000 of 1569264\n",
      "Review 149000 of 1569264\n",
      "Review 150000 of 1569264\n",
      "Review 151000 of 1569264\n",
      "Review 152000 of 1569264\n",
      "Review 153000 of 1569264\n",
      "Review 154000 of 1569264\n",
      "Review 155000 of 1569264\n",
      "Review 156000 of 1569264\n",
      "Review 157000 of 1569264\n",
      "Review 158000 of 1569264\n",
      "Review 159000 of 1569264\n",
      "Review 160000 of 1569264\n",
      "Review 161000 of 1569264\n",
      "Review 162000 of 1569264\n",
      "Review 163000 of 1569264\n",
      "Review 164000 of 1569264\n",
      "Review 165000 of 1569264\n",
      "Review 166000 of 1569264\n",
      "Review 167000 of 1569264\n",
      "Review 168000 of 1569264\n",
      "Review 169000 of 1569264\n",
      "Review 170000 of 1569264\n",
      "Review 171000 of 1569264\n",
      "Review 172000 of 1569264\n",
      "Review 173000 of 1569264\n",
      "Review 174000 of 1569264\n",
      "Review 175000 of 1569264\n",
      "Review 176000 of 1569264\n",
      "Review 177000 of 1569264\n",
      "Review 178000 of 1569264\n",
      "Review 179000 of 1569264\n",
      "Review 180000 of 1569264\n",
      "Review 181000 of 1569264\n",
      "Review 182000 of 1569264\n",
      "Review 183000 of 1569264\n",
      "Review 184000 of 1569264\n",
      "Review 185000 of 1569264\n",
      "Review 186000 of 1569264\n",
      "Review 187000 of 1569264\n",
      "Review 188000 of 1569264\n",
      "Review 189000 of 1569264\n",
      "Review 190000 of 1569264\n",
      "Review 191000 of 1569264\n",
      "Review 192000 of 1569264\n",
      "Review 193000 of 1569264\n",
      "Review 194000 of 1569264\n",
      "Review 195000 of 1569264\n",
      "Review 196000 of 1569264\n",
      "Review 197000 of 1569264\n",
      "Review 198000 of 1569264\n",
      "Review 199000 of 1569264\n",
      "Review 200000 of 1569264\n",
      "Review 201000 of 1569264\n",
      "Review 202000 of 1569264\n",
      "Review 203000 of 1569264\n",
      "Review 204000 of 1569264\n",
      "Review 205000 of 1569264\n",
      "Review 206000 of 1569264\n",
      "Review 207000 of 1569264\n",
      "Review 208000 of 1569264\n",
      "Review 209000 of 1569264\n",
      "Review 210000 of 1569264\n",
      "Review 211000 of 1569264\n",
      "Review 212000 of 1569264\n",
      "Review 213000 of 1569264\n",
      "Review 214000 of 1569264\n",
      "Review 215000 of 1569264\n",
      "Review 216000 of 1569264\n",
      "Review 217000 of 1569264\n",
      "Review 218000 of 1569264\n",
      "Review 219000 of 1569264\n",
      "Review 220000 of 1569264\n",
      "Review 221000 of 1569264\n",
      "Review 222000 of 1569264\n",
      "Review 223000 of 1569264\n",
      "Review 224000 of 1569264\n",
      "Review 225000 of 1569264\n",
      "Review 226000 of 1569264\n",
      "Review 227000 of 1569264\n",
      "Review 228000 of 1569264\n",
      "Review 229000 of 1569264\n",
      "Review 230000 of 1569264\n",
      "Review 231000 of 1569264\n",
      "Review 232000 of 1569264\n",
      "Review 233000 of 1569264\n",
      "Review 234000 of 1569264\n",
      "Review 235000 of 1569264\n",
      "Review 236000 of 1569264\n",
      "Review 237000 of 1569264\n",
      "Review 238000 of 1569264\n",
      "Review 239000 of 1569264\n",
      "Review 240000 of 1569264\n",
      "Review 241000 of 1569264\n",
      "Review 242000 of 1569264\n",
      "Review 243000 of 1569264\n",
      "Review 244000 of 1569264\n",
      "Review 245000 of 1569264\n",
      "Review 246000 of 1569264\n",
      "Review 247000 of 1569264\n",
      "Review 248000 of 1569264\n",
      "Review 249000 of 1569264\n",
      "Review 250000 of 1569264\n",
      "Review 251000 of 1569264\n",
      "Review 252000 of 1569264\n",
      "Review 253000 of 1569264\n",
      "Review 254000 of 1569264\n",
      "Review 255000 of 1569264\n",
      "Review 256000 of 1569264\n",
      "Review 257000 of 1569264\n",
      "Review 258000 of 1569264\n",
      "Review 259000 of 1569264\n",
      "Review 260000 of 1569264\n",
      "Review 261000 of 1569264\n",
      "Review 262000 of 1569264\n",
      "Review 263000 of 1569264\n",
      "Review 264000 of 1569264\n",
      "Review 265000 of 1569264\n",
      "Review 266000 of 1569264\n",
      "Review 267000 of 1569264\n",
      "Review 268000 of 1569264\n",
      "Review 269000 of 1569264\n",
      "Review 270000 of 1569264\n",
      "Review 271000 of 1569264\n",
      "Review 272000 of 1569264\n",
      "Review 273000 of 1569264\n",
      "Review 274000 of 1569264\n",
      "Review 275000 of 1569264\n",
      "Review 276000 of 1569264\n",
      "Review 277000 of 1569264\n",
      "Review 278000 of 1569264\n",
      "Review 279000 of 1569264\n",
      "Review 280000 of 1569264\n",
      "Review 281000 of 1569264\n",
      "Review 282000 of 1569264\n",
      "Review 283000 of 1569264\n",
      "Review 284000 of 1569264\n",
      "Review 285000 of 1569264\n",
      "Review 286000 of 1569264\n",
      "Review 287000 of 1569264\n",
      "Review 288000 of 1569264\n",
      "Review 289000 of 1569264\n",
      "Review 290000 of 1569264\n",
      "Review 291000 of 1569264\n",
      "Review 292000 of 1569264\n",
      "Review 293000 of 1569264\n",
      "Review 294000 of 1569264\n",
      "Review 295000 of 1569264\n",
      "Review 296000 of 1569264\n",
      "Review 297000 of 1569264\n",
      "Review 298000 of 1569264\n",
      "Review 299000 of 1569264\n",
      "Review 300000 of 1569264\n",
      "Review 301000 of 1569264\n",
      "Review 302000 of 1569264\n",
      "Review 303000 of 1569264\n",
      "Review 304000 of 1569264\n",
      "Review 305000 of 1569264\n",
      "Review 306000 of 1569264\n",
      "Review 307000 of 1569264\n",
      "Review 308000 of 1569264\n",
      "Review 309000 of 1569264\n",
      "Review 310000 of 1569264\n",
      "Review 311000 of 1569264\n",
      "Review 312000 of 1569264\n",
      "Review 313000 of 1569264\n",
      "Review 314000 of 1569264\n",
      "Review 315000 of 1569264\n",
      "Review 316000 of 1569264\n",
      "Review 317000 of 1569264\n",
      "Review 318000 of 1569264\n",
      "Review 319000 of 1569264\n",
      "Review 320000 of 1569264\n",
      "Review 321000 of 1569264\n",
      "Review 322000 of 1569264\n",
      "Review 323000 of 1569264\n",
      "Review 324000 of 1569264\n",
      "Review 325000 of 1569264\n",
      "Review 326000 of 1569264\n",
      "Review 327000 of 1569264\n",
      "Review 328000 of 1569264\n",
      "Review 329000 of 1569264\n",
      "Review 330000 of 1569264\n",
      "Review 331000 of 1569264\n",
      "Review 332000 of 1569264\n",
      "Review 333000 of 1569264\n",
      "Review 334000 of 1569264\n",
      "Review 335000 of 1569264\n",
      "Review 336000 of 1569264\n",
      "Review 337000 of 1569264\n",
      "Review 338000 of 1569264\n",
      "Review 339000 of 1569264\n",
      "Review 340000 of 1569264\n",
      "Review 341000 of 1569264\n",
      "Review 342000 of 1569264\n",
      "Review 343000 of 1569264\n",
      "Review 344000 of 1569264\n",
      "Review 345000 of 1569264\n",
      "Review 346000 of 1569264\n",
      "Review 347000 of 1569264\n",
      "Review 348000 of 1569264\n",
      "Review 349000 of 1569264\n",
      "Review 350000 of 1569264\n",
      "Review 351000 of 1569264\n",
      "Review 352000 of 1569264\n",
      "Review 353000 of 1569264\n",
      "Review 354000 of 1569264\n",
      "Review 355000 of 1569264\n",
      "Review 356000 of 1569264\n",
      "Review 357000 of 1569264\n",
      "Review 358000 of 1569264\n",
      "Review 359000 of 1569264\n",
      "Review 360000 of 1569264\n",
      "Review 361000 of 1569264\n",
      "Review 362000 of 1569264\n",
      "Review 363000 of 1569264\n",
      "Review 364000 of 1569264\n",
      "Review 365000 of 1569264\n",
      "Review 366000 of 1569264\n",
      "Review 367000 of 1569264\n",
      "Review 368000 of 1569264\n",
      "Review 369000 of 1569264\n",
      "Review 370000 of 1569264\n",
      "Review 371000 of 1569264\n",
      "Review 372000 of 1569264\n",
      "Review 373000 of 1569264\n",
      "Review 374000 of 1569264\n",
      "Review 375000 of 1569264\n",
      "Review 376000 of 1569264\n",
      "Review 377000 of 1569264\n",
      "Review 378000 of 1569264\n",
      "Review 379000 of 1569264\n",
      "Review 380000 of 1569264\n",
      "Review 381000 of 1569264\n",
      "Review 382000 of 1569264\n",
      "Review 383000 of 1569264\n",
      "Review 384000 of 1569264\n",
      "Review 385000 of 1569264\n",
      "Review 386000 of 1569264\n",
      "Review 387000 of 1569264\n",
      "Review 388000 of 1569264\n",
      "Review 389000 of 1569264\n",
      "Review 390000 of 1569264\n",
      "Review 391000 of 1569264\n",
      "Review 392000 of 1569264\n",
      "Review 393000 of 1569264\n",
      "Review 394000 of 1569264\n",
      "Review 395000 of 1569264\n",
      "Review 396000 of 1569264\n",
      "Review 397000 of 1569264\n",
      "Review 398000 of 1569264\n",
      "Review 399000 of 1569264\n",
      "Review 400000 of 1569264\n",
      "Review 401000 of 1569264\n",
      "Review 402000 of 1569264\n",
      "Review 403000 of 1569264\n",
      "Review 404000 of 1569264\n",
      "Review 405000 of 1569264\n",
      "Review 406000 of 1569264\n",
      "Review 407000 of 1569264\n",
      "Review 408000 of 1569264\n",
      "Review 409000 of 1569264\n",
      "Review 410000 of 1569264\n",
      "Review 411000 of 1569264\n",
      "Review 412000 of 1569264\n",
      "Review 413000 of 1569264\n",
      "Review 414000 of 1569264\n",
      "Review 415000 of 1569264\n",
      "Review 416000 of 1569264\n",
      "Review 417000 of 1569264\n",
      "Review 418000 of 1569264\n",
      "Review 419000 of 1569264\n",
      "Review 420000 of 1569264\n",
      "Review 421000 of 1569264\n",
      "Review 422000 of 1569264\n",
      "Review 423000 of 1569264\n",
      "Review 424000 of 1569264\n",
      "Review 425000 of 1569264\n",
      "Review 426000 of 1569264\n",
      "Review 427000 of 1569264\n",
      "Review 428000 of 1569264\n",
      "Review 429000 of 1569264\n",
      "Review 430000 of 1569264\n",
      "Review 431000 of 1569264\n",
      "Review 432000 of 1569264\n",
      "Review 433000 of 1569264\n",
      "Review 434000 of 1569264\n",
      "Review 435000 of 1569264\n",
      "Review 436000 of 1569264\n",
      "Review 437000 of 1569264\n",
      "Review 438000 of 1569264\n",
      "Review 439000 of 1569264\n",
      "Review 440000 of 1569264\n",
      "Review 441000 of 1569264\n",
      "Review 442000 of 1569264\n",
      "Review 443000 of 1569264\n",
      "Review 444000 of 1569264\n",
      "Review 445000 of 1569264\n",
      "Review 446000 of 1569264\n",
      "Review 447000 of 1569264\n",
      "Review 448000 of 1569264\n",
      "Review 449000 of 1569264\n",
      "Review 450000 of 1569264\n",
      "Review 451000 of 1569264\n",
      "Review 452000 of 1569264\n",
      "Review 453000 of 1569264\n",
      "Review 454000 of 1569264\n",
      "Review 455000 of 1569264\n",
      "Review 456000 of 1569264\n",
      "Review 457000 of 1569264\n",
      "Review 458000 of 1569264\n",
      "Review 459000 of 1569264\n",
      "Review 460000 of 1569264\n",
      "Review 461000 of 1569264\n",
      "Review 462000 of 1569264\n",
      "Review 463000 of 1569264\n",
      "Review 464000 of 1569264\n",
      "Review 465000 of 1569264\n",
      "Review 466000 of 1569264\n",
      "Review 467000 of 1569264\n",
      "Review 468000 of 1569264\n",
      "Review 469000 of 1569264\n",
      "Review 470000 of 1569264\n",
      "Review 471000 of 1569264\n",
      "Review 472000 of 1569264\n",
      "Review 473000 of 1569264\n",
      "Review 474000 of 1569264\n",
      "Review 475000 of 1569264\n",
      "Review 476000 of 1569264\n",
      "Review 477000 of 1569264\n",
      "Review 478000 of 1569264\n",
      "Review 479000 of 1569264\n",
      "Review 480000 of 1569264\n",
      "Review 481000 of 1569264\n",
      "Review 482000 of 1569264\n",
      "Review 483000 of 1569264\n",
      "Review 484000 of 1569264\n",
      "Review 485000 of 1569264\n",
      "Review 486000 of 1569264\n",
      "Review 487000 of 1569264\n",
      "Review 488000 of 1569264\n",
      "Review 489000 of 1569264\n",
      "Review 490000 of 1569264\n",
      "Review 491000 of 1569264\n",
      "Review 492000 of 1569264\n",
      "Review 493000 of 1569264\n",
      "Review 494000 of 1569264\n",
      "Review 495000 of 1569264\n",
      "Review 496000 of 1569264\n",
      "Review 497000 of 1569264\n",
      "Review 498000 of 1569264\n",
      "Review 499000 of 1569264\n",
      "Review 500000 of 1569264\n",
      "Review 501000 of 1569264\n",
      "Review 502000 of 1569264\n",
      "Review 503000 of 1569264\n",
      "Review 504000 of 1569264\n",
      "Review 505000 of 1569264\n",
      "Review 506000 of 1569264\n",
      "Review 507000 of 1569264\n",
      "Review 508000 of 1569264\n",
      "Review 509000 of 1569264\n",
      "Review 510000 of 1569264\n",
      "Review 511000 of 1569264\n",
      "Review 512000 of 1569264\n",
      "Review 513000 of 1569264\n",
      "Review 514000 of 1569264\n",
      "Review 515000 of 1569264\n",
      "Review 516000 of 1569264\n",
      "Review 517000 of 1569264\n",
      "Review 518000 of 1569264\n",
      "Review 519000 of 1569264\n",
      "Review 520000 of 1569264\n",
      "Review 521000 of 1569264\n",
      "Review 522000 of 1569264\n",
      "Review 523000 of 1569264\n",
      "Review 524000 of 1569264\n",
      "Review 525000 of 1569264\n",
      "Review 526000 of 1569264\n",
      "Review 527000 of 1569264\n",
      "Review 528000 of 1569264\n",
      "Review 529000 of 1569264\n",
      "Review 530000 of 1569264\n",
      "Review 531000 of 1569264\n",
      "Review 532000 of 1569264\n",
      "Review 533000 of 1569264\n",
      "Review 534000 of 1569264\n",
      "Review 535000 of 1569264\n",
      "Review 536000 of 1569264\n",
      "Review 537000 of 1569264\n",
      "Review 538000 of 1569264\n",
      "Review 539000 of 1569264\n",
      "Review 540000 of 1569264\n",
      "Review 541000 of 1569264\n",
      "Review 542000 of 1569264\n",
      "Review 543000 of 1569264\n",
      "Review 544000 of 1569264\n",
      "Review 545000 of 1569264\n",
      "Review 546000 of 1569264\n",
      "Review 547000 of 1569264\n",
      "Review 548000 of 1569264\n",
      "Review 549000 of 1569264\n",
      "Review 550000 of 1569264\n",
      "Review 551000 of 1569264\n",
      "Review 552000 of 1569264\n",
      "Review 553000 of 1569264\n",
      "Review 554000 of 1569264\n",
      "Review 555000 of 1569264\n",
      "Review 556000 of 1569264\n",
      "Review 557000 of 1569264\n",
      "Review 558000 of 1569264\n",
      "Review 559000 of 1569264\n",
      "Review 560000 of 1569264\n",
      "Review 561000 of 1569264\n",
      "Review 562000 of 1569264\n",
      "Review 563000 of 1569264\n",
      "Review 564000 of 1569264\n",
      "Review 565000 of 1569264\n",
      "Review 566000 of 1569264\n",
      "Review 567000 of 1569264\n",
      "Review 568000 of 1569264\n",
      "Review 569000 of 1569264\n",
      "Review 570000 of 1569264\n",
      "Review 571000 of 1569264\n",
      "Review 572000 of 1569264\n",
      "Review 573000 of 1569264\n",
      "Review 574000 of 1569264\n",
      "Review 575000 of 1569264\n",
      "Review 576000 of 1569264\n",
      "Review 577000 of 1569264\n",
      "Review 578000 of 1569264\n",
      "Review 579000 of 1569264\n",
      "Review 580000 of 1569264\n",
      "Review 581000 of 1569264\n",
      "Review 582000 of 1569264\n",
      "Review 583000 of 1569264\n",
      "Review 584000 of 1569264\n",
      "Review 585000 of 1569264\n",
      "Review 586000 of 1569264\n",
      "Review 587000 of 1569264\n",
      "Review 588000 of 1569264\n",
      "Review 589000 of 1569264\n",
      "Review 590000 of 1569264\n",
      "Review 591000 of 1569264\n",
      "Review 592000 of 1569264\n",
      "Review 593000 of 1569264\n",
      "Review 594000 of 1569264\n",
      "Review 595000 of 1569264\n",
      "Review 596000 of 1569264\n",
      "Review 597000 of 1569264\n",
      "Review 598000 of 1569264\n",
      "Review 599000 of 1569264\n",
      "Review 600000 of 1569264\n",
      "Review 601000 of 1569264\n",
      "Review 602000 of 1569264\n",
      "Review 603000 of 1569264\n",
      "Review 604000 of 1569264\n",
      "Review 605000 of 1569264\n",
      "Review 606000 of 1569264\n",
      "Review 607000 of 1569264\n",
      "Review 608000 of 1569264\n",
      "Review 609000 of 1569264\n",
      "Review 610000 of 1569264\n",
      "Review 611000 of 1569264\n",
      "Review 612000 of 1569264\n",
      "Review 613000 of 1569264\n",
      "Review 614000 of 1569264\n",
      "Review 615000 of 1569264\n",
      "Review 616000 of 1569264\n",
      "Review 617000 of 1569264\n",
      "Review 618000 of 1569264\n",
      "Review 619000 of 1569264\n",
      "Review 620000 of 1569264\n",
      "Review 621000 of 1569264\n",
      "Review 622000 of 1569264\n",
      "Review 623000 of 1569264\n",
      "Review 624000 of 1569264\n",
      "Review 625000 of 1569264\n",
      "Review 626000 of 1569264\n",
      "Review 627000 of 1569264\n",
      "Review 628000 of 1569264\n",
      "Review 629000 of 1569264\n",
      "Review 630000 of 1569264\n",
      "Review 631000 of 1569264\n",
      "Review 632000 of 1569264\n",
      "Review 633000 of 1569264\n",
      "Review 634000 of 1569264\n",
      "Review 635000 of 1569264\n",
      "Review 636000 of 1569264\n",
      "Review 637000 of 1569264\n",
      "Review 638000 of 1569264\n",
      "Review 639000 of 1569264\n",
      "Review 640000 of 1569264\n",
      "Review 641000 of 1569264\n",
      "Review 642000 of 1569264\n",
      "Review 643000 of 1569264\n",
      "Review 644000 of 1569264\n",
      "Review 645000 of 1569264\n",
      "Review 646000 of 1569264\n",
      "Review 647000 of 1569264\n",
      "Review 648000 of 1569264\n",
      "Review 649000 of 1569264\n",
      "Review 650000 of 1569264\n",
      "Review 651000 of 1569264\n",
      "Review 652000 of 1569264\n",
      "Review 653000 of 1569264\n",
      "Review 654000 of 1569264\n",
      "Review 655000 of 1569264\n",
      "Review 656000 of 1569264\n",
      "Review 657000 of 1569264\n",
      "Review 658000 of 1569264\n",
      "Review 659000 of 1569264\n",
      "Review 660000 of 1569264\n",
      "Review 661000 of 1569264\n",
      "Review 662000 of 1569264\n",
      "Review 663000 of 1569264\n",
      "Review 664000 of 1569264\n",
      "Review 665000 of 1569264\n",
      "Review 666000 of 1569264\n",
      "Review 667000 of 1569264\n",
      "Review 668000 of 1569264\n",
      "Review 669000 of 1569264\n",
      "Review 670000 of 1569264\n",
      "Review 671000 of 1569264\n",
      "Review 672000 of 1569264\n",
      "Review 673000 of 1569264\n",
      "Review 674000 of 1569264\n",
      "Review 675000 of 1569264\n",
      "Review 676000 of 1569264\n",
      "Review 677000 of 1569264\n",
      "Review 678000 of 1569264\n",
      "Review 679000 of 1569264\n",
      "Review 680000 of 1569264\n",
      "Review 681000 of 1569264\n",
      "Review 682000 of 1569264\n",
      "Review 683000 of 1569264\n",
      "Review 684000 of 1569264\n",
      "Review 685000 of 1569264\n",
      "Review 686000 of 1569264\n",
      "Review 687000 of 1569264\n",
      "Review 688000 of 1569264\n",
      "Review 689000 of 1569264\n",
      "Review 690000 of 1569264\n",
      "Review 691000 of 1569264\n",
      "Review 692000 of 1569264\n",
      "Review 693000 of 1569264\n",
      "Review 694000 of 1569264\n",
      "Review 695000 of 1569264\n",
      "Review 696000 of 1569264\n",
      "Review 697000 of 1569264\n",
      "Review 698000 of 1569264\n",
      "Review 699000 of 1569264\n",
      "Review 700000 of 1569264\n",
      "Review 701000 of 1569264\n",
      "Review 702000 of 1569264\n",
      "Review 703000 of 1569264\n",
      "Review 704000 of 1569264\n",
      "Review 705000 of 1569264\n",
      "Review 706000 of 1569264\n",
      "Review 707000 of 1569264\n",
      "Review 708000 of 1569264\n",
      "Review 709000 of 1569264\n",
      "Review 710000 of 1569264\n",
      "Review 711000 of 1569264\n",
      "Review 712000 of 1569264\n",
      "Review 713000 of 1569264\n",
      "Review 714000 of 1569264\n",
      "Review 715000 of 1569264\n",
      "Review 716000 of 1569264\n",
      "Review 717000 of 1569264\n",
      "Review 718000 of 1569264\n",
      "Review 719000 of 1569264\n",
      "Review 720000 of 1569264\n",
      "Review 721000 of 1569264\n",
      "Review 722000 of 1569264\n",
      "Review 723000 of 1569264\n",
      "Review 724000 of 1569264\n",
      "Review 725000 of 1569264\n",
      "Review 726000 of 1569264\n",
      "Review 727000 of 1569264\n",
      "Review 728000 of 1569264\n",
      "Review 729000 of 1569264\n",
      "Review 730000 of 1569264\n",
      "Review 731000 of 1569264\n",
      "Review 732000 of 1569264\n",
      "Review 733000 of 1569264\n",
      "Review 734000 of 1569264\n",
      "Review 735000 of 1569264\n",
      "Review 736000 of 1569264\n",
      "Review 737000 of 1569264\n",
      "Review 738000 of 1569264\n",
      "Review 739000 of 1569264\n",
      "Review 740000 of 1569264\n",
      "Review 741000 of 1569264\n",
      "Review 742000 of 1569264\n",
      "Review 743000 of 1569264\n",
      "Review 744000 of 1569264\n",
      "Review 745000 of 1569264\n",
      "Review 746000 of 1569264\n",
      "Review 747000 of 1569264\n",
      "Review 748000 of 1569264\n",
      "Review 749000 of 1569264\n",
      "Review 750000 of 1569264\n",
      "Review 751000 of 1569264\n",
      "Review 752000 of 1569264\n",
      "Review 753000 of 1569264\n",
      "Review 754000 of 1569264\n",
      "Review 755000 of 1569264\n",
      "Review 756000 of 1569264\n",
      "Review 757000 of 1569264\n",
      "Review 758000 of 1569264\n",
      "Review 759000 of 1569264\n",
      "Review 760000 of 1569264\n",
      "Review 761000 of 1569264\n",
      "Review 762000 of 1569264\n",
      "Review 763000 of 1569264\n",
      "Review 764000 of 1569264\n",
      "Review 765000 of 1569264\n",
      "Review 766000 of 1569264\n",
      "Review 767000 of 1569264\n",
      "Review 768000 of 1569264\n",
      "Review 769000 of 1569264\n",
      "Review 770000 of 1569264\n",
      "Review 771000 of 1569264\n",
      "Review 772000 of 1569264\n",
      "Review 773000 of 1569264\n",
      "Review 774000 of 1569264\n",
      "Review 775000 of 1569264\n",
      "Review 776000 of 1569264\n",
      "Review 777000 of 1569264\n",
      "Review 778000 of 1569264\n",
      "Review 779000 of 1569264\n",
      "Review 780000 of 1569264\n",
      "Review 781000 of 1569264\n",
      "Review 782000 of 1569264\n",
      "Review 783000 of 1569264\n",
      "Review 784000 of 1569264\n",
      "Review 785000 of 1569264\n",
      "Review 786000 of 1569264\n",
      "Review 787000 of 1569264\n",
      "Review 788000 of 1569264\n",
      "Review 789000 of 1569264\n",
      "Review 790000 of 1569264\n",
      "Review 791000 of 1569264\n",
      "Review 792000 of 1569264\n",
      "Review 793000 of 1569264\n",
      "Review 794000 of 1569264\n",
      "Review 795000 of 1569264\n",
      "Review 796000 of 1569264\n",
      "Review 797000 of 1569264\n",
      "Review 798000 of 1569264\n",
      "Review 799000 of 1569264\n",
      "Review 800000 of 1569264\n",
      "Review 801000 of 1569264\n",
      "Review 802000 of 1569264\n",
      "Review 803000 of 1569264\n",
      "Review 804000 of 1569264\n",
      "Review 805000 of 1569264\n",
      "Review 806000 of 1569264\n",
      "Review 807000 of 1569264\n",
      "Review 808000 of 1569264\n",
      "Review 809000 of 1569264\n",
      "Review 810000 of 1569264\n",
      "Review 811000 of 1569264\n",
      "Review 812000 of 1569264\n",
      "Review 813000 of 1569264\n",
      "Review 814000 of 1569264\n",
      "Review 815000 of 1569264\n",
      "Review 816000 of 1569264\n",
      "Review 817000 of 1569264\n",
      "Review 818000 of 1569264\n",
      "Review 819000 of 1569264\n",
      "Review 820000 of 1569264\n",
      "Review 821000 of 1569264\n",
      "Review 822000 of 1569264\n",
      "Review 823000 of 1569264\n",
      "Review 824000 of 1569264\n",
      "Review 825000 of 1569264\n",
      "Review 826000 of 1569264\n",
      "Review 827000 of 1569264\n",
      "Review 828000 of 1569264\n",
      "Review 829000 of 1569264\n",
      "Review 830000 of 1569264\n",
      "Review 831000 of 1569264\n",
      "Review 832000 of 1569264\n",
      "Review 833000 of 1569264\n",
      "Review 834000 of 1569264\n",
      "Review 835000 of 1569264\n",
      "Review 836000 of 1569264\n",
      "Review 837000 of 1569264\n",
      "Review 838000 of 1569264\n",
      "Review 839000 of 1569264\n",
      "Review 840000 of 1569264\n",
      "Review 841000 of 1569264\n",
      "Review 842000 of 1569264\n",
      "Review 843000 of 1569264\n",
      "Review 844000 of 1569264\n",
      "Review 845000 of 1569264\n",
      "Review 846000 of 1569264\n",
      "Review 847000 of 1569264\n",
      "Review 848000 of 1569264\n",
      "Review 849000 of 1569264\n",
      "Review 850000 of 1569264\n",
      "Review 851000 of 1569264\n",
      "Review 852000 of 1569264\n",
      "Review 853000 of 1569264\n",
      "Review 854000 of 1569264\n",
      "Review 855000 of 1569264\n",
      "Review 856000 of 1569264\n",
      "Review 857000 of 1569264\n",
      "Review 858000 of 1569264\n",
      "Review 859000 of 1569264\n",
      "Review 860000 of 1569264\n",
      "Review 861000 of 1569264\n",
      "Review 862000 of 1569264\n",
      "Review 863000 of 1569264\n",
      "Review 864000 of 1569264\n",
      "Review 865000 of 1569264\n",
      "Review 866000 of 1569264\n",
      "Review 867000 of 1569264\n",
      "Review 868000 of 1569264\n",
      "Review 869000 of 1569264\n",
      "Review 870000 of 1569264\n",
      "Review 871000 of 1569264\n",
      "Review 872000 of 1569264\n",
      "Review 873000 of 1569264\n",
      "Review 874000 of 1569264\n",
      "Review 875000 of 1569264\n",
      "Review 876000 of 1569264\n",
      "Review 877000 of 1569264\n",
      "Review 878000 of 1569264\n",
      "Review 879000 of 1569264\n",
      "Review 880000 of 1569264\n",
      "Review 881000 of 1569264\n",
      "Review 882000 of 1569264\n",
      "Review 883000 of 1569264\n",
      "Review 884000 of 1569264\n",
      "Review 885000 of 1569264\n",
      "Review 886000 of 1569264\n",
      "Review 887000 of 1569264\n",
      "Review 888000 of 1569264\n",
      "Review 889000 of 1569264\n",
      "Review 890000 of 1569264\n",
      "Review 891000 of 1569264\n",
      "Review 892000 of 1569264\n",
      "Review 893000 of 1569264\n",
      "Review 894000 of 1569264\n",
      "Review 895000 of 1569264\n",
      "Review 896000 of 1569264\n",
      "Review 897000 of 1569264\n",
      "Review 898000 of 1569264\n",
      "Review 899000 of 1569264\n",
      "Review 900000 of 1569264\n",
      "Review 901000 of 1569264\n",
      "Review 902000 of 1569264\n",
      "Review 903000 of 1569264\n",
      "Review 904000 of 1569264\n",
      "Review 905000 of 1569264\n",
      "Review 906000 of 1569264\n",
      "Review 907000 of 1569264\n",
      "Review 908000 of 1569264\n",
      "Review 909000 of 1569264\n",
      "Review 910000 of 1569264\n",
      "Review 911000 of 1569264\n",
      "Review 912000 of 1569264\n",
      "Review 913000 of 1569264\n",
      "Review 914000 of 1569264\n",
      "Review 915000 of 1569264\n",
      "Review 916000 of 1569264\n",
      "Review 917000 of 1569264\n",
      "Review 918000 of 1569264\n",
      "Review 919000 of 1569264\n",
      "Review 920000 of 1569264\n",
      "Review 921000 of 1569264\n",
      "Review 922000 of 1569264\n",
      "Review 923000 of 1569264\n",
      "Review 924000 of 1569264\n",
      "Review 925000 of 1569264\n",
      "Review 926000 of 1569264\n",
      "Review 927000 of 1569264\n",
      "Review 928000 of 1569264\n",
      "Review 929000 of 1569264\n",
      "Review 930000 of 1569264\n",
      "Review 931000 of 1569264\n",
      "Review 932000 of 1569264\n",
      "Review 933000 of 1569264\n",
      "Review 934000 of 1569264\n",
      "Review 935000 of 1569264\n",
      "Review 936000 of 1569264\n",
      "Review 937000 of 1569264\n",
      "Review 938000 of 1569264\n",
      "Review 939000 of 1569264\n",
      "Review 940000 of 1569264\n",
      "Review 941000 of 1569264\n",
      "Review 942000 of 1569264\n",
      "Review 943000 of 1569264\n",
      "Review 944000 of 1569264\n",
      "Review 945000 of 1569264\n",
      "Review 946000 of 1569264\n",
      "Review 947000 of 1569264\n",
      "Review 948000 of 1569264\n",
      "Review 949000 of 1569264\n",
      "Review 950000 of 1569264\n",
      "Review 951000 of 1569264\n",
      "Review 952000 of 1569264\n",
      "Review 953000 of 1569264\n",
      "Review 954000 of 1569264\n",
      "Review 955000 of 1569264\n",
      "Review 956000 of 1569264\n",
      "Review 957000 of 1569264\n",
      "Review 958000 of 1569264\n",
      "Review 959000 of 1569264\n",
      "Review 960000 of 1569264\n",
      "Review 961000 of 1569264\n",
      "Review 962000 of 1569264\n",
      "Review 963000 of 1569264\n",
      "Review 964000 of 1569264\n",
      "Review 965000 of 1569264\n",
      "Review 966000 of 1569264\n",
      "Review 967000 of 1569264\n",
      "Review 968000 of 1569264\n",
      "Review 969000 of 1569264\n",
      "Review 970000 of 1569264\n",
      "Review 971000 of 1569264\n",
      "Review 972000 of 1569264\n",
      "Review 973000 of 1569264\n",
      "Review 974000 of 1569264\n",
      "Review 975000 of 1569264\n",
      "Review 976000 of 1569264\n",
      "Review 977000 of 1569264\n",
      "Review 978000 of 1569264\n",
      "Review 979000 of 1569264\n",
      "Review 980000 of 1569264\n",
      "Review 981000 of 1569264\n",
      "Review 982000 of 1569264\n",
      "Review 983000 of 1569264\n",
      "Review 984000 of 1569264\n",
      "Review 985000 of 1569264\n",
      "Review 986000 of 1569264\n",
      "Review 987000 of 1569264\n",
      "Review 988000 of 1569264\n",
      "Review 989000 of 1569264\n",
      "Review 990000 of 1569264\n",
      "Review 991000 of 1569264\n",
      "Review 992000 of 1569264\n",
      "Review 993000 of 1569264\n",
      "Review 994000 of 1569264\n",
      "Review 995000 of 1569264\n",
      "Review 996000 of 1569264\n",
      "Review 997000 of 1569264\n",
      "Review 998000 of 1569264\n",
      "Review 999000 of 1569264\n",
      "Review 1000000 of 1569264\n",
      "Review 1001000 of 1569264\n",
      "Review 1002000 of 1569264\n",
      "Review 1003000 of 1569264\n",
      "Review 1004000 of 1569264\n",
      "Review 1005000 of 1569264\n",
      "Review 1006000 of 1569264\n",
      "Review 1007000 of 1569264\n",
      "Review 1008000 of 1569264\n",
      "Review 1009000 of 1569264\n",
      "Review 1010000 of 1569264\n",
      "Review 1011000 of 1569264\n",
      "Review 1012000 of 1569264\n",
      "Review 1013000 of 1569264\n",
      "Review 1014000 of 1569264\n",
      "Review 1015000 of 1569264\n",
      "Review 1016000 of 1569264\n",
      "Review 1017000 of 1569264\n",
      "Review 1018000 of 1569264\n",
      "Review 1019000 of 1569264\n",
      "Review 1020000 of 1569264\n",
      "Review 1021000 of 1569264\n",
      "Review 1022000 of 1569264\n",
      "Review 1023000 of 1569264\n",
      "Review 1024000 of 1569264\n",
      "Review 1025000 of 1569264\n",
      "Review 1026000 of 1569264\n",
      "Review 1027000 of 1569264\n",
      "Review 1028000 of 1569264\n",
      "Review 1029000 of 1569264\n",
      "Review 1030000 of 1569264\n",
      "Review 1031000 of 1569264\n",
      "Review 1032000 of 1569264\n",
      "Review 1033000 of 1569264\n",
      "Review 1034000 of 1569264\n",
      "Review 1035000 of 1569264\n",
      "Review 1036000 of 1569264\n",
      "Review 1037000 of 1569264\n",
      "Review 1038000 of 1569264\n",
      "Review 1039000 of 1569264\n",
      "Review 1040000 of 1569264\n",
      "Review 1041000 of 1569264\n",
      "Review 1042000 of 1569264\n",
      "Review 1043000 of 1569264\n",
      "Review 1044000 of 1569264\n",
      "Review 1045000 of 1569264\n",
      "Review 1046000 of 1569264\n",
      "Review 1047000 of 1569264\n",
      "Review 1048000 of 1569264\n",
      "Review 1049000 of 1569264\n",
      "Review 1050000 of 1569264\n",
      "Review 1051000 of 1569264\n",
      "Review 1052000 of 1569264\n",
      "Review 1053000 of 1569264\n",
      "Review 1054000 of 1569264\n",
      "Review 1055000 of 1569264\n",
      "Review 1056000 of 1569264\n",
      "Review 1057000 of 1569264\n",
      "Review 1058000 of 1569264\n",
      "Review 1059000 of 1569264\n",
      "Review 1060000 of 1569264\n",
      "Review 1061000 of 1569264\n",
      "Review 1062000 of 1569264\n",
      "Review 1063000 of 1569264\n",
      "Review 1064000 of 1569264\n",
      "Review 1065000 of 1569264\n",
      "Review 1066000 of 1569264\n",
      "Review 1067000 of 1569264\n",
      "Review 1068000 of 1569264\n",
      "Review 1069000 of 1569264\n",
      "Review 1070000 of 1569264\n",
      "Review 1071000 of 1569264\n",
      "Review 1072000 of 1569264\n",
      "Review 1073000 of 1569264\n",
      "Review 1074000 of 1569264\n",
      "Review 1075000 of 1569264\n",
      "Review 1076000 of 1569264\n",
      "Review 1077000 of 1569264\n",
      "Review 1078000 of 1569264\n",
      "Review 1079000 of 1569264\n",
      "Review 1080000 of 1569264\n",
      "Review 1081000 of 1569264\n",
      "Review 1082000 of 1569264\n",
      "Review 1083000 of 1569264\n",
      "Review 1084000 of 1569264\n",
      "Review 1085000 of 1569264\n",
      "Review 1086000 of 1569264\n",
      "Review 1087000 of 1569264\n",
      "Review 1088000 of 1569264\n",
      "Review 1089000 of 1569264\n",
      "Review 1090000 of 1569264\n",
      "Review 1091000 of 1569264\n",
      "Review 1092000 of 1569264\n",
      "Review 1093000 of 1569264\n",
      "Review 1094000 of 1569264\n",
      "Review 1095000 of 1569264\n",
      "Review 1096000 of 1569264\n",
      "Review 1097000 of 1569264\n",
      "Review 1098000 of 1569264\n",
      "Review 1099000 of 1569264\n",
      "Review 1100000 of 1569264\n",
      "Review 1101000 of 1569264\n",
      "Review 1102000 of 1569264\n",
      "Review 1103000 of 1569264\n",
      "Review 1104000 of 1569264\n",
      "Review 1105000 of 1569264\n",
      "Review 1106000 of 1569264\n",
      "Review 1107000 of 1569264\n",
      "Review 1108000 of 1569264\n",
      "Review 1109000 of 1569264\n",
      "Review 1110000 of 1569264\n",
      "Review 1111000 of 1569264\n",
      "Review 1112000 of 1569264\n",
      "Review 1113000 of 1569264\n",
      "Review 1114000 of 1569264\n",
      "Review 1115000 of 1569264\n",
      "Review 1116000 of 1569264\n",
      "Review 1117000 of 1569264\n",
      "Review 1118000 of 1569264\n",
      "Review 1119000 of 1569264\n",
      "Review 1120000 of 1569264\n",
      "Review 1121000 of 1569264\n",
      "Review 1122000 of 1569264\n",
      "Review 1123000 of 1569264\n",
      "Review 1124000 of 1569264\n",
      "Review 1125000 of 1569264\n",
      "Review 1126000 of 1569264\n",
      "Review 1127000 of 1569264\n",
      "Review 1128000 of 1569264\n",
      "Review 1129000 of 1569264\n",
      "Review 1130000 of 1569264\n",
      "Review 1131000 of 1569264\n",
      "Review 1132000 of 1569264\n",
      "Review 1133000 of 1569264\n",
      "Review 1134000 of 1569264\n",
      "Review 1135000 of 1569264\n",
      "Review 1136000 of 1569264\n",
      "Review 1137000 of 1569264\n",
      "Review 1138000 of 1569264\n",
      "Review 1139000 of 1569264\n",
      "Review 1140000 of 1569264\n",
      "Review 1141000 of 1569264\n",
      "Review 1142000 of 1569264\n",
      "Review 1143000 of 1569264\n",
      "Review 1144000 of 1569264\n",
      "Review 1145000 of 1569264\n",
      "Review 1146000 of 1569264\n",
      "Review 1147000 of 1569264\n",
      "Review 1148000 of 1569264\n",
      "Review 1149000 of 1569264\n",
      "Review 1150000 of 1569264\n",
      "Review 1151000 of 1569264\n",
      "Review 1152000 of 1569264\n",
      "Review 1153000 of 1569264\n",
      "Review 1154000 of 1569264\n",
      "Review 1155000 of 1569264\n",
      "Review 1156000 of 1569264\n",
      "Review 1157000 of 1569264\n",
      "Review 1158000 of 1569264\n",
      "Review 1159000 of 1569264\n",
      "Review 1160000 of 1569264\n",
      "Review 1161000 of 1569264\n",
      "Review 1162000 of 1569264\n",
      "Review 1163000 of 1569264\n",
      "Review 1164000 of 1569264\n",
      "Review 1165000 of 1569264\n",
      "Review 1166000 of 1569264\n",
      "Review 1167000 of 1569264\n",
      "Review 1168000 of 1569264\n",
      "Review 1169000 of 1569264\n",
      "Review 1170000 of 1569264\n",
      "Review 1171000 of 1569264\n",
      "Review 1172000 of 1569264\n",
      "Review 1173000 of 1569264\n",
      "Review 1174000 of 1569264\n",
      "Review 1175000 of 1569264\n",
      "Review 1176000 of 1569264\n",
      "Review 1177000 of 1569264\n",
      "Review 1178000 of 1569264\n",
      "Review 1179000 of 1569264\n",
      "Review 1180000 of 1569264\n",
      "Review 1181000 of 1569264\n",
      "Review 1182000 of 1569264\n",
      "Review 1183000 of 1569264\n",
      "Review 1184000 of 1569264\n",
      "Review 1185000 of 1569264\n",
      "Review 1186000 of 1569264\n",
      "Review 1187000 of 1569264\n",
      "Review 1188000 of 1569264\n",
      "Review 1189000 of 1569264\n",
      "Review 1190000 of 1569264\n",
      "Review 1191000 of 1569264\n",
      "Review 1192000 of 1569264\n",
      "Review 1193000 of 1569264\n",
      "Review 1194000 of 1569264\n",
      "Review 1195000 of 1569264\n",
      "Review 1196000 of 1569264\n",
      "Review 1197000 of 1569264\n",
      "Review 1198000 of 1569264\n",
      "Review 1199000 of 1569264\n",
      "Review 1200000 of 1569264\n",
      "Review 1201000 of 1569264\n",
      "Review 1202000 of 1569264\n",
      "Review 1203000 of 1569264\n",
      "Review 1204000 of 1569264\n",
      "Review 1205000 of 1569264\n",
      "Review 1206000 of 1569264\n",
      "Review 1207000 of 1569264\n",
      "Review 1208000 of 1569264\n",
      "Review 1209000 of 1569264\n",
      "Review 1210000 of 1569264\n",
      "Review 1211000 of 1569264\n",
      "Review 1212000 of 1569264\n",
      "Review 1213000 of 1569264\n",
      "Review 1214000 of 1569264\n",
      "Review 1215000 of 1569264\n",
      "Review 1216000 of 1569264\n",
      "Review 1217000 of 1569264\n",
      "Review 1218000 of 1569264\n",
      "Review 1219000 of 1569264\n",
      "Review 1220000 of 1569264\n",
      "Review 1221000 of 1569264\n",
      "Review 1222000 of 1569264\n",
      "Review 1223000 of 1569264\n",
      "Review 1224000 of 1569264\n",
      "Review 1225000 of 1569264\n",
      "Review 1226000 of 1569264\n",
      "Review 1227000 of 1569264\n",
      "Review 1228000 of 1569264\n",
      "Review 1229000 of 1569264\n",
      "Review 1230000 of 1569264\n",
      "Review 1231000 of 1569264\n",
      "Review 1232000 of 1569264\n",
      "Review 1233000 of 1569264\n",
      "Review 1234000 of 1569264\n",
      "Review 1235000 of 1569264\n",
      "Review 1236000 of 1569264\n",
      "Review 1237000 of 1569264\n",
      "Review 1238000 of 1569264\n",
      "Review 1239000 of 1569264\n",
      "Review 1240000 of 1569264\n",
      "Review 1241000 of 1569264\n",
      "Review 1242000 of 1569264\n",
      "Review 1243000 of 1569264\n",
      "Review 1244000 of 1569264\n",
      "Review 1245000 of 1569264\n",
      "Review 1246000 of 1569264\n",
      "Review 1247000 of 1569264\n",
      "Review 1248000 of 1569264\n",
      "Review 1249000 of 1569264\n",
      "Review 1250000 of 1569264\n",
      "Review 1251000 of 1569264\n",
      "Review 1252000 of 1569264\n",
      "Review 1253000 of 1569264\n",
      "Review 1254000 of 1569264\n",
      "Review 1255000 of 1569264\n",
      "Review 1256000 of 1569264\n",
      "Review 1257000 of 1569264\n",
      "Review 1258000 of 1569264\n",
      "Review 1259000 of 1569264\n",
      "Review 1260000 of 1569264\n",
      "Review 1261000 of 1569264\n",
      "Review 1262000 of 1569264\n",
      "Review 1263000 of 1569264\n",
      "Review 1264000 of 1569264\n",
      "Review 1265000 of 1569264\n",
      "Review 1266000 of 1569264\n",
      "Review 1267000 of 1569264\n",
      "Review 1268000 of 1569264\n",
      "Review 1269000 of 1569264\n",
      "Review 1270000 of 1569264\n",
      "Review 1271000 of 1569264\n",
      "Review 1272000 of 1569264\n",
      "Review 1273000 of 1569264\n",
      "Review 1274000 of 1569264\n",
      "Review 1275000 of 1569264\n",
      "Review 1276000 of 1569264\n",
      "Review 1277000 of 1569264\n",
      "Review 1278000 of 1569264\n",
      "Review 1279000 of 1569264\n",
      "Review 1280000 of 1569264\n",
      "Review 1281000 of 1569264\n",
      "Review 1282000 of 1569264\n",
      "Review 1283000 of 1569264\n",
      "Review 1284000 of 1569264\n",
      "Review 1285000 of 1569264\n",
      "Review 1286000 of 1569264\n",
      "Review 1287000 of 1569264\n",
      "Review 1288000 of 1569264\n",
      "Review 1289000 of 1569264\n",
      "Review 1290000 of 1569264\n",
      "Review 1291000 of 1569264\n",
      "Review 1292000 of 1569264\n",
      "Review 1293000 of 1569264\n",
      "Review 1294000 of 1569264\n",
      "Review 1295000 of 1569264\n",
      "Review 1296000 of 1569264\n",
      "Review 1297000 of 1569264\n",
      "Review 1298000 of 1569264\n",
      "Review 1299000 of 1569264\n",
      "Review 1300000 of 1569264\n",
      "Review 1301000 of 1569264\n",
      "Review 1302000 of 1569264\n",
      "Review 1303000 of 1569264\n",
      "Review 1304000 of 1569264\n",
      "Review 1305000 of 1569264\n",
      "Review 1306000 of 1569264\n",
      "Review 1307000 of 1569264\n",
      "Review 1308000 of 1569264\n",
      "Review 1309000 of 1569264\n",
      "Review 1310000 of 1569264\n",
      "Review 1311000 of 1569264\n",
      "Review 1312000 of 1569264\n",
      "Review 1313000 of 1569264\n",
      "Review 1314000 of 1569264\n",
      "Review 1315000 of 1569264\n",
      "Review 1316000 of 1569264\n",
      "Review 1317000 of 1569264\n",
      "Review 1318000 of 1569264\n",
      "Review 1319000 of 1569264\n",
      "Review 1320000 of 1569264\n",
      "Review 1321000 of 1569264\n",
      "Review 1322000 of 1569264\n",
      "Review 1323000 of 1569264\n",
      "Review 1324000 of 1569264\n",
      "Review 1325000 of 1569264\n",
      "Review 1326000 of 1569264\n",
      "Review 1327000 of 1569264\n",
      "Review 1328000 of 1569264\n",
      "Review 1329000 of 1569264\n",
      "Review 1330000 of 1569264\n",
      "Review 1331000 of 1569264\n",
      "Review 1332000 of 1569264\n",
      "Review 1333000 of 1569264\n",
      "Review 1334000 of 1569264\n",
      "Review 1335000 of 1569264\n",
      "Review 1336000 of 1569264\n",
      "Review 1337000 of 1569264\n",
      "Review 1338000 of 1569264\n",
      "Review 1339000 of 1569264\n",
      "Review 1340000 of 1569264\n",
      "Review 1341000 of 1569264\n",
      "Review 1342000 of 1569264\n",
      "Review 1343000 of 1569264\n",
      "Review 1344000 of 1569264\n",
      "Review 1345000 of 1569264\n",
      "Review 1346000 of 1569264\n",
      "Review 1347000 of 1569264\n",
      "Review 1348000 of 1569264\n",
      "Review 1349000 of 1569264\n",
      "Review 1350000 of 1569264\n",
      "Review 1351000 of 1569264\n",
      "Review 1352000 of 1569264\n",
      "Review 1353000 of 1569264\n",
      "Review 1354000 of 1569264\n",
      "Review 1355000 of 1569264\n",
      "Review 1356000 of 1569264\n",
      "Review 1357000 of 1569264\n",
      "Review 1358000 of 1569264\n",
      "Review 1359000 of 1569264\n",
      "Review 1360000 of 1569264\n",
      "Review 1361000 of 1569264\n",
      "Review 1362000 of 1569264\n",
      "Review 1363000 of 1569264\n",
      "Review 1364000 of 1569264\n",
      "Review 1365000 of 1569264\n",
      "Review 1366000 of 1569264\n",
      "Review 1367000 of 1569264\n",
      "Review 1368000 of 1569264\n",
      "Review 1369000 of 1569264\n",
      "Review 1370000 of 1569264\n",
      "Review 1371000 of 1569264\n",
      "Review 1372000 of 1569264\n",
      "Review 1373000 of 1569264\n",
      "Review 1374000 of 1569264\n",
      "Review 1375000 of 1569264\n",
      "Review 1376000 of 1569264\n",
      "Review 1377000 of 1569264\n",
      "Review 1378000 of 1569264\n",
      "Review 1379000 of 1569264\n",
      "Review 1380000 of 1569264\n",
      "Review 1381000 of 1569264\n",
      "Review 1382000 of 1569264\n",
      "Review 1383000 of 1569264\n",
      "Review 1384000 of 1569264\n",
      "Review 1385000 of 1569264\n",
      "Review 1386000 of 1569264\n",
      "Review 1387000 of 1569264\n",
      "Review 1388000 of 1569264\n",
      "Review 1389000 of 1569264\n",
      "Review 1390000 of 1569264\n",
      "Review 1391000 of 1569264\n",
      "Review 1392000 of 1569264\n",
      "Review 1393000 of 1569264\n",
      "Review 1394000 of 1569264\n",
      "Review 1395000 of 1569264\n",
      "Review 1396000 of 1569264\n",
      "Review 1397000 of 1569264\n",
      "Review 1398000 of 1569264\n",
      "Review 1399000 of 1569264\n",
      "Review 1400000 of 1569264\n",
      "Review 1401000 of 1569264\n",
      "Review 1402000 of 1569264\n",
      "Review 1403000 of 1569264\n",
      "Review 1404000 of 1569264\n",
      "Review 1405000 of 1569264\n",
      "Review 1406000 of 1569264\n",
      "Review 1407000 of 1569264\n",
      "Review 1408000 of 1569264\n",
      "Review 1409000 of 1569264\n",
      "Review 1410000 of 1569264\n",
      "Review 1411000 of 1569264\n",
      "Review 1412000 of 1569264\n",
      "Review 1413000 of 1569264\n",
      "Review 1414000 of 1569264\n",
      "Review 1415000 of 1569264\n",
      "Review 1416000 of 1569264\n",
      "Review 1417000 of 1569264\n",
      "Review 1418000 of 1569264\n",
      "Review 1419000 of 1569264\n",
      "Review 1420000 of 1569264\n",
      "Review 1421000 of 1569264\n",
      "Review 1422000 of 1569264\n",
      "Review 1423000 of 1569264\n",
      "Review 1424000 of 1569264\n",
      "Review 1425000 of 1569264\n",
      "Review 1426000 of 1569264\n",
      "Review 1427000 of 1569264\n",
      "Review 1428000 of 1569264\n",
      "Review 1429000 of 1569264\n",
      "Review 1430000 of 1569264\n",
      "Review 1431000 of 1569264\n",
      "Review 1432000 of 1569264\n",
      "Review 1433000 of 1569264\n",
      "Review 1434000 of 1569264\n",
      "Review 1435000 of 1569264\n",
      "Review 1436000 of 1569264\n",
      "Review 1437000 of 1569264\n",
      "Review 1438000 of 1569264\n",
      "Review 1439000 of 1569264\n",
      "Review 1440000 of 1569264\n",
      "Review 1441000 of 1569264\n",
      "Review 1442000 of 1569264\n",
      "Review 1443000 of 1569264\n",
      "Review 1444000 of 1569264\n",
      "Review 1445000 of 1569264\n",
      "Review 1446000 of 1569264\n",
      "Review 1447000 of 1569264\n",
      "Review 1448000 of 1569264\n",
      "Review 1449000 of 1569264\n",
      "Review 1450000 of 1569264\n",
      "Review 1451000 of 1569264\n",
      "Review 1452000 of 1569264\n",
      "Review 1453000 of 1569264\n",
      "Review 1454000 of 1569264\n",
      "Review 1455000 of 1569264\n",
      "Review 1456000 of 1569264\n",
      "Review 1457000 of 1569264\n",
      "Review 1458000 of 1569264\n",
      "Review 1459000 of 1569264\n",
      "Review 1460000 of 1569264\n",
      "Review 1461000 of 1569264\n",
      "Review 1462000 of 1569264\n",
      "Review 1463000 of 1569264\n",
      "Review 1464000 of 1569264\n",
      "Review 1465000 of 1569264\n",
      "Review 1466000 of 1569264\n",
      "Review 1467000 of 1569264\n",
      "Review 1468000 of 1569264\n",
      "Review 1469000 of 1569264\n",
      "Review 1470000 of 1569264\n",
      "Review 1471000 of 1569264\n",
      "Review 1472000 of 1569264\n",
      "Review 1473000 of 1569264\n",
      "Review 1474000 of 1569264\n",
      "Review 1475000 of 1569264\n",
      "Review 1476000 of 1569264\n",
      "Review 1477000 of 1569264\n",
      "Review 1478000 of 1569264\n",
      "Review 1479000 of 1569264\n",
      "Review 1480000 of 1569264\n",
      "Review 1481000 of 1569264\n",
      "Review 1482000 of 1569264\n",
      "Review 1483000 of 1569264\n",
      "Review 1484000 of 1569264\n",
      "Review 1485000 of 1569264\n",
      "Review 1486000 of 1569264\n",
      "Review 1487000 of 1569264\n",
      "Review 1488000 of 1569264\n",
      "Review 1489000 of 1569264\n",
      "Review 1490000 of 1569264\n",
      "Review 1491000 of 1569264\n",
      "Review 1492000 of 1569264\n",
      "Review 1493000 of 1569264\n",
      "Review 1494000 of 1569264\n",
      "Review 1495000 of 1569264\n",
      "Review 1496000 of 1569264\n",
      "Review 1497000 of 1569264\n",
      "Review 1498000 of 1569264\n",
      "Review 1499000 of 1569264\n",
      "Review 1500000 of 1569264\n",
      "Review 1501000 of 1569264\n",
      "Review 1502000 of 1569264\n",
      "Review 1503000 of 1569264\n",
      "Review 1504000 of 1569264\n",
      "Review 1505000 of 1569264\n",
      "Review 1506000 of 1569264\n",
      "Review 1507000 of 1569264\n",
      "Review 1508000 of 1569264\n",
      "Review 1509000 of 1569264\n",
      "Review 1510000 of 1569264\n",
      "Review 1511000 of 1569264\n",
      "Review 1512000 of 1569264\n",
      "Review 1513000 of 1569264\n",
      "Review 1514000 of 1569264\n",
      "Review 1515000 of 1569264\n",
      "Review 1516000 of 1569264\n",
      "Review 1517000 of 1569264\n",
      "Review 1518000 of 1569264\n",
      "Review 1519000 of 1569264\n",
      "Review 1520000 of 1569264\n",
      "Review 1521000 of 1569264\n",
      "Review 1522000 of 1569264\n",
      "Review 1523000 of 1569264\n",
      "Review 1524000 of 1569264\n",
      "Review 1525000 of 1569264\n",
      "Review 1526000 of 1569264\n",
      "Review 1527000 of 1569264\n",
      "Review 1528000 of 1569264\n",
      "Review 1529000 of 1569264\n",
      "Review 1530000 of 1569264\n",
      "Review 1531000 of 1569264\n",
      "Review 1532000 of 1569264\n",
      "Review 1533000 of 1569264\n",
      "Review 1534000 of 1569264\n",
      "Review 1535000 of 1569264\n",
      "Review 1536000 of 1569264\n",
      "Review 1537000 of 1569264\n",
      "Review 1538000 of 1569264\n",
      "Review 1539000 of 1569264\n",
      "Review 1540000 of 1569264\n",
      "Review 1541000 of 1569264\n",
      "Review 1542000 of 1569264\n",
      "Review 1543000 of 1569264\n",
      "Review 1544000 of 1569264\n",
      "Review 1545000 of 1569264\n",
      "Review 1546000 of 1569264\n",
      "Review 1547000 of 1569264\n",
      "Review 1548000 of 1569264\n",
      "Review 1549000 of 1569264\n",
      "Review 1550000 of 1569264\n",
      "Review 1551000 of 1569264\n",
      "Review 1552000 of 1569264\n",
      "Review 1553000 of 1569264\n",
      "Review 1554000 of 1569264\n",
      "Review 1555000 of 1569264\n",
      "Review 1556000 of 1569264\n",
      "Review 1557000 of 1569264\n",
      "Review 1558000 of 1569264\n",
      "Review 1559000 of 1569264\n",
      "Review 1560000 of 1569264\n",
      "Review 1561000 of 1569264\n",
      "Review 1562000 of 1569264\n",
      "Review 1563000 of 1569264\n",
      "Review 1564000 of 1569264\n",
      "Review 1565000 of 1569264\n",
      "Review 1566000 of 1569264\n",
      "Review 1567000 of 1569264\n",
      "Review 1568000 of 1569264\n",
      "Review 1569000 of 1569264\n"
     ]
    },
    {
     "name": "stderr",
     "output_type": "stream",
     "text": [
      "/Users/erichsu/anaconda/lib/python2.7/site-packages/IPython/kernel/__main__.py:22: RuntimeWarning: invalid value encountered in divide\n"
     ]
    }
   ],
   "source": [
    "# ****************************************************************\n",
    "# Calculate average feature vectors for training and testing sets,\n",
    "# using the functions we defined above. Notice that we now use stop word\n",
    "# removal.\n",
    "\n",
    "clean_train_reviews = []\n",
    "for review in data:\n",
    "    clean_train_reviews.append( review_to_wordlist( review['text'], \\\n",
    "        remove_stopwords=True ))\n",
    "\n",
    "trainDataVecs = getAvgFeatureVecs( clean_train_reviews, model, num_features )\n"
   ]
  },
  {
   "cell_type": "code",
   "execution_count": 9,
   "metadata": {
    "collapsed": false
   },
   "outputs": [],
   "source": [
    "stars = []\n",
    "\n",
    "for entry in data:\n",
    "    stars.append(entry['stars'])\n",
    "\n",
    "label = np.array(stars, dtype='i')"
   ]
  },
  {
   "cell_type": "code",
   "execution_count": 11,
   "metadata": {
    "collapsed": false
   },
   "outputs": [],
   "source": [
    "import pandas as pd\n",
    "labels = pd.DataFrame(label)"
   ]
  },
  {
   "cell_type": "code",
   "execution_count": 12,
   "metadata": {
    "collapsed": false
   },
   "outputs": [],
   "source": [
    "labels['rate'] =  pd.DataFrame(label)\n",
    "for i in range(len(data)):\n",
    "    if (labels[0][i]>3):\n",
    "        labels['rate'][i] = 1\n",
    "    else:\n",
    "        labels['rate'][i] = 0"
   ]
  },
  {
   "cell_type": "code",
   "execution_count": 13,
   "metadata": {
    "collapsed": false
   },
   "outputs": [],
   "source": [
    "bad = []\n",
    "\n",
    "for i in range(len(data)):\n",
    "    if np.isnan(trainDataVecs[i]).any():\n",
    "        bad.append(i)"
   ]
  },
  {
   "cell_type": "code",
   "execution_count": 14,
   "metadata": {
    "collapsed": false
   },
   "outputs": [],
   "source": [
    "trainSet = pd.DataFrame(trainDataVecs)"
   ]
  },
  {
   "cell_type": "code",
   "execution_count": 15,
   "metadata": {
    "collapsed": false
   },
   "outputs": [],
   "source": [
    "trainSet['rate'] = labels['rate']"
   ]
  },
  {
   "cell_type": "code",
   "execution_count": 16,
   "metadata": {
    "collapsed": false
   },
   "outputs": [],
   "source": [
    "trainSet = trainSet.dropna()"
   ]
  },
  {
   "cell_type": "code",
   "execution_count": 17,
   "metadata": {
    "collapsed": false
   },
   "outputs": [],
   "source": [
    "trainSet = trainSet.reset_index()"
   ]
  },
  {
   "cell_type": "code",
   "execution_count": 18,
   "metadata": {
    "collapsed": true
   },
   "outputs": [],
   "source": [
    "train = trainSet.iloc[0:1176948]\n",
    "test = trainSet.iloc[1176949:1569263]"
   ]
  },
  {
   "cell_type": "code",
   "execution_count": 19,
   "metadata": {
    "collapsed": false
   },
   "outputs": [
    {
     "name": "stdout",
     "output_type": "stream",
     "text": [
      "Fitting a random forest to labeled training data...\n"
     ]
    }
   ],
   "source": [
    "# Fit a random forest to the training data, using 100 trees\n",
    "from sklearn.ensemble import RandomForestClassifier\n",
    "forest = RandomForestClassifier( n_estimators = 100 )\n",
    "\n",
    "print \"Fitting a random forest to labeled training data...\"\n",
    "forest = forest.fit(train[train.columns[0:299]], train['rate'] )\n",
    "\n",
    "\n"
   ]
  },
  {
   "cell_type": "code",
   "execution_count": 20,
   "metadata": {
    "collapsed": false
   },
   "outputs": [],
   "source": [
    "result = forest.predict( test[test.columns[0:299]] )"
   ]
  },
  {
   "cell_type": "code",
   "execution_count": 37,
   "metadata": {
    "collapsed": false
   },
   "outputs": [],
   "source": [
    "ok = pd.DataFrame()\n",
    "ok['target'] = test['rate']\n",
    "ok = ok.reset_index()\n",
    "no = pd.DataFrame()\n",
    "no = pd.DataFrame(result)\n",
    "ok['res'] = no[0]\n",
    "ok['t'] = ok['target'] - ok['res']\n",
    "\n",
    "count = 0\n",
    "for i in range(len(result)):\n",
    "    if(ok['target'][i]==0):\n",
    "        count += 1"
   ]
  },
  {
   "cell_type": "code",
   "execution_count": 38,
   "metadata": {
    "collapsed": false
   },
   "outputs": [
    {
     "data": {
      "text/plain": [
       "114218"
      ]
     },
     "execution_count": 38,
     "metadata": {},
     "output_type": "execute_result"
    }
   ],
   "source": [
    "count"
   ]
  },
  {
   "cell_type": "code",
   "execution_count": 39,
   "metadata": {
    "collapsed": false
   },
   "outputs": [
    {
     "data": {
      "text/plain": [
       "391987"
      ]
     },
     "execution_count": 39,
     "metadata": {},
     "output_type": "execute_result"
    }
   ],
   "source": [
    "len(ok )"
   ]
  },
  {
   "cell_type": "code",
   "execution_count": null,
   "metadata": {
    "collapsed": true
   },
   "outputs": [],
   "source": []
  }
 ],
 "metadata": {
  "kernelspec": {
   "display_name": "Python 2",
   "language": "python",
   "name": "python2"
  },
  "language_info": {
   "codemirror_mode": {
    "name": "ipython",
    "version": 2
   },
   "file_extension": ".py",
   "mimetype": "text/x-python",
   "name": "python",
   "nbconvert_exporter": "python",
   "pygments_lexer": "ipython2",
   "version": "2.7.9"
  }
 },
 "nbformat": 4,
 "nbformat_minor": 0
}
