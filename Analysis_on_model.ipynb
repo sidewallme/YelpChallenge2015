{
 "cells": [
  {
   "cell_type": "code",
   "execution_count": 7,
   "metadata": {
    "collapsed": false
   },
   "outputs": [
    {
     "name": "stdout",
     "output_type": "stream",
     "text": [
      "Training model...\n"
     ]
    }
   ],
   "source": [
    "import logging\n",
    "logging.basicConfig(format='%(asctime)s : %(levelname)s : %(message)s',\\\n",
    "    level=logging.INFO)\n",
    "\n",
    "# Set values for various parameters\n",
    "num_features = 300    # Word vector dimensionality                      \n",
    "min_word_count = 40   # Minimum word count                        \n",
    "num_workers = 4       # Number of threads to run in parallel\n",
    "context = 10          # Context window size                                                                                    \n",
    "downsampling = 1e-3   # Downsample setting for frequent words\n",
    "\n",
    "# Initialize and train the model (this will take some time)\n",
    "from gensim.models import word2vec\n",
    "print \"Training model...\"\n",
    "\n",
    "model_name = \"300features_40minwords_10context\"\n",
    "model = word2vec.Word2Vec.load(model_name)"
   ]
  },
  {
   "cell_type": "code",
   "execution_count": 8,
   "metadata": {
    "collapsed": false
   },
   "outputs": [
    {
     "data": {
      "text/plain": [
       "[(u'guy', 0.6536468863487244),\n",
       " (u'gentleman', 0.5852768421173096),\n",
       " (u'woman', 0.5401463508605957),\n",
       " (u'lady', 0.5222859382629395),\n",
       " (u'dude', 0.510176956653595),\n",
       " (u'bald', 0.48985764384269714),\n",
       " (u'girl', 0.46270036697387695),\n",
       " (u'hat', 0.42119771242141724),\n",
       " (u'gentlemen', 0.4057801365852356),\n",
       " (u'findet', 0.3963439464569092)]"
      ]
     },
     "execution_count": 8,
     "metadata": {},
     "output_type": "execute_result"
    }
   ],
   "source": [
    "model.most_similar(\"man\")"
   ]
  },
  {
   "cell_type": "code",
   "execution_count": 10,
   "metadata": {
    "collapsed": false
   },
   "outputs": [
    {
     "data": {
      "text/plain": [
       "[(u'asian', 0.7115556597709656),\n",
       " (u'mexican', 0.6631144285202026),\n",
       " (u'americanized', 0.6622403264045715),\n",
       " (u'japanese', 0.6396641731262207),\n",
       " (u'taiwanese', 0.6311962604522705),\n",
       " (u'cantonese', 0.631131649017334),\n",
       " (u'korean', 0.5989114046096802),\n",
       " (u'filipino', 0.592623233795166),\n",
       " (u'authentic', 0.5900293588638306),\n",
       " (u'vietnamese', 0.5722349286079407)]"
      ]
     },
     "execution_count": 10,
     "metadata": {},
     "output_type": "execute_result"
    }
   ],
   "source": [
    "model.most_similar(\"chinese\")"
   ]
  },
  {
   "cell_type": "code",
   "execution_count": 11,
   "metadata": {
    "collapsed": false
   },
   "outputs": [
    {
     "data": {
      "text/plain": [
       "[(u'american', 0.526244044303894),\n",
       " (u'sicilian', 0.5169490575790405),\n",
       " (u'stallion', 0.5082269906997681),\n",
       " (u'italians', 0.5059547424316406),\n",
       " (u'asian', 0.5051752924919128),\n",
       " (u'japanese', 0.5034216642379761),\n",
       " (u'mexican', 0.49713775515556335),\n",
       " (u'cuban', 0.4938909411430359),\n",
       " (u'mediterranean', 0.48329269886016846),\n",
       " (u'indian', 0.4786282777786255)]"
      ]
     },
     "execution_count": 11,
     "metadata": {},
     "output_type": "execute_result"
    }
   ],
   "source": [
    "model.most_similar(\"italian\")"
   ]
  },
  {
   "cell_type": "code",
   "execution_count": 12,
   "metadata": {
    "collapsed": false
   },
   "outputs": [
    {
     "data": {
      "text/plain": [
       "[(u'asian', 0.6510863304138184),\n",
       " (u'chinese', 0.6396641731262207),\n",
       " (u'korean', 0.6359094381332397),\n",
       " (u'fusion', 0.617946982383728),\n",
       " (u'taiwanese', 0.5841509103775024),\n",
       " (u'cantonese', 0.5815956592559814),\n",
       " (u'izakaya', 0.572345495223999),\n",
       " (u'american', 0.5700794458389282),\n",
       " (u'americanized', 0.5526317358016968),\n",
       " (u'traditional', 0.5469555258750916)]"
      ]
     },
     "execution_count": 12,
     "metadata": {},
     "output_type": "execute_result"
    }
   ],
   "source": [
    "model.most_similar(\"japanese\")"
   ]
  },
  {
   "cell_type": "code",
   "execution_count": 13,
   "metadata": {
    "collapsed": false
   },
   "outputs": [
    {
     "data": {
      "text/plain": [
       "[(u'chinese', 0.6631144881248474),\n",
       " (u'authentic', 0.6205536127090454),\n",
       " (u'fusion', 0.5963640213012695),\n",
       " (u'indian', 0.5907429456710815),\n",
       " (u'americanized', 0.5906429886817932),\n",
       " (u'mexico', 0.5651441812515259),\n",
       " (u'peruvian', 0.5650187730789185),\n",
       " (u'texmex', 0.5576785802841187),\n",
       " (u'filipino', 0.5498805046081543),\n",
       " (u'asian', 0.5459725856781006)]"
      ]
     },
     "execution_count": 13,
     "metadata": {},
     "output_type": "execute_result"
    }
   ],
   "source": [
    "model.most_similar(\"mexican\")"
   ]
  },
  {
   "cell_type": "code",
   "execution_count": 15,
   "metadata": {
    "collapsed": false
   },
   "outputs": [
    {
     "data": {
      "text/plain": [
       "[(u'delicious', 0.7800935506820679),\n",
       " (u'yummy', 0.7511928677558899),\n",
       " (u'flavorful', 0.7350239157676697),\n",
       " (u'delish', 0.6375231146812439),\n",
       " (u'tastey', 0.6148483157157898),\n",
       " (u'satisfying', 0.6028469204902649),\n",
       " (u'good', 0.5987613797187805),\n",
       " (u'flavourful', 0.592808723449707),\n",
       " (u'scrumptious', 0.5912061929702759),\n",
       " (u'delicous', 0.567375123500824)]"
      ]
     },
     "execution_count": 15,
     "metadata": {},
     "output_type": "execute_result"
    }
   ],
   "source": [
    "model.most_similar(\"tasty\")"
   ]
  },
  {
   "cell_type": "code",
   "execution_count": 16,
   "metadata": {
    "collapsed": false
   },
   "outputs": [
    {
     "data": {
      "text/plain": [
       "[(u'classy', 0.7678082585334778),\n",
       " (u'understated', 0.7487792372703552),\n",
       " (u'stylish', 0.7483564019203186),\n",
       " (u'sophisticated', 0.746225118637085),\n",
       " (u'contemporary', 0.7314649820327759),\n",
       " (u'modern', 0.72109055519104),\n",
       " (u'sleek', 0.7185813188552856),\n",
       " (u'tasteful', 0.7177977561950684),\n",
       " (u'chic', 0.7090388536453247),\n",
       " (u'minimalist', 0.6928762197494507)]"
      ]
     },
     "execution_count": 16,
     "metadata": {},
     "output_type": "execute_result"
    }
   ],
   "source": [
    "model.most_similar(\"elegant\")"
   ]
  },
  {
   "cell_type": "code",
   "execution_count": 17,
   "metadata": {
    "collapsed": false
   },
   "outputs": [
    {
     "data": {
      "text/plain": [
       "[(u'fantastic', 0.7866503596305847),\n",
       " (u'fabulous', 0.7611367106437683),\n",
       " (u'terrific', 0.712348222732544),\n",
       " (u'delightful', 0.6978422999382019),\n",
       " (u'great', 0.6717208027839661),\n",
       " (u'lovely', 0.6514143943786621),\n",
       " (u'superb', 0.6320750117301941),\n",
       " (u'amazing', 0.6235425472259521),\n",
       " (u'incredible', 0.6157264709472656),\n",
       " (u'phenomenal', 0.6136518716812134)]"
      ]
     },
     "execution_count": 17,
     "metadata": {},
     "output_type": "execute_result"
    }
   ],
   "source": [
    "model.most_similar(\"wonderful\")"
   ]
  },
  {
   "cell_type": "code",
   "execution_count": 21,
   "metadata": {
    "collapsed": false
   },
   "outputs": [
    {
     "data": {
      "text/plain": [
       "[(u'filthy', 0.7485548257827759),\n",
       " (u'rag', 0.6240172386169434),\n",
       " (u'unclean', 0.5941089391708374),\n",
       " (u'dusty', 0.5914707779884338),\n",
       " (u'grimy', 0.582316517829895),\n",
       " (u'smelly', 0.5794637203216553),\n",
       " (u'unsanitary', 0.576817512512207),\n",
       " (u'wiped', 0.5678753852844238),\n",
       " (u'rags', 0.5556594729423523),\n",
       " (u'wipe', 0.5420335531234741)]"
      ]
     },
     "execution_count": 21,
     "metadata": {},
     "output_type": "execute_result"
    }
   ],
   "source": [
    "model.most_similar(\"dirty\")"
   ]
  },
  {
   "cell_type": "code",
   "execution_count": 23,
   "metadata": {
    "collapsed": false
   },
   "outputs": [
    {
     "data": {
      "text/plain": [
       "'cereal'"
      ]
     },
     "execution_count": 23,
     "metadata": {},
     "output_type": "execute_result"
    }
   ],
   "source": [
    "model.doesnt_match(\"breakfast cereal dinner lunch\".split())"
   ]
  },
  {
   "cell_type": "code",
   "execution_count": 27,
   "metadata": {
    "collapsed": false
   },
   "outputs": [
    {
     "data": {
      "text/plain": [
       "'awful'"
      ]
     },
     "execution_count": 27,
     "metadata": {},
     "output_type": "execute_result"
    }
   ],
   "source": [
    "model.doesnt_match(\"yummy wonderful tasty awful\".split())"
   ]
  },
  {
   "cell_type": "code",
   "execution_count": 29,
   "metadata": {
    "collapsed": false
   },
   "outputs": [
    {
     "data": {
      "text/plain": [
       "'mexican'"
      ]
     },
     "execution_count": 29,
     "metadata": {},
     "output_type": "execute_result"
    }
   ],
   "source": [
    "model.doesnt_match(\"chinese japanese korean mexican\".split())"
   ]
  },
  {
   "cell_type": "code",
   "execution_count": 30,
   "metadata": {
    "collapsed": false
   },
   "outputs": [
    {
     "data": {
      "text/plain": [
       "'rice'"
      ]
     },
     "execution_count": 30,
     "metadata": {},
     "output_type": "execute_result"
    }
   ],
   "source": [
    "model.doesnt_match(\"hamburger sandwich hotdog rice\".split())"
   ]
  },
  {
   "cell_type": "code",
   "execution_count": null,
   "metadata": {
    "collapsed": true
   },
   "outputs": [],
   "source": [
    "model.doesnt_match(\"hamburger sandwich hotdog rice\".split())"
   ]
  }
 ],
 "metadata": {
  "kernelspec": {
   "display_name": "Python 2",
   "language": "python",
   "name": "python2"
  },
  "language_info": {
   "codemirror_mode": {
    "name": "ipython",
    "version": 2
   },
   "file_extension": ".py",
   "mimetype": "text/x-python",
   "name": "python",
   "nbconvert_exporter": "python",
   "pygments_lexer": "ipython2",
   "version": "2.7.9"
  }
 },
 "nbformat": 4,
 "nbformat_minor": 0
}
